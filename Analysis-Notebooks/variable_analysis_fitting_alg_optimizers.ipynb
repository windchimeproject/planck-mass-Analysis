{
 "cells": [
  {
   "cell_type": "code",
   "execution_count": 1,
   "metadata": {},
   "outputs": [
    {
     "name": "stderr",
     "output_type": "stream",
     "text": [
      "C:\\Users\\bahaa\\anaconda3\\lib\\site-packages\\wimprates\\halo.py:144: RuntimeWarning: divide by zero encountered in true_divide\n",
      "  / (2 * v_earth_t * v))\n"
     ]
    }
   ],
   "source": [
    "from planckmc.track_generation import halo_model\n",
    "from planckmc.track_generation import make_tracks\n",
    "from planckmc.detector_characteristics import DETECTOR_CHARACTERISTICS\n",
    "from planckmc.response import sensor_response, RESPONSE_DICT\n",
    "from planckmc.config import CONFIG\n",
    "import planckanalysis.integral_transform as pint\n",
    "import planckanalysis.integral_transform_reworked as pint2\n",
    "\n",
    "\n",
    "import numpy as np\n",
    "from numba import njit, jit\n",
    "from tqdm import tqdm\n",
    "import numericalunits as nu\n",
    "from scipy.signal import peak_widths\n",
    "from scipy.signal import peak_prominences\n",
    "from random import randrange, uniform\n",
    "import json\n",
    "\n",
    "%matplotlib inline\n",
    "import matplotlib # plotting libraries\n",
    "from matplotlib import animation, rc, cm\n",
    "import matplotlib.pyplot as plt\n",
    "import matplotlib.colors as clr\n",
    "from mpl_toolkits.mplot3d import Axes3D\n",
    "\n",
    "import scipy\n",
    "from scipy import signal\n",
    "\n",
    "import seaborn as sn\n",
    "\n",
    "#%pdb"
   ]
  },
  {
   "cell_type": "code",
   "execution_count": 6,
   "metadata": {},
   "outputs": [],
   "source": [
    "scl_fct = 1e4 # Scale Factor for Optimized Time variables (entry time and time difference)\n",
    "hnds_un = 1e-2 # Units to Hundreds -> Because Some values are already multiplied by one hundred (i.e. every unit is one hundred of the value)\n",
    "tnsMS_ms = 1e-1 # Tens of microseconds to microseconds\n",
    "s_ns = 1e9 # Seconds to nanoseconds\n",
    "s_ms = 1e6 # Seconds to microseconds"
   ]
  },
  {
   "cell_type": "code",
   "execution_count": 7,
   "metadata": {},
   "outputs": [
    {
     "data": {
      "text/plain": [
       "(array([[32767, 32767, 32768],\n",
       "        [32767, 32767, 32768],\n",
       "        [32767, 32767, 32769],\n",
       "        ...,\n",
       "        [32768, 32768, 32768],\n",
       "        [32768, 32768, 32768],\n",
       "        [32767, 32768, 32768]], dtype=int64),\n",
       " 4.059231311160934,\n",
       " 403,\n",
       " 434,\n",
       " 906,\n",
       " array([40300.]))"
      ]
     },
     "execution_count": 7,
     "metadata": {},
     "output_type": "execute_result"
    }
   ],
   "source": [
    "#Essential Cell: SIMULATION ACCELERATION\n",
    "#Creates track and sensor accelerations (without noise) & developes varibale name standards\n",
    "\n",
    "#Custom Track: 7.5 (units) in length\n",
    "#vel, entry_vecs, exit_vecs, t_entry, t_exit = np.array([257500.]), np.array([[2.10893786], [3.19662096], [3.51766905]]), np.array([[-3.94093443], [ 3.26567685], [-0.91890723]]), np.array([0.]), np.array([2.91362915e-05])\n",
    "\n",
    "#Randomized Track:\n",
    "vel = halo_model.generate_vel_array(n_vels=1) # The number infront of n_vels is how many tracks are produced, Keep at one for analysis\n",
    "entry_vecs, exit_vecs, t_entry, t_exit = make_tracks.generate_tracks(vel, np.zeros(vel.shape))\n",
    "\n",
    "#t_entry, t_exit are in seconds, the space variables are in meters\n",
    "\n",
    "track=0 # Identifies that we are looking at the first track\n",
    "radius = float(CONFIG['Track Generation']['BoundingSphereRadius'])\n",
    "\n",
    "sensors = tuple(DETECTOR_CHARACTERISTICS.keys()) # Loads the sensor information\n",
    "\n",
    "# Make sure the linear response in RESPONSE_DICT (simulation) is the same as the one used in the analysis (Run Response_update)\n",
    "# Eventually, the linear response and the FIR filter used for the template generation, which is currenly this same one, will be the same\n",
    "# as that of the sensors used in the physical experiment. By matching the two linear responses and FIR filters together, the matching can work\n",
    "\n",
    "lin_resp = RESPONSE_DICT[sensors[0]]['linear_response']\n",
    "lin_resp_len = len(lin_resp)\n",
    "\n",
    "# The floor value is important because of two reasons: 1) it provides a way to analyze for entry time, 2) it makes the length of the data longer than\n",
    "# the response length (which is CRUCIAL)\n",
    "floor_val = ((lin_resp_len - (((t_exit - t_entry) * hnds_un * s_ns) + 2)) // 2) + 1\n",
    "\n",
    "# Padding is in 10s of microseconds (nanoseconds/100)\n",
    "if floor_val > 1:\n",
    "    n_pad_strt = randrange(floor_val, floor_val + 50)\n",
    "    n_pad_end = randrange(floor_val, floor_val + 50)\n",
    "else:\n",
    "    floor_val = 1\n",
    "    n_pad_strt = randrange(floor_val, floor_val + 50)\n",
    "    n_pad_end = randrange(floor_val, floor_val + 50)\n",
    "\n",
    "# Acceleration without noise:\n",
    "out = make_tracks.generate_acceleration_dict(entry_vecs, exit_vecs, t_entry, t_exit, {'M':1e8, 'G':6.67e-11}, strt_padding=n_pad_strt, end_padding=n_pad_end)\n",
    "\n",
    "accels = []\n",
    "sensors_pos = []\n",
    "cnt = 0\n",
    "\n",
    "# Below we initialize for the acceleration array and the sensor positions array\n",
    "for key in out[track]:\n",
    "    if key not in ['time', 'particle_location']:\n",
    "        accels.append(out[track][sensors[cnt]])\n",
    "        sensors_pos.append(DETECTOR_CHARACTERISTICS[key]['position'])\n",
    "        cnt += 1\n",
    "\n",
    "track_len = np.linalg.norm(exit_vecs - entry_vecs)\n",
    "\n",
    "# Check: Helpful for when n_pad_strt & n_pad_end vary to check for sizes of arrays\n",
    "\n",
    "# This conversion (of t_entry and of n_pad_strt) is what matches the padding and the time to be in nanoseconds -> (t_entry*s_ns)+(n_pad_strt/hnds_un)\n",
    "sensor_response(sensors[0], out[0][sensors[0]]), track_len, n_pad_strt, n_pad_end, len(out[track]['time']), (t_entry*s_ns)+(n_pad_strt/hnds_un)"
   ]
  },
  {
   "cell_type": "code",
   "execution_count": 8,
   "metadata": {},
   "outputs": [
    {
     "data": {
      "text/plain": [
       "(array([[ 4.72295395],\n",
       "        [-1.32924402],\n",
       "        [ 1.72244485]]),\n",
       " array([[ 3.28706661],\n",
       "        [-3.87877745],\n",
       "        [-1.09099888]]),\n",
       " array([0.]),\n",
       " array([6.73731338e-06]))"
      ]
     },
     "execution_count": 8,
     "metadata": {},
     "output_type": "execute_result"
    }
   ],
   "source": [
    "# Truth values for the entry and exit spacial cartesian parameters and entry and exit times\n",
    "entry_vecs, exit_vecs, t_entry, t_exit"
   ]
  },
  {
   "cell_type": "code",
   "execution_count": 10,
   "metadata": {},
   "outputs": [],
   "source": [
    "# Essential cell: CREATES NOISY SIMULATION ACCELERATIONS\n",
    "# Generates associated adc values (with added noise) to accelerations\n",
    "# and takes adc values and returns associated accelerations with noise\n",
    "\n",
    "accels_noise = []\n",
    "data_info = sensor_response(sensors[0], out[track][sensors[0]])\n",
    "full_data_1 = np.array([[0] * 3 for i in range(data_info.shape[0])])\n",
    "full_data = np.array([full_data_1 for j in range(len(sensors))])\n",
    "tm_vals = []\n",
    "\n",
    "for sensrs in range(0,len(sensors)):\n",
    "    data_info = sensor_response(sensors[sensrs], out[track][sensors[sensrs]], response_dict=RESPONSE_DICT)\n",
    "    for tms in range(0,data_info.shape[0]):\n",
    "        for dim in range(0,len(data_info[tms])):\n",
    "            # adc with noise\n",
    "            full_data[sensrs][tms][dim] = data_info[tms][dim]\n",
    "\n",
    "# This is the transfer response which provides the look up dictionary for the procedure below\n",
    "Transf_Resp = np.array(RESPONSE_DICT[sensors[0]]['signal_transfer_response'])\n",
    "\n",
    "# Acceleration with noise determination; we concatenate the transfer response with the end values of -1 and 1 which correspond to the 'inf' bounds\n",
    "accels_w_noise = pint.adc_readout_to_accel(full_data, np.concatenate([[-1], Transf_Resp[:-1]+np.diff(Transf_Resp)/2, [1]]))\n",
    "\n",
    "for sensrs2 in range(0,len(sensors)):\n",
    "    accels_noise.append(accels_w_noise[sensrs2])\n",
    "    \n",
    "time = out[track]['time']-out[track]['time'][0] # This variable is in nanoseconds"
   ]
  },
  {
   "cell_type": "code",
   "execution_count": 12,
   "metadata": {},
   "outputs": [],
   "source": [
    "# Here we generate the corresponding truth angle spatial information of the track from the cartesian truth data\n",
    "\n",
    "# Theta goes from 0 to 180 deg, and phi goes from -180 to 180 deg\n",
    "\n",
    "alpha_theta = np.array([0, 0, 1])\n",
    "cos_theta_entry = pint.py_ang(entry_vecs.T[0], alpha_theta.T)\n",
    "if cos_theta_entry < -1:\n",
    "    cos_theta_entry = -1\n",
    "\n",
    "if cos_theta_entry > 1:\n",
    "    cos_theta_entry = 1\n",
    "theta_entry = np.arccos(cos_theta_entry) # This is the theta entry value\n",
    "\n",
    "cos_theta_exit = pint.py_ang(exit_vecs.T[0], alpha_theta.T)\n",
    "if cos_theta_exit < -1:\n",
    "    cos_theta_exit = -1\n",
    "\n",
    "if cos_theta_exit > 1:\n",
    "    cos_theta_exit = 1\n",
    "theta_exit = np.arccos(cos_theta_exit) # This is the theta exit value\n",
    "\n",
    "\n",
    "alpha_phi = np.array([1, 0, 0])\n",
    "\n",
    "# Below are the truth phi entry and exit values\n",
    "phi_entry = np.arctan2(entry_vecs[1], entry_vecs[0])[0]\n",
    "phi_exit = np.arctan2(exit_vecs[1], exit_vecs[0])[0]\n",
    "\n",
    "\n",
    "t_0 = t_entry + ((n_pad_strt - 1) / (hnds_un * s_ns)) # This variable is in Seconds\n",
    "d_t = t_exit - t_entry # This variable is in Seconds"
   ]
  },
  {
   "cell_type": "code",
   "execution_count": 19,
   "metadata": {},
   "outputs": [
    {
     "name": "stdout",
     "output_type": "stream",
     "text": [
      "4.722953954169598 -1.3292440243631614 1.7224448526697702 [[ 4.72295395]\n",
      " [-1.32924402]\n",
      " [ 1.72244485]]\n",
      "3.2870666090525793 -3.878777454789021 -1.0909988835337918 [[ 3.28706661]\n",
      " [-3.87877745]\n",
      " [-1.09099888]]\n"
     ]
    }
   ],
   "source": [
    "# Check: Transforming the angle values back to cartesian\n",
    "\n",
    "x_0 = radius * np.sin(theta_entry) * np.cos(phi_entry)\n",
    "y_0 = radius * np.sin(theta_entry) * np.sin(phi_entry)\n",
    "z_0 = radius * np.cos(theta_entry)\n",
    "\n",
    "x_1 = radius * np.sin(theta_exit) * np.cos(phi_exit)\n",
    "y_1 = radius * np.sin(theta_exit) * np.sin(phi_exit)\n",
    "z_1 = radius * np.cos(theta_exit)\n",
    "\n",
    "print(x_0, y_0, z_0, entry_vecs)\n",
    "print(x_1, y_1, z_1, exit_vecs)"
   ]
  },
  {
   "cell_type": "markdown",
   "metadata": {},
   "source": [
    "------------------------------------------------------------------"
   ]
  },
  {
   "cell_type": "markdown",
   "metadata": {},
   "source": [
    "------------------------------------------------------------------"
   ]
  },
  {
   "cell_type": "markdown",
   "metadata": {},
   "source": [
    "------------------------------------------------------------------"
   ]
  },
  {
   "cell_type": "markdown",
   "metadata": {},
   "source": [
    "Wrapper 1 is only for entry time, all other variables are kept to their truth values; wrapper1_no_Intrp is without interpolation for time"
   ]
  },
  {
   "cell_type": "code",
   "execution_count": 30,
   "metadata": {},
   "outputs": [],
   "source": [
    "def wrapper1_no_Intrp(alpha_def, theta_entry, phi_entry, theta_exit, phi_exit, accels=accels, lin_resp=lin_resp, sensors_pos=sensors_pos):\n",
    "    S = []\n",
    "    S_norm = []\n",
    "        \n",
    "    timestep_indices = np.array([np.int(np.argmin(np.abs(time-(alpha_def[0] * scl_fct))))])\n",
    "    t_0_op = time[timestep_indices]\n",
    "\n",
    "    \n",
    "    theta_entry_op, phi_entry_op, theta_exit_op, phi_exit_op, d_t_op = theta_entry, phi_entry, theta_exit, phi_exit, d_t\n",
    "    \n",
    "    x_0 = radius * np.sin(theta_entry_op) * np.cos(phi_entry_op)\n",
    "    y_0 = radius * np.sin(theta_entry_op) * np.sin(phi_entry_op)\n",
    "    z_0 = radius * np.cos(theta_entry_op)\n",
    "        \n",
    "    x_1 = radius * np.sin(theta_exit_op) * np.cos(phi_exit_op)\n",
    "    y_1 = radius * np.sin(theta_exit_op) * np.sin(phi_exit_op)\n",
    "    z_1 = radius * np.cos(theta_exit_op)\n",
    "\n",
    "\n",
    "    t_0_eff = t_0_op - t_0_op\n",
    "    t_1_eff = np.float(d_t_op)\n",
    "    \n",
    "    alpha_pair = np.array([[float(x_0),\n",
    "                           float(y_0),\n",
    "                           float(z_0),\n",
    "                           float(t_0_eff),\n",
    "                           float(x_1),\n",
    "                           float(y_1),\n",
    "                           float(z_1),\n",
    "                           float(t_1_eff)]])\n",
    "    \n",
    "    timesteps=t_0_op\n",
    "                \n",
    "    transformed_data = pint.transform(time/s_ns, accels_noise, timesteps/s_ns, timestep_indices, alpha_pair, sensors_pos, lin_resp)\n",
    "    \n",
    "    return -transformed_data['S_norm']"
   ]
  },
  {
   "cell_type": "code",
   "execution_count": 17,
   "metadata": {},
   "outputs": [],
   "source": [
    "def wrapper1(alpha_def, theta_entry, phi_entry, theta_exit, phi_exit, accels=accels, lin_resp=lin_resp, sensors_pos=sensors_pos):\n",
    "    S = []\n",
    "    S_norm = []\n",
    "    intrp_val = (alpha_def[0] * scl_fct) - time[np.array([np.int(np.argmin(np.abs(time-(alpha_def[0] * scl_fct))))])]\n",
    "\n",
    "\n",
    "    if intrp_val == 0:\n",
    "        timestep_indices = np.array([np.int(np.argmin(np.abs(time-(alpha_def[0] * scl_fct))))])\n",
    "        t_0_op = time[timestep_indices]\n",
    "\n",
    "\n",
    "        theta_entry_op, phi_entry_op, theta_exit_op, phi_exit_op, d_t_op = theta_entry, phi_entry, theta_exit, phi_exit, d_t\n",
    "\n",
    "        x_0 = radius * np.sin(theta_entry_op) * np.cos(phi_entry_op)\n",
    "        y_0 = radius * np.sin(theta_entry_op) * np.sin(phi_entry_op)\n",
    "        z_0 = radius * np.cos(theta_entry_op)\n",
    "\n",
    "        x_1 = radius * np.sin(theta_exit_op) * np.cos(phi_exit_op)\n",
    "        y_1 = radius * np.sin(theta_exit_op) * np.sin(phi_exit_op)\n",
    "        z_1 = radius * np.cos(theta_exit_op)\n",
    "\n",
    "\n",
    "        t_0_eff = t_0_op - t_0_op\n",
    "        t_1_eff = np.float(d_t_op)\n",
    "\n",
    "        alpha_pair = np.array([[float(x_0),\n",
    "                               float(y_0),\n",
    "                               float(z_0),\n",
    "                               float(t_0_eff),\n",
    "                               float(x_1),\n",
    "                               float(y_1),\n",
    "                               float(z_1),\n",
    "                               float(t_1_eff)]])\n",
    "\n",
    "        timesteps=t_0_op\n",
    "\n",
    "        transformed_data = pint.transform(time/s_ns, accels_noise, timesteps/s_ns, timestep_indices, alpha_pair, sensors_pos, lin_resp)\n",
    "\n",
    "        S = transformed_data['S_norm']\n",
    "    else:\n",
    "        if intrp_val > 0:\n",
    "            timestep_indices1 = np.array([np.int(np.argmin(np.abs(time-(alpha_def[0] * scl_fct))))])\n",
    "            t_0_op1 = time[timestep_indices1]\n",
    "            \n",
    "            timestep_indices2 = np.array([np.int(np.argmin(np.abs(time-(alpha_def[0] * scl_fct)))) + 1])\n",
    "            \n",
    "            print(timestep_indices2)\n",
    "            \n",
    "            if timestep_indices2 < len(time):\n",
    "                t_0_op2 = time[timestep_indices2]\n",
    "            else:\n",
    "                timestep_indices2 = np.array([len(time) - 1])\n",
    "                t_0_op2 = np.array([np.max(time)])\n",
    "\n",
    "            blnc_val = intrp_val/(t_0_op2-t_0_op1)\n",
    "        elif intrp_val < 0:\n",
    "            timestep_indices1 = np.array([np.int(np.argmin(np.abs(time-(alpha_def[0] * scl_fct))))])\n",
    "            t_0_op1 = time[timestep_indices1]\n",
    "\n",
    "            timestep_indices2 = np.array([np.int(np.argmin(np.abs(time-(alpha_def[0] * scl_fct)))) - 1])\n",
    "            \n",
    "            if timestep_indices2 >= 0:\n",
    "                t_0_op2 = time[timestep_indices2]\n",
    "            else:\n",
    "                timestep_indices2 = np.array([0])\n",
    "                t_0_op2 = np.array([0])\n",
    "\n",
    "            blnc_val = intrp_val/(t_0_op1 - t_0_op2)\n",
    "\n",
    "        theta_entry_op, phi_entry_op, theta_exit_op, phi_exit_op, d_t_op = theta_entry, phi_entry, theta_exit, phi_exit, d_t\n",
    "\n",
    "        x_0 = radius * np.sin(theta_entry_op) * np.cos(phi_entry_op)\n",
    "        y_0 = radius * np.sin(theta_entry_op) * np.sin(phi_entry_op)\n",
    "        z_0 = radius * np.cos(theta_entry_op)\n",
    "\n",
    "        x_1 = radius * np.sin(theta_exit_op) * np.cos(phi_exit_op)\n",
    "        y_1 = radius * np.sin(theta_exit_op) * np.sin(phi_exit_op)\n",
    "        z_1 = radius * np.cos(theta_exit_op)\n",
    "\n",
    "\n",
    "        t_0_eff = 0 #t_0_op - t_0_op\n",
    "        t_1_eff = np.float(d_t_op)\n",
    "\n",
    "        alpha_pair = np.array([[float(x_0),\n",
    "                               float(y_0),\n",
    "                               float(z_0),\n",
    "                               float(t_0_eff),\n",
    "                               float(x_1),\n",
    "                               float(y_1),\n",
    "                               float(z_1),\n",
    "                               float(t_1_eff)]])\n",
    "\n",
    "        timesteps1=t_0_op1\n",
    "        transformed_data1 = pint.transform(time/s_ns, accels_noise, timesteps1/s_ns, timestep_indices1, alpha_pair, sensors_pos, lin_resp)\n",
    "\n",
    "        timesteps2=t_0_op2\n",
    "        transformed_data2 = pint.transform(time/s_ns, accels_noise, timesteps2/s_ns, timestep_indices2, alpha_pair, sensors_pos, lin_resp)\n",
    "\n",
    "\n",
    "        S1 = (1 - blnc_val) * transformed_data1['S_norm']\n",
    "        S2 = blnc_val * transformed_data2['S_norm']\n",
    "        S = S1 + S2\n",
    "    return -S"
   ]
  },
  {
   "cell_type": "markdown",
   "metadata": {},
   "source": [
    "------------------------------------------------------------------"
   ]
  },
  {
   "cell_type": "markdown",
   "metadata": {},
   "source": [
    "Wrapper 2 is for velocity/time difference, all other variables are kept to their truth values"
   ]
  },
  {
   "cell_type": "code",
   "execution_count": 31,
   "metadata": {},
   "outputs": [],
   "source": [
    "def wrapper2(alpha_def, theta_entry, phi_entry, theta_exit, phi_exit, accels=accels, lin_resp=lin_resp, sensors_pos=sensors_pos):\n",
    "    S = []\n",
    "    S_norm = []\n",
    "        \n",
    "    timestep_indices = np.array([np.int(np.argmin(np.abs(time-(t_0 * s_ns))))])\n",
    "    t_0_op = time[timestep_indices] / s_ns\n",
    "    \n",
    "    d_t_op = alpha_def[0] * scl_fct\n",
    "    \n",
    "    theta_entry_op, phi_entry_op, theta_exit_op, phi_exit_op = theta_entry, phi_entry, theta_exit, phi_exit\n",
    "    \n",
    "    x_0 = radius * np.sin(theta_entry_op) * np.cos(phi_entry_op)\n",
    "    y_0 = radius * np.sin(theta_entry_op) * np.sin(phi_entry_op)\n",
    "    z_0 = radius * np.cos(theta_entry_op)\n",
    "        \n",
    "    x_1 = radius * np.sin(theta_exit_op) * np.cos(phi_exit_op)\n",
    "    y_1 = radius * np.sin(theta_exit_op) * np.sin(phi_exit_op)\n",
    "    z_1 = radius * np.cos(theta_exit_op)\n",
    "\n",
    "\n",
    "    t_0_eff = t_0_op - t_0_op\n",
    "    t_1_eff = np.float(d_t_op) / s_ns\n",
    "    \n",
    "    alpha_pair = np.array([[float(x_0),\n",
    "                           float(y_0),\n",
    "                           float(z_0),\n",
    "                           float(t_0_eff),\n",
    "                           float(x_1),\n",
    "                           float(y_1),\n",
    "                           float(z_1),\n",
    "                           float(t_1_eff)]])\n",
    "    \n",
    "    timesteps=t_0_op\n",
    "                \n",
    "    transformed_data = pint.transform(time/s_ns, accels_noise, timesteps, timestep_indices, alpha_pair, sensors_pos, lin_resp)\n",
    "    \n",
    "    # NOTE: The time components of transformed data are coming out in seconds\n",
    "    \n",
    "    return -transformed_data['S_norm']"
   ]
  },
  {
   "cell_type": "markdown",
   "metadata": {},
   "source": [
    "------------------------------------------------------------------"
   ]
  },
  {
   "cell_type": "markdown",
   "metadata": {},
   "source": [
    "Wrapper 3 is for spatial analysis, all other variables are kept to their truth values"
   ]
  },
  {
   "cell_type": "code",
   "execution_count": 32,
   "metadata": {},
   "outputs": [],
   "source": [
    "def wrapper3(alpha_def, accels=accels, lin_resp=lin_resp, sensors_pos=sensors_pos):\n",
    "    S = []\n",
    "    S_norm = []\n",
    "        \n",
    "    timestep_indices = np.array([np.int(np.argmin(np.abs(time-(t_0 * s_ns))))])\n",
    "    t_0_op = time[timestep_indices] / s_ns\n",
    "        \n",
    "    theta_entry_op, phi_entry_op, theta_exit_op, phi_exit_op, d_t_op = alpha_def[0], alpha_def[1], alpha_def[2], alpha_def[3], d_t * s_ns\n",
    "    \n",
    "    \n",
    "    x_0 = radius * np.sin(theta_entry_op) * np.cos(phi_entry_op)\n",
    "    y_0 = radius * np.sin(theta_entry_op) * np.sin(phi_entry_op)\n",
    "    z_0 = radius * np.cos(theta_entry_op)\n",
    "        \n",
    "    x_1 = radius * np.sin(theta_exit_op) * np.cos(phi_exit_op)\n",
    "    y_1 = radius * np.sin(theta_exit_op) * np.sin(phi_exit_op)\n",
    "    z_1 = radius * np.cos(theta_exit_op)\n",
    "\n",
    "\n",
    "    t_0_eff = t_0_op - t_0_op\n",
    "    t_1_eff = np.float(d_t_op) / s_ns\n",
    "    \n",
    "    alpha_pair = np.array([[float(x_0),\n",
    "                           float(y_0),\n",
    "                           float(z_0),\n",
    "                           float(t_0_eff),\n",
    "                           float(x_1),\n",
    "                           float(y_1),\n",
    "                           float(z_1),\n",
    "                           float(t_1_eff)]])\n",
    "    \n",
    "    timesteps=t_0_op\n",
    "            \n",
    "    transformed_data = pint.transform(time/s_ns, accels_noise, timesteps, timestep_indices, alpha_pair, sensors_pos, lin_resp)\n",
    "        \n",
    "    return -transformed_data['S_norm']"
   ]
  },
  {
   "cell_type": "markdown",
   "metadata": {},
   "source": [
    "------------------------------------------------------------------"
   ]
  },
  {
   "cell_type": "markdown",
   "metadata": {},
   "source": [
    "Wrapper 2P is for all time related analysis (not spatial, which are kept to their truth values), 2P_no_Intrp is without time interpolation"
   ]
  },
  {
   "cell_type": "code",
   "execution_count": 33,
   "metadata": {},
   "outputs": [],
   "source": [
    "# Without interpolation\n",
    "def wrapper_2P_no_Intrp(alpha_def, theta_entry, phi_entry, theta_exit, phi_exit, accels=accels, lin_resp=lin_resp, sensors_pos=sensors_pos):\n",
    "    S = []\n",
    "    S_norm = []\n",
    "        \n",
    "    timestep_indices = np.array([np.int(np.argmin(np.abs(time-(alpha_def[0] * scl_fct))))])\n",
    "    t_0_op = time[timestep_indices] / s_ns\n",
    "    \n",
    "    d_t_op = alpha_def[1] * scl_fct\n",
    "    \n",
    "    theta_entry_op, phi_entry_op, theta_exit_op, phi_exit_op = theta_entry, phi_entry, theta_exit, phi_exit\n",
    "    \n",
    "    x_0 = radius * np.sin(theta_entry_op) * np.cos(phi_entry_op)\n",
    "    y_0 = radius * np.sin(theta_entry_op) * np.sin(phi_entry_op)\n",
    "    z_0 = radius * np.cos(theta_entry_op)\n",
    "        \n",
    "    x_1 = radius * np.sin(theta_exit_op) * np.cos(phi_exit_op)\n",
    "    y_1 = radius * np.sin(theta_exit_op) * np.sin(phi_exit_op)\n",
    "    z_1 = radius * np.cos(theta_exit_op)\n",
    "\n",
    "\n",
    "    t_0_eff = t_0_op - t_0_op\n",
    "    t_1_eff = np.float(d_t_op) / s_ns\n",
    "    \n",
    "    alpha_pair = np.array([[float(x_0),\n",
    "                           float(y_0),\n",
    "                           float(z_0),\n",
    "                           float(t_0_eff),\n",
    "                           float(x_1),\n",
    "                           float(y_1),\n",
    "                           float(z_1),\n",
    "                           float(t_1_eff)]])\n",
    "    \n",
    "    timesteps=t_0_op\n",
    "                \n",
    "    transformed_data = pint.transform(time/s_ns, accels_noise, timesteps, timestep_indices, alpha_pair, sensors_pos, lin_resp)\n",
    "    print(alpha_def[0], alpha_def[1])\n",
    "\n",
    "    return -transformed_data['S_norm']"
   ]
  },
  {
   "cell_type": "code",
   "execution_count": 34,
   "metadata": {},
   "outputs": [],
   "source": [
    "def wrapper_2P(alpha_def, theta_entry, phi_entry, theta_exit, phi_exit, accels=accels, lin_resp=lin_resp, sensors_pos=sensors_pos):\n",
    "    S = []\n",
    "    S_norm = []\n",
    "    intrp_val = (alpha_def[0] * scl_fct) - time[np.array([np.int(np.argmin(np.abs(time-(alpha_def[0] * scl_fct))))])]\n",
    "\n",
    "\n",
    "    if intrp_val == 0:\n",
    "        timestep_indices = np.array([np.int(np.argmin(np.abs(time-(alpha_def[0] * scl_fct))))])\n",
    "        t_0_op = time[timestep_indices] / s_ns\n",
    "\n",
    "        d_t_op = alpha_def[1] * scl_fct\n",
    "\n",
    "        theta_entry_op, phi_entry_op, theta_exit_op, phi_exit_op = theta_entry, phi_entry, theta_exit, phi_exit\n",
    "\n",
    "        x_0 = radius * np.sin(theta_entry_op) * np.cos(phi_entry_op)\n",
    "        y_0 = radius * np.sin(theta_entry_op) * np.sin(phi_entry_op)\n",
    "        z_0 = radius * np.cos(theta_entry_op)\n",
    "\n",
    "        x_1 = radius * np.sin(theta_exit_op) * np.cos(phi_exit_op)\n",
    "        y_1 = radius * np.sin(theta_exit_op) * np.sin(phi_exit_op)\n",
    "        z_1 = radius * np.cos(theta_exit_op)\n",
    "\n",
    "\n",
    "        t_0_eff = t_0_op - t_0_op\n",
    "        t_1_eff = np.float(d_t_op) / s_ns\n",
    "\n",
    "        alpha_pair = np.array([[float(x_0),\n",
    "                               float(y_0),\n",
    "                               float(z_0),\n",
    "                               float(t_0_eff),\n",
    "                               float(x_1),\n",
    "                               float(y_1),\n",
    "                               float(z_1),\n",
    "                               float(t_1_eff)]])\n",
    "\n",
    "        timesteps=t_0_op\n",
    "\n",
    "        transformed_data = pint.transform(time/s_ns, accels_noise, timesteps, timestep_indices, alpha_pair, sensors_pos, lin_resp)\n",
    "\n",
    "        S = transformed_data['S_norm']\n",
    "    else:\n",
    "        if intrp_val > 0:\n",
    "            timestep_indices1 = np.array([np.int(np.argmin(np.abs(time-(alpha_def[0] * scl_fct))))])\n",
    "            t_0_op1 = time[timestep_indices1] / s_ns\n",
    "            \n",
    "            timestep_indices2 = np.array([np.int(np.argmin(np.abs(time-(alpha_def[0] * scl_fct)))) + 1])\n",
    "                        \n",
    "            if timestep_indices2 < len(time):\n",
    "                t_0_op2 = time[timestep_indices2] / s_ns\n",
    "            else:\n",
    "                timestep_indices2 = np.array([len(time) - 1])\n",
    "                t_0_op2 = np.array([np.max(time)]) / s_ns\n",
    "\n",
    "            blnc_val = intrp_val/(t_0_op2-t_0_op1)\n",
    "        elif intrp_val < 0:\n",
    "            timestep_indices1 = np.array([np.int(np.argmin(np.abs(time-(alpha_def[0] * scl_fct))))])\n",
    "            t_0_op1 = time[timestep_indices1] / s_ns\n",
    "\n",
    "            timestep_indices2 = np.array([np.int(np.argmin(np.abs(time-(alpha_def[0] * scl_fct)))) - 1])\n",
    "            \n",
    "            if timestep_indices2 >= 0:\n",
    "                t_0_op2 = time[timestep_indices2] / s_ns\n",
    "            else:\n",
    "                timestep_indices2 = np.array([0])\n",
    "                t_0_op2 = np.array([0]) / s_ns\n",
    "\n",
    "            blnc_val = intrp_val/(t_0_op1 - t_0_op2)\n",
    "\n",
    "        d_t_op = alpha_def[1] * scl_fct\n",
    "\n",
    "        theta_entry_op, phi_entry_op, theta_exit_op, phi_exit_op = theta_entry, phi_entry, theta_exit, phi_exit\n",
    "\n",
    "        x_0 = radius * np.sin(theta_entry_op) * np.cos(phi_entry_op)\n",
    "        y_0 = radius * np.sin(theta_entry_op) * np.sin(phi_entry_op)\n",
    "        z_0 = radius * np.cos(theta_entry_op)\n",
    "\n",
    "        x_1 = radius * np.sin(theta_exit_op) * np.cos(phi_exit_op)\n",
    "        y_1 = radius * np.sin(theta_exit_op) * np.sin(phi_exit_op)\n",
    "        z_1 = radius * np.cos(theta_exit_op)\n",
    "\n",
    "\n",
    "        t_0_eff = 0 #t_0_op - t_0_op\n",
    "        t_1_eff = np.float(d_t_op) / s_ns\n",
    "\n",
    "        alpha_pair = np.array([[float(x_0),\n",
    "                               float(y_0),\n",
    "                               float(z_0),\n",
    "                               float(t_0_eff),\n",
    "                               float(x_1),\n",
    "                               float(y_1),\n",
    "                               float(z_1),\n",
    "                               float(t_1_eff)]])\n",
    "\n",
    "        timesteps1=t_0_op1\n",
    "        transformed_data1 = pint.transform(time/s_ns, accels_noise, timesteps1, timestep_indices1, alpha_pair, sensors_pos, lin_resp)\n",
    "\n",
    "        timesteps2=t_0_op2\n",
    "        transformed_data2 = pint.transform(time/s_ns, accels_noise, timesteps2, timestep_indices2, alpha_pair, sensors_pos, lin_resp)\n",
    "\n",
    "\n",
    "        S1 = (1 - blnc_val) * transformed_data1['S_norm']\n",
    "        S2 = blnc_val * transformed_data2['S_norm']\n",
    "        S = S1 + S2\n",
    "        \n",
    "        print(alpha_def[0], alpha_def[1])\n",
    "    return -S"
   ]
  },
  {
   "cell_type": "markdown",
   "metadata": {},
   "source": [
    "------------------------------------------------------------------"
   ]
  },
  {
   "cell_type": "markdown",
   "metadata": {},
   "source": [
    "Wrapper 6P is for all 6 parameters, 6P_no_Intrp is without time interpolation"
   ]
  },
  {
   "cell_type": "code",
   "execution_count": 35,
   "metadata": {},
   "outputs": [],
   "source": [
    "def wrapper_6P_no_Intrp(alpha_def, accels=accels, lin_resp=lin_resp, sensors_pos=sensors_pos):\n",
    "    S = []\n",
    "    S_norm = []\n",
    "        \n",
    "    timestep_indices = np.array([np.int(np.argmin(np.abs(time-(alpha_def[0] * scl_fct))))])\n",
    "    t_0_op = time[timestep_indices] / s_ns\n",
    "    \n",
    "    d_t_op = alpha_def[1] * scl_fct\n",
    "    \n",
    "    theta_entry_op, phi_entry_op, theta_exit_op, phi_exit_op = alpha_def[2], alpha_def[3], alpha_def[4], alpha_def[5]\n",
    "    \n",
    "    x_0 = radius * np.sin(theta_entry_op) * np.cos(phi_entry_op)\n",
    "    y_0 = radius * np.sin(theta_entry_op) * np.sin(phi_entry_op)\n",
    "    z_0 = radius * np.cos(theta_entry_op)\n",
    "        \n",
    "    x_1 = radius * np.sin(theta_exit_op) * np.cos(phi_exit_op)\n",
    "    y_1 = radius * np.sin(theta_exit_op) * np.sin(phi_exit_op)\n",
    "    z_1 = radius * np.cos(theta_exit_op)\n",
    "\n",
    "\n",
    "    t_0_eff = t_0_op - t_0_op\n",
    "    t_1_eff = np.float(d_t_op) / s_ns\n",
    "    \n",
    "    alpha_pair = np.array([[float(x_0),\n",
    "                           float(y_0),\n",
    "                           float(z_0),\n",
    "                           float(t_0_eff),\n",
    "                           float(x_1),\n",
    "                           float(y_1),\n",
    "                           float(z_1),\n",
    "                           float(t_1_eff)]])\n",
    "    \n",
    "    timesteps=t_0_op\n",
    "                \n",
    "    transformed_data = pint.transform(time/s_ns, accels_noise, timesteps, timestep_indices, alpha_pair, sensors_pos, lin_resp)\n",
    "        \n",
    "    return -transformed_data['S_norm']"
   ]
  },
  {
   "cell_type": "code",
   "execution_count": 20,
   "metadata": {},
   "outputs": [],
   "source": [
    "def wrapper_6P(alpha_def, accels=accels, lin_resp=lin_resp, sensors_pos=sensors_pos):\n",
    "    S = []\n",
    "    S_norm = []\n",
    "    intrp_val = (alpha_def[0] * scl_fct) - time[np.int(np.argmin(np.abs(time-(alpha_def[0] * scl_fct))))]\n",
    "\n",
    "\n",
    "    if intrp_val == 0:\n",
    "        timestep_indices = np.array([np.int(np.argmin(np.abs(time-(alpha_def[0] * scl_fct))))])\n",
    "        t_0_op = time[timestep_indices] / s_ns\n",
    "\n",
    "        d_t_op = alpha_def[1] * scl_fct\n",
    "\n",
    "        theta_entry_op, phi_entry_op, theta_exit_op, phi_exit_op = alpha_def[2], alpha_def[3], alpha_def[4], alpha_def[5]\n",
    "\n",
    "        x_0 = radius * np.sin(theta_entry_op) * np.cos(phi_entry_op)\n",
    "        y_0 = radius * np.sin(theta_entry_op) * np.sin(phi_entry_op)\n",
    "        z_0 = radius * np.cos(theta_entry_op)\n",
    "\n",
    "        x_1 = radius * np.sin(theta_exit_op) * np.cos(phi_exit_op)\n",
    "        y_1 = radius * np.sin(theta_exit_op) * np.sin(phi_exit_op)\n",
    "        z_1 = radius * np.cos(theta_exit_op)\n",
    "\n",
    "\n",
    "        t_0_eff = t_0_op - t_0_op\n",
    "        t_1_eff = np.float(d_t_op) / s_ns\n",
    "\n",
    "        alpha_pair = np.array([[float(x_0),\n",
    "                               float(y_0),\n",
    "                               float(z_0),\n",
    "                               float(t_0_eff),\n",
    "                               float(x_1),\n",
    "                               float(y_1),\n",
    "                               float(z_1),\n",
    "                               float(t_1_eff)]])\n",
    "\n",
    "        timesteps=t_0_op\n",
    "\n",
    "        transformed_data = pint.transform(time/s_ns, accels_noise, timesteps, timestep_indices, alpha_pair, sensors_pos, lin_resp)\n",
    "\n",
    "        S = transformed_data['S_norm']\n",
    "    else:\n",
    "        if intrp_val > 0:\n",
    "            timestep_indices1 = np.array([np.int(np.argmin(np.abs(time-(alpha_def[0] * scl_fct))))])\n",
    "            t_0_op1 = time[timestep_indices1] / s_ns\n",
    "            \n",
    "            timestep_indices2 = np.array([np.int(np.argmin(np.abs(time-(alpha_def[0] * scl_fct)))) + 1])\n",
    "                        \n",
    "            if timestep_indices2 < len(time):\n",
    "                t_0_op2 = time[timestep_indices2] / s_ns\n",
    "            else:\n",
    "                timestep_indices2 = np.array([len(time) - 1])\n",
    "                t_0_op2 = np.array([np.max(time)]) / s_ns\n",
    "\n",
    "            blnc_val = intrp_val/(t_0_op2-t_0_op1)\n",
    "        elif intrp_val < 0:\n",
    "            timestep_indices1 = np.array([np.int(np.argmin(np.abs(time-(alpha_def[0] * scl_fct))))])\n",
    "            t_0_op1 = time[timestep_indices1] / s_ns\n",
    "\n",
    "            timestep_indices2 = np.array([np.int(np.argmin(np.abs(time-(alpha_def[0] * scl_fct)))) - 1])\n",
    "            \n",
    "            if timestep_indices2 >= 0:\n",
    "                t_0_op2 = time[timestep_indices2] / s_ns\n",
    "            else:\n",
    "                timestep_indices2 = np.array([0])\n",
    "                t_0_op2 = np.array([0]) / s_ns\n",
    "\n",
    "            blnc_val = intrp_val/(t_0_op1 - t_0_op2)\n",
    "\n",
    "        d_t_op = alpha_def[1] * scl_fct\n",
    "\n",
    "        theta_entry_op, phi_entry_op, theta_exit_op, phi_exit_op = alpha_def[2], alpha_def[3], alpha_def[4], alpha_def[5]\n",
    "\n",
    "        x_0 = radius * np.sin(theta_entry_op) * np.cos(phi_entry_op)\n",
    "        y_0 = radius * np.sin(theta_entry_op) * np.sin(phi_entry_op)\n",
    "        z_0 = radius * np.cos(theta_entry_op)\n",
    "\n",
    "        x_1 = radius * np.sin(theta_exit_op) * np.cos(phi_exit_op)\n",
    "        y_1 = radius * np.sin(theta_exit_op) * np.sin(phi_exit_op)\n",
    "        z_1 = radius * np.cos(theta_exit_op)\n",
    "\n",
    "\n",
    "        t_0_eff = 0 #t_0_op - t_0_op\n",
    "        t_1_eff = np.float(d_t_op) / s_ns\n",
    "\n",
    "        alpha_pair = np.array([[float(x_0),\n",
    "                               float(y_0),\n",
    "                               float(z_0),\n",
    "                               float(t_0_eff),\n",
    "                               float(x_1),\n",
    "                               float(y_1),\n",
    "                               float(z_1),\n",
    "                               float(t_1_eff)]])\n",
    "\n",
    "        timesteps1=t_0_op1\n",
    "        transformed_data1 = pint.transform(time/s_ns, accels_noise, timesteps1, timestep_indices1, alpha_pair, sensors_pos, lin_resp)\n",
    "\n",
    "        timesteps2=t_0_op2\n",
    "        transformed_data2 = pint.transform(time/s_ns, accels_noise, timesteps2, timestep_indices2, alpha_pair, sensors_pos, lin_resp)\n",
    "\n",
    "\n",
    "        S1 = (1 - blnc_val) * transformed_data1['S_norm']\n",
    "        S2 = blnc_val * transformed_data2['S_norm']\n",
    "        S = S1 + S2\n",
    "        \n",
    "        print(alpha_def[0], alpha_def[1], alpha_def[2], alpha_def[3], alpha_def[4], alpha_def[5])\n",
    "\n",
    "    return -S"
   ]
  },
  {
   "cell_type": "markdown",
   "metadata": {},
   "source": [
    "------------------------------------------------------------------"
   ]
  },
  {
   "cell_type": "markdown",
   "metadata": {},
   "source": [
    "------------------------------------------------------------------"
   ]
  },
  {
   "cell_type": "markdown",
   "metadata": {},
   "source": [
    "------------------------------------------------------------------"
   ]
  },
  {
   "cell_type": "code",
   "execution_count": 37,
   "metadata": {},
   "outputs": [
    {
     "data": {
      "text/plain": [
       "(0.4768822862810498,\n",
       " 1.5463971802245688,\n",
       " array([32200.]),\n",
       " -0.8167292960052399,\n",
       " -3.135141681595092,\n",
       " array([20524.42996829]))"
      ]
     },
     "execution_count": 37,
     "metadata": {},
     "output_type": "execute_result"
    }
   ],
   "source": [
    "theta_entry, theta_exit, (t_entry*s_ns)+(n_pad_strt/hnds_un), phi_entry, phi_exit, (t_exit-t_entry)*s_ns # Times are in nanoseconds"
   ]
  },
  {
   "cell_type": "markdown",
   "metadata": {},
   "source": [
    "------------------------------------------------------------------"
   ]
  },
  {
   "cell_type": "markdown",
   "metadata": {},
   "source": [
    "------------------------------------------------------------------"
   ]
  },
  {
   "cell_type": "markdown",
   "metadata": {},
   "source": [
    "In all of the optimization analyses below, the truth values are identified first and then the particular optimizer is utilized, sometimes with bounds, and with initial estimates. The important results are the output varible values which are supposed to corresspond to their truth equivalents, and for some optimizers an inverse hessian matrix. The inverse hessian produces an accurate error analysis as a covariance matrix if the analyzed signal value in the wrappers above is S_norm, which is supposed to be a correct SNR value, normalizing the signal output by the noise in a log likelihood."
   ]
  },
  {
   "cell_type": "markdown",
   "metadata": {},
   "source": [
    "------------------------------------------------------------------"
   ]
  },
  {
   "cell_type": "markdown",
   "metadata": {},
   "source": [
    "------------------------------------------------------------------"
   ]
  },
  {
   "cell_type": "code",
   "execution_count": 34,
   "metadata": {},
   "outputs": [
    {
     "data": {
      "text/plain": [
       "array([3.31])"
      ]
     },
     "execution_count": 34,
     "metadata": {},
     "output_type": "execute_result"
    }
   ],
   "source": [
    "((t_entry*s_ns)+(n_pad_strt/hnds_un))/scl_fct"
   ]
  },
  {
   "cell_type": "markdown",
   "metadata": {},
   "source": [
    "As will be seen in some of the parameter analyses below, the Powell algorithm is used to approach the correct truth value first and then the result is passed to the L-BFGS-B algorithm. This was a suggested method to produce an inverse hessian out of the Powell analysis (which itself does not provide an inv. hess.) as the L-BFGS-B analysis on its own from an arbitrary guess does not succeed in approaching a solution. However, since not many iterations of differentiation occur in the second part of the procedure in the L-BFGS-B part, the inv. hess. seems to be the default one."
   ]
  },
  {
   "cell_type": "code",
   "execution_count": 35,
   "metadata": {
    "collapsed": true,
    "jupyter": {
     "outputs_hidden": true
    }
   },
   "outputs": [
    {
     "name": "stderr",
     "output_type": "stream",
     "text": [
      "C:\\Users\\bahaa\\anaconda3\\lib\\site-packages\\scipy\\optimize\\_minimize.py:522: RuntimeWarning: Method Powell cannot handle constraints nor bounds.\n",
      "  RuntimeWarning)\n",
      "C:\\Users\\bahaa\\anaconda3\\lib\\site-packages\\ipykernel_launcher.py:2: OptimizeWarning: Unknown solver options: gtol\n",
      "  \n",
      "100%|██████████| 1/1 [00:00<00:00, 12.23it/s]\n",
      "100%|██████████| 1/1 [00:00<00:00,  9.64it/s]\n",
      "100%|██████████| 1/1 [00:00<00:00, 10.55it/s]\n",
      "100%|██████████| 1/1 [00:00<00:00, 10.55it/s]\n",
      "100%|██████████| 1/1 [00:00<00:00, 13.37it/s]\n",
      "100%|██████████| 1/1 [00:00<00:00, 11.94it/s]\n",
      "100%|██████████| 1/1 [00:00<00:00, 13.55it/s]\n",
      "  0%|          | 0/1 [00:00<?, ?it/s]"
     ]
    },
    {
     "name": "stdout",
     "output_type": "stream",
     "text": [
      "[389]\n",
      "[593]\n"
     ]
    },
    {
     "name": "stderr",
     "output_type": "stream",
     "text": [
      "100%|██████████| 1/1 [00:00<00:00, 12.22it/s]\n",
      "100%|██████████| 1/1 [00:00<00:00, 11.26it/s]\n",
      "100%|██████████| 1/1 [00:00<00:00, 12.53it/s]\n",
      "100%|██████████| 1/1 [00:00<00:00, 13.02it/s]\n",
      "  0%|          | 0/1 [00:00<?, ?it/s]"
     ]
    },
    {
     "name": "stdout",
     "output_type": "stream",
     "text": [
      "[389]\n",
      "[467]\n"
     ]
    },
    {
     "name": "stderr",
     "output_type": "stream",
     "text": [
      "100%|██████████| 1/1 [00:00<00:00, 14.12it/s]\n",
      "100%|██████████| 1/1 [00:00<00:00, 13.28it/s]\n",
      "100%|██████████| 1/1 [00:00<00:00, 12.38it/s]\n",
      "100%|██████████| 1/1 [00:00<00:00, 14.32it/s]\n",
      "100%|██████████| 1/1 [00:00<00:00, 14.12it/s]\n",
      "100%|██████████| 1/1 [00:00<00:00, 13.55it/s]\n",
      "  0%|          | 0/1 [00:00<?, ?it/s]"
     ]
    },
    {
     "name": "stdout",
     "output_type": "stream",
     "text": [
      "[311]\n"
     ]
    },
    {
     "name": "stderr",
     "output_type": "stream",
     "text": [
      "100%|██████████| 1/1 [00:00<00:00, 10.78it/s]\n",
      "100%|██████████| 1/1 [00:00<00:00, 10.34it/s]\n",
      "100%|██████████| 1/1 [00:00<00:00, 12.69it/s]\n",
      "100%|██████████| 1/1 [00:00<00:00, 13.55it/s]\n",
      "100%|██████████| 1/1 [00:00<00:00, 12.53it/s]\n",
      "100%|██████████| 1/1 [00:00<00:00, 13.55it/s]\n",
      "  0%|          | 0/1 [00:00<?, ?it/s]"
     ]
    },
    {
     "name": "stdout",
     "output_type": "stream",
     "text": [
      "[337]\n"
     ]
    },
    {
     "name": "stderr",
     "output_type": "stream",
     "text": [
      "100%|██████████| 1/1 [00:00<00:00, 14.32it/s]\n",
      "100%|██████████| 1/1 [00:00<00:00, 11.80it/s]\n",
      "100%|██████████| 1/1 [00:00<00:00, 14.32it/s]\n",
      "100%|██████████| 1/1 [00:00<00:00, 14.12it/s]\n",
      "100%|██████████| 1/1 [00:00<00:00, 11.39it/s]\n",
      "100%|██████████| 1/1 [00:00<00:00, 14.53it/s]\n",
      "100%|██████████| 1/1 [00:00<00:00, 13.74it/s]\n",
      "100%|██████████| 1/1 [00:00<00:00, 13.93it/s]\n",
      "  0%|          | 0/1 [00:00<?, ?it/s]"
     ]
    },
    {
     "name": "stdout",
     "output_type": "stream",
     "text": [
      "[172]\n"
     ]
    },
    {
     "name": "stderr",
     "output_type": "stream",
     "text": [
      "100%|██████████| 1/1 [00:00<00:00, 14.12it/s]\n",
      "100%|██████████| 1/1 [00:00<00:00, 13.02it/s]\n",
      "100%|██████████| 1/1 [00:00<00:00, 13.74it/s]\n",
      "100%|██████████| 1/1 [00:00<00:00, 13.19it/s]\n",
      "  0%|          | 0/1 [00:00<?, ?it/s]"
     ]
    },
    {
     "name": "stdout",
     "output_type": "stream",
     "text": [
      "[272]\n",
      "[372]\n"
     ]
    },
    {
     "name": "stderr",
     "output_type": "stream",
     "text": [
      "100%|██████████| 1/1 [00:00<00:00, 13.93it/s]\n",
      "100%|██████████| 1/1 [00:00<00:00, 13.93it/s]\n",
      "100%|██████████| 1/1 [00:00<00:00, 14.32it/s]\n",
      "100%|██████████| 1/1 [00:00<00:00, 13.19it/s]\n",
      "100%|██████████| 1/1 [00:00<00:00, 15.67it/s]\n",
      "100%|██████████| 1/1 [00:00<00:00, 11.52it/s]\n",
      "  0%|          | 0/1 [00:00<?, ?it/s]"
     ]
    },
    {
     "name": "stdout",
     "output_type": "stream",
     "text": [
      "[333]\n",
      "[333]\n"
     ]
    },
    {
     "name": "stderr",
     "output_type": "stream",
     "text": [
      "100%|██████████| 1/1 [00:00<00:00, 14.32it/s]\n",
      "100%|██████████| 1/1 [00:00<00:00, 14.75it/s]\n",
      "100%|██████████| 1/1 [00:00<00:00, 15.92it/s]\n",
      "100%|██████████| 1/1 [00:00<00:00, 14.74it/s]\n",
      "100%|██████████| 1/1 [00:00<00:00, 13.37it/s]\n",
      "100%|██████████| 1/1 [00:00<00:00, 12.85it/s]\n",
      "  0%|          | 0/1 [00:00<?, ?it/s]"
     ]
    },
    {
     "name": "stdout",
     "output_type": "stream",
     "text": [
      "[332]\n"
     ]
    },
    {
     "name": "stderr",
     "output_type": "stream",
     "text": [
      "100%|██████████| 1/1 [00:00<00:00, 12.86it/s]\n",
      "100%|██████████| 1/1 [00:00<00:00, 12.37it/s]\n",
      "100%|██████████| 1/1 [00:00<00:00, 14.97it/s]\n",
      "100%|██████████| 1/1 [00:00<00:00, 15.19it/s]\n",
      "100%|██████████| 1/1 [00:00<00:00, 15.19it/s]\n",
      "100%|██████████| 1/1 [00:00<00:00, 15.19it/s]\n",
      "100%|██████████| 1/1 [00:00<00:00, 14.12it/s]"
     ]
    },
    {
     "name": "stdout",
     "output_type": "stream",
     "text": [
      "[332]\n"
     ]
    },
    {
     "name": "stderr",
     "output_type": "stream",
     "text": [
      "\n",
      "100%|██████████| 1/1 [00:00<00:00, 15.67it/s]\n",
      "100%|██████████| 1/1 [00:00<00:00, 12.69it/s]\n",
      "100%|██████████| 1/1 [00:00<00:00, 13.55it/s]\n",
      "  0%|          | 0/1 [00:00<?, ?it/s]"
     ]
    },
    {
     "name": "stdout",
     "output_type": "stream",
     "text": [
      "[332]\n"
     ]
    },
    {
     "name": "stderr",
     "output_type": "stream",
     "text": [
      "100%|██████████| 1/1 [00:00<00:00, 13.74it/s]\n",
      "100%|██████████| 1/1 [00:00<00:00, 15.19it/s]\n",
      "100%|██████████| 1/1 [00:00<00:00, 16.71it/s]\n",
      "100%|██████████| 1/1 [00:00<00:00, 15.83it/s]\n",
      "100%|██████████| 1/1 [00:00<00:00, 16.44it/s]"
     ]
    },
    {
     "name": "stdout",
     "output_type": "stream",
     "text": [
      "[331]\n"
     ]
    },
    {
     "name": "stderr",
     "output_type": "stream",
     "text": [
      "\n",
      "100%|██████████| 1/1 [00:00<00:00, 16.99it/s]\n",
      "100%|██████████| 1/1 [00:00<00:00, 13.55it/s]\n",
      "100%|██████████| 1/1 [00:00<00:00, 14.53it/s]\n",
      "100%|██████████| 1/1 [00:00<00:00, 16.69it/s]\n",
      "100%|██████████| 1/1 [00:00<00:00, 14.32it/s]\n",
      "100%|██████████| 1/1 [00:00<00:00, 15.90it/s]\n",
      "100%|██████████| 1/1 [00:00<00:00, 15.42it/s]\n",
      "100%|██████████| 1/1 [00:00<00:00, 16.17it/s]\n",
      "100%|██████████| 1/1 [00:00<00:00, 16.70it/s]\n",
      "100%|██████████| 1/1 [00:00<00:00, 15.42it/s]\n",
      "100%|██████████| 1/1 [00:00<00:00, 14.53it/s]\n",
      "100%|██████████| 1/1 [00:00<00:00, 16.70it/s]\n",
      "100%|██████████| 1/1 [00:00<00:00, 15.67it/s]\n",
      "  0%|          | 0/1 [00:00<?, ?it/s]"
     ]
    },
    {
     "name": "stdout",
     "output_type": "stream",
     "text": [
      "[331]\n"
     ]
    },
    {
     "name": "stderr",
     "output_type": "stream",
     "text": [
      "100%|██████████| 1/1 [00:00<00:00, 16.99it/s]\n",
      "100%|██████████| 1/1 [00:00<00:00, 15.65it/s]\n",
      "100%|██████████| 1/1 [00:00<00:00, 15.92it/s]\n",
      "100%|██████████| 1/1 [00:00<00:00, 15.67it/s]\n",
      "100%|██████████| 1/1 [00:00<00:00, 15.19it/s]\n",
      "100%|██████████| 1/1 [00:00<00:00, 14.75it/s]\n",
      "  0%|          | 0/1 [00:00<?, ?it/s]"
     ]
    },
    {
     "name": "stdout",
     "output_type": "stream",
     "text": [
      "[332]\n",
      "[332]\n"
     ]
    },
    {
     "name": "stderr",
     "output_type": "stream",
     "text": [
      "100%|██████████| 1/1 [00:00<00:00, 16.44it/s]\n",
      "100%|██████████| 1/1 [00:00<00:00, 15.67it/s]\n",
      "100%|██████████| 1/1 [00:00<00:00, 15.67it/s]\n",
      "100%|██████████| 1/1 [00:00<00:00, 14.97it/s]\n",
      "100%|██████████| 1/1 [00:00<00:00, 15.19it/s]\n",
      "100%|██████████| 1/1 [00:00<00:00, 14.75it/s]\n",
      "100%|██████████| 1/1 [00:00<00:00, 13.37it/s]"
     ]
    },
    {
     "name": "stdout",
     "output_type": "stream",
     "text": [
      "[332]\n"
     ]
    },
    {
     "name": "stderr",
     "output_type": "stream",
     "text": [
      "\n",
      "100%|██████████| 1/1 [00:00<00:00, 14.73it/s]\n",
      "100%|██████████| 1/1 [00:00<00:00, 13.02it/s]\n",
      "  0%|          | 0/1 [00:00<?, ?it/s]"
     ]
    },
    {
     "name": "stdout",
     "output_type": "stream",
     "text": [
      "[332]\n"
     ]
    },
    {
     "name": "stderr",
     "output_type": "stream",
     "text": [
      "100%|██████████| 1/1 [00:00<00:00,  7.16it/s]\n",
      "100%|██████████| 1/1 [00:00<00:00, 10.90it/s]\n",
      "100%|██████████| 1/1 [00:00<00:00, 12.85it/s]\n",
      "100%|██████████| 1/1 [00:00<00:00, 11.27it/s]\n",
      "100%|██████████| 1/1 [00:00<00:00, 12.69it/s]\n",
      "100%|██████████| 1/1 [00:00<00:00, 13.74it/s]\n",
      "100%|██████████| 1/1 [00:00<00:00, 14.12it/s]\n",
      "  0%|          | 0/1 [00:00<?, ?it/s]"
     ]
    },
    {
     "name": "stdout",
     "output_type": "stream",
     "text": [
      "[332]\n"
     ]
    },
    {
     "name": "stderr",
     "output_type": "stream",
     "text": [
      "100%|██████████| 1/1 [00:00<00:00, 12.69it/s]\n",
      "100%|██████████| 1/1 [00:00<00:00, 11.94it/s]\n",
      "100%|██████████| 1/1 [00:00<00:00, 12.53it/s]\n",
      "100%|██████████| 1/1 [00:00<00:00, 13.55it/s]\n",
      "  0%|          | 0/1 [00:00<?, ?it/s]"
     ]
    },
    {
     "name": "stdout",
     "output_type": "stream",
     "text": [
      "[332]\n"
     ]
    },
    {
     "name": "stderr",
     "output_type": "stream",
     "text": [
      "100%|██████████| 1/1 [00:00<00:00, 13.37it/s]\n",
      "100%|██████████| 1/1 [00:00<00:00, 11.53it/s]\n",
      "100%|██████████| 1/1 [00:00<00:00, 13.37it/s]\n",
      "100%|██████████| 1/1 [00:00<00:00, 14.32it/s]\n",
      "  0%|          | 0/1 [00:00<?, ?it/s]"
     ]
    },
    {
     "name": "stdout",
     "output_type": "stream",
     "text": [
      "[332]\n"
     ]
    },
    {
     "name": "stderr",
     "output_type": "stream",
     "text": [
      "100%|██████████| 1/1 [00:00<00:00, 13.93it/s]\n",
      "100%|██████████| 1/1 [00:00<00:00, 11.39it/s]\n",
      "100%|██████████| 1/1 [00:00<00:00, 11.27it/s]\n",
      "100%|██████████| 1/1 [00:00<00:00, 11.66it/s]\n",
      "100%|██████████| 1/1 [00:00<00:00, 11.53it/s]\n",
      "  0%|          | 0/1 [00:00<?, ?it/s]"
     ]
    },
    {
     "name": "stdout",
     "output_type": "stream",
     "text": [
      "[332]\n"
     ]
    },
    {
     "name": "stderr",
     "output_type": "stream",
     "text": [
      "100%|██████████| 1/1 [00:00<00:00,  9.28it/s]\n",
      "100%|██████████| 1/1 [00:00<00:00, 11.52it/s]\n",
      "100%|██████████| 1/1 [00:00<00:00, 10.34it/s]\n",
      "100%|██████████| 1/1 [00:00<00:00, 12.38it/s]\n",
      "100%|██████████| 1/1 [00:00<00:00, 11.80it/s]\n"
     ]
    }
   ],
   "source": [
    "bnds = [(0, 10)]\n",
    "result_wr1 = scipy.optimize.minimize(wrapper1, [0], args=(theta_entry, phi_entry, theta_exit, phi_exit, accels, lin_resp, sensors_pos), method='Powell', bounds=bnds, options={'gtol': 1e-20})"
   ]
  },
  {
   "cell_type": "code",
   "execution_count": 36,
   "metadata": {
    "collapsed": true,
    "jupyter": {
     "outputs_hidden": true
    }
   },
   "outputs": [
    {
     "name": "stderr",
     "output_type": "stream",
     "text": [
      "100%|██████████| 1/1 [00:00<00:00,  9.92it/s]\n",
      "100%|██████████| 1/1 [00:00<00:00, 11.39it/s]\n",
      "100%|██████████| 1/1 [00:00<00:00, 11.26it/s]\n",
      "100%|██████████| 1/1 [00:00<00:00, 11.66it/s]\n",
      "100%|██████████| 1/1 [00:00<00:00, 11.27it/s]\n",
      "100%|██████████| 1/1 [00:00<00:00, 11.80it/s]"
     ]
    },
    {
     "name": "stdout",
     "output_type": "stream",
     "text": [
      "[332]\n"
     ]
    },
    {
     "name": "stderr",
     "output_type": "stream",
     "text": [
      "\n",
      "100%|██████████| 1/1 [00:00<00:00, 10.55it/s]\n",
      "  0%|          | 0/1 [00:00<?, ?it/s]"
     ]
    },
    {
     "name": "stdout",
     "output_type": "stream",
     "text": [
      "[332]\n"
     ]
    },
    {
     "name": "stderr",
     "output_type": "stream",
     "text": [
      "100%|██████████| 1/1 [00:00<00:00, 10.44it/s]\n",
      "100%|██████████| 1/1 [00:00<00:00,  9.83it/s]\n",
      "  0%|          | 0/1 [00:00<?, ?it/s]"
     ]
    },
    {
     "name": "stdout",
     "output_type": "stream",
     "text": [
      "[332]\n"
     ]
    },
    {
     "name": "stderr",
     "output_type": "stream",
     "text": [
      "100%|██████████| 1/1 [00:00<00:00, 10.78it/s]\n",
      "100%|██████████| 1/1 [00:00<00:00, 10.44it/s]\n",
      "  0%|          | 0/1 [00:00<?, ?it/s]"
     ]
    },
    {
     "name": "stdout",
     "output_type": "stream",
     "text": [
      "[332]\n"
     ]
    },
    {
     "name": "stderr",
     "output_type": "stream",
     "text": [
      "100%|██████████| 1/1 [00:00<00:00, 10.67it/s]\n",
      "100%|██████████| 1/1 [00:00<00:00,  9.28it/s]\n",
      "100%|██████████| 1/1 [00:00<00:00, 10.55it/s]\n",
      "100%|██████████| 1/1 [00:00<00:00, 11.14it/s]\n",
      "100%|██████████| 1/1 [00:00<00:00, 10.12it/s]\n",
      "100%|██████████| 1/1 [00:00<00:00, 11.01it/s]\n",
      "100%|██████████| 1/1 [00:00<00:00, 12.23it/s]\n",
      "100%|██████████| 1/1 [00:00<00:00,  8.72it/s]\n",
      "100%|██████████| 1/1 [00:00<00:00,  9.73it/s]\n",
      "100%|██████████| 1/1 [00:00<00:00, 11.66it/s]\n",
      "100%|██████████| 1/1 [00:00<00:00,  9.20it/s]\n",
      "100%|██████████| 1/1 [00:00<00:00, 10.33it/s]\n",
      "100%|██████████| 1/1 [00:00<00:00, 12.38it/s]\n",
      "100%|██████████| 1/1 [00:00<00:00, 11.02it/s]\n",
      "100%|██████████| 1/1 [00:00<00:00, 12.69it/s]\n",
      "100%|██████████| 1/1 [00:00<00:00, 12.08it/s]\n",
      "100%|██████████| 1/1 [00:00<00:00, 12.08it/s]\n",
      "100%|██████████| 1/1 [00:00<00:00, 11.93it/s]\n",
      "100%|██████████| 1/1 [00:00<00:00,  9.73it/s]\n",
      "100%|██████████| 1/1 [00:00<00:00, 11.53it/s]\n",
      "100%|██████████| 1/1 [00:00<00:00, 12.53it/s]\n",
      "100%|██████████| 1/1 [00:00<00:00, 11.01it/s]\n",
      "100%|██████████| 1/1 [00:00<00:00, 13.93it/s]\n",
      "  0%|          | 0/1 [00:00<?, ?it/s]"
     ]
    },
    {
     "name": "stdout",
     "output_type": "stream",
     "text": [
      "[332]\n",
      "[332]\n"
     ]
    },
    {
     "name": "stderr",
     "output_type": "stream",
     "text": [
      "100%|██████████| 1/1 [00:00<00:00, 13.73it/s]\n",
      "100%|██████████| 1/1 [00:00<00:00, 12.85it/s]\n",
      "100%|██████████| 1/1 [00:00<00:00, 13.55it/s]\n",
      "100%|██████████| 1/1 [00:00<00:00, 13.74it/s]\n",
      "100%|██████████| 1/1 [00:00<00:00, 13.36it/s]\n",
      "100%|██████████| 1/1 [00:00<00:00, 14.11it/s]\n",
      "100%|██████████| 1/1 [00:00<00:00, 14.32it/s]\n",
      "100%|██████████| 1/1 [00:00<00:00, 12.69it/s]\n",
      "100%|██████████| 1/1 [00:00<00:00, 12.23it/s]\n",
      "100%|██████████| 1/1 [00:00<00:00, 14.33it/s]\n",
      "100%|██████████| 1/1 [00:00<00:00, 13.54it/s]\n",
      "100%|██████████| 1/1 [00:00<00:00, 13.73it/s]\n",
      "  0%|          | 0/1 [00:00<?, ?it/s]"
     ]
    },
    {
     "name": "stdout",
     "output_type": "stream",
     "text": [
      "[332]\n",
      "[332]\n"
     ]
    },
    {
     "name": "stderr",
     "output_type": "stream",
     "text": [
      "100%|██████████| 1/1 [00:00<00:00, 13.19it/s]\n",
      "100%|██████████| 1/1 [00:00<00:00, 11.52it/s]\n",
      "100%|██████████| 1/1 [00:00<00:00, 12.23it/s]\n",
      "100%|██████████| 1/1 [00:00<00:00, 12.53it/s]\n",
      "100%|██████████| 1/1 [00:00<00:00, 12.38it/s]\n",
      "100%|██████████| 1/1 [00:00<00:00, 13.54it/s]\n",
      "100%|██████████| 1/1 [00:00<00:00, 13.19it/s]\n",
      "100%|██████████| 1/1 [00:00<00:00, 12.53it/s]\n",
      "100%|██████████| 1/1 [00:00<00:00, 12.69it/s]\n",
      "100%|██████████| 1/1 [00:00<00:00, 13.55it/s]\n",
      "100%|██████████| 1/1 [00:00<00:00, 10.78it/s]\n",
      "100%|██████████| 1/1 [00:00<00:00, 13.36it/s]\n",
      "  0%|          | 0/1 [00:00<?, ?it/s]"
     ]
    },
    {
     "name": "stdout",
     "output_type": "stream",
     "text": [
      "[332]\n",
      "[332]\n"
     ]
    },
    {
     "name": "stderr",
     "output_type": "stream",
     "text": [
      "100%|██████████| 1/1 [00:00<00:00, 13.02it/s]\n",
      "100%|██████████| 1/1 [00:00<00:00, 13.73it/s]\n",
      "100%|██████████| 1/1 [00:00<00:00, 13.54it/s]\n",
      "100%|██████████| 1/1 [00:00<00:00, 14.53it/s]\n",
      "100%|██████████| 1/1 [00:00<00:00, 14.32it/s]\n",
      "100%|██████████| 1/1 [00:00<00:00, 13.55it/s]\n",
      "100%|██████████| 1/1 [00:00<00:00, 12.85it/s]\n",
      "100%|██████████| 1/1 [00:00<00:00, 11.66it/s]\n",
      "100%|██████████| 1/1 [00:00<00:00, 12.53it/s]\n",
      "100%|██████████| 1/1 [00:00<00:00, 12.53it/s]\n",
      "100%|██████████| 1/1 [00:00<00:00, 13.36it/s]\n",
      "100%|██████████| 1/1 [00:00<00:00, 13.37it/s]\n",
      "  0%|          | 0/1 [00:00<?, ?it/s]"
     ]
    },
    {
     "name": "stdout",
     "output_type": "stream",
     "text": [
      "[332]\n",
      "[332]\n"
     ]
    },
    {
     "name": "stderr",
     "output_type": "stream",
     "text": [
      "100%|██████████| 1/1 [00:00<00:00, 14.11it/s]\n",
      "100%|██████████| 1/1 [00:00<00:00, 13.19it/s]\n",
      "100%|██████████| 1/1 [00:00<00:00,  8.43it/s]\n",
      "100%|██████████| 1/1 [00:00<00:00,  7.83it/s]\n",
      "100%|██████████| 1/1 [00:00<00:00,  7.43it/s]\n",
      "100%|██████████| 1/1 [00:00<00:00, 10.23it/s]\n"
     ]
    }
   ],
   "source": [
    "bnds = [(0, 10)]\n",
    "result_wr1_f = scipy.optimize.minimize(wrapper1, [result_wr1.x], args=(theta_entry, phi_entry, theta_exit, phi_exit, accels, lin_resp, sensors_pos), method='L-BFGS-B', bounds=bnds, options={'gtol': 1e-20})"
   ]
  },
  {
   "cell_type": "code",
   "execution_count": 37,
   "metadata": {
    "collapsed": true,
    "jupyter": {
     "outputs_hidden": true
    }
   },
   "outputs": [
    {
     "name": "stderr",
     "output_type": "stream",
     "text": [
      "100%|██████████| 1/1 [00:00<00:00,  8.29it/s]\n",
      "100%|██████████| 1/1 [00:00<00:00,  8.15it/s]\n",
      "  0%|          | 0/1 [00:00<?, ?it/s]"
     ]
    },
    {
     "name": "stdout",
     "output_type": "stream",
     "text": [
      "[332]\n"
     ]
    },
    {
     "name": "stderr",
     "output_type": "stream",
     "text": [
      "100%|██████████| 1/1 [00:00<00:00,  7.96it/s]\n",
      "100%|██████████| 1/1 [00:00<00:00,  8.29it/s]\n",
      "  0%|          | 0/1 [00:00<?, ?it/s]"
     ]
    },
    {
     "name": "stdout",
     "output_type": "stream",
     "text": [
      "[332]\n"
     ]
    },
    {
     "name": "stderr",
     "output_type": "stream",
     "text": [
      "100%|██████████| 1/1 [00:00<00:00,  9.03it/s]\n",
      "100%|██████████| 1/1 [00:00<00:00, 10.03it/s]\n",
      "100%|██████████| 1/1 [00:00<00:00, 10.08it/s]"
     ]
    },
    {
     "name": "stdout",
     "output_type": "stream",
     "text": [
      "[332]\n"
     ]
    },
    {
     "name": "stderr",
     "output_type": "stream",
     "text": [
      "\n",
      "100%|██████████| 1/1 [00:00<00:00, 11.02it/s]\n",
      "100%|██████████| 1/1 [00:00<00:00, 11.27it/s]"
     ]
    },
    {
     "name": "stdout",
     "output_type": "stream",
     "text": [
      "[332]\n"
     ]
    },
    {
     "name": "stderr",
     "output_type": "stream",
     "text": [
      "\n",
      "100%|██████████| 1/1 [00:00<00:00, 10.67it/s]\n",
      "  0%|          | 0/1 [00:00<?, ?it/s]"
     ]
    },
    {
     "name": "stdout",
     "output_type": "stream",
     "text": [
      "[332]\n"
     ]
    },
    {
     "name": "stderr",
     "output_type": "stream",
     "text": [
      "100%|██████████| 1/1 [00:00<00:00, 10.78it/s]\n",
      "100%|██████████| 1/1 [00:00<00:00,  9.28it/s]\n",
      "  0%|          | 0/1 [00:00<?, ?it/s]"
     ]
    },
    {
     "name": "stdout",
     "output_type": "stream",
     "text": [
      "[332]\n"
     ]
    },
    {
     "name": "stderr",
     "output_type": "stream",
     "text": [
      "100%|██████████| 1/1 [00:00<00:00,  7.60it/s]\n",
      "100%|██████████| 1/1 [00:00<00:00,  8.95it/s]\n",
      "  0%|          | 0/1 [00:00<?, ?it/s]"
     ]
    },
    {
     "name": "stdout",
     "output_type": "stream",
     "text": [
      "[332]\n"
     ]
    },
    {
     "name": "stderr",
     "output_type": "stream",
     "text": [
      "100%|██████████| 1/1 [00:00<00:00,  8.43it/s]\n",
      "100%|██████████| 1/1 [00:00<00:00,  7.65it/s]\n",
      "100%|██████████| 1/1 [00:00<00:00, 10.44it/s]\n",
      "100%|██████████| 1/1 [00:00<00:00, 11.52it/s]\n",
      "100%|██████████| 1/1 [00:00<00:00, 10.55it/s]\n",
      "100%|██████████| 1/1 [00:00<00:00, 12.69it/s]\n",
      "100%|██████████| 1/1 [00:00<00:00, 12.69it/s]\n",
      "  0%|          | 0/1 [00:00<?, ?it/s]"
     ]
    },
    {
     "name": "stdout",
     "output_type": "stream",
     "text": [
      "[332]\n",
      "[332]\n"
     ]
    },
    {
     "name": "stderr",
     "output_type": "stream",
     "text": [
      "100%|██████████| 1/1 [00:00<00:00,  8.57it/s]\n",
      "100%|██████████| 1/1 [00:00<00:00, 11.94it/s]\n",
      "100%|██████████| 1/1 [00:00<00:00, 11.39it/s]\n",
      "100%|██████████| 1/1 [00:00<00:00, 12.85it/s]\n",
      "100%|██████████| 1/1 [00:00<00:00, 12.69it/s]\n",
      "100%|██████████| 1/1 [00:00<00:00, 13.73it/s]\n",
      "100%|██████████| 1/1 [00:00<00:00, 13.74it/s]\n",
      "100%|██████████| 1/1 [00:00<00:00, 12.69it/s]\n",
      "100%|██████████| 1/1 [00:00<00:00, 11.52it/s]\n",
      "100%|██████████| 1/1 [00:00<00:00, 10.23it/s]\n",
      "100%|██████████| 1/1 [00:00<00:00, 11.52it/s]\n",
      "100%|██████████| 1/1 [00:00<00:00, 12.69it/s]\n",
      "100%|██████████| 1/1 [00:00<00:00, 11.53it/s]\n",
      "100%|██████████| 1/1 [00:00<00:00, 12.85it/s]\n",
      "100%|██████████| 1/1 [00:00<00:00, 12.53it/s]\n",
      "100%|██████████| 1/1 [00:00<00:00, 11.14it/s]\n",
      "100%|██████████| 1/1 [00:00<00:00, 12.68it/s]\n",
      "100%|██████████| 1/1 [00:00<00:00, 12.85it/s]\n",
      "100%|██████████| 1/1 [00:00<00:00, 12.69it/s]\n",
      "100%|██████████| 1/1 [00:00<00:00, 11.52it/s]\n",
      "100%|██████████| 1/1 [00:00<00:00, 13.02it/s]\n",
      "100%|██████████| 1/1 [00:00<00:00, 11.02it/s]\n",
      "100%|██████████| 1/1 [00:00<00:00,  8.87it/s]\n",
      "  0%|          | 0/1 [00:00<?, ?it/s]"
     ]
    },
    {
     "name": "stdout",
     "output_type": "stream",
     "text": [
      "[332]\n"
     ]
    },
    {
     "name": "stderr",
     "output_type": "stream",
     "text": [
      "100%|██████████| 1/1 [00:00<00:00, 12.08it/s]\n",
      "100%|██████████| 1/1 [00:00<00:00, 12.85it/s]\n",
      "100%|██████████| 1/1 [00:00<00:00, 13.37it/s]\n",
      "  0%|          | 0/1 [00:00<?, ?it/s]"
     ]
    },
    {
     "name": "stdout",
     "output_type": "stream",
     "text": [
      "[332]\n"
     ]
    },
    {
     "name": "stderr",
     "output_type": "stream",
     "text": [
      "100%|██████████| 1/1 [00:00<00:00, 11.94it/s]\n",
      "100%|██████████| 1/1 [00:00<00:00, 11.39it/s]\n",
      "100%|██████████| 1/1 [00:00<00:00, 12.07it/s]\n",
      "100%|██████████| 1/1 [00:00<00:00, 13.01it/s]\n",
      "100%|██████████| 1/1 [00:00<00:00, 12.53it/s]\n",
      "100%|██████████| 1/1 [00:00<00:00, 13.74it/s]\n",
      "100%|██████████| 1/1 [00:00<00:00, 11.94it/s]\n",
      "100%|██████████| 1/1 [00:00<00:00, 10.90it/s]\n",
      "100%|██████████| 1/1 [00:00<00:00, 12.08it/s]\n",
      "100%|██████████| 1/1 [00:00<00:00,  9.03it/s]\n",
      "100%|██████████| 1/1 [00:00<00:00, 11.27it/s]\n",
      "100%|██████████| 1/1 [00:00<00:00, 13.19it/s]\n",
      "100%|██████████| 1/1 [00:00<00:00, 13.74it/s]\n",
      "100%|██████████| 1/1 [00:00<00:00, 13.73it/s]\n",
      "  0%|          | 0/1 [00:00<?, ?it/s]"
     ]
    },
    {
     "name": "stdout",
     "output_type": "stream",
     "text": [
      "[332]\n",
      "[332]\n"
     ]
    },
    {
     "name": "stderr",
     "output_type": "stream",
     "text": [
      "100%|██████████| 1/1 [00:00<00:00, 13.37it/s]\n",
      "100%|██████████| 1/1 [00:00<00:00,  8.57it/s]\n",
      "100%|██████████| 1/1 [00:00<00:00,  5.76it/s]\n",
      "  0%|          | 0/1 [00:00<?, ?it/s]"
     ]
    },
    {
     "name": "stdout",
     "output_type": "stream",
     "text": [
      "[332]\n"
     ]
    },
    {
     "name": "stderr",
     "output_type": "stream",
     "text": [
      "100%|██████████| 1/1 [00:00<00:00,  8.29it/s]\n",
      "100%|██████████| 1/1 [00:00<00:00, 10.03it/s]\n",
      "  0%|          | 0/1 [00:00<?, ?it/s]"
     ]
    },
    {
     "name": "stdout",
     "output_type": "stream",
     "text": [
      "[332]\n"
     ]
    },
    {
     "name": "stderr",
     "output_type": "stream",
     "text": [
      "100%|██████████| 1/1 [00:00<00:00,  7.65it/s]\n",
      "100%|██████████| 1/1 [00:00<00:00,  7.48it/s]\n",
      "100%|██████████| 1/1 [00:00<00:00,  7.21it/s]\n",
      "100%|██████████| 1/1 [00:00<00:00,  7.27it/s]\n",
      "100%|██████████| 1/1 [00:00<00:00,  8.64it/s]\n",
      "100%|██████████| 1/1 [00:00<00:00,  8.09it/s]\n",
      "100%|██████████| 1/1 [00:00<00:00, 10.55it/s]\n",
      "100%|██████████| 1/1 [00:00<00:00,  9.37it/s]\n",
      "100%|██████████| 1/1 [00:00<00:00, 11.53it/s]\n",
      "100%|██████████| 1/1 [00:00<00:00, 11.14it/s]\n",
      "100%|██████████| 1/1 [00:00<00:00,  8.15it/s]\n",
      "100%|██████████| 1/1 [00:00<00:00, 13.19it/s]\n",
      "100%|██████████| 1/1 [00:00<00:00, 13.37it/s]\n",
      "100%|██████████| 1/1 [00:00<00:00, 12.08it/s]\n",
      "100%|██████████| 1/1 [00:00<00:00, 13.02it/s]\n",
      "  0%|          | 0/1 [00:00<?, ?it/s]"
     ]
    },
    {
     "name": "stdout",
     "output_type": "stream",
     "text": [
      "[332]\n",
      "[332]\n"
     ]
    },
    {
     "name": "stderr",
     "output_type": "stream",
     "text": [
      "100%|██████████| 1/1 [00:00<00:00, 10.78it/s]\n",
      "100%|██████████| 1/1 [00:00<00:00,  8.43it/s]\n",
      "100%|██████████| 1/1 [00:00<00:00,  8.15it/s]\n",
      "100%|██████████| 1/1 [00:00<00:00,  8.09it/s]\n",
      "100%|██████████| 1/1 [00:00<00:00, 12.53it/s]\n",
      "100%|██████████| 1/1 [00:00<00:00, 12.69it/s]\n",
      "100%|██████████| 1/1 [00:00<00:00,  9.20it/s]\n",
      "100%|██████████| 1/1 [00:00<00:00,  8.09it/s]\n",
      "100%|██████████| 1/1 [00:00<00:00, 11.01it/s]\n",
      "100%|██████████| 1/1 [00:00<00:00, 11.52it/s]\n",
      "100%|██████████| 1/1 [00:00<00:00, 10.34it/s]\n",
      "100%|██████████| 1/1 [00:00<00:00, 11.79it/s]\n",
      "100%|██████████| 1/1 [00:00<00:00,  9.55it/s]\n",
      "100%|██████████| 1/1 [00:00<00:00, 10.34it/s]\n",
      "100%|██████████| 1/1 [00:00<00:00, 11.39it/s]\n",
      "100%|██████████| 1/1 [00:00<00:00,  8.64it/s]\n",
      "100%|██████████| 1/1 [00:00<00:00,  9.55it/s]\n",
      "100%|██████████| 1/1 [00:00<00:00, 11.39it/s]\n",
      "100%|██████████| 1/1 [00:00<00:00, 13.01it/s]\n",
      "100%|██████████| 1/1 [00:00<00:00, 12.85it/s]\n",
      "100%|██████████| 1/1 [00:00<00:00, 12.08it/s]\n",
      "100%|██████████| 1/1 [00:00<00:00,  7.77it/s]\n",
      "100%|██████████| 1/1 [00:00<00:00, 12.37it/s]\n",
      "100%|██████████| 1/1 [00:00<00:00, 13.19it/s]\n",
      "100%|██████████| 1/1 [00:00<00:00, 13.54it/s]\n",
      "100%|██████████| 1/1 [00:00<00:00, 13.19it/s]\n",
      "100%|██████████| 1/1 [00:00<00:00, 12.53it/s]\n",
      "100%|██████████| 1/1 [00:00<00:00, 13.19it/s]\n",
      "100%|██████████| 1/1 [00:00<00:00, 13.37it/s]\n",
      "  0%|          | 0/1 [00:00<?, ?it/s]"
     ]
    },
    {
     "name": "stdout",
     "output_type": "stream",
     "text": [
      "[1]\n"
     ]
    },
    {
     "name": "stderr",
     "output_type": "stream",
     "text": [
      "100%|██████████| 1/1 [00:00<00:00, 13.36it/s]\n",
      "100%|██████████| 1/1 [00:00<00:00, 13.02it/s]\n",
      "100%|██████████| 1/1 [00:00<00:00,  9.93it/s]\n",
      "100%|██████████| 1/1 [00:00<00:00, 11.39it/s]\n",
      "100%|██████████| 1/1 [00:00<00:00, 13.19it/s]\n",
      "100%|██████████| 1/1 [00:00<00:00, 13.74it/s]\n",
      "  0%|          | 0/1 [00:00<?, ?it/s]"
     ]
    },
    {
     "name": "stdout",
     "output_type": "stream",
     "text": [
      "[332]\n",
      "[332]\n"
     ]
    },
    {
     "name": "stderr",
     "output_type": "stream",
     "text": [
      "100%|██████████| 1/1 [00:00<00:00, 12.69it/s]\n",
      "100%|██████████| 1/1 [00:00<00:00, 13.36it/s]\n",
      "100%|██████████| 1/1 [00:00<00:00, 13.92it/s]\n",
      "100%|██████████| 1/1 [00:00<00:00, 13.73it/s]\n",
      "  0%|          | 0/1 [00:00<?, ?it/s]"
     ]
    },
    {
     "name": "stdout",
     "output_type": "stream",
     "text": [
      "[332]\n",
      "[332]\n"
     ]
    },
    {
     "name": "stderr",
     "output_type": "stream",
     "text": [
      "100%|██████████| 1/1 [00:00<00:00, 12.08it/s]\n",
      "100%|██████████| 1/1 [00:00<00:00,  9.64it/s]\n",
      "100%|██████████| 1/1 [00:00<00:00, 10.12it/s]\n",
      "100%|██████████| 1/1 [00:00<00:00, 13.36it/s]\n",
      "100%|██████████| 1/1 [00:00<00:00, 13.73it/s]\n",
      "100%|██████████| 1/1 [00:00<00:00, 13.37it/s]\n",
      "100%|██████████| 1/1 [00:00<00:00, 14.11it/s]\n",
      "100%|██████████| 1/1 [00:00<00:00, 13.74it/s]\n",
      "100%|██████████| 1/1 [00:00<00:00, 14.11it/s]\n",
      "100%|██████████| 1/1 [00:00<00:00, 12.22it/s]\n",
      "100%|██████████| 1/1 [00:00<00:00, 13.73it/s]\n",
      "100%|██████████| 1/1 [00:00<00:00, 14.32it/s]\n",
      "  0%|          | 0/1 [00:00<?, ?it/s]"
     ]
    },
    {
     "name": "stdout",
     "output_type": "stream",
     "text": [
      "[332]\n",
      "[332]\n"
     ]
    },
    {
     "name": "stderr",
     "output_type": "stream",
     "text": [
      "100%|██████████| 1/1 [00:00<00:00, 14.12it/s]\n",
      "100%|██████████| 1/1 [00:00<00:00, 12.69it/s]\n",
      "100%|██████████| 1/1 [00:00<00:00, 12.85it/s]\n",
      "100%|██████████| 1/1 [00:00<00:00, 13.02it/s]\n",
      "100%|██████████| 1/1 [00:00<00:00, 12.53it/s]\n",
      "100%|██████████| 1/1 [00:00<00:00, 11.39it/s]\n",
      "100%|██████████| 1/1 [00:00<00:00, 10.55it/s]\n",
      "100%|██████████| 1/1 [00:00<00:00, 10.67it/s]\n",
      "100%|██████████| 1/1 [00:00<00:00, 13.19it/s]\n",
      "100%|██████████| 1/1 [00:00<00:00, 11.80it/s]\n",
      "100%|██████████| 1/1 [00:00<00:00, 13.74it/s]\n",
      "100%|██████████| 1/1 [00:00<00:00, 13.54it/s]\n",
      "  0%|          | 0/1 [00:00<?, ?it/s]"
     ]
    },
    {
     "name": "stdout",
     "output_type": "stream",
     "text": [
      "[332]\n",
      "[332]\n"
     ]
    },
    {
     "name": "stderr",
     "output_type": "stream",
     "text": [
      "100%|██████████| 1/1 [00:00<00:00, 13.37it/s]\n",
      "100%|██████████| 1/1 [00:00<00:00, 13.55it/s]\n",
      "100%|██████████| 1/1 [00:00<00:00, 12.08it/s]\n",
      "100%|██████████| 1/1 [00:00<00:00, 13.54it/s]\n",
      "100%|██████████| 1/1 [00:00<00:00, 13.55it/s]\n",
      "100%|██████████| 1/1 [00:00<00:00, 13.93it/s]\n",
      "100%|██████████| 1/1 [00:00<00:00, 12.53it/s]\n",
      "100%|██████████| 1/1 [00:00<00:00, 13.19it/s]\n",
      "  0%|          | 0/1 [00:00<?, ?it/s]"
     ]
    },
    {
     "name": "stdout",
     "output_type": "stream",
     "text": [
      "[332]\n",
      "[332]\n"
     ]
    },
    {
     "name": "stderr",
     "output_type": "stream",
     "text": [
      "100%|██████████| 1/1 [00:00<00:00, 12.85it/s]\n",
      "100%|██████████| 1/1 [00:00<00:00, 14.53it/s]\n",
      "100%|██████████| 1/1 [00:00<00:00, 13.93it/s]\n",
      "100%|██████████| 1/1 [00:00<00:00, 11.80it/s]\n",
      "100%|██████████| 1/1 [00:00<00:00, 10.23it/s]\n",
      "100%|██████████| 1/1 [00:00<00:00, 10.13it/s]\n",
      "100%|██████████| 1/1 [00:00<00:00, 10.13it/s]\n",
      "100%|██████████| 1/1 [00:00<00:00, 11.39it/s]\n",
      "100%|██████████| 1/1 [00:00<00:00, 10.67it/s]\n",
      "100%|██████████| 1/1 [00:00<00:00,  9.28it/s]\n",
      "100%|██████████| 1/1 [00:00<00:00,  8.50it/s]\n",
      "  0%|          | 0/1 [00:00<?, ?it/s]"
     ]
    },
    {
     "name": "stdout",
     "output_type": "stream",
     "text": [
      "[332]\n"
     ]
    },
    {
     "name": "stderr",
     "output_type": "stream",
     "text": [
      "100%|██████████| 1/1 [00:00<00:00, 10.23it/s]\n",
      "100%|██████████| 1/1 [00:00<00:00,  8.43it/s]\n",
      "  0%|          | 0/1 [00:00<?, ?it/s]"
     ]
    },
    {
     "name": "stdout",
     "output_type": "stream",
     "text": [
      "[332]\n"
     ]
    },
    {
     "name": "stderr",
     "output_type": "stream",
     "text": [
      "100%|██████████| 1/1 [00:00<00:00, 10.34it/s]\n",
      "100%|██████████| 1/1 [00:00<00:00,  9.83it/s]\n",
      "100%|██████████| 1/1 [00:00<00:00, 11.93it/s]\n",
      "100%|██████████| 1/1 [00:00<00:00, 11.52it/s]\n",
      "100%|██████████| 1/1 [00:00<00:00, 11.94it/s]\n",
      "100%|██████████| 1/1 [00:00<00:00, 11.39it/s]\n",
      "100%|██████████| 1/1 [00:00<00:00, 11.02it/s]"
     ]
    },
    {
     "name": "stdout",
     "output_type": "stream",
     "text": [
      "[332]\n"
     ]
    },
    {
     "name": "stderr",
     "output_type": "stream",
     "text": [
      "\n",
      "100%|██████████| 1/1 [00:00<00:00, 12.38it/s]\n",
      "100%|██████████| 1/1 [00:00<00:00, 11.39it/s]\n",
      "  0%|          | 0/1 [00:00<?, ?it/s]"
     ]
    },
    {
     "name": "stdout",
     "output_type": "stream",
     "text": [
      "[332]\n"
     ]
    },
    {
     "name": "stderr",
     "output_type": "stream",
     "text": [
      "100%|██████████| 1/1 [00:00<00:00, 11.94it/s]\n",
      "100%|██████████| 1/1 [00:00<00:00, 10.90it/s]\n",
      "100%|██████████| 1/1 [00:00<00:00, 11.80it/s]\n",
      "100%|██████████| 1/1 [00:00<00:00, 12.83it/s]\n",
      "100%|██████████| 1/1 [00:00<00:00, 13.37it/s]\n",
      "100%|██████████| 1/1 [00:00<00:00, 14.07it/s]\n",
      "100%|██████████| 1/1 [00:00<00:00, 13.73it/s]\n",
      "100%|██████████| 1/1 [00:00<00:00, 13.93it/s]\n",
      "100%|██████████| 1/1 [00:00<00:00, 13.74it/s]\n",
      "100%|██████████| 1/1 [00:00<00:00, 13.55it/s]\n",
      "  0%|          | 0/1 [00:00<?, ?it/s]"
     ]
    },
    {
     "name": "stdout",
     "output_type": "stream",
     "text": [
      "[332]\n",
      "[332]\n"
     ]
    },
    {
     "name": "stderr",
     "output_type": "stream",
     "text": [
      "100%|██████████| 1/1 [00:00<00:00, 11.80it/s]\n",
      "100%|██████████| 1/1 [00:00<00:00,  7.83it/s]\n",
      "100%|██████████| 1/1 [00:00<00:00, 11.66it/s]\n",
      "  0%|          | 0/1 [00:00<?, ?it/s]"
     ]
    },
    {
     "name": "stdout",
     "output_type": "stream",
     "text": [
      "[332]\n"
     ]
    },
    {
     "name": "stderr",
     "output_type": "stream",
     "text": [
      "100%|██████████| 1/1 [00:00<00:00, 11.02it/s]\n",
      "100%|██████████| 1/1 [00:00<00:00, 12.69it/s]\n",
      "100%|██████████| 1/1 [00:00<00:00, 13.36it/s]\n",
      "  0%|          | 0/1 [00:00<?, ?it/s]"
     ]
    },
    {
     "name": "stdout",
     "output_type": "stream",
     "text": [
      "[332]\n",
      "[332]\n"
     ]
    },
    {
     "name": "stderr",
     "output_type": "stream",
     "text": [
      "100%|██████████| 1/1 [00:00<00:00, 13.02it/s]\n",
      "100%|██████████| 1/1 [00:00<00:00, 13.02it/s]\n",
      "100%|██████████| 1/1 [00:00<00:00, 13.93it/s]\n",
      "100%|██████████| 1/1 [00:00<00:00, 13.73it/s]\n",
      "  0%|          | 0/1 [00:00<?, ?it/s]"
     ]
    },
    {
     "name": "stdout",
     "output_type": "stream",
     "text": [
      "[332]\n"
     ]
    },
    {
     "name": "stderr",
     "output_type": "stream",
     "text": [
      "100%|██████████| 1/1 [00:00<00:00, 13.93it/s]\n",
      "100%|██████████| 1/1 [00:00<00:00, 12.69it/s]\n",
      "100%|██████████| 1/1 [00:00<00:00, 13.73it/s]\n",
      "100%|██████████| 1/1 [00:00<00:00, 13.92it/s]\n",
      "100%|██████████| 1/1 [00:00<00:00, 14.32it/s]\n",
      "100%|██████████| 1/1 [00:00<00:00, 13.93it/s]\n",
      "100%|██████████| 1/1 [00:00<00:00, 14.12it/s]\n",
      "100%|██████████| 1/1 [00:00<00:00, 14.32it/s]\n",
      "100%|██████████| 1/1 [00:00<00:00, 13.92it/s]\n",
      "100%|██████████| 1/1 [00:00<00:00, 14.11it/s]\n",
      "  0%|          | 0/1 [00:00<?, ?it/s]"
     ]
    },
    {
     "name": "stdout",
     "output_type": "stream",
     "text": [
      "[332]\n",
      "[332]\n"
     ]
    },
    {
     "name": "stderr",
     "output_type": "stream",
     "text": [
      "100%|██████████| 1/1 [00:00<00:00, 13.74it/s]\n",
      "100%|██████████| 1/1 [00:00<00:00, 14.53it/s]\n",
      "100%|██████████| 1/1 [00:00<00:00, 13.92it/s]\n",
      "100%|██████████| 1/1 [00:00<00:00, 13.73it/s]\n",
      "100%|██████████| 1/1 [00:00<00:00, 13.01it/s]\n",
      "100%|██████████| 1/1 [00:00<00:00, 12.85it/s]\n",
      "100%|██████████| 1/1 [00:00<00:00, 13.55it/s]\n",
      "100%|██████████| 1/1 [00:00<00:00, 13.37it/s]\n",
      "100%|██████████| 1/1 [00:00<00:00, 12.53it/s]\n",
      "100%|██████████| 1/1 [00:00<00:00, 13.55it/s]\n",
      "100%|██████████| 1/1 [00:00<00:00, 13.73it/s]\n",
      "100%|██████████| 1/1 [00:00<00:00, 13.36it/s]\n",
      "  0%|          | 0/1 [00:00<?, ?it/s]"
     ]
    },
    {
     "name": "stdout",
     "output_type": "stream",
     "text": [
      "[332]\n",
      "[332]\n"
     ]
    },
    {
     "name": "stderr",
     "output_type": "stream",
     "text": [
      "100%|██████████| 1/1 [00:00<00:00, 14.11it/s]\n",
      "100%|██████████| 1/1 [00:00<00:00, 14.31it/s]\n",
      "100%|██████████| 1/1 [00:00<00:00, 14.12it/s]\n",
      "100%|██████████| 1/1 [00:00<00:00, 13.19it/s]\n",
      "100%|██████████| 1/1 [00:00<00:00, 12.38it/s]\n",
      "100%|██████████| 1/1 [00:00<00:00, 12.85it/s]\n",
      "100%|██████████| 1/1 [00:00<00:00,  9.37it/s]\n",
      "100%|██████████| 1/1 [00:00<00:00,  9.73it/s]\n",
      "100%|██████████| 1/1 [00:00<00:00, 10.90it/s]\n",
      "100%|██████████| 1/1 [00:00<00:00, 12.37it/s]\n",
      "100%|██████████| 1/1 [00:00<00:00, 11.39it/s]\n",
      "100%|██████████| 1/1 [00:00<00:00, 13.19it/s]\n",
      "  0%|          | 0/1 [00:00<?, ?it/s]"
     ]
    },
    {
     "name": "stdout",
     "output_type": "stream",
     "text": [
      "[332]\n",
      "[332]\n"
     ]
    },
    {
     "name": "stderr",
     "output_type": "stream",
     "text": [
      "100%|██████████| 1/1 [00:00<00:00, 11.94it/s]\n",
      "100%|██████████| 1/1 [00:00<00:00, 13.19it/s]\n",
      "100%|██████████| 1/1 [00:00<00:00, 13.18it/s]\n",
      "100%|██████████| 1/1 [00:00<00:00, 13.55it/s]\n",
      "100%|██████████| 1/1 [00:00<00:00, 13.92it/s]\n",
      "100%|██████████| 1/1 [00:00<00:00, 12.69it/s]\n",
      "100%|██████████| 1/1 [00:00<00:00, 13.92it/s]\n",
      "100%|██████████| 1/1 [00:00<00:00, 12.86it/s]\n",
      "100%|██████████| 1/1 [00:00<00:00, 12.53it/s]\n",
      "100%|██████████| 1/1 [00:00<00:00,  9.64it/s]\n",
      "100%|██████████| 1/1 [00:00<00:00, 12.53it/s]\n",
      "100%|██████████| 1/1 [00:00<00:00, 11.80it/s]\n",
      "100%|██████████| 1/1 [00:00<00:00, 10.90it/s]\n",
      "100%|██████████| 1/1 [00:00<00:00,  7.01it/s]\n",
      "100%|██████████| 1/1 [00:00<00:00, 11.53it/s]\n",
      "100%|██████████| 1/1 [00:00<00:00, 12.08it/s]\n",
      "  0%|          | 0/1 [00:00<?, ?it/s]"
     ]
    },
    {
     "name": "stdout",
     "output_type": "stream",
     "text": [
      "[332]\n",
      "[332]\n"
     ]
    },
    {
     "name": "stderr",
     "output_type": "stream",
     "text": [
      "100%|██████████| 1/1 [00:00<00:00,  9.83it/s]\n",
      "100%|██████████| 1/1 [00:00<00:00,  9.73it/s]\n",
      "100%|██████████| 1/1 [00:00<00:00, 11.65it/s]\n",
      "100%|██████████| 1/1 [00:00<00:00, 11.53it/s]\n",
      "100%|██████████| 1/1 [00:00<00:00, 10.78it/s]\n",
      "100%|██████████| 1/1 [00:00<00:00, 11.80it/s]\n",
      "100%|██████████| 1/1 [00:00<00:00, 12.07it/s]\n",
      "100%|██████████| 1/1 [00:00<00:00, 13.19it/s]\n",
      "100%|██████████| 1/1 [00:00<00:00, 12.53it/s]\n",
      "100%|██████████| 1/1 [00:00<00:00, 13.73it/s]\n",
      "100%|██████████| 1/1 [00:00<00:00, 13.93it/s]\n",
      "100%|██████████| 1/1 [00:00<00:00, 13.36it/s]\n",
      "  0%|          | 0/1 [00:00<?, ?it/s]"
     ]
    },
    {
     "name": "stdout",
     "output_type": "stream",
     "text": [
      "[332]\n",
      "[332]\n"
     ]
    },
    {
     "name": "stderr",
     "output_type": "stream",
     "text": [
      "100%|██████████| 1/1 [00:00<00:00, 14.11it/s]\n",
      "100%|██████████| 1/1 [00:00<00:00, 13.93it/s]\n",
      "100%|██████████| 1/1 [00:00<00:00, 12.69it/s]\n",
      "100%|██████████| 1/1 [00:00<00:00, 13.02it/s]\n",
      "100%|██████████| 1/1 [00:00<00:00, 11.53it/s]\n",
      "100%|██████████| 1/1 [00:00<00:00, 11.26it/s]\n",
      "100%|██████████| 1/1 [00:00<00:00, 13.54it/s]\n",
      "100%|██████████| 1/1 [00:00<00:00, 12.69it/s]\n",
      "100%|██████████| 1/1 [00:00<00:00, 10.67it/s]\n",
      "100%|██████████| 1/1 [00:00<00:00,  9.20it/s]\n"
     ]
    }
   ],
   "source": [
    "bnds = [(0, 10)]\n",
    "result_wr1_ex = scipy.optimize.minimize(wrapper1, [((t_entry*s_ns)+(n_pad_strt/hnds_un))/scl_fct], args=(theta_entry, phi_entry, theta_exit, phi_exit, accels, lin_resp, sensors_pos), method='L-BFGS-B', bounds=bnds, options={'gtol': 1e-20})"
   ]
  },
  {
   "cell_type": "code",
   "execution_count": 38,
   "metadata": {},
   "outputs": [
    {
     "data": {
      "text/plain": [
       "array(3.3150008)"
      ]
     },
     "execution_count": 38,
     "metadata": {},
     "output_type": "execute_result"
    }
   ],
   "source": [
    "result_wr1.x, result_wr1_f.x, result_wr1_ex.x"
   ]
  },
  {
   "cell_type": "code",
   "execution_count": 40,
   "metadata": {},
   "outputs": [
    {
     "data": {
      "text/plain": [
       "array([1.])"
      ]
     },
     "execution_count": 40,
     "metadata": {},
     "output_type": "execute_result"
    }
   ],
   "source": [
    "np.sqrt(np.diag(result_wr1_f.hess_inv.todense())) #err"
   ]
  },
  {
   "cell_type": "code",
   "execution_count": 42,
   "metadata": {},
   "outputs": [
    {
     "data": {
      "text/plain": [
       "array([1.])"
      ]
     },
     "execution_count": 42,
     "metadata": {},
     "output_type": "execute_result"
    }
   ],
   "source": [
    "np.sqrt(np.diag(result_wr1_ex.hess_inv.todense())) #err"
   ]
  },
  {
   "cell_type": "markdown",
   "metadata": {},
   "source": [
    "------------------------------------------------------------------"
   ]
  },
  {
   "cell_type": "markdown",
   "metadata": {},
   "source": [
    "------------------------------------------------------------------"
   ]
  },
  {
   "cell_type": "code",
   "execution_count": 43,
   "metadata": {},
   "outputs": [
    {
     "data": {
      "text/plain": [
       "array([2.54824504])"
      ]
     },
     "execution_count": 43,
     "metadata": {},
     "output_type": "execute_result"
    }
   ],
   "source": [
    "((t_exit-t_entry)*s_ns)/scl_fct"
   ]
  },
  {
   "cell_type": "code",
   "execution_count": 44,
   "metadata": {
    "collapsed": true,
    "jupyter": {
     "outputs_hidden": true
    }
   },
   "outputs": [
    {
     "name": "stderr",
     "output_type": "stream",
     "text": [
      "C:\\Users\\bahaa\\anaconda3\\lib\\site-packages\\ipykernel_launcher.py:2: OptimizeWarning: Unknown solver options: gtol\n",
      "  \n",
      "  0%|          | 0/1 [00:00<?, ?it/s]C:\\Users\\bahaa\\anaconda3\\lib\\site-packages\\planckanalysis\\integral_transform.py:205: RuntimeWarning: divide by zero encountered in true_divide\n",
      "  dir_vector_step = dir_vector / (alpha_pair[7] - alpha_pair[3]) * adc_timestep_size\n",
      "100%|██████████| 1/1 [00:00<00:00, 1001.74it/s]\n",
      "100%|██████████| 1/1 [00:00<?, ?it/s]\n",
      "100%|██████████| 1/1 [00:00<00:00, 11.94it/s]\n",
      "100%|██████████| 1/1 [00:00<00:00,  7.96it/s]\n",
      "100%|██████████| 1/1 [00:00<00:00,  7.37it/s]\n",
      "100%|██████████| 1/1 [00:00<00:00,  8.43it/s]\n",
      "100%|██████████| 1/1 [00:00<00:00,  9.20it/s]\n",
      "100%|██████████| 1/1 [00:00<00:00,  8.43it/s]\n",
      "100%|██████████| 1/1 [00:00<00:00,  9.46it/s]\n",
      "100%|██████████| 1/1 [00:00<00:00, 10.03it/s]\n",
      "100%|██████████| 1/1 [00:00<00:00,  7.90it/s]\n",
      "100%|██████████| 1/1 [00:00<00:00,  5.73it/s]\n",
      "100%|██████████| 1/1 [00:00<00:00, 10.55it/s]\n",
      "100%|██████████| 1/1 [00:00<00:00,  6.11it/s]\n",
      "100%|██████████| 1/1 [00:00<?, ?it/s]\n",
      "100%|██████████| 1/1 [00:00<00:00,  9.20it/s]\n",
      "100%|██████████| 1/1 [00:00<00:00, 20.45it/s]\n",
      "100%|██████████| 1/1 [00:00<00:00,  9.28it/s]\n",
      "100%|██████████| 1/1 [00:00<00:00, 11.02it/s]\n",
      "100%|██████████| 1/1 [00:00<00:00, 10.78it/s]\n",
      "100%|██████████| 1/1 [00:00<00:00,  9.28it/s]\n",
      "100%|██████████| 1/1 [00:00<00:00, 10.74it/s]\n",
      "100%|██████████| 1/1 [00:00<00:00, 11.94it/s]\n",
      "100%|██████████| 1/1 [00:00<00:00, 13.02it/s]\n",
      "100%|██████████| 1/1 [00:00<00:00, 13.02it/s]\n",
      "100%|██████████| 1/1 [00:00<00:00, 11.66it/s]\n",
      "100%|██████████| 1/1 [00:00<00:00, 11.39it/s]\n",
      "100%|██████████| 1/1 [00:00<00:00, 11.94it/s]\n",
      "100%|██████████| 1/1 [00:00<00:00, 11.39it/s]\n",
      "100%|██████████| 1/1 [00:00<00:00,  9.20it/s]\n",
      "100%|██████████| 1/1 [00:00<00:00, 12.53it/s]\n",
      "100%|██████████| 1/1 [00:00<00:00, 11.02it/s]\n",
      "100%|██████████| 1/1 [00:00<00:00, 11.39it/s]\n",
      "100%|██████████| 1/1 [00:00<00:00, 12.38it/s]\n",
      "100%|██████████| 1/1 [00:00<00:00, 11.94it/s]\n",
      "100%|██████████| 1/1 [00:00<00:00, 12.23it/s]\n",
      "100%|██████████| 1/1 [00:00<00:00, 12.08it/s]\n",
      "100%|██████████| 1/1 [00:00<00:00, 10.78it/s]\n",
      "100%|██████████| 1/1 [00:00<00:00, 10.23it/s]\n",
      "100%|██████████| 1/1 [00:00<00:00, 12.23it/s]\n",
      "100%|██████████| 1/1 [00:00<00:00, 12.53it/s]\n",
      "100%|██████████| 1/1 [00:00<00:00, 11.02it/s]\n",
      "100%|██████████| 1/1 [00:00<00:00,  8.72it/s]\n",
      "100%|██████████| 1/1 [00:00<00:00,  9.93it/s]\n",
      "100%|██████████| 1/1 [00:00<00:00,  9.73it/s]\n",
      "100%|██████████| 1/1 [00:00<00:00,  9.20it/s]\n",
      "100%|██████████| 1/1 [00:00<00:00, 11.39it/s]\n",
      "100%|██████████| 1/1 [00:00<00:00, 10.90it/s]\n",
      "100%|██████████| 1/1 [00:00<00:00, 12.38it/s]\n",
      "100%|██████████| 1/1 [00:00<00:00, 12.23it/s]\n",
      "100%|██████████| 1/1 [00:00<00:00, 12.38it/s]\n",
      "100%|██████████| 1/1 [00:00<00:00, 12.53it/s]\n",
      "100%|██████████| 1/1 [00:00<00:00, 12.85it/s]\n",
      "100%|██████████| 1/1 [00:00<00:00,  8.22it/s]\n",
      "100%|██████████| 1/1 [00:00<00:00, 10.90it/s]\n"
     ]
    }
   ],
   "source": [
    "bnds = [(0, 10)]\n",
    "result_wr2 = scipy.optimize.minimize(wrapper2, [0], args=(theta_entry, phi_entry, theta_exit, phi_exit, accels, lin_resp, sensors_pos), method='Powell', bounds=bnds, options={'gtol': 1e-20})"
   ]
  },
  {
   "cell_type": "code",
   "execution_count": 45,
   "metadata": {
    "collapsed": true,
    "jupyter": {
     "outputs_hidden": true
    }
   },
   "outputs": [
    {
     "name": "stderr",
     "output_type": "stream",
     "text": [
      "100%|██████████| 1/1 [00:00<00:00, 12.23it/s]\n",
      "100%|██████████| 1/1 [00:00<00:00, 10.90it/s]\n",
      "100%|██████████| 1/1 [00:00<00:00, 12.38it/s]\n",
      "100%|██████████| 1/1 [00:00<00:00, 11.94it/s]\n",
      "100%|██████████| 1/1 [00:00<00:00, 12.08it/s]\n",
      "100%|██████████| 1/1 [00:00<00:00, 10.44it/s]\n",
      "100%|██████████| 1/1 [00:00<00:00, 12.85it/s]\n",
      "100%|██████████| 1/1 [00:00<00:00, 13.19it/s]\n",
      "100%|██████████| 1/1 [00:00<00:00, 13.19it/s]\n",
      "100%|██████████| 1/1 [00:00<00:00, 11.39it/s]\n",
      "100%|██████████| 1/1 [00:00<00:00, 11.39it/s]\n",
      "100%|██████████| 1/1 [00:00<00:00, 12.86it/s]\n",
      "100%|██████████| 1/1 [00:00<00:00, 10.78it/s]\n",
      "100%|██████████| 1/1 [00:00<00:00, 12.38it/s]\n",
      "100%|██████████| 1/1 [00:00<00:00, 12.85it/s]\n",
      "100%|██████████| 1/1 [00:00<00:00, 12.69it/s]\n",
      "100%|██████████| 1/1 [00:00<00:00, 12.53it/s]\n",
      "100%|██████████| 1/1 [00:00<00:00, 12.23it/s]\n",
      "100%|██████████| 1/1 [00:00<00:00, 13.36it/s]\n",
      "100%|██████████| 1/1 [00:00<00:00, 12.16it/s]\n",
      "100%|██████████| 1/1 [00:00<00:00, 12.85it/s]\n",
      "100%|██████████| 1/1 [00:00<00:00, 11.66it/s]\n",
      "100%|██████████| 1/1 [00:00<00:00, 12.69it/s]\n",
      "100%|██████████| 1/1 [00:00<00:00, 12.53it/s]\n",
      "100%|██████████| 1/1 [00:00<00:00, 12.53it/s]\n",
      "100%|██████████| 1/1 [00:00<00:00, 10.89it/s]\n",
      "100%|██████████| 1/1 [00:00<00:00,  9.55it/s]\n",
      "100%|██████████| 1/1 [00:00<00:00,  9.03it/s]\n",
      "100%|██████████| 1/1 [00:00<00:00, 11.02it/s]\n",
      "100%|██████████| 1/1 [00:00<00:00,  8.64it/s]\n",
      "100%|██████████| 1/1 [00:00<00:00,  8.36it/s]\n",
      "100%|██████████| 1/1 [00:00<00:00,  9.37it/s]\n",
      "100%|██████████| 1/1 [00:00<00:00,  8.95it/s]\n",
      "100%|██████████| 1/1 [00:00<00:00, 10.78it/s]\n",
      "100%|██████████| 1/1 [00:00<00:00,  8.22it/s]\n",
      "100%|██████████| 1/1 [00:00<00:00,  6.87it/s]\n",
      "100%|██████████| 1/1 [00:00<00:00,  8.22it/s]\n",
      "100%|██████████| 1/1 [00:00<00:00,  9.73it/s]\n",
      "100%|██████████| 1/1 [00:00<00:00, 11.64it/s]\n",
      "100%|██████████| 1/1 [00:00<00:00, 11.02it/s]\n",
      "100%|██████████| 1/1 [00:00<00:00, 10.78it/s]\n",
      "100%|██████████| 1/1 [00:00<00:00, 10.44it/s]\n"
     ]
    }
   ],
   "source": [
    "bnds = [(0, 10)]\n",
    "result_wr2_f = scipy.optimize.minimize(wrapper2, [result_wr2.x], args=(theta_entry, phi_entry, theta_exit, phi_exit, accels, lin_resp, sensors_pos), method='L-BFGS-B', bounds=bnds, options={'gtol': 1e-20})"
   ]
  },
  {
   "cell_type": "code",
   "execution_count": 46,
   "metadata": {
    "collapsed": true,
    "jupyter": {
     "outputs_hidden": true
    }
   },
   "outputs": [
    {
     "name": "stderr",
     "output_type": "stream",
     "text": [
      "100%|██████████| 1/1 [00:00<00:00,  6.87it/s]\n",
      "100%|██████████| 1/1 [00:00<00:00,  6.87it/s]\n",
      "100%|██████████| 1/1 [00:00<00:00,  8.29it/s]\n",
      "100%|██████████| 1/1 [00:00<00:00,  6.60it/s]\n",
      "100%|██████████| 1/1 [00:00<00:00,  8.43it/s]\n",
      "100%|██████████| 1/1 [00:00<00:00,  9.20it/s]\n",
      "100%|██████████| 1/1 [00:00<00:00,  8.57it/s]\n",
      "100%|██████████| 1/1 [00:00<00:00, 10.03it/s]\n",
      "100%|██████████| 1/1 [00:00<00:00, 11.02it/s]\n",
      "100%|██████████| 1/1 [00:00<00:00,  9.12it/s]\n",
      "100%|██████████| 1/1 [00:00<00:00,  7.37it/s]\n",
      "100%|██████████| 1/1 [00:00<00:00,  8.29it/s]\n",
      "100%|██████████| 1/1 [00:00<00:00,  9.12it/s]\n",
      "100%|██████████| 1/1 [00:00<00:00, 11.27it/s]\n",
      "100%|██████████| 1/1 [00:00<00:00, 11.52it/s]\n",
      "100%|██████████| 1/1 [00:00<00:00, 10.55it/s]\n",
      "100%|██████████| 1/1 [00:00<00:00, 11.52it/s]\n",
      "100%|██████████| 1/1 [00:00<00:00,  8.72it/s]\n",
      "100%|██████████| 1/1 [00:00<00:00, 11.14it/s]\n",
      "100%|██████████| 1/1 [00:00<00:00, 10.78it/s]\n",
      "100%|██████████| 1/1 [00:00<00:00, 10.55it/s]\n",
      "100%|██████████| 1/1 [00:00<00:00, 10.13it/s]\n",
      "100%|██████████| 1/1 [00:00<00:00, 11.27it/s]\n",
      "100%|██████████| 1/1 [00:00<00:00, 10.78it/s]\n",
      "100%|██████████| 1/1 [00:00<00:00,  8.57it/s]\n",
      "100%|██████████| 1/1 [00:00<00:00,  8.87it/s]\n",
      "100%|██████████| 1/1 [00:00<00:00,  8.50it/s]\n",
      "100%|██████████| 1/1 [00:00<00:00,  9.03it/s]\n",
      "100%|██████████| 1/1 [00:00<00:00, 11.39it/s]\n",
      "100%|██████████| 1/1 [00:00<00:00, 11.66it/s]\n",
      "100%|██████████| 1/1 [00:00<00:00,  9.64it/s]\n",
      "100%|██████████| 1/1 [00:00<00:00,  8.72it/s]\n",
      "100%|██████████| 1/1 [00:00<00:00,  9.64it/s]\n",
      "100%|██████████| 1/1 [00:00<00:00, 10.13it/s]\n",
      "100%|██████████| 1/1 [00:00<00:00,  8.80it/s]\n",
      "100%|██████████| 1/1 [00:00<00:00, 10.03it/s]\n",
      "100%|██████████| 1/1 [00:00<00:00, 10.13it/s]\n",
      "100%|██████████| 1/1 [00:00<00:00,  8.64it/s]\n",
      "100%|██████████| 1/1 [00:00<00:00,  9.28it/s]\n",
      "100%|██████████| 1/1 [00:00<00:00,  8.43it/s]\n",
      "100%|██████████| 1/1 [00:00<00:00,  8.09it/s]\n",
      "100%|██████████| 1/1 [00:00<00:00,  9.64it/s]\n",
      "100%|██████████| 1/1 [00:00<00:00, 10.23it/s]\n",
      "100%|██████████| 1/1 [00:00<00:00,  7.77it/s]\n",
      "100%|██████████| 1/1 [00:00<00:00,  9.20it/s]\n",
      "100%|██████████| 1/1 [00:00<00:00, 10.44it/s]\n",
      "100%|██████████| 1/1 [00:00<00:00,  9.28it/s]\n",
      "100%|██████████| 1/1 [00:00<00:00, 10.67it/s]\n",
      "100%|██████████| 1/1 [00:00<00:00, 11.14it/s]\n",
      "100%|██████████| 1/1 [00:00<00:00, 10.23it/s]\n",
      "100%|██████████| 1/1 [00:00<00:00, 11.26it/s]\n",
      "100%|██████████| 1/1 [00:00<00:00, 11.80it/s]\n",
      "100%|██████████| 1/1 [00:00<00:00, 11.39it/s]\n",
      "100%|██████████| 1/1 [00:00<00:00, 11.27it/s]\n",
      "100%|██████████| 1/1 [00:00<00:00, 12.53it/s]\n",
      "100%|██████████| 1/1 [00:00<00:00, 12.38it/s]\n",
      "100%|██████████| 1/1 [00:00<00:00, 11.14it/s]\n",
      "100%|██████████| 1/1 [00:00<00:00, 11.27it/s]\n",
      "100%|██████████| 1/1 [00:00<00:00, 11.80it/s]\n",
      "100%|██████████| 1/1 [00:00<00:00,  9.83it/s]\n",
      "100%|██████████| 1/1 [00:00<00:00, 10.13it/s]\n",
      "100%|██████████| 1/1 [00:00<00:00, 12.85it/s]\n",
      "100%|██████████| 1/1 [00:00<00:00, 12.22it/s]\n",
      "100%|██████████| 1/1 [00:00<00:00, 10.67it/s]\n",
      "100%|██████████| 1/1 [00:00<00:00, 10.55it/s]\n",
      "100%|██████████| 1/1 [00:00<00:00, 10.34it/s]\n",
      "100%|██████████| 1/1 [00:00<00:00,  9.55it/s]\n",
      "100%|██████████| 1/1 [00:00<00:00, 10.55it/s]\n",
      "100%|██████████| 1/1 [00:00<00:00, 10.67it/s]\n",
      "100%|██████████| 1/1 [00:00<00:00, 11.02it/s]\n",
      "100%|██████████| 1/1 [00:00<00:00, 11.02it/s]\n",
      "100%|██████████| 1/1 [00:00<00:00, 10.23it/s]\n",
      "100%|██████████| 1/1 [00:00<00:00, 10.34it/s]\n",
      "100%|██████████| 1/1 [00:00<00:00, 10.67it/s]\n",
      "100%|██████████| 1/1 [00:00<00:00, 11.27it/s]\n",
      "100%|██████████| 1/1 [00:00<00:00, 12.38it/s]\n",
      "100%|██████████| 1/1 [00:00<00:00, 12.53it/s]\n",
      "100%|██████████| 1/1 [00:00<00:00, 10.67it/s]\n",
      "100%|██████████| 1/1 [00:00<00:00, 11.14it/s]\n",
      "100%|██████████| 1/1 [00:00<00:00, 11.80it/s]\n",
      "100%|██████████| 1/1 [00:00<00:00, 13.01it/s]\n",
      "100%|██████████| 1/1 [00:00<00:00, 10.34it/s]\n",
      "100%|██████████| 1/1 [00:00<00:00,  8.72it/s]\n",
      "100%|██████████| 1/1 [00:00<00:00, 10.03it/s]\n",
      "100%|██████████| 1/1 [00:00<00:00,  9.73it/s]\n",
      "100%|██████████| 1/1 [00:00<00:00, 10.34it/s]\n",
      "100%|██████████| 1/1 [00:00<00:00, 10.13it/s]\n",
      "100%|██████████| 1/1 [00:00<00:00,  9.28it/s]\n",
      "100%|██████████| 1/1 [00:00<00:00, 10.34it/s]\n",
      "100%|██████████| 1/1 [00:00<00:00, 11.14it/s]\n",
      "100%|██████████| 1/1 [00:00<00:00, 11.66it/s]\n",
      "100%|██████████| 1/1 [00:00<00:00, 11.93it/s]\n",
      "100%|██████████| 1/1 [00:00<00:00, 10.55it/s]\n",
      "100%|██████████| 1/1 [00:00<00:00, 11.02it/s]\n",
      "100%|██████████| 1/1 [00:00<00:00, 12.23it/s]\n",
      "100%|██████████| 1/1 [00:00<00:00, 11.02it/s]\n",
      "100%|██████████| 1/1 [00:00<00:00, 11.27it/s]\n",
      "100%|██████████| 1/1 [00:00<00:00, 11.39it/s]\n",
      "100%|██████████| 1/1 [00:00<00:00, 12.53it/s]\n",
      "100%|██████████| 1/1 [00:00<00:00, 12.86it/s]\n",
      "100%|██████████| 1/1 [00:00<00:00, 13.37it/s]\n",
      "100%|██████████| 1/1 [00:00<00:00, 10.55it/s]\n",
      "100%|██████████| 1/1 [00:00<00:00, 11.52it/s]\n",
      "100%|██████████| 1/1 [00:00<00:00, 13.54it/s]\n",
      "100%|██████████| 1/1 [00:00<00:00, 12.53it/s]\n",
      "100%|██████████| 1/1 [00:00<00:00, 13.19it/s]\n",
      "100%|██████████| 1/1 [00:00<00:00, 14.32it/s]\n",
      "100%|██████████| 1/1 [00:00<00:00, 10.03it/s]\n",
      "100%|██████████| 1/1 [00:00<00:00, 11.66it/s]\n",
      "100%|██████████| 1/1 [00:00<00:00, 10.78it/s]\n",
      "100%|██████████| 1/1 [00:00<00:00, 12.37it/s]\n",
      "100%|██████████| 1/1 [00:00<00:00, 13.02it/s]\n",
      "100%|██████████| 1/1 [00:00<00:00, 12.85it/s]\n",
      "100%|██████████| 1/1 [00:00<00:00, 10.55it/s]\n",
      "100%|██████████| 1/1 [00:00<00:00, 11.53it/s]\n",
      "100%|██████████| 1/1 [00:00<00:00, 11.94it/s]\n",
      "100%|██████████| 1/1 [00:00<00:00, 12.69it/s]\n",
      "100%|██████████| 1/1 [00:00<00:00, 13.93it/s]\n",
      "100%|██████████| 1/1 [00:00<00:00, 11.93it/s]\n",
      "100%|██████████| 1/1 [00:00<00:00, 12.53it/s]\n",
      "100%|██████████| 1/1 [00:00<00:00, 13.55it/s]\n",
      "100%|██████████| 1/1 [00:00<00:00, 13.74it/s]\n",
      "100%|██████████| 1/1 [00:00<00:00, 13.92it/s]\n",
      "100%|██████████| 1/1 [00:00<00:00, 13.55it/s]\n",
      "100%|██████████| 1/1 [00:00<00:00, 14.12it/s]\n",
      "100%|██████████| 1/1 [00:00<00:00, 12.53it/s]\n",
      "100%|██████████| 1/1 [00:00<00:00, 12.38it/s]\n",
      "100%|██████████| 1/1 [00:00<00:00, 13.74it/s]\n",
      "100%|██████████| 1/1 [00:00<00:00, 13.55it/s]\n",
      "100%|██████████| 1/1 [00:00<00:00, 12.85it/s]\n",
      "100%|██████████| 1/1 [00:00<00:00, 13.93it/s]\n",
      "100%|██████████| 1/1 [00:00<00:00, 12.54it/s]\n",
      "100%|██████████| 1/1 [00:00<00:00, 13.92it/s]\n",
      "100%|██████████| 1/1 [00:00<00:00, 14.12it/s]\n",
      "100%|██████████| 1/1 [00:00<00:00, 11.80it/s]\n",
      "100%|██████████| 1/1 [00:00<00:00,  9.03it/s]\n",
      "100%|██████████| 1/1 [00:00<00:00,  8.95it/s]\n",
      "100%|██████████| 1/1 [00:00<00:00,  8.36it/s]\n",
      "100%|██████████| 1/1 [00:00<00:00, 11.79it/s]\n",
      "100%|██████████| 1/1 [00:00<00:00, 12.38it/s]\n",
      "100%|██████████| 1/1 [00:00<00:00, 11.39it/s]\n",
      "100%|██████████| 1/1 [00:00<00:00, 12.23it/s]\n",
      "100%|██████████| 1/1 [00:00<00:00, 12.22it/s]\n",
      "100%|██████████| 1/1 [00:00<00:00, 12.85it/s]\n",
      "100%|██████████| 1/1 [00:00<00:00, 13.19it/s]\n",
      "100%|██████████| 1/1 [00:00<00:00, 13.73it/s]\n",
      "100%|██████████| 1/1 [00:00<00:00, 13.55it/s]\n",
      "100%|██████████| 1/1 [00:00<00:00, 13.19it/s]\n",
      "100%|██████████| 1/1 [00:00<00:00,  9.83it/s]\n",
      "100%|██████████| 1/1 [00:00<00:00, 11.27it/s]\n",
      "100%|██████████| 1/1 [00:00<00:00, 11.80it/s]\n",
      "100%|██████████| 1/1 [00:00<00:00, 12.23it/s]\n",
      "100%|██████████| 1/1 [00:00<00:00, 11.27it/s]\n",
      "100%|██████████| 1/1 [00:00<00:00, 10.13it/s]\n",
      "100%|██████████| 1/1 [00:00<00:00, 11.94it/s]\n",
      "100%|██████████| 1/1 [00:00<00:00, 10.67it/s]\n",
      "100%|██████████| 1/1 [00:00<00:00,  8.57it/s]\n",
      "100%|██████████| 1/1 [00:00<00:00,  8.57it/s]\n",
      "100%|██████████| 1/1 [00:00<00:00, 10.13it/s]\n",
      "100%|██████████| 1/1 [00:00<00:00, 11.00it/s]\n",
      "100%|██████████| 1/1 [00:00<00:00, 11.13it/s]\n",
      "100%|██████████| 1/1 [00:00<00:00, 13.28it/s]\n",
      "100%|██████████| 1/1 [00:00<00:00, 10.78it/s]\n",
      "100%|██████████| 1/1 [00:00<00:00, 12.53it/s]\n",
      "100%|██████████| 1/1 [00:00<00:00, 12.85it/s]\n",
      "100%|██████████| 1/1 [00:00<00:00, 12.85it/s]\n",
      "100%|██████████| 1/1 [00:00<00:00,  9.20it/s]\n",
      "100%|██████████| 1/1 [00:00<00:00, 10.67it/s]\n",
      "100%|██████████| 1/1 [00:00<00:00, 10.03it/s]\n",
      "100%|██████████| 1/1 [00:00<00:00, 10.34it/s]\n",
      "100%|██████████| 1/1 [00:00<00:00, 12.22it/s]\n",
      "100%|██████████| 1/1 [00:00<00:00, 11.66it/s]\n",
      "100%|██████████| 1/1 [00:00<00:00, 12.86it/s]\n",
      "100%|██████████| 1/1 [00:00<00:00, 10.23it/s]\n",
      "100%|██████████| 1/1 [00:00<00:00, 10.78it/s]\n",
      "100%|██████████| 1/1 [00:00<00:00, 11.93it/s]\n",
      "100%|██████████| 1/1 [00:00<00:00, 13.37it/s]\n",
      "100%|██████████| 1/1 [00:00<00:00, 12.86it/s]\n",
      "100%|██████████| 1/1 [00:00<00:00, 13.19it/s]\n",
      "100%|██████████| 1/1 [00:00<00:00, 13.19it/s]\n",
      "100%|██████████| 1/1 [00:00<00:00, 12.85it/s]\n",
      "100%|██████████| 1/1 [00:00<00:00, 13.73it/s]\n",
      "100%|██████████| 1/1 [00:00<00:00, 13.93it/s]\n",
      "100%|██████████| 1/1 [00:00<00:00, 13.93it/s]\n",
      "100%|██████████| 1/1 [00:00<00:00, 13.55it/s]\n",
      "100%|██████████| 1/1 [00:00<00:00, 13.74it/s]\n",
      "100%|██████████| 1/1 [00:00<00:00, 12.07it/s]\n",
      "100%|██████████| 1/1 [00:00<00:00, 11.79it/s]\n",
      "100%|██████████| 1/1 [00:00<00:00, 12.68it/s]\n",
      "100%|██████████| 1/1 [00:00<00:00, 13.02it/s]\n",
      "100%|██████████| 1/1 [00:00<00:00, 12.08it/s]\n",
      "100%|██████████| 1/1 [00:00<00:00, 11.27it/s]\n",
      "100%|██████████| 1/1 [00:00<00:00, 13.19it/s]\n",
      "100%|██████████| 1/1 [00:00<00:00, 12.85it/s]\n",
      "100%|██████████| 1/1 [00:00<00:00, 13.55it/s]\n",
      "100%|██████████| 1/1 [00:00<00:00, 13.73it/s]\n",
      "100%|██████████| 1/1 [00:00<00:00, 13.73it/s]\n",
      "100%|██████████| 1/1 [00:00<00:00, 13.93it/s]\n",
      "100%|██████████| 1/1 [00:00<00:00, 12.53it/s]\n",
      "100%|██████████| 1/1 [00:00<00:00, 10.13it/s]\n",
      "100%|██████████| 1/1 [00:00<00:00, 12.85it/s]\n",
      "100%|██████████| 1/1 [00:00<00:00, 13.01it/s]\n",
      "100%|██████████| 1/1 [00:00<00:00, 13.37it/s]\n",
      "100%|██████████| 1/1 [00:00<00:00, 13.37it/s]\n",
      "100%|██████████| 1/1 [00:00<00:00, 13.73it/s]\n",
      "100%|██████████| 1/1 [00:00<00:00, 13.92it/s]\n",
      "100%|██████████| 1/1 [00:00<00:00, 13.91it/s]\n",
      "100%|██████████| 1/1 [00:00<00:00, 13.37it/s]\n",
      "100%|██████████| 1/1 [00:00<00:00, 10.78it/s]\n",
      "100%|██████████| 1/1 [00:00<00:00,  9.20it/s]\n",
      "100%|██████████| 1/1 [00:00<00:00,  8.36it/s]\n",
      "100%|██████████| 1/1 [00:00<00:00, 10.23it/s]\n",
      "100%|██████████| 1/1 [00:00<00:00, 12.08it/s]\n",
      "100%|██████████| 1/1 [00:00<00:00, 10.13it/s]\n",
      "100%|██████████| 1/1 [00:00<00:00,  8.95it/s]\n",
      "100%|██████████| 1/1 [00:00<00:00, 11.27it/s]\n",
      "100%|██████████| 1/1 [00:00<00:00, 10.13it/s]\n",
      "100%|██████████| 1/1 [00:00<00:00, 11.39it/s]\n",
      "100%|██████████| 1/1 [00:00<00:00, 11.01it/s]\n",
      "100%|██████████| 1/1 [00:00<00:00, 12.85it/s]\n",
      "100%|██████████| 1/1 [00:00<00:00, 12.53it/s]\n",
      "100%|██████████| 1/1 [00:00<00:00, 12.08it/s]\n",
      "100%|██████████| 1/1 [00:00<00:00, 11.53it/s]\n",
      "100%|██████████| 1/1 [00:00<00:00, 12.69it/s]\n",
      "100%|██████████| 1/1 [00:00<00:00, 11.39it/s]\n",
      "100%|██████████| 1/1 [00:00<00:00, 12.86it/s]\n",
      "100%|██████████| 1/1 [00:00<00:00, 13.02it/s]\n",
      "100%|██████████| 1/1 [00:00<00:00, 13.02it/s]\n",
      "100%|██████████| 1/1 [00:00<00:00, 13.73it/s]\n",
      "100%|██████████| 1/1 [00:00<00:00, 13.55it/s]\n",
      "100%|██████████| 1/1 [00:00<00:00, 13.02it/s]\n",
      "100%|██████████| 1/1 [00:00<00:00, 11.14it/s]\n",
      "100%|██████████| 1/1 [00:00<00:00, 13.02it/s]\n",
      "100%|██████████| 1/1 [00:00<00:00, 12.53it/s]\n",
      "100%|██████████| 1/1 [00:00<00:00, 12.22it/s]\n",
      "100%|██████████| 1/1 [00:00<00:00, 13.19it/s]\n"
     ]
    }
   ],
   "source": [
    "bnds = [(0, 10)]\n",
    "result_wr2_ex = scipy.optimize.minimize(wrapper2, [((t_exit-t_entry)*s_ns)/scl_fct], args=(theta_entry, phi_entry, theta_exit, phi_exit, accels, lin_resp, sensors_pos), method='L-BFGS-B', bounds=bnds, options={'gtol': 1e-20})"
   ]
  },
  {
   "cell_type": "code",
   "execution_count": 47,
   "metadata": {},
   "outputs": [
    {
     "data": {
      "text/plain": [
       "array(2.46999966)"
      ]
     },
     "execution_count": 47,
     "metadata": {},
     "output_type": "execute_result"
    }
   ],
   "source": [
    "result_wr2.x, result_wr2_ex.x"
   ]
  },
  {
   "cell_type": "code",
   "execution_count": 48,
   "metadata": {},
   "outputs": [
    {
     "data": {
      "text/plain": [
       "array([1.])"
      ]
     },
     "execution_count": 48,
     "metadata": {},
     "output_type": "execute_result"
    }
   ],
   "source": [
    "np.sqrt(np.diag(result_wr2_f.hess_inv.todense())) #err"
   ]
  },
  {
   "cell_type": "code",
   "execution_count": 50,
   "metadata": {},
   "outputs": [
    {
     "data": {
      "text/plain": [
       "array([1.])"
      ]
     },
     "execution_count": 50,
     "metadata": {},
     "output_type": "execute_result"
    }
   ],
   "source": [
    "np.sqrt(np.diag(result_wr2_ex.hess_inv.todense())) #err"
   ]
  },
  {
   "cell_type": "markdown",
   "metadata": {},
   "source": [
    "------------------------------------------------------------------"
   ]
  },
  {
   "cell_type": "markdown",
   "metadata": {},
   "source": [
    "------------------------------------------------------------------"
   ]
  },
  {
   "cell_type": "code",
   "execution_count": 51,
   "metadata": {},
   "outputs": [
    {
     "data": {
      "text/plain": [
       "(0.9073887605731223,\n",
       " -2.7303964599031776,\n",
       " 1.7721112213198442,\n",
       " 0.328134705686381)"
      ]
     },
     "execution_count": 51,
     "metadata": {},
     "output_type": "execute_result"
    }
   ],
   "source": [
    "theta_entry, phi_entry, theta_exit, phi_exit"
   ]
  },
  {
   "cell_type": "code",
   "execution_count": 52,
   "metadata": {
    "collapsed": true,
    "jupyter": {
     "outputs_hidden": true
    }
   },
   "outputs": [
    {
     "name": "stderr",
     "output_type": "stream",
     "text": [
      "100%|██████████| 1/1 [00:00<00:00, 11.66it/s]\n",
      "100%|██████████| 1/1 [00:00<00:00, 11.26it/s]\n",
      "100%|██████████| 1/1 [00:00<00:00, 13.02it/s]\n",
      "100%|██████████| 1/1 [00:00<00:00, 12.30it/s]\n",
      "100%|██████████| 1/1 [00:00<00:00, 11.66it/s]\n"
     ]
    }
   ],
   "source": [
    "bnds = [(0, 3.14), (-3.14, 3.14), (0, 3.14), (-3.14, 3.14)]\n",
    "result_wr3 = scipy.optimize.minimize(wrapper3, [0, 0, 0, 0], args=(accels, lin_resp, sensors_pos), method='L-BFGS-B', bounds=bnds, options={'gtol': 1e-12})"
   ]
  },
  {
   "cell_type": "code",
   "execution_count": 53,
   "metadata": {
    "collapsed": true,
    "jupyter": {
     "outputs_hidden": true
    }
   },
   "outputs": [
    {
     "name": "stderr",
     "output_type": "stream",
     "text": [
      "100%|██████████| 1/1 [00:00<00:00, 11.27it/s]\n",
      "100%|██████████| 1/1 [00:00<00:00, 11.80it/s]\n",
      "100%|██████████| 1/1 [00:00<00:00, 11.79it/s]\n",
      "100%|██████████| 1/1 [00:00<00:00,  9.28it/s]\n",
      "100%|██████████| 1/1 [00:00<00:00, 11.14it/s]\n",
      "100%|██████████| 1/1 [00:00<00:00, 10.78it/s]\n",
      "100%|██████████| 1/1 [00:00<00:00, 11.66it/s]\n",
      "100%|██████████| 1/1 [00:00<00:00, 10.89it/s]\n",
      "100%|██████████| 1/1 [00:00<00:00,  9.93it/s]\n",
      "100%|██████████| 1/1 [00:00<00:00, 11.52it/s]\n",
      "100%|██████████| 1/1 [00:00<00:00, 12.08it/s]\n",
      "100%|██████████| 1/1 [00:00<00:00, 12.23it/s]\n",
      "100%|██████████| 1/1 [00:00<00:00, 11.94it/s]\n",
      "100%|██████████| 1/1 [00:00<00:00, 11.53it/s]\n",
      "100%|██████████| 1/1 [00:00<00:00,  8.72it/s]\n",
      "100%|██████████| 1/1 [00:00<00:00,  9.03it/s]\n",
      "100%|██████████| 1/1 [00:00<00:00, 10.13it/s]\n",
      "100%|██████████| 1/1 [00:00<00:00,  8.64it/s]\n",
      "100%|██████████| 1/1 [00:00<00:00,  9.28it/s]\n",
      "100%|██████████| 1/1 [00:00<00:00, 10.90it/s]\n",
      "100%|██████████| 1/1 [00:00<00:00,  9.37it/s]\n",
      "100%|██████████| 1/1 [00:00<00:00, 10.02it/s]\n",
      "100%|██████████| 1/1 [00:00<00:00, 11.27it/s]\n",
      "100%|██████████| 1/1 [00:00<00:00,  8.57it/s]\n",
      "100%|██████████| 1/1 [00:00<00:00, 11.14it/s]\n",
      "100%|██████████| 1/1 [00:00<00:00,  9.83it/s]\n",
      "100%|██████████| 1/1 [00:00<00:00, 10.13it/s]\n",
      "100%|██████████| 1/1 [00:00<00:00,  9.37it/s]\n",
      "100%|██████████| 1/1 [00:00<00:00, 11.27it/s]\n",
      "100%|██████████| 1/1 [00:00<00:00, 11.94it/s]\n",
      "100%|██████████| 1/1 [00:00<00:00, 12.38it/s]\n",
      "100%|██████████| 1/1 [00:00<00:00, 12.85it/s]\n",
      "100%|██████████| 1/1 [00:00<00:00, 12.86it/s]\n",
      "100%|██████████| 1/1 [00:00<00:00, 11.27it/s]\n",
      "100%|██████████| 1/1 [00:00<00:00, 10.23it/s]\n",
      "100%|██████████| 1/1 [00:00<00:00, 11.52it/s]\n",
      "100%|██████████| 1/1 [00:00<00:00, 12.69it/s]\n",
      "100%|██████████| 1/1 [00:00<00:00, 12.08it/s]\n",
      "100%|██████████| 1/1 [00:00<00:00, 11.27it/s]\n",
      "100%|██████████| 1/1 [00:00<00:00, 10.13it/s]\n",
      "100%|██████████| 1/1 [00:00<00:00,  9.83it/s]\n",
      "100%|██████████| 1/1 [00:00<00:00,  8.29it/s]\n",
      "100%|██████████| 1/1 [00:00<00:00,  8.87it/s]\n",
      "100%|██████████| 1/1 [00:00<00:00, 10.13it/s]\n",
      "100%|██████████| 1/1 [00:00<00:00,  8.22it/s]\n",
      "100%|██████████| 1/1 [00:00<00:00,  8.43it/s]\n",
      "100%|██████████| 1/1 [00:00<00:00,  8.29it/s]\n",
      "100%|██████████| 1/1 [00:00<00:00,  9.03it/s]\n",
      "100%|██████████| 1/1 [00:00<00:00, 10.03it/s]\n",
      "100%|██████████| 1/1 [00:00<00:00, 10.13it/s]\n",
      "100%|██████████| 1/1 [00:00<00:00, 11.66it/s]\n",
      "100%|██████████| 1/1 [00:00<00:00, 11.52it/s]\n",
      "100%|██████████| 1/1 [00:00<00:00, 10.78it/s]\n",
      "100%|██████████| 1/1 [00:00<00:00, 10.78it/s]\n",
      "100%|██████████| 1/1 [00:00<00:00, 11.02it/s]\n",
      "100%|██████████| 1/1 [00:00<00:00, 10.78it/s]\n",
      "100%|██████████| 1/1 [00:00<00:00,  9.64it/s]\n",
      "100%|██████████| 1/1 [00:00<00:00, 11.14it/s]\n",
      "100%|██████████| 1/1 [00:00<00:00, 11.27it/s]\n",
      "100%|██████████| 1/1 [00:00<00:00, 11.66it/s]\n",
      "100%|██████████| 1/1 [00:00<00:00, 11.80it/s]\n",
      "100%|██████████| 1/1 [00:00<00:00, 13.02it/s]\n",
      "100%|██████████| 1/1 [00:00<00:00, 13.02it/s]\n",
      "100%|██████████| 1/1 [00:00<00:00, 12.38it/s]\n",
      "100%|██████████| 1/1 [00:00<00:00, 11.52it/s]\n",
      "100%|██████████| 1/1 [00:00<00:00,  8.95it/s]\n",
      "100%|██████████| 1/1 [00:00<00:00,  8.87it/s]\n",
      "100%|██████████| 1/1 [00:00<00:00,  8.29it/s]\n",
      "100%|██████████| 1/1 [00:00<00:00, 10.13it/s]\n",
      "100%|██████████| 1/1 [00:00<00:00,  8.95it/s]\n",
      "100%|██████████| 1/1 [00:00<00:00, 11.66it/s]\n",
      "100%|██████████| 1/1 [00:00<00:00, 11.80it/s]\n",
      "100%|██████████| 1/1 [00:00<00:00, 10.78it/s]\n",
      "100%|██████████| 1/1 [00:00<00:00, 11.39it/s]\n",
      "100%|██████████| 1/1 [00:00<00:00, 10.13it/s]\n",
      "100%|██████████| 1/1 [00:00<00:00,  9.46it/s]\n",
      "100%|██████████| 1/1 [00:00<00:00,  8.95it/s]\n",
      "100%|██████████| 1/1 [00:00<00:00,  8.15it/s]\n",
      "100%|██████████| 1/1 [00:00<00:00,  7.21it/s]\n",
      "100%|██████████| 1/1 [00:00<00:00,  8.72it/s]\n",
      "100%|██████████| 1/1 [00:00<00:00,  7.37it/s]\n",
      "100%|██████████| 1/1 [00:00<00:00,  8.50it/s]\n",
      "100%|██████████| 1/1 [00:00<00:00,  8.02it/s]\n",
      "100%|██████████| 1/1 [00:00<00:00,  8.22it/s]\n",
      "100%|██████████| 1/1 [00:00<00:00,  7.27it/s]\n",
      "100%|██████████| 1/1 [00:00<00:00,  6.92it/s]\n",
      "100%|██████████| 1/1 [00:00<00:00,  7.54it/s]\n",
      "100%|██████████| 1/1 [00:00<00:00,  9.28it/s]\n",
      "100%|██████████| 1/1 [00:00<00:00,  9.73it/s]\n",
      "100%|██████████| 1/1 [00:00<00:00, 10.84it/s]\n",
      "100%|██████████| 1/1 [00:00<00:00, 10.03it/s]\n",
      "100%|██████████| 1/1 [00:00<00:00,  9.28it/s]\n",
      "100%|██████████| 1/1 [00:00<00:00, 10.55it/s]\n",
      "100%|██████████| 1/1 [00:00<00:00,  9.03it/s]\n",
      "100%|██████████| 1/1 [00:00<00:00,  7.06it/s]\n",
      "100%|██████████| 1/1 [00:00<00:00,  6.68it/s]\n",
      "100%|██████████| 1/1 [00:00<00:00,  8.15it/s]\n",
      "100%|██████████| 1/1 [00:00<00:00,  8.43it/s]\n",
      "100%|██████████| 1/1 [00:00<00:00, 10.03it/s]\n",
      "100%|██████████| 1/1 [00:00<00:00,  9.37it/s]\n",
      "100%|██████████| 1/1 [00:00<00:00,  8.64it/s]\n",
      "100%|██████████| 1/1 [00:00<00:00,  7.83it/s]\n",
      "100%|██████████| 1/1 [00:00<00:00, 10.03it/s]\n",
      "100%|██████████| 1/1 [00:00<00:00,  9.83it/s]\n",
      "100%|██████████| 1/1 [00:00<00:00,  9.20it/s]\n",
      "100%|██████████| 1/1 [00:00<00:00,  8.43it/s]\n",
      "100%|██████████| 1/1 [00:00<00:00,  9.73it/s]\n",
      "100%|██████████| 1/1 [00:00<00:00,  7.96it/s]\n",
      "100%|██████████| 1/1 [00:00<00:00,  8.36it/s]\n",
      "100%|██████████| 1/1 [00:00<00:00,  8.29it/s]\n",
      "100%|██████████| 1/1 [00:00<00:00,  8.57it/s]\n",
      "100%|██████████| 1/1 [00:00<00:00, 10.13it/s]\n",
      "100%|██████████| 1/1 [00:00<00:00,  9.55it/s]\n",
      "100%|██████████| 1/1 [00:00<00:00,  8.64it/s]\n",
      "100%|██████████| 1/1 [00:00<00:00, 10.90it/s]\n",
      "100%|██████████| 1/1 [00:00<00:00, 11.39it/s]\n",
      "100%|██████████| 1/1 [00:00<00:00,  8.02it/s]\n",
      "100%|██████████| 1/1 [00:00<00:00,  8.09it/s]\n",
      "100%|██████████| 1/1 [00:00<00:00,  7.96it/s]\n",
      "100%|██████████| 1/1 [00:00<00:00,  9.46it/s]\n",
      "100%|██████████| 1/1 [00:00<00:00,  9.20it/s]\n",
      "100%|██████████| 1/1 [00:00<00:00,  9.46it/s]\n",
      "100%|██████████| 1/1 [00:00<00:00,  7.77it/s]\n",
      "100%|██████████| 1/1 [00:00<00:00,  6.73it/s]\n",
      "100%|██████████| 1/1 [00:00<00:00,  7.83it/s]\n",
      "100%|██████████| 1/1 [00:00<00:00,  9.20it/s]\n",
      "100%|██████████| 1/1 [00:00<00:00,  8.09it/s]\n",
      "100%|██████████| 1/1 [00:00<00:00,  7.54it/s]\n",
      "100%|██████████| 1/1 [00:00<00:00,  8.02it/s]\n",
      "100%|██████████| 1/1 [00:00<00:00,  7.37it/s]\n",
      "100%|██████████| 1/1 [00:00<00:00,  9.37it/s]\n",
      "100%|██████████| 1/1 [00:00<00:00, 10.44it/s]\n",
      "100%|██████████| 1/1 [00:00<00:00, 11.14it/s]\n",
      "100%|██████████| 1/1 [00:00<00:00,  7.77it/s]\n",
      "100%|██████████| 1/1 [00:00<00:00,  8.15it/s]\n",
      "100%|██████████| 1/1 [00:00<00:00,  8.57it/s]\n",
      "100%|██████████| 1/1 [00:00<00:00,  8.72it/s]\n",
      "100%|██████████| 1/1 [00:00<00:00, 10.34it/s]\n",
      "100%|██████████| 1/1 [00:00<00:00, 11.02it/s]\n",
      "100%|██████████| 1/1 [00:00<00:00,  9.73it/s]\n",
      "100%|██████████| 1/1 [00:00<00:00,  8.22it/s]\n",
      "100%|██████████| 1/1 [00:00<00:00,  8.80it/s]\n",
      "100%|██████████| 1/1 [00:00<00:00,  7.16it/s]\n",
      "100%|██████████| 1/1 [00:00<00:00,  6.92it/s]\n",
      "100%|██████████| 1/1 [00:00<00:00,  8.80it/s]\n",
      "100%|██████████| 1/1 [00:00<00:00,  8.09it/s]\n",
      "100%|██████████| 1/1 [00:00<00:00,  6.77it/s]\n",
      "100%|██████████| 1/1 [00:00<00:00, 11.14it/s]\n",
      "100%|██████████| 1/1 [00:00<00:00, 11.80it/s]\n",
      "100%|██████████| 1/1 [00:00<00:00, 11.66it/s]\n",
      "100%|██████████| 1/1 [00:00<00:00, 11.13it/s]\n",
      "100%|██████████| 1/1 [00:00<00:00,  9.55it/s]\n",
      "100%|██████████| 1/1 [00:00<00:00,  6.77it/s]\n",
      "100%|██████████| 1/1 [00:00<00:00,  7.65it/s]\n",
      "100%|██████████| 1/1 [00:00<00:00,  9.11it/s]\n",
      "100%|██████████| 1/1 [00:00<00:00,  8.36it/s]\n",
      "100%|██████████| 1/1 [00:00<00:00, 10.55it/s]\n",
      "100%|██████████| 1/1 [00:00<00:00,  8.29it/s]\n",
      "100%|██████████| 1/1 [00:00<00:00,  7.77it/s]\n",
      "100%|██████████| 1/1 [00:00<00:00,  8.43it/s]\n",
      "100%|██████████| 1/1 [00:00<00:00,  6.23it/s]\n",
      "100%|██████████| 1/1 [00:00<00:00, 10.66it/s]\n",
      "100%|██████████| 1/1 [00:00<00:00, 11.14it/s]\n",
      "100%|██████████| 1/1 [00:00<00:00, 10.13it/s]\n",
      "100%|██████████| 1/1 [00:00<00:00,  7.11it/s]\n",
      "100%|██████████| 1/1 [00:00<00:00,  8.29it/s]\n",
      "100%|██████████| 1/1 [00:00<00:00, 11.14it/s]\n",
      "100%|██████████| 1/1 [00:00<00:00, 11.27it/s]\n",
      "100%|██████████| 1/1 [00:00<00:00, 10.90it/s]\n",
      "100%|██████████| 1/1 [00:00<00:00,  7.54it/s]\n",
      "100%|██████████| 1/1 [00:00<00:00,  8.72it/s]\n",
      "100%|██████████| 1/1 [00:00<00:00, 11.80it/s]\n",
      "100%|██████████| 1/1 [00:00<00:00, 10.34it/s]\n",
      "100%|██████████| 1/1 [00:00<00:00, 11.39it/s]\n",
      "100%|██████████| 1/1 [00:00<00:00, 12.53it/s]\n",
      "100%|██████████| 1/1 [00:00<00:00, 11.66it/s]\n",
      "100%|██████████| 1/1 [00:00<00:00,  7.16it/s]\n",
      "100%|██████████| 1/1 [00:00<00:00,  8.95it/s]\n",
      "100%|██████████| 1/1 [00:00<00:00,  8.95it/s]\n",
      "100%|██████████| 1/1 [00:00<00:00,  7.06it/s]\n",
      "100%|██████████| 1/1 [00:00<00:00, 10.55it/s]\n",
      "100%|██████████| 1/1 [00:00<00:00, 11.66it/s]\n",
      "100%|██████████| 1/1 [00:00<00:00, 10.66it/s]\n",
      "100%|██████████| 1/1 [00:00<00:00, 12.08it/s]\n",
      "100%|██████████| 1/1 [00:00<00:00, 11.14it/s]\n",
      "100%|██████████| 1/1 [00:00<00:00, 10.78it/s]\n",
      "100%|██████████| 1/1 [00:00<00:00, 11.01it/s]\n",
      "100%|██████████| 1/1 [00:00<00:00, 11.39it/s]\n",
      "100%|██████████| 1/1 [00:00<00:00, 11.39it/s]\n",
      "100%|██████████| 1/1 [00:00<00:00,  9.64it/s]\n",
      "100%|██████████| 1/1 [00:00<00:00, 10.44it/s]\n",
      "100%|██████████| 1/1 [00:00<00:00, 11.26it/s]\n",
      "100%|██████████| 1/1 [00:00<00:00, 13.19it/s]\n",
      "100%|██████████| 1/1 [00:00<00:00, 12.07it/s]\n",
      "100%|██████████| 1/1 [00:00<00:00, 13.54it/s]\n",
      "100%|██████████| 1/1 [00:00<00:00, 12.38it/s]\n",
      "100%|██████████| 1/1 [00:00<00:00,  9.55it/s]\n",
      "100%|██████████| 1/1 [00:00<00:00,  7.65it/s]\n",
      "100%|██████████| 1/1 [00:00<00:00,  7.27it/s]\n",
      "100%|██████████| 1/1 [00:00<00:00, 11.14it/s]\n",
      "100%|██████████| 1/1 [00:00<00:00, 12.07it/s]\n",
      "100%|██████████| 1/1 [00:00<00:00, 13.19it/s]\n",
      "100%|██████████| 1/1 [00:00<00:00, 12.85it/s]\n",
      "100%|██████████| 1/1 [00:00<00:00, 12.08it/s]\n",
      "100%|██████████| 1/1 [00:00<00:00, 12.23it/s]\n",
      "100%|██████████| 1/1 [00:00<00:00, 13.02it/s]\n",
      "100%|██████████| 1/1 [00:00<00:00, 12.37it/s]\n",
      "100%|██████████| 1/1 [00:00<00:00, 12.85it/s]\n",
      "100%|██████████| 1/1 [00:00<00:00, 11.39it/s]\n",
      "100%|██████████| 1/1 [00:00<00:00, 13.73it/s]\n",
      "100%|██████████| 1/1 [00:00<00:00, 13.19it/s]\n",
      "100%|██████████| 1/1 [00:00<00:00, 13.02it/s]\n",
      "100%|██████████| 1/1 [00:00<00:00, 13.55it/s]\n",
      "100%|██████████| 1/1 [00:00<00:00, 12.23it/s]\n",
      "100%|██████████| 1/1 [00:00<00:00, 12.22it/s]\n",
      "100%|██████████| 1/1 [00:00<00:00, 12.69it/s]\n",
      "100%|██████████| 1/1 [00:00<00:00, 13.55it/s]\n",
      "100%|██████████| 1/1 [00:00<00:00, 13.19it/s]\n",
      "100%|██████████| 1/1 [00:00<00:00, 13.55it/s]\n",
      "100%|██████████| 1/1 [00:00<00:00,  8.87it/s]\n",
      "100%|██████████| 1/1 [00:00<00:00, 10.67it/s]\n",
      "100%|██████████| 1/1 [00:00<00:00, 12.23it/s]\n",
      "100%|██████████| 1/1 [00:00<00:00, 13.18it/s]\n",
      "100%|██████████| 1/1 [00:00<00:00, 13.37it/s]\n",
      "100%|██████████| 1/1 [00:00<00:00, 13.02it/s]\n",
      "100%|██████████| 1/1 [00:00<00:00, 11.02it/s]\n",
      "100%|██████████| 1/1 [00:00<00:00, 12.69it/s]\n",
      "100%|██████████| 1/1 [00:00<00:00, 12.85it/s]\n",
      "100%|██████████| 1/1 [00:00<00:00, 12.53it/s]\n",
      "100%|██████████| 1/1 [00:00<00:00, 12.23it/s]\n",
      "100%|██████████| 1/1 [00:00<00:00, 11.80it/s]\n",
      "100%|██████████| 1/1 [00:00<00:00, 11.27it/s]\n",
      "100%|██████████| 1/1 [00:00<00:00, 11.94it/s]\n",
      "100%|██████████| 1/1 [00:00<00:00,  9.20it/s]\n",
      "100%|██████████| 1/1 [00:00<00:00, 11.94it/s]\n",
      "100%|██████████| 1/1 [00:00<00:00, 11.26it/s]\n",
      "100%|██████████| 1/1 [00:00<00:00, 12.69it/s]\n",
      "100%|██████████| 1/1 [00:00<00:00, 13.45it/s]\n",
      "100%|██████████| 1/1 [00:00<00:00, 13.54it/s]\n",
      "100%|██████████| 1/1 [00:00<00:00, 13.69it/s]\n",
      "100%|██████████| 1/1 [00:00<00:00, 13.54it/s]\n",
      "100%|██████████| 1/1 [00:00<00:00, 13.93it/s]\n",
      "100%|██████████| 1/1 [00:00<00:00, 13.55it/s]\n",
      "100%|██████████| 1/1 [00:00<00:00, 13.19it/s]\n",
      "100%|██████████| 1/1 [00:00<00:00, 11.14it/s]\n",
      "100%|██████████| 1/1 [00:00<00:00, 10.55it/s]\n",
      "100%|██████████| 1/1 [00:00<00:00,  9.64it/s]\n",
      "100%|██████████| 1/1 [00:00<00:00, 10.12it/s]\n",
      "100%|██████████| 1/1 [00:00<00:00, 11.80it/s]\n",
      "100%|██████████| 1/1 [00:00<00:00, 13.02it/s]\n",
      "100%|██████████| 1/1 [00:00<00:00, 12.69it/s]\n",
      "100%|██████████| 1/1 [00:00<00:00, 13.36it/s]\n",
      "100%|██████████| 1/1 [00:00<00:00, 13.37it/s]\n",
      "100%|██████████| 1/1 [00:00<00:00, 13.37it/s]\n",
      "100%|██████████| 1/1 [00:00<00:00, 13.19it/s]\n",
      "100%|██████████| 1/1 [00:00<00:00, 12.69it/s]\n",
      "100%|██████████| 1/1 [00:00<00:00, 13.19it/s]\n",
      "100%|██████████| 1/1 [00:00<00:00, 13.37it/s]\n",
      "100%|██████████| 1/1 [00:00<00:00, 11.66it/s]\n",
      "100%|██████████| 1/1 [00:00<00:00, 13.36it/s]\n",
      "100%|██████████| 1/1 [00:00<00:00, 13.19it/s]\n",
      "100%|██████████| 1/1 [00:00<00:00, 13.55it/s]\n",
      "100%|██████████| 1/1 [00:00<00:00, 13.73it/s]\n",
      "100%|██████████| 1/1 [00:00<00:00, 13.74it/s]\n",
      "100%|██████████| 1/1 [00:00<00:00, 13.55it/s]\n",
      "100%|██████████| 1/1 [00:00<00:00, 13.54it/s]\n",
      "100%|██████████| 1/1 [00:00<00:00, 14.11it/s]\n",
      "100%|██████████| 1/1 [00:00<00:00, 13.36it/s]\n",
      "100%|██████████| 1/1 [00:00<00:00, 12.79it/s]\n",
      "100%|██████████| 1/1 [00:00<00:00, 13.02it/s]\n",
      "100%|██████████| 1/1 [00:00<00:00, 13.74it/s]\n",
      "100%|██████████| 1/1 [00:00<00:00, 13.55it/s]\n",
      "100%|██████████| 1/1 [00:00<00:00, 13.73it/s]\n",
      "100%|██████████| 1/1 [00:00<00:00, 13.20it/s]\n",
      "100%|██████████| 1/1 [00:00<00:00, 13.19it/s]\n",
      "100%|██████████| 1/1 [00:00<00:00, 13.73it/s]\n",
      "100%|██████████| 1/1 [00:00<00:00, 13.93it/s]\n",
      "100%|██████████| 1/1 [00:00<00:00, 10.13it/s]\n",
      "100%|██████████| 1/1 [00:00<00:00,  8.95it/s]\n",
      "100%|██████████| 1/1 [00:00<00:00, 10.55it/s]\n",
      "100%|██████████| 1/1 [00:00<00:00,  9.12it/s]\n",
      "100%|██████████| 1/1 [00:00<00:00, 11.26it/s]\n",
      "100%|██████████| 1/1 [00:00<00:00, 10.44it/s]\n",
      "100%|██████████| 1/1 [00:00<00:00, 10.67it/s]\n",
      "100%|██████████| 1/1 [00:00<00:00, 10.90it/s]\n",
      "100%|██████████| 1/1 [00:00<00:00, 10.55it/s]\n",
      "100%|██████████| 1/1 [00:00<00:00, 10.13it/s]\n",
      "100%|██████████| 1/1 [00:00<00:00, 11.79it/s]\n",
      "100%|██████████| 1/1 [00:00<00:00, 11.27it/s]\n",
      "100%|██████████| 1/1 [00:00<00:00, 11.14it/s]\n",
      "100%|██████████| 1/1 [00:00<00:00,  9.83it/s]\n",
      "100%|██████████| 1/1 [00:00<00:00, 12.38it/s]\n",
      "100%|██████████| 1/1 [00:00<00:00, 13.19it/s]\n",
      "100%|██████████| 1/1 [00:00<00:00, 13.02it/s]\n",
      "100%|██████████| 1/1 [00:00<00:00, 13.19it/s]\n",
      "100%|██████████| 1/1 [00:00<00:00, 12.23it/s]\n",
      "100%|██████████| 1/1 [00:00<00:00, 11.80it/s]\n",
      "100%|██████████| 1/1 [00:00<00:00, 13.19it/s]\n",
      "100%|██████████| 1/1 [00:00<00:00, 13.92it/s]\n",
      "100%|██████████| 1/1 [00:00<00:00, 13.73it/s]\n",
      "100%|██████████| 1/1 [00:00<00:00, 14.12it/s]\n",
      "100%|██████████| 1/1 [00:00<00:00, 13.55it/s]\n",
      "100%|██████████| 1/1 [00:00<00:00, 14.33it/s]\n",
      "100%|██████████| 1/1 [00:00<00:00, 13.02it/s]\n",
      "100%|██████████| 1/1 [00:00<00:00, 13.93it/s]\n",
      "100%|██████████| 1/1 [00:00<00:00, 13.55it/s]\n",
      "100%|██████████| 1/1 [00:00<00:00, 14.12it/s]\n",
      "100%|██████████| 1/1 [00:00<00:00, 13.93it/s]\n",
      "100%|██████████| 1/1 [00:00<00:00, 11.94it/s]\n",
      "100%|██████████| 1/1 [00:00<00:00, 13.19it/s]\n",
      "100%|██████████| 1/1 [00:00<00:00, 12.69it/s]\n",
      "100%|██████████| 1/1 [00:00<00:00, 13.02it/s]\n",
      "100%|██████████| 1/1 [00:00<00:00, 13.04it/s]\n",
      "100%|██████████| 1/1 [00:00<00:00, 13.73it/s]\n",
      "100%|██████████| 1/1 [00:00<00:00, 13.36it/s]\n",
      "100%|██████████| 1/1 [00:00<00:00, 13.92it/s]\n",
      "100%|██████████| 1/1 [00:00<00:00, 12.86it/s]\n",
      "100%|██████████| 1/1 [00:00<00:00, 13.92it/s]\n",
      "100%|██████████| 1/1 [00:00<00:00, 13.55it/s]\n",
      "100%|██████████| 1/1 [00:00<00:00, 13.55it/s]\n",
      "100%|██████████| 1/1 [00:00<00:00, 13.01it/s]\n",
      "100%|██████████| 1/1 [00:00<00:00, 13.52it/s]\n",
      "100%|██████████| 1/1 [00:00<00:00, 13.18it/s]\n",
      "100%|██████████| 1/1 [00:00<00:00, 11.52it/s]\n",
      "100%|██████████| 1/1 [00:00<00:00,  8.35it/s]\n",
      "100%|██████████| 1/1 [00:00<00:00,  7.96it/s]\n",
      "100%|██████████| 1/1 [00:00<00:00,  9.11it/s]\n",
      "100%|██████████| 1/1 [00:00<00:00,  9.64it/s]\n",
      "100%|██████████| 1/1 [00:00<00:00, 11.94it/s]\n",
      "100%|██████████| 1/1 [00:00<00:00, 11.39it/s]\n",
      "100%|██████████| 1/1 [00:00<00:00, 11.14it/s]\n",
      "100%|██████████| 1/1 [00:00<00:00, 12.23it/s]\n",
      "100%|██████████| 1/1 [00:00<00:00, 12.69it/s]\n",
      "100%|██████████| 1/1 [00:00<00:00, 10.67it/s]\n",
      "100%|██████████| 1/1 [00:00<00:00, 11.66it/s]\n",
      "100%|██████████| 1/1 [00:00<00:00, 12.08it/s]\n",
      "100%|██████████| 1/1 [00:00<00:00, 10.55it/s]\n",
      "100%|██████████| 1/1 [00:00<00:00, 12.53it/s]\n",
      "100%|██████████| 1/1 [00:00<00:00, 11.02it/s]\n",
      "100%|██████████| 1/1 [00:00<00:00, 12.85it/s]\n",
      "100%|██████████| 1/1 [00:00<00:00, 12.08it/s]\n",
      "100%|██████████| 1/1 [00:00<00:00, 13.19it/s]\n",
      "100%|██████████| 1/1 [00:00<00:00, 12.85it/s]\n",
      "100%|██████████| 1/1 [00:00<00:00, 13.02it/s]\n",
      "100%|██████████| 1/1 [00:00<00:00, 10.13it/s]\n",
      "100%|██████████| 1/1 [00:00<00:00, 12.08it/s]\n",
      "100%|██████████| 1/1 [00:00<00:00, 11.94it/s]\n",
      "100%|██████████| 1/1 [00:00<00:00, 12.23it/s]\n",
      "100%|██████████| 1/1 [00:00<00:00, 13.19it/s]\n",
      "100%|██████████| 1/1 [00:00<00:00, 12.53it/s]\n",
      "100%|██████████| 1/1 [00:00<00:00, 10.44it/s]\n",
      "100%|██████████| 1/1 [00:00<00:00, 11.39it/s]\n",
      "100%|██████████| 1/1 [00:00<00:00, 13.37it/s]\n",
      "100%|██████████| 1/1 [00:00<00:00, 12.85it/s]\n",
      "100%|██████████| 1/1 [00:00<00:00, 10.55it/s]\n",
      "100%|██████████| 1/1 [00:00<00:00, 12.08it/s]\n",
      "100%|██████████| 1/1 [00:00<00:00, 13.19it/s]\n",
      "100%|██████████| 1/1 [00:00<00:00, 11.93it/s]\n",
      "100%|██████████| 1/1 [00:00<00:00, 13.37it/s]\n",
      "100%|██████████| 1/1 [00:00<00:00, 12.08it/s]\n",
      "100%|██████████| 1/1 [00:00<00:00, 13.19it/s]\n",
      "100%|██████████| 1/1 [00:00<00:00, 11.39it/s]\n",
      "100%|██████████| 1/1 [00:00<00:00, 11.39it/s]\n",
      "100%|██████████| 1/1 [00:00<00:00, 12.75it/s]\n",
      "100%|██████████| 1/1 [00:00<00:00, 14.11it/s]\n",
      "100%|██████████| 1/1 [00:00<00:00, 14.53it/s]\n",
      "100%|██████████| 1/1 [00:00<00:00, 13.74it/s]\n",
      "100%|██████████| 1/1 [00:00<00:00, 14.53it/s]\n",
      "100%|██████████| 1/1 [00:00<00:00, 12.69it/s]\n",
      "100%|██████████| 1/1 [00:00<00:00, 14.11it/s]\n",
      "100%|██████████| 1/1 [00:00<00:00, 14.32it/s]\n",
      "100%|██████████| 1/1 [00:00<00:00, 14.75it/s]\n",
      "100%|██████████| 1/1 [00:00<00:00, 14.12it/s]\n",
      "100%|██████████| 1/1 [00:00<00:00, 14.52it/s]\n",
      "100%|██████████| 1/1 [00:00<00:00, 13.93it/s]\n",
      "100%|██████████| 1/1 [00:00<00:00, 13.02it/s]\n",
      "100%|██████████| 1/1 [00:00<00:00, 13.93it/s]\n",
      "100%|██████████| 1/1 [00:00<00:00, 14.12it/s]\n",
      "100%|██████████| 1/1 [00:00<00:00, 13.36it/s]\n",
      "100%|██████████| 1/1 [00:00<00:00, 13.19it/s]\n",
      "100%|██████████| 1/1 [00:00<00:00, 13.02it/s]\n",
      "100%|██████████| 1/1 [00:00<00:00, 13.74it/s]\n",
      "100%|██████████| 1/1 [00:00<00:00, 13.93it/s]\n",
      "100%|██████████| 1/1 [00:00<00:00, 12.69it/s]\n",
      "100%|██████████| 1/1 [00:00<00:00, 13.93it/s]\n",
      "100%|██████████| 1/1 [00:00<00:00, 13.73it/s]\n",
      "100%|██████████| 1/1 [00:00<00:00, 13.93it/s]\n",
      "100%|██████████| 1/1 [00:00<00:00, 12.85it/s]\n",
      "100%|██████████| 1/1 [00:00<00:00, 13.20it/s]\n",
      "100%|██████████| 1/1 [00:00<00:00, 14.32it/s]\n",
      "100%|██████████| 1/1 [00:00<00:00, 13.19it/s]\n",
      "100%|██████████| 1/1 [00:00<00:00, 14.53it/s]\n",
      "100%|██████████| 1/1 [00:00<00:00, 14.12it/s]\n",
      "100%|██████████| 1/1 [00:00<00:00, 14.12it/s]\n",
      "100%|██████████| 1/1 [00:00<00:00, 14.11it/s]\n",
      "100%|██████████| 1/1 [00:00<00:00, 13.54it/s]\n",
      "100%|██████████| 1/1 [00:00<00:00, 12.69it/s]\n",
      "100%|██████████| 1/1 [00:00<00:00, 11.14it/s]\n",
      "100%|██████████| 1/1 [00:00<00:00, 12.53it/s]\n",
      "100%|██████████| 1/1 [00:00<00:00, 13.02it/s]\n",
      "100%|██████████| 1/1 [00:00<00:00, 13.74it/s]\n",
      "100%|██████████| 1/1 [00:00<00:00, 11.14it/s]\n",
      "100%|██████████| 1/1 [00:00<00:00, 12.23it/s]\n",
      "100%|██████████| 1/1 [00:00<00:00, 11.02it/s]\n",
      "100%|██████████| 1/1 [00:00<00:00, 12.85it/s]\n",
      "100%|██████████| 1/1 [00:00<00:00, 12.85it/s]\n",
      "100%|██████████| 1/1 [00:00<00:00, 13.37it/s]\n",
      "100%|██████████| 1/1 [00:00<00:00, 12.86it/s]\n",
      "100%|██████████| 1/1 [00:00<00:00, 10.78it/s]\n",
      "100%|██████████| 1/1 [00:00<00:00, 13.37it/s]\n",
      "100%|██████████| 1/1 [00:00<00:00, 12.23it/s]\n",
      "100%|██████████| 1/1 [00:00<00:00, 13.19it/s]\n",
      "100%|██████████| 1/1 [00:00<00:00, 13.02it/s]\n",
      "100%|██████████| 1/1 [00:00<00:00, 10.13it/s]\n",
      "100%|██████████| 1/1 [00:00<00:00, 12.08it/s]\n",
      "100%|██████████| 1/1 [00:00<00:00, 13.02it/s]\n",
      "100%|██████████| 1/1 [00:00<00:00, 13.55it/s]\n",
      "100%|██████████| 1/1 [00:00<00:00, 13.55it/s]\n",
      "100%|██████████| 1/1 [00:00<00:00, 11.14it/s]\n",
      "100%|██████████| 1/1 [00:00<00:00, 12.85it/s]\n",
      "100%|██████████| 1/1 [00:00<00:00, 11.94it/s]\n",
      "100%|██████████| 1/1 [00:00<00:00, 10.03it/s]\n",
      "100%|██████████| 1/1 [00:00<00:00,  7.96it/s]\n",
      "100%|██████████| 1/1 [00:00<00:00,  6.35it/s]\n",
      "100%|██████████| 1/1 [00:00<00:00,  6.31it/s]\n",
      "100%|██████████| 1/1 [00:00<00:00,  7.01it/s]\n",
      "100%|██████████| 1/1 [00:00<00:00,  8.36it/s]\n",
      "100%|██████████| 1/1 [00:00<00:00,  7.32it/s]\n",
      "100%|██████████| 1/1 [00:00<00:00,  8.80it/s]\n",
      "100%|██████████| 1/1 [00:00<00:00,  9.12it/s]\n",
      "100%|██████████| 1/1 [00:00<00:00,  7.99it/s]\n",
      "100%|██████████| 1/1 [00:00<00:00, 11.02it/s]\n",
      "100%|██████████| 1/1 [00:00<00:00, 11.80it/s]\n",
      "100%|██████████| 1/1 [00:00<00:00,  9.46it/s]\n",
      "100%|██████████| 1/1 [00:00<00:00,  7.89it/s]\n",
      "100%|██████████| 1/1 [00:00<00:00,  9.55it/s]\n",
      "100%|██████████| 1/1 [00:00<00:00,  8.64it/s]\n",
      "100%|██████████| 1/1 [00:00<00:00, 11.02it/s]\n",
      "100%|██████████| 1/1 [00:00<00:00, 11.14it/s]\n",
      "100%|██████████| 1/1 [00:00<00:00, 12.53it/s]\n",
      "100%|██████████| 1/1 [00:00<00:00, 12.38it/s]\n",
      "100%|██████████| 1/1 [00:00<00:00, 12.08it/s]\n",
      "100%|██████████| 1/1 [00:00<00:00, 12.69it/s]\n",
      "100%|██████████| 1/1 [00:00<00:00, 12.08it/s]\n",
      "100%|██████████| 1/1 [00:00<00:00, 12.54it/s]\n",
      "100%|██████████| 1/1 [00:00<00:00, 13.02it/s]\n",
      "100%|██████████| 1/1 [00:00<00:00, 12.38it/s]\n",
      "100%|██████████| 1/1 [00:00<00:00, 10.13it/s]\n",
      "100%|██████████| 1/1 [00:00<00:00, 12.07it/s]\n",
      "100%|██████████| 1/1 [00:00<00:00,  9.74it/s]\n",
      "100%|██████████| 1/1 [00:00<00:00,  9.83it/s]\n",
      "100%|██████████| 1/1 [00:00<00:00, 10.67it/s]\n",
      "100%|██████████| 1/1 [00:00<00:00, 11.14it/s]\n",
      "100%|██████████| 1/1 [00:00<00:00, 12.69it/s]\n",
      "100%|██████████| 1/1 [00:00<00:00, 12.38it/s]\n",
      "100%|██████████| 1/1 [00:00<00:00, 10.78it/s]\n",
      "100%|██████████| 1/1 [00:00<00:00, 12.38it/s]\n",
      "100%|██████████| 1/1 [00:00<00:00, 13.09it/s]\n",
      "100%|██████████| 1/1 [00:00<00:00,  9.46it/s]\n",
      "100%|██████████| 1/1 [00:00<00:00,  9.03it/s]\n",
      "100%|██████████| 1/1 [00:00<00:00,  8.50it/s]\n",
      "100%|██████████| 1/1 [00:00<00:00,  7.71it/s]\n",
      "100%|██████████| 1/1 [00:00<00:00,  9.64it/s]\n",
      "100%|██████████| 1/1 [00:00<00:00,  8.43it/s]\n",
      "100%|██████████| 1/1 [00:00<00:00,  7.37it/s]\n",
      "100%|██████████| 1/1 [00:00<00:00,  7.43it/s]\n",
      "100%|██████████| 1/1 [00:00<00:00,  7.90it/s]\n",
      "100%|██████████| 1/1 [00:00<00:00,  8.43it/s]\n",
      "100%|██████████| 1/1 [00:00<00:00,  7.96it/s]\n",
      "100%|██████████| 1/1 [00:00<00:00, 10.03it/s]\n",
      "100%|██████████| 1/1 [00:00<00:00, 10.23it/s]\n",
      "100%|██████████| 1/1 [00:00<00:00,  7.43it/s]\n",
      "100%|██████████| 1/1 [00:00<00:00, 10.13it/s]\n",
      "100%|██████████| 1/1 [00:00<00:00,  9.28it/s]\n",
      "100%|██████████| 1/1 [00:00<00:00,  9.46it/s]\n",
      "100%|██████████| 1/1 [00:00<00:00,  8.80it/s]\n",
      "100%|██████████| 1/1 [00:00<00:00,  8.87it/s]\n",
      "100%|██████████| 1/1 [00:00<00:00, 11.80it/s]\n",
      "100%|██████████| 1/1 [00:00<00:00, 11.94it/s]\n",
      "100%|██████████| 1/1 [00:00<00:00, 11.27it/s]\n",
      "100%|██████████| 1/1 [00:00<00:00, 12.53it/s]\n",
      "100%|██████████| 1/1 [00:00<00:00, 13.02it/s]\n",
      "100%|██████████| 1/1 [00:00<00:00, 13.02it/s]\n",
      "100%|██████████| 1/1 [00:00<00:00, 10.44it/s]\n",
      "100%|██████████| 1/1 [00:00<00:00, 12.38it/s]\n",
      "100%|██████████| 1/1 [00:00<00:00, 12.69it/s]\n",
      "100%|██████████| 1/1 [00:00<00:00, 11.27it/s]\n",
      "100%|██████████| 1/1 [00:00<00:00,  9.37it/s]\n",
      "100%|██████████| 1/1 [00:00<00:00, 11.66it/s]\n",
      "100%|██████████| 1/1 [00:00<00:00, 13.02it/s]\n",
      "100%|██████████| 1/1 [00:00<00:00, 12.69it/s]\n",
      "100%|██████████| 1/1 [00:00<00:00, 12.08it/s]\n",
      "100%|██████████| 1/1 [00:00<00:00, 12.22it/s]\n",
      "100%|██████████| 1/1 [00:00<00:00, 13.02it/s]\n",
      "100%|██████████| 1/1 [00:00<00:00, 13.55it/s]\n",
      "100%|██████████| 1/1 [00:00<00:00, 13.54it/s]\n",
      "100%|██████████| 1/1 [00:00<00:00, 13.55it/s]\n",
      "100%|██████████| 1/1 [00:00<00:00, 13.37it/s]\n",
      "100%|██████████| 1/1 [00:00<00:00, 12.23it/s]\n",
      "100%|██████████| 1/1 [00:00<00:00, 13.93it/s]\n",
      "100%|██████████| 1/1 [00:00<00:00, 13.93it/s]\n",
      "100%|██████████| 1/1 [00:00<00:00, 12.08it/s]\n",
      "100%|██████████| 1/1 [00:00<00:00, 13.19it/s]\n",
      "100%|██████████| 1/1 [00:00<00:00, 11.66it/s]\n",
      "100%|██████████| 1/1 [00:00<00:00, 10.34it/s]\n",
      "100%|██████████| 1/1 [00:00<00:00, 10.13it/s]\n",
      "100%|██████████| 1/1 [00:00<00:00, 12.38it/s]\n",
      "100%|██████████| 1/1 [00:00<00:00, 10.78it/s]\n",
      "100%|██████████| 1/1 [00:00<00:00, 12.22it/s]\n",
      "100%|██████████| 1/1 [00:00<00:00, 12.08it/s]\n",
      "100%|██████████| 1/1 [00:00<00:00, 11.39it/s]\n",
      "100%|██████████| 1/1 [00:00<00:00, 11.94it/s]\n",
      "100%|██████████| 1/1 [00:00<00:00, 10.55it/s]\n",
      "100%|██████████| 1/1 [00:00<00:00, 12.85it/s]\n",
      "100%|██████████| 1/1 [00:00<00:00,  8.80it/s]\n",
      "100%|██████████| 1/1 [00:00<00:00, 10.34it/s]\n",
      "100%|██████████| 1/1 [00:00<00:00,  9.37it/s]\n",
      "100%|██████████| 1/1 [00:00<00:00,  7.32it/s]\n",
      "100%|██████████| 1/1 [00:00<00:00, 10.03it/s]\n",
      "100%|██████████| 1/1 [00:00<00:00, 10.67it/s]\n",
      "100%|██████████| 1/1 [00:00<00:00, 12.53it/s]\n",
      "100%|██████████| 1/1 [00:00<00:00, 11.27it/s]\n",
      "100%|██████████| 1/1 [00:00<00:00,  9.12it/s]\n",
      "100%|██████████| 1/1 [00:00<00:00,  8.95it/s]\n",
      "100%|██████████| 1/1 [00:00<00:00,  7.83it/s]\n",
      "100%|██████████| 1/1 [00:00<00:00,  9.55it/s]\n",
      "100%|██████████| 1/1 [00:00<00:00, 10.13it/s]\n",
      "100%|██████████| 1/1 [00:00<00:00, 10.13it/s]\n",
      "100%|██████████| 1/1 [00:00<00:00, 12.69it/s]\n",
      "100%|██████████| 1/1 [00:00<00:00, 10.78it/s]\n",
      "100%|██████████| 1/1 [00:00<00:00,  8.80it/s]\n",
      "100%|██████████| 1/1 [00:00<00:00,  8.72it/s]\n",
      "100%|██████████| 1/1 [00:00<00:00,  8.95it/s]\n",
      "100%|██████████| 1/1 [00:00<00:00,  7.71it/s]\n",
      "100%|██████████| 1/1 [00:00<00:00,  8.50it/s]\n",
      "100%|██████████| 1/1 [00:00<00:00,  8.72it/s]\n",
      "100%|██████████| 1/1 [00:00<00:00,  9.64it/s]\n",
      "100%|██████████| 1/1 [00:00<00:00, 12.53it/s]\n",
      "100%|██████████| 1/1 [00:00<00:00, 12.54it/s]\n",
      "100%|██████████| 1/1 [00:00<00:00, 12.86it/s]\n",
      "100%|██████████| 1/1 [00:00<00:00, 13.55it/s]\n",
      "100%|██████████| 1/1 [00:00<00:00, 13.19it/s]\n",
      "100%|██████████| 1/1 [00:00<00:00, 13.92it/s]\n",
      "100%|██████████| 1/1 [00:00<00:00, 13.92it/s]\n",
      "100%|██████████| 1/1 [00:00<00:00, 12.69it/s]\n",
      "100%|██████████| 1/1 [00:00<00:00, 13.93it/s]\n",
      "100%|██████████| 1/1 [00:00<00:00, 13.74it/s]\n",
      "100%|██████████| 1/1 [00:00<00:00, 13.74it/s]\n",
      "100%|██████████| 1/1 [00:00<00:00, 13.73it/s]\n",
      "100%|██████████| 1/1 [00:00<00:00, 13.74it/s]\n",
      "100%|██████████| 1/1 [00:00<00:00, 13.93it/s]\n",
      "100%|██████████| 1/1 [00:00<00:00, 14.32it/s]\n",
      "100%|██████████| 1/1 [00:00<00:00, 13.37it/s]\n",
      "100%|██████████| 1/1 [00:00<00:00, 14.53it/s]\n",
      "100%|██████████| 1/1 [00:00<00:00, 13.73it/s]\n",
      "100%|██████████| 1/1 [00:00<00:00, 14.12it/s]\n",
      "100%|██████████| 1/1 [00:00<00:00, 13.93it/s]\n",
      "100%|██████████| 1/1 [00:00<00:00, 13.74it/s]\n",
      "100%|██████████| 1/1 [00:00<00:00, 14.32it/s]\n",
      "100%|██████████| 1/1 [00:00<00:00, 13.93it/s]\n",
      "100%|██████████| 1/1 [00:00<00:00, 13.93it/s]\n",
      "100%|██████████| 1/1 [00:00<00:00, 12.53it/s]\n",
      "100%|██████████| 1/1 [00:00<00:00, 13.37it/s]\n",
      "100%|██████████| 1/1 [00:00<00:00, 11.14it/s]\n",
      "100%|██████████| 1/1 [00:00<00:00, 13.73it/s]\n",
      "100%|██████████| 1/1 [00:00<00:00, 12.38it/s]\n",
      "100%|██████████| 1/1 [00:00<00:00, 11.94it/s]\n",
      "100%|██████████| 1/1 [00:00<00:00, 12.53it/s]\n",
      "100%|██████████| 1/1 [00:00<00:00, 13.93it/s]\n",
      "100%|██████████| 1/1 [00:00<00:00, 14.12it/s]\n",
      "100%|██████████| 1/1 [00:00<00:00, 13.37it/s]\n",
      "100%|██████████| 1/1 [00:00<00:00, 14.11it/s]\n",
      "100%|██████████| 1/1 [00:00<00:00, 14.32it/s]\n",
      "100%|██████████| 1/1 [00:00<00:00, 14.12it/s]\n",
      "100%|██████████| 1/1 [00:00<00:00, 13.37it/s]\n",
      "100%|██████████| 1/1 [00:00<00:00, 13.54it/s]\n",
      "100%|██████████| 1/1 [00:00<00:00, 12.53it/s]\n",
      "100%|██████████| 1/1 [00:00<00:00, 14.31it/s]\n",
      "100%|██████████| 1/1 [00:00<00:00, 13.19it/s]\n",
      "100%|██████████| 1/1 [00:00<00:00, 13.73it/s]\n",
      "100%|██████████| 1/1 [00:00<00:00, 14.31it/s]\n",
      "100%|██████████| 1/1 [00:00<00:00, 13.93it/s]\n",
      "100%|██████████| 1/1 [00:00<00:00, 14.32it/s]\n",
      "100%|██████████| 1/1 [00:00<00:00, 12.38it/s]\n",
      "100%|██████████| 1/1 [00:00<00:00, 13.93it/s]\n",
      "100%|██████████| 1/1 [00:00<00:00, 14.52it/s]\n",
      "100%|██████████| 1/1 [00:00<00:00, 13.36it/s]\n",
      "100%|██████████| 1/1 [00:00<00:00, 13.92it/s]\n",
      "100%|██████████| 1/1 [00:00<00:00,  9.55it/s]\n",
      "100%|██████████| 1/1 [00:00<00:00,  6.77it/s]\n",
      "100%|██████████| 1/1 [00:00<00:00,  7.37it/s]\n",
      "100%|██████████| 1/1 [00:00<00:00,  7.77it/s]\n",
      "100%|██████████| 1/1 [00:00<00:00,  7.65it/s]\n",
      "100%|██████████| 1/1 [00:00<00:00,  7.48it/s]\n",
      "100%|██████████| 1/1 [00:00<00:00,  8.22it/s]\n",
      "100%|██████████| 1/1 [00:00<00:00,  7.96it/s]\n",
      "100%|██████████| 1/1 [00:00<00:00,  6.64it/s]\n",
      "100%|██████████| 1/1 [00:00<00:00,  6.77it/s]\n",
      "100%|██████████| 1/1 [00:00<00:00,  8.72it/s]\n",
      "100%|██████████| 1/1 [00:00<00:00, 11.02it/s]\n",
      "100%|██████████| 1/1 [00:00<00:00, 11.27it/s]\n",
      "100%|██████████| 1/1 [00:00<00:00,  7.31it/s]\n",
      "100%|██████████| 1/1 [00:00<00:00, 10.03it/s]\n",
      "100%|██████████| 1/1 [00:00<00:00,  6.47it/s]\n",
      "100%|██████████| 1/1 [00:00<00:00, 11.14it/s]\n",
      "100%|██████████| 1/1 [00:00<00:00,  8.09it/s]\n",
      "100%|██████████| 1/1 [00:00<00:00,  8.43it/s]\n",
      "100%|██████████| 1/1 [00:00<00:00,  7.43it/s]\n",
      "100%|██████████| 1/1 [00:00<00:00,  9.55it/s]\n",
      "100%|██████████| 1/1 [00:00<00:00,  9.83it/s]\n",
      "100%|██████████| 1/1 [00:00<00:00,  9.20it/s]\n",
      "100%|██████████| 1/1 [00:00<00:00, 12.23it/s]\n",
      "100%|██████████| 1/1 [00:00<00:00, 10.55it/s]\n",
      "100%|██████████| 1/1 [00:00<00:00,  8.95it/s]\n",
      "100%|██████████| 1/1 [00:00<00:00,  9.03it/s]\n",
      "100%|██████████| 1/1 [00:00<00:00,  7.77it/s]\n",
      "100%|██████████| 1/1 [00:00<00:00,  7.77it/s]\n",
      "100%|██████████| 1/1 [00:00<00:00, 11.02it/s]\n",
      "100%|██████████| 1/1 [00:00<00:00,  9.55it/s]\n",
      "100%|██████████| 1/1 [00:00<00:00,  9.20it/s]\n",
      "100%|██████████| 1/1 [00:00<00:00,  8.36it/s]\n",
      "100%|██████████| 1/1 [00:00<00:00, 11.39it/s]\n",
      "100%|██████████| 1/1 [00:00<00:00, 10.13it/s]\n",
      "100%|██████████| 1/1 [00:00<00:00,  7.83it/s]\n",
      "100%|██████████| 1/1 [00:00<00:00,  9.12it/s]\n",
      "100%|██████████| 1/1 [00:00<00:00,  8.22it/s]\n",
      "100%|██████████| 1/1 [00:00<00:00,  9.93it/s]\n",
      "100%|██████████| 1/1 [00:00<00:00,  7.89it/s]\n",
      "100%|██████████| 1/1 [00:00<00:00,  9.28it/s]\n",
      "100%|██████████| 1/1 [00:00<00:00,  9.28it/s]\n",
      "100%|██████████| 1/1 [00:00<00:00,  7.96it/s]\n",
      "100%|██████████| 1/1 [00:00<00:00,  8.57it/s]\n",
      "100%|██████████| 1/1 [00:00<00:00, 11.53it/s]\n",
      "100%|██████████| 1/1 [00:00<00:00, 11.02it/s]\n",
      "100%|██████████| 1/1 [00:00<00:00, 12.53it/s]\n",
      "100%|██████████| 1/1 [00:00<00:00, 12.08it/s]\n",
      "100%|██████████| 1/1 [00:00<00:00,  8.57it/s]\n",
      "100%|██████████| 1/1 [00:00<00:00, 11.39it/s]\n",
      "100%|██████████| 1/1 [00:00<00:00, 10.34it/s]\n",
      "100%|██████████| 1/1 [00:00<00:00, 11.14it/s]\n",
      "100%|██████████| 1/1 [00:00<00:00, 10.78it/s]\n",
      "100%|██████████| 1/1 [00:00<00:00,  9.20it/s]\n",
      "100%|██████████| 1/1 [00:00<00:00, 12.86it/s]\n",
      "100%|██████████| 1/1 [00:00<00:00, 11.94it/s]\n",
      "100%|██████████| 1/1 [00:00<00:00, 13.02it/s]\n",
      "100%|██████████| 1/1 [00:00<00:00, 13.54it/s]\n",
      "100%|██████████| 1/1 [00:00<00:00, 11.52it/s]\n",
      "100%|██████████| 1/1 [00:00<00:00, 12.85it/s]\n",
      "100%|██████████| 1/1 [00:00<00:00, 13.55it/s]\n",
      "100%|██████████| 1/1 [00:00<00:00, 13.55it/s]\n",
      "100%|██████████| 1/1 [00:00<00:00, 12.85it/s]\n",
      "100%|██████████| 1/1 [00:00<00:00, 11.02it/s]\n",
      "100%|██████████| 1/1 [00:00<00:00, 13.19it/s]\n",
      "100%|██████████| 1/1 [00:00<00:00, 13.19it/s]\n",
      "100%|██████████| 1/1 [00:00<00:00, 13.19it/s]\n",
      "100%|██████████| 1/1 [00:00<00:00, 13.73it/s]\n",
      "100%|██████████| 1/1 [00:00<00:00, 13.73it/s]\n",
      "100%|██████████| 1/1 [00:00<00:00, 13.19it/s]\n",
      "100%|██████████| 1/1 [00:00<00:00, 14.11it/s]\n",
      "100%|██████████| 1/1 [00:00<00:00, 13.19it/s]\n",
      "100%|██████████| 1/1 [00:00<00:00, 12.69it/s]\n",
      "100%|██████████| 1/1 [00:00<00:00, 13.55it/s]\n",
      "100%|██████████| 1/1 [00:00<00:00, 12.23it/s]\n",
      "100%|██████████| 1/1 [00:00<00:00, 12.59it/s]\n",
      "100%|██████████| 1/1 [00:00<00:00, 13.36it/s]\n",
      "100%|██████████| 1/1 [00:00<00:00, 14.11it/s]\n",
      "100%|██████████| 1/1 [00:00<00:00, 13.93it/s]\n",
      "100%|██████████| 1/1 [00:00<00:00, 14.12it/s]\n",
      "100%|██████████| 1/1 [00:00<00:00, 13.93it/s]\n",
      "100%|██████████| 1/1 [00:00<00:00, 14.11it/s]\n",
      "100%|██████████| 1/1 [00:00<00:00, 13.92it/s]\n",
      "100%|██████████| 1/1 [00:00<00:00, 14.32it/s]\n",
      "100%|██████████| 1/1 [00:00<00:00, 13.55it/s]\n",
      "100%|██████████| 1/1 [00:00<00:00, 13.37it/s]\n",
      "100%|██████████| 1/1 [00:00<00:00, 11.52it/s]\n",
      "100%|██████████| 1/1 [00:00<00:00, 13.54it/s]\n",
      "100%|██████████| 1/1 [00:00<00:00, 14.12it/s]\n",
      "100%|██████████| 1/1 [00:00<00:00, 11.80it/s]\n",
      "100%|██████████| 1/1 [00:00<00:00, 14.12it/s]\n",
      "100%|██████████| 1/1 [00:00<00:00, 14.09it/s]\n",
      "100%|██████████| 1/1 [00:00<00:00, 13.93it/s]\n",
      "100%|██████████| 1/1 [00:00<00:00, 13.93it/s]\n",
      "100%|██████████| 1/1 [00:00<00:00, 13.92it/s]\n",
      "100%|██████████| 1/1 [00:00<00:00, 13.93it/s]\n",
      "100%|██████████| 1/1 [00:00<00:00, 14.32it/s]\n",
      "100%|██████████| 1/1 [00:00<00:00, 14.32it/s]\n",
      "100%|██████████| 1/1 [00:00<00:00, 11.80it/s]\n",
      "100%|██████████| 1/1 [00:00<00:00, 14.11it/s]\n",
      "100%|██████████| 1/1 [00:00<00:00, 14.12it/s]\n",
      "100%|██████████| 1/1 [00:00<00:00, 12.08it/s]\n",
      "100%|██████████| 1/1 [00:00<00:00, 14.12it/s]\n",
      "100%|██████████| 1/1 [00:00<00:00, 13.93it/s]\n",
      "100%|██████████| 1/1 [00:00<00:00, 13.93it/s]\n",
      "100%|██████████| 1/1 [00:00<00:00, 13.55it/s]\n",
      "100%|██████████| 1/1 [00:00<00:00, 14.75it/s]\n",
      "100%|██████████| 1/1 [00:00<00:00, 13.92it/s]\n",
      "100%|██████████| 1/1 [00:00<00:00, 14.32it/s]\n",
      "100%|██████████| 1/1 [00:00<00:00, 11.94it/s]\n",
      "100%|██████████| 1/1 [00:00<00:00, 12.53it/s]\n",
      "100%|██████████| 1/1 [00:00<00:00, 10.34it/s]\n",
      "100%|██████████| 1/1 [00:00<00:00, 11.39it/s]\n",
      "100%|██████████| 1/1 [00:00<00:00, 13.19it/s]\n",
      "100%|██████████| 1/1 [00:00<00:00, 13.02it/s]\n",
      "100%|██████████| 1/1 [00:00<00:00, 13.36it/s]\n",
      "100%|██████████| 1/1 [00:00<00:00, 12.08it/s]\n",
      "100%|██████████| 1/1 [00:00<00:00, 12.08it/s]\n",
      "100%|██████████| 1/1 [00:00<00:00, 11.80it/s]\n",
      "100%|██████████| 1/1 [00:00<00:00, 13.02it/s]\n",
      "100%|██████████| 1/1 [00:00<00:00, 13.19it/s]\n",
      "100%|██████████| 1/1 [00:00<00:00, 12.23it/s]\n",
      "100%|██████████| 1/1 [00:00<00:00, 10.67it/s]\n",
      "100%|██████████| 1/1 [00:00<00:00,  9.20it/s]\n",
      "100%|██████████| 1/1 [00:00<00:00, 10.90it/s]\n",
      "100%|██████████| 1/1 [00:00<00:00,  9.83it/s]\n",
      "100%|██████████| 1/1 [00:00<00:00,  9.46it/s]\n",
      "100%|██████████| 1/1 [00:00<00:00, 10.67it/s]\n",
      "100%|██████████| 1/1 [00:00<00:00, 12.22it/s]\n",
      "100%|██████████| 1/1 [00:00<00:00, 11.80it/s]\n",
      "100%|██████████| 1/1 [00:00<00:00, 11.80it/s]\n",
      "100%|██████████| 1/1 [00:00<00:00,  9.20it/s]\n",
      "100%|██████████| 1/1 [00:00<00:00,  8.15it/s]\n",
      "100%|██████████| 1/1 [00:00<00:00,  8.87it/s]\n",
      "100%|██████████| 1/1 [00:00<00:00,  7.32it/s]\n",
      "100%|██████████| 1/1 [00:00<00:00,  7.96it/s]\n",
      "100%|██████████| 1/1 [00:00<00:00,  9.37it/s]\n",
      "100%|██████████| 1/1 [00:00<00:00, 10.44it/s]\n",
      "100%|██████████| 1/1 [00:00<00:00, 10.23it/s]\n",
      "100%|██████████| 1/1 [00:00<00:00, 11.94it/s]\n",
      "100%|██████████| 1/1 [00:00<00:00, 11.27it/s]\n",
      "100%|██████████| 1/1 [00:00<00:00, 11.66it/s]\n",
      "100%|██████████| 1/1 [00:00<00:00, 10.44it/s]\n",
      "100%|██████████| 1/1 [00:00<00:00, 11.66it/s]\n",
      "100%|██████████| 1/1 [00:00<00:00, 10.23it/s]\n",
      "100%|██████████| 1/1 [00:00<00:00,  8.50it/s]\n",
      "100%|██████████| 1/1 [00:00<00:00, 11.94it/s]\n",
      "100%|██████████| 1/1 [00:00<00:00, 11.39it/s]\n",
      "100%|██████████| 1/1 [00:00<00:00, 11.94it/s]\n",
      "100%|██████████| 1/1 [00:00<00:00, 11.79it/s]\n",
      "100%|██████████| 1/1 [00:00<00:00, 11.53it/s]\n",
      "100%|██████████| 1/1 [00:00<00:00, 11.65it/s]\n",
      "100%|██████████| 1/1 [00:00<00:00, 13.54it/s]\n",
      "100%|██████████| 1/1 [00:00<00:00, 11.26it/s]\n",
      "100%|██████████| 1/1 [00:00<00:00, 10.44it/s]\n",
      "100%|██████████| 1/1 [00:00<00:00,  8.29it/s]\n",
      "100%|██████████| 1/1 [00:00<00:00,  8.80it/s]\n",
      "100%|██████████| 1/1 [00:00<00:00, 12.23it/s]\n",
      "100%|██████████| 1/1 [00:00<00:00, 13.02it/s]\n",
      "100%|██████████| 1/1 [00:00<00:00, 12.37it/s]\n",
      "100%|██████████| 1/1 [00:00<00:00, 13.55it/s]\n",
      "100%|██████████| 1/1 [00:00<00:00, 13.74it/s]\n",
      "100%|██████████| 1/1 [00:00<00:00, 12.37it/s]\n",
      "100%|██████████| 1/1 [00:00<00:00, 11.53it/s]\n",
      "100%|██████████| 1/1 [00:00<00:00, 12.69it/s]\n",
      "100%|██████████| 1/1 [00:00<00:00, 13.02it/s]\n",
      "100%|██████████| 1/1 [00:00<00:00, 11.27it/s]\n",
      "100%|██████████| 1/1 [00:00<00:00, 12.23it/s]\n",
      "100%|██████████| 1/1 [00:00<00:00, 11.14it/s]\n",
      "100%|██████████| 1/1 [00:00<00:00,  7.54it/s]\n",
      "100%|██████████| 1/1 [00:00<00:00,  8.80it/s]\n",
      "100%|██████████| 1/1 [00:00<00:00,  8.57it/s]\n",
      "100%|██████████| 1/1 [00:00<00:00,  8.43it/s]\n",
      "100%|██████████| 1/1 [00:00<00:00, 10.90it/s]\n",
      "100%|██████████| 1/1 [00:00<00:00,  6.51it/s]\n",
      "100%|██████████| 1/1 [00:00<00:00,  7.77it/s]\n",
      "100%|██████████| 1/1 [00:00<00:00,  6.82it/s]\n",
      "100%|██████████| 1/1 [00:00<00:00,  8.72it/s]\n",
      "100%|██████████| 1/1 [00:00<00:00,  7.32it/s]\n",
      "100%|██████████| 1/1 [00:00<00:00,  8.43it/s]\n",
      "100%|██████████| 1/1 [00:00<00:00,  8.05it/s]\n",
      "100%|██████████| 1/1 [00:00<00:00,  7.62it/s]\n",
      "100%|██████████| 1/1 [00:00<00:00,  8.87it/s]\n",
      "100%|██████████| 1/1 [00:00<00:00, 11.02it/s]\n",
      "100%|██████████| 1/1 [00:00<00:00,  7.48it/s]\n",
      "100%|██████████| 1/1 [00:00<00:00,  7.06it/s]\n",
      "100%|██████████| 1/1 [00:00<00:00, 10.03it/s]\n",
      "100%|██████████| 1/1 [00:00<00:00, 11.02it/s]\n",
      "100%|██████████| 1/1 [00:00<00:00, 11.66it/s]\n",
      "100%|██████████| 1/1 [00:00<00:00, 11.27it/s]\n",
      "100%|██████████| 1/1 [00:00<00:00, 10.23it/s]\n",
      "100%|██████████| 1/1 [00:00<00:00, 11.02it/s]\n",
      "100%|██████████| 1/1 [00:00<00:00, 13.19it/s]\n",
      "100%|██████████| 1/1 [00:00<00:00, 12.53it/s]\n",
      "100%|██████████| 1/1 [00:00<00:00, 12.22it/s]\n",
      "100%|██████████| 1/1 [00:00<00:00, 11.65it/s]\n",
      "100%|██████████| 1/1 [00:00<00:00, 11.39it/s]\n",
      "100%|██████████| 1/1 [00:00<00:00, 13.73it/s]\n",
      "100%|██████████| 1/1 [00:00<00:00, 12.85it/s]\n",
      "100%|██████████| 1/1 [00:00<00:00, 13.55it/s]\n",
      "100%|██████████| 1/1 [00:00<00:00, 13.01it/s]\n",
      "100%|██████████| 1/1 [00:00<00:00, 12.85it/s]\n",
      "100%|██████████| 1/1 [00:00<00:00, 11.80it/s]\n",
      "100%|██████████| 1/1 [00:00<00:00, 13.92it/s]\n",
      "100%|██████████| 1/1 [00:00<00:00, 12.22it/s]\n",
      "100%|██████████| 1/1 [00:00<00:00, 11.94it/s]\n",
      "100%|██████████| 1/1 [00:00<00:00, 12.38it/s]\n",
      "100%|██████████| 1/1 [00:00<00:00, 12.69it/s]\n",
      "100%|██████████| 1/1 [00:00<00:00, 12.23it/s]\n",
      "100%|██████████| 1/1 [00:00<00:00, 10.67it/s]\n",
      "100%|██████████| 1/1 [00:00<00:00, 11.02it/s]\n",
      "100%|██████████| 1/1 [00:00<00:00, 12.23it/s]\n",
      "100%|██████████| 1/1 [00:00<00:00, 12.08it/s]\n",
      "100%|██████████| 1/1 [00:00<00:00, 13.19it/s]\n",
      "100%|██████████| 1/1 [00:00<00:00, 11.27it/s]\n",
      "100%|██████████| 1/1 [00:00<00:00, 13.73it/s]\n",
      "100%|██████████| 1/1 [00:00<00:00, 13.73it/s]\n",
      "100%|██████████| 1/1 [00:00<00:00, 13.54it/s]\n",
      "100%|██████████| 1/1 [00:00<00:00, 12.69it/s]\n",
      "100%|██████████| 1/1 [00:00<00:00, 13.55it/s]\n",
      "100%|██████████| 1/1 [00:00<00:00, 13.55it/s]\n",
      "100%|██████████| 1/1 [00:00<00:00, 11.66it/s]\n",
      "100%|██████████| 1/1 [00:00<00:00, 12.23it/s]\n",
      "100%|██████████| 1/1 [00:00<00:00, 13.54it/s]\n",
      "100%|██████████| 1/1 [00:00<00:00, 13.37it/s]\n",
      "100%|██████████| 1/1 [00:00<00:00, 13.54it/s]\n",
      "100%|██████████| 1/1 [00:00<00:00, 13.55it/s]\n",
      "100%|██████████| 1/1 [00:00<00:00, 13.03it/s]\n",
      "100%|██████████| 1/1 [00:00<00:00, 12.85it/s]\n",
      "100%|██████████| 1/1 [00:00<00:00, 13.73it/s]\n",
      "100%|██████████| 1/1 [00:00<00:00, 13.73it/s]\n",
      "100%|██████████| 1/1 [00:00<00:00, 13.92it/s]\n",
      "100%|██████████| 1/1 [00:00<00:00, 13.01it/s]\n",
      "100%|██████████| 1/1 [00:00<00:00, 14.11it/s]\n",
      "100%|██████████| 1/1 [00:00<00:00, 13.92it/s]\n",
      "100%|██████████| 1/1 [00:00<00:00, 13.54it/s]\n",
      "100%|██████████| 1/1 [00:00<00:00, 13.74it/s]\n",
      "100%|██████████| 1/1 [00:00<00:00, 14.11it/s]\n",
      "100%|██████████| 1/1 [00:00<00:00, 13.93it/s]\n",
      "100%|██████████| 1/1 [00:00<00:00, 14.11it/s]\n",
      "100%|██████████| 1/1 [00:00<00:00, 12.08it/s]\n",
      "100%|██████████| 1/1 [00:00<00:00, 13.92it/s]\n",
      "100%|██████████| 1/1 [00:00<00:00, 13.54it/s]\n",
      "100%|██████████| 1/1 [00:00<00:00, 13.93it/s]\n",
      "100%|██████████| 1/1 [00:00<00:00, 13.02it/s]\n",
      "100%|██████████| 1/1 [00:00<00:00, 13.54it/s]\n",
      "100%|██████████| 1/1 [00:00<00:00, 12.69it/s]\n",
      "100%|██████████| 1/1 [00:00<00:00, 13.54it/s]\n",
      "100%|██████████| 1/1 [00:00<00:00, 12.69it/s]\n",
      "100%|██████████| 1/1 [00:00<00:00, 12.38it/s]\n",
      "100%|██████████| 1/1 [00:00<00:00, 12.85it/s]\n",
      "100%|██████████| 1/1 [00:00<00:00, 13.73it/s]\n",
      "100%|██████████| 1/1 [00:00<00:00, 13.37it/s]\n",
      "100%|██████████| 1/1 [00:00<00:00, 12.85it/s]\n",
      "100%|██████████| 1/1 [00:00<00:00, 12.07it/s]\n",
      "100%|██████████| 1/1 [00:00<00:00, 13.02it/s]\n",
      "100%|██████████| 1/1 [00:00<00:00, 13.93it/s]\n",
      "100%|██████████| 1/1 [00:00<00:00, 12.53it/s]\n",
      "100%|██████████| 1/1 [00:00<00:00, 13.54it/s]\n",
      "100%|██████████| 1/1 [00:00<00:00, 14.12it/s]\n",
      "100%|██████████| 1/1 [00:00<00:00, 14.32it/s]\n",
      "100%|██████████| 1/1 [00:00<00:00, 14.31it/s]\n",
      "100%|██████████| 1/1 [00:00<00:00, 13.37it/s]\n",
      "100%|██████████| 1/1 [00:00<00:00, 14.11it/s]\n",
      "100%|██████████| 1/1 [00:00<00:00, 14.12it/s]\n",
      "100%|██████████| 1/1 [00:00<00:00, 14.11it/s]\n",
      "100%|██████████| 1/1 [00:00<00:00, 12.69it/s]\n",
      "100%|██████████| 1/1 [00:00<00:00, 13.73it/s]\n",
      "100%|██████████| 1/1 [00:00<00:00, 13.73it/s]\n",
      "100%|██████████| 1/1 [00:00<00:00, 14.32it/s]\n",
      "100%|██████████| 1/1 [00:00<00:00, 14.11it/s]\n",
      "100%|██████████| 1/1 [00:00<00:00, 13.92it/s]\n",
      "100%|██████████| 1/1 [00:00<00:00, 13.02it/s]\n",
      "100%|██████████| 1/1 [00:00<00:00, 13.93it/s]\n",
      "100%|██████████| 1/1 [00:00<00:00, 13.93it/s]\n",
      "100%|██████████| 1/1 [00:00<00:00, 13.93it/s]\n",
      "100%|██████████| 1/1 [00:00<00:00, 13.19it/s]\n",
      "100%|██████████| 1/1 [00:00<00:00, 13.37it/s]\n",
      "100%|██████████| 1/1 [00:00<00:00, 11.14it/s]\n",
      "100%|██████████| 1/1 [00:00<00:00,  9.03it/s]\n",
      "100%|██████████| 1/1 [00:00<00:00,  9.46it/s]\n",
      "100%|██████████| 1/1 [00:00<00:00, 11.94it/s]\n",
      "100%|██████████| 1/1 [00:00<00:00, 11.14it/s]\n",
      "100%|██████████| 1/1 [00:00<00:00,  8.87it/s]\n",
      "100%|██████████| 1/1 [00:00<00:00,  7.32it/s]\n",
      "100%|██████████| 1/1 [00:00<00:00,  6.51it/s]\n",
      "100%|██████████| 1/1 [00:00<00:00,  8.57it/s]\n",
      "100%|██████████| 1/1 [00:00<00:00,  8.29it/s]\n",
      "100%|██████████| 1/1 [00:00<00:00,  9.55it/s]\n",
      "100%|██████████| 1/1 [00:00<00:00, 11.26it/s]\n",
      "100%|██████████| 1/1 [00:00<00:00,  9.20it/s]\n",
      "100%|██████████| 1/1 [00:00<00:00,  9.37it/s]\n",
      "100%|██████████| 1/1 [00:00<00:00, 11.53it/s]\n",
      "100%|██████████| 1/1 [00:00<00:00,  7.01it/s]\n",
      "100%|██████████| 1/1 [00:00<00:00,  9.73it/s]\n",
      "100%|██████████| 1/1 [00:00<00:00, 11.53it/s]\n",
      "100%|██████████| 1/1 [00:00<00:00, 12.23it/s]\n",
      "100%|██████████| 1/1 [00:00<00:00,  9.03it/s]\n",
      "100%|██████████| 1/1 [00:00<00:00,  7.54it/s]\n",
      "100%|██████████| 1/1 [00:00<00:00, 11.53it/s]\n",
      "100%|██████████| 1/1 [00:00<00:00, 10.23it/s]\n",
      "100%|██████████| 1/1 [00:00<00:00, 11.93it/s]\n",
      "100%|██████████| 1/1 [00:00<00:00, 13.19it/s]\n",
      "100%|██████████| 1/1 [00:00<00:00, 12.23it/s]\n",
      "100%|██████████| 1/1 [00:00<00:00, 13.19it/s]\n",
      "100%|██████████| 1/1 [00:00<00:00,  9.20it/s]\n",
      "100%|██████████| 1/1 [00:00<00:00,  7.65it/s]\n",
      "100%|██████████| 1/1 [00:00<00:00, 11.26it/s]\n",
      "100%|██████████| 1/1 [00:00<00:00,  8.57it/s]\n",
      "100%|██████████| 1/1 [00:00<00:00,  8.72it/s]\n",
      "100%|██████████| 1/1 [00:00<00:00, 11.39it/s]\n",
      "100%|██████████| 1/1 [00:00<00:00, 11.14it/s]\n",
      "100%|██████████| 1/1 [00:00<00:00,  9.93it/s]\n",
      "100%|██████████| 1/1 [00:00<00:00,  7.96it/s]\n",
      "100%|██████████| 1/1 [00:00<00:00,  6.23it/s]\n",
      "100%|██████████| 1/1 [00:00<00:00,  6.82it/s]\n",
      "100%|██████████| 1/1 [00:00<00:00,  9.64it/s]\n",
      "100%|██████████| 1/1 [00:00<00:00,  7.90it/s]\n",
      "100%|██████████| 1/1 [00:00<00:00,  8.50it/s]\n",
      "100%|██████████| 1/1 [00:00<00:00,  7.96it/s]\n",
      "100%|██████████| 1/1 [00:00<00:00, 10.44it/s]\n",
      "100%|██████████| 1/1 [00:00<00:00,  9.55it/s]\n",
      "100%|██████████| 1/1 [00:00<00:00,  9.37it/s]\n",
      "100%|██████████| 1/1 [00:00<00:00,  9.46it/s]\n",
      "100%|██████████| 1/1 [00:00<00:00,  7.65it/s]\n",
      "100%|██████████| 1/1 [00:00<00:00,  7.83it/s]\n",
      "100%|██████████| 1/1 [00:00<00:00,  7.48it/s]\n",
      "100%|██████████| 1/1 [00:00<00:00, 12.23it/s]\n",
      "100%|██████████| 1/1 [00:00<00:00, 12.53it/s]\n",
      "100%|██████████| 1/1 [00:00<00:00, 13.02it/s]\n",
      "100%|██████████| 1/1 [00:00<00:00, 13.01it/s]\n",
      "100%|██████████| 1/1 [00:00<00:00, 13.73it/s]\n",
      "100%|██████████| 1/1 [00:00<00:00, 13.37it/s]\n",
      "100%|██████████| 1/1 [00:00<00:00, 11.94it/s]\n",
      "100%|██████████| 1/1 [00:00<00:00, 12.85it/s]\n",
      "100%|██████████| 1/1 [00:00<00:00, 10.67it/s]\n",
      "100%|██████████| 1/1 [00:00<00:00, 11.80it/s]\n",
      "100%|██████████| 1/1 [00:00<00:00, 12.69it/s]\n",
      "100%|██████████| 1/1 [00:00<00:00, 11.27it/s]\n",
      "100%|██████████| 1/1 [00:00<00:00, 13.02it/s]\n",
      "100%|██████████| 1/1 [00:00<00:00, 10.34it/s]\n",
      "100%|██████████| 1/1 [00:00<00:00, 11.39it/s]\n",
      "100%|██████████| 1/1 [00:00<00:00,  9.20it/s]\n",
      "100%|██████████| 1/1 [00:00<00:00,  6.92it/s]\n",
      "100%|██████████| 1/1 [00:00<00:00,  7.01it/s]\n",
      "100%|██████████| 1/1 [00:00<00:00,  7.83it/s]\n",
      "100%|██████████| 1/1 [00:00<00:00,  9.37it/s]\n",
      "100%|██████████| 1/1 [00:00<00:00,  9.03it/s]\n",
      "100%|██████████| 1/1 [00:00<00:00, 10.90it/s]\n",
      "100%|██████████| 1/1 [00:00<00:00, 11.27it/s]\n",
      "100%|██████████| 1/1 [00:00<00:00, 11.52it/s]\n",
      "100%|██████████| 1/1 [00:00<00:00, 12.45it/s]\n",
      "100%|██████████| 1/1 [00:00<00:00, 11.80it/s]\n",
      "100%|██████████| 1/1 [00:00<00:00, 11.16it/s]\n",
      "100%|██████████| 1/1 [00:00<00:00, 10.23it/s]\n",
      "100%|██████████| 1/1 [00:00<00:00,  8.72it/s]\n",
      "100%|██████████| 1/1 [00:00<00:00,  9.20it/s]\n",
      "100%|██████████| 1/1 [00:00<00:00,  8.50it/s]\n",
      "100%|██████████| 1/1 [00:00<00:00, 10.44it/s]\n",
      "100%|██████████| 1/1 [00:00<00:00, 11.14it/s]\n",
      "100%|██████████| 1/1 [00:00<00:00, 10.13it/s]\n",
      "100%|██████████| 1/1 [00:00<00:00, 11.66it/s]\n",
      "100%|██████████| 1/1 [00:00<00:00, 12.85it/s]\n",
      "100%|██████████| 1/1 [00:00<00:00, 11.94it/s]\n",
      "100%|██████████| 1/1 [00:00<00:00, 12.08it/s]\n",
      "100%|██████████| 1/1 [00:00<00:00, 10.67it/s]\n",
      "100%|██████████| 1/1 [00:00<00:00, 13.18it/s]\n",
      "100%|██████████| 1/1 [00:00<00:00, 12.23it/s]\n",
      "100%|██████████| 1/1 [00:00<00:00, 12.68it/s]\n",
      "100%|██████████| 1/1 [00:00<00:00, 12.85it/s]\n",
      "100%|██████████| 1/1 [00:00<00:00,  9.64it/s]\n",
      "100%|██████████| 1/1 [00:00<00:00,  8.87it/s]\n",
      "100%|██████████| 1/1 [00:00<00:00, 10.23it/s]\n",
      "100%|██████████| 1/1 [00:00<00:00, 11.27it/s]\n",
      "100%|██████████| 1/1 [00:00<00:00, 11.39it/s]\n",
      "100%|██████████| 1/1 [00:00<00:00,  9.64it/s]\n",
      "100%|██████████| 1/1 [00:00<00:00,  7.60it/s]\n",
      "100%|██████████| 1/1 [00:00<00:00,  6.64it/s]\n",
      "100%|██████████| 1/1 [00:00<00:00,  8.02it/s]\n",
      "100%|██████████| 1/1 [00:00<00:00, 10.13it/s]\n",
      "100%|██████████| 1/1 [00:00<00:00, 11.94it/s]\n",
      "100%|██████████| 1/1 [00:00<00:00, 10.67it/s]\n",
      "100%|██████████| 1/1 [00:00<00:00, 12.23it/s]\n",
      "100%|██████████| 1/1 [00:00<00:00, 12.53it/s]\n",
      "100%|██████████| 1/1 [00:00<00:00, 13.36it/s]\n",
      "100%|██████████| 1/1 [00:00<00:00, 12.69it/s]\n",
      "100%|██████████| 1/1 [00:00<00:00, 13.19it/s]\n",
      "100%|██████████| 1/1 [00:00<00:00, 12.38it/s]\n",
      "100%|██████████| 1/1 [00:00<00:00, 13.55it/s]\n",
      "100%|██████████| 1/1 [00:00<00:00, 13.54it/s]\n",
      "100%|██████████| 1/1 [00:00<00:00, 13.55it/s]\n",
      "100%|██████████| 1/1 [00:00<00:00, 13.54it/s]\n",
      "100%|██████████| 1/1 [00:00<00:00, 12.53it/s]\n",
      "100%|██████████| 1/1 [00:00<00:00, 13.93it/s]\n",
      "100%|██████████| 1/1 [00:00<00:00, 13.93it/s]\n",
      "100%|██████████| 1/1 [00:00<00:00, 13.37it/s]\n",
      "100%|██████████| 1/1 [00:00<00:00, 13.02it/s]\n",
      "100%|██████████| 1/1 [00:00<00:00, 12.85it/s]\n",
      "100%|██████████| 1/1 [00:00<00:00, 11.27it/s]\n",
      "100%|██████████| 1/1 [00:00<00:00, 12.69it/s]\n",
      "100%|██████████| 1/1 [00:00<00:00, 13.01it/s]\n",
      "100%|██████████| 1/1 [00:00<00:00, 12.53it/s]\n",
      "100%|██████████| 1/1 [00:00<00:00, 11.53it/s]\n",
      "100%|██████████| 1/1 [00:00<00:00, 12.38it/s]\n",
      "100%|██████████| 1/1 [00:00<00:00, 13.02it/s]\n",
      "100%|██████████| 1/1 [00:00<00:00, 13.55it/s]\n",
      "100%|██████████| 1/1 [00:00<00:00, 13.02it/s]\n",
      "100%|██████████| 1/1 [00:00<00:00, 13.37it/s]\n",
      "100%|██████████| 1/1 [00:00<00:00, 13.02it/s]\n",
      "100%|██████████| 1/1 [00:00<00:00, 13.55it/s]\n",
      "100%|██████████| 1/1 [00:00<00:00, 12.85it/s]\n",
      "100%|██████████| 1/1 [00:00<00:00, 13.19it/s]\n",
      "100%|██████████| 1/1 [00:00<00:00, 13.55it/s]\n",
      "100%|██████████| 1/1 [00:00<00:00, 13.93it/s]\n",
      "100%|██████████| 1/1 [00:00<00:00, 13.73it/s]\n",
      "100%|██████████| 1/1 [00:00<00:00, 13.55it/s]\n",
      "100%|██████████| 1/1 [00:00<00:00, 13.73it/s]\n",
      "100%|██████████| 1/1 [00:00<00:00, 13.74it/s]\n",
      "100%|██████████| 1/1 [00:00<00:00, 13.73it/s]\n",
      "100%|██████████| 1/1 [00:00<00:00, 13.55it/s]\n",
      "100%|██████████| 1/1 [00:00<00:00, 13.37it/s]\n",
      "100%|██████████| 1/1 [00:00<00:00, 12.85it/s]\n",
      "100%|██████████| 1/1 [00:00<00:00, 13.55it/s]\n",
      "100%|██████████| 1/1 [00:00<00:00, 11.53it/s]\n",
      "100%|██████████| 1/1 [00:00<00:00, 13.02it/s]\n",
      "100%|██████████| 1/1 [00:00<00:00, 11.94it/s]\n",
      "100%|██████████| 1/1 [00:00<00:00, 12.53it/s]\n",
      "100%|██████████| 1/1 [00:00<00:00, 13.73it/s]\n",
      "100%|██████████| 1/1 [00:00<00:00, 13.02it/s]\n",
      "100%|██████████| 1/1 [00:00<00:00, 11.27it/s]\n",
      "100%|██████████| 1/1 [00:00<00:00, 12.08it/s]\n",
      "100%|██████████| 1/1 [00:00<00:00, 13.37it/s]\n",
      "100%|██████████| 1/1 [00:00<00:00, 13.74it/s]\n",
      "100%|██████████| 1/1 [00:00<00:00, 13.93it/s]\n",
      "100%|██████████| 1/1 [00:00<00:00, 14.12it/s]\n",
      "100%|██████████| 1/1 [00:00<00:00, 13.93it/s]\n",
      "100%|██████████| 1/1 [00:00<00:00, 13.37it/s]\n",
      "100%|██████████| 1/1 [00:00<00:00, 12.69it/s]\n",
      "100%|██████████| 1/1 [00:00<00:00, 12.85it/s]\n",
      "100%|██████████| 1/1 [00:00<00:00, 13.55it/s]\n",
      "100%|██████████| 1/1 [00:00<00:00, 13.74it/s]\n",
      "100%|██████████| 1/1 [00:00<00:00, 12.69it/s]\n",
      "100%|██████████| 1/1 [00:00<00:00, 12.23it/s]\n",
      "100%|██████████| 1/1 [00:00<00:00, 13.93it/s]\n",
      "100%|██████████| 1/1 [00:00<00:00, 13.55it/s]\n",
      "100%|██████████| 1/1 [00:00<00:00, 14.12it/s]\n",
      "100%|██████████| 1/1 [00:00<00:00, 13.02it/s]\n",
      "100%|██████████| 1/1 [00:00<00:00, 14.12it/s]\n",
      "100%|██████████| 1/1 [00:00<00:00, 12.53it/s]\n",
      "100%|██████████| 1/1 [00:00<00:00, 13.37it/s]\n",
      "100%|██████████| 1/1 [00:00<00:00, 14.12it/s]\n",
      "100%|██████████| 1/1 [00:00<00:00, 13.55it/s]\n",
      "100%|██████████| 1/1 [00:00<00:00, 13.93it/s]\n",
      "100%|██████████| 1/1 [00:00<00:00, 13.54it/s]\n",
      "100%|██████████| 1/1 [00:00<00:00, 13.54it/s]\n",
      "100%|██████████| 1/1 [00:00<00:00, 10.67it/s]\n",
      "100%|██████████| 1/1 [00:00<00:00, 13.73it/s]\n",
      "100%|██████████| 1/1 [00:00<00:00, 13.37it/s]\n",
      "100%|██████████| 1/1 [00:00<00:00, 13.19it/s]\n",
      "100%|██████████| 1/1 [00:00<00:00, 13.92it/s]\n",
      "100%|██████████| 1/1 [00:00<00:00, 13.93it/s]\n",
      "100%|██████████| 1/1 [00:00<00:00, 13.19it/s]\n",
      "100%|██████████| 1/1 [00:00<00:00, 12.07it/s]\n",
      "100%|██████████| 1/1 [00:00<00:00, 12.08it/s]\n",
      "100%|██████████| 1/1 [00:00<00:00, 11.39it/s]\n",
      "100%|██████████| 1/1 [00:00<00:00, 13.02it/s]\n",
      "100%|██████████| 1/1 [00:00<00:00, 13.55it/s]\n",
      "100%|██████████| 1/1 [00:00<00:00, 12.69it/s]\n",
      "100%|██████████| 1/1 [00:00<00:00, 12.53it/s]\n",
      "100%|██████████| 1/1 [00:00<00:00, 11.80it/s]\n",
      "100%|██████████| 1/1 [00:00<00:00, 13.55it/s]\n",
      "100%|██████████| 1/1 [00:00<00:00, 12.85it/s]\n",
      "100%|██████████| 1/1 [00:00<00:00, 12.69it/s]\n",
      "100%|██████████| 1/1 [00:00<00:00, 10.90it/s]\n",
      "100%|██████████| 1/1 [00:00<00:00, 10.03it/s]\n",
      "100%|██████████| 1/1 [00:00<00:00,  9.28it/s]\n",
      "100%|██████████| 1/1 [00:00<00:00,  9.73it/s]\n",
      "100%|██████████| 1/1 [00:00<00:00,  8.64it/s]\n",
      "100%|██████████| 1/1 [00:00<00:00,  9.20it/s]\n",
      "100%|██████████| 1/1 [00:00<00:00,  8.35it/s]\n",
      "100%|██████████| 1/1 [00:00<00:00,  9.64it/s]\n",
      "100%|██████████| 1/1 [00:00<00:00,  9.73it/s]\n",
      "100%|██████████| 1/1 [00:00<00:00,  7.77it/s]\n",
      "100%|██████████| 1/1 [00:00<00:00,  9.37it/s]\n",
      "100%|██████████| 1/1 [00:00<00:00, 12.23it/s]\n",
      "100%|██████████| 1/1 [00:00<00:00, 13.19it/s]\n",
      "100%|██████████| 1/1 [00:00<00:00, 11.94it/s]\n",
      "100%|██████████| 1/1 [00:00<00:00, 12.53it/s]\n",
      "100%|██████████| 1/1 [00:00<00:00, 12.08it/s]\n",
      "100%|██████████| 1/1 [00:00<00:00, 13.19it/s]\n",
      "100%|██████████| 1/1 [00:00<00:00, 13.54it/s]\n",
      "100%|██████████| 1/1 [00:00<00:00, 13.73it/s]\n",
      "100%|██████████| 1/1 [00:00<00:00, 12.53it/s]\n",
      "100%|██████████| 1/1 [00:00<00:00, 13.37it/s]\n",
      "100%|██████████| 1/1 [00:00<00:00, 11.93it/s]\n",
      "100%|██████████| 1/1 [00:00<00:00, 14.13it/s]\n",
      "100%|██████████| 1/1 [00:00<00:00, 14.12it/s]\n",
      "100%|██████████| 1/1 [00:00<00:00, 12.54it/s]\n",
      "100%|██████████| 1/1 [00:00<00:00, 13.55it/s]\n",
      "100%|██████████| 1/1 [00:00<00:00, 10.23it/s]\n",
      "100%|██████████| 1/1 [00:00<00:00,  8.95it/s]\n",
      "100%|██████████| 1/1 [00:00<00:00,  7.96it/s]\n",
      "100%|██████████| 1/1 [00:00<00:00,  7.27it/s]\n",
      "100%|██████████| 1/1 [00:00<00:00, 10.34it/s]\n",
      "100%|██████████| 1/1 [00:00<00:00, 10.47it/s]\n",
      "100%|██████████| 1/1 [00:00<00:00, 12.53it/s]\n",
      "100%|██████████| 1/1 [00:00<00:00, 13.36it/s]\n",
      "100%|██████████| 1/1 [00:00<00:00, 12.08it/s]\n",
      "100%|██████████| 1/1 [00:00<00:00, 11.65it/s]\n",
      "100%|██████████| 1/1 [00:00<00:00, 13.55it/s]\n",
      "100%|██████████| 1/1 [00:00<00:00, 13.74it/s]\n",
      "100%|██████████| 1/1 [00:00<00:00, 14.11it/s]\n",
      "100%|██████████| 1/1 [00:00<00:00, 13.93it/s]\n",
      "100%|██████████| 1/1 [00:00<00:00, 13.54it/s]\n",
      "100%|██████████| 1/1 [00:00<00:00,  9.37it/s]\n",
      "100%|██████████| 1/1 [00:00<00:00,  8.02it/s]\n",
      "100%|██████████| 1/1 [00:00<00:00,  8.02it/s]\n",
      "100%|██████████| 1/1 [00:00<00:00, 10.02it/s]\n",
      "100%|██████████| 1/1 [00:00<00:00,  8.36it/s]\n",
      "100%|██████████| 1/1 [00:00<00:00,  7.60it/s]\n",
      "100%|██████████| 1/1 [00:00<00:00,  5.83it/s]\n",
      "100%|██████████| 1/1 [00:00<00:00,  6.43it/s]\n",
      "100%|██████████| 1/1 [00:00<00:00,  6.68it/s]\n",
      "100%|██████████| 1/1 [00:00<00:00,  8.87it/s]\n",
      "100%|██████████| 1/1 [00:00<00:00,  8.43it/s]\n",
      "100%|██████████| 1/1 [00:00<00:00,  8.87it/s]\n",
      "100%|██████████| 1/1 [00:00<00:00,  7.83it/s]\n",
      "100%|██████████| 1/1 [00:00<00:00,  7.16it/s]\n",
      "100%|██████████| 1/1 [00:00<00:00,  7.60it/s]\n",
      "100%|██████████| 1/1 [00:00<00:00, 10.23it/s]\n",
      "100%|██████████| 1/1 [00:00<00:00, 10.34it/s]\n",
      "100%|██████████| 1/1 [00:00<00:00,  8.80it/s]\n",
      "100%|██████████| 1/1 [00:00<00:00,  9.32it/s]\n",
      "100%|██████████| 1/1 [00:00<00:00,  8.29it/s]\n",
      "100%|██████████| 1/1 [00:00<00:00,  7.96it/s]\n",
      "100%|██████████| 1/1 [00:00<00:00,  7.43it/s]\n",
      "100%|██████████| 1/1 [00:00<00:00,  9.28it/s]\n",
      "100%|██████████| 1/1 [00:00<00:00, 11.39it/s]\n",
      "100%|██████████| 1/1 [00:00<00:00,  8.72it/s]\n",
      "100%|██████████| 1/1 [00:00<00:00, 11.27it/s]\n",
      "100%|██████████| 1/1 [00:00<00:00, 11.02it/s]\n",
      "100%|██████████| 1/1 [00:00<00:00, 12.08it/s]\n",
      "100%|██████████| 1/1 [00:00<00:00, 10.03it/s]\n",
      "100%|██████████| 1/1 [00:00<00:00,  8.09it/s]\n",
      "100%|██████████| 1/1 [00:00<00:00, 10.13it/s]\n",
      "100%|██████████| 1/1 [00:00<00:00,  9.20it/s]\n",
      "100%|██████████| 1/1 [00:00<00:00, 11.27it/s]\n",
      "100%|██████████| 1/1 [00:00<00:00, 11.80it/s]\n",
      "100%|██████████| 1/1 [00:00<00:00, 10.67it/s]\n",
      "100%|██████████| 1/1 [00:00<00:00, 12.07it/s]\n",
      "100%|██████████| 1/1 [00:00<00:00, 10.45it/s]\n",
      "100%|██████████| 1/1 [00:00<00:00, 10.34it/s]\n",
      "100%|██████████| 1/1 [00:00<00:00, 11.94it/s]\n",
      "100%|██████████| 1/1 [00:00<00:00, 12.85it/s]\n",
      "100%|██████████| 1/1 [00:00<00:00, 13.01it/s]\n",
      "100%|██████████| 1/1 [00:00<00:00, 12.37it/s]\n",
      "100%|██████████| 1/1 [00:00<00:00, 13.54it/s]\n",
      "100%|██████████| 1/1 [00:00<00:00, 13.02it/s]\n",
      "100%|██████████| 1/1 [00:00<00:00, 13.01it/s]\n",
      "100%|██████████| 1/1 [00:00<00:00, 13.93it/s]\n",
      "100%|██████████| 1/1 [00:00<00:00, 13.73it/s]\n",
      "100%|██████████| 1/1 [00:00<00:00, 13.36it/s]\n",
      "100%|██████████| 1/1 [00:00<00:00, 13.55it/s]\n",
      "100%|██████████| 1/1 [00:00<00:00,  9.03it/s]\n",
      "100%|██████████| 1/1 [00:00<00:00, 13.74it/s]\n",
      "100%|██████████| 1/1 [00:00<00:00, 12.53it/s]\n",
      "100%|██████████| 1/1 [00:00<00:00, 12.38it/s]\n",
      "100%|██████████| 1/1 [00:00<00:00, 13.19it/s]\n",
      "100%|██████████| 1/1 [00:00<00:00, 13.36it/s]\n",
      "100%|██████████| 1/1 [00:00<00:00, 13.74it/s]\n",
      "100%|██████████| 1/1 [00:00<00:00, 12.38it/s]\n",
      "100%|██████████| 1/1 [00:00<00:00, 13.02it/s]\n",
      "100%|██████████| 1/1 [00:00<00:00, 13.19it/s]\n",
      "100%|██████████| 1/1 [00:00<00:00, 14.13it/s]\n",
      "100%|██████████| 1/1 [00:00<00:00, 13.54it/s]\n",
      "100%|██████████| 1/1 [00:00<00:00, 12.23it/s]\n",
      "100%|██████████| 1/1 [00:00<00:00, 13.73it/s]\n",
      "100%|██████████| 1/1 [00:00<00:00, 13.54it/s]\n",
      "100%|██████████| 1/1 [00:00<00:00, 11.66it/s]\n",
      "100%|██████████| 1/1 [00:00<00:00,  9.73it/s]\n",
      "100%|██████████| 1/1 [00:00<00:00, 10.03it/s]\n",
      "100%|██████████| 1/1 [00:00<00:00,  7.16it/s]\n",
      "100%|██████████| 1/1 [00:00<00:00,  9.93it/s]\n",
      "100%|██████████| 1/1 [00:00<00:00,  8.50it/s]\n",
      "100%|██████████| 1/1 [00:00<00:00,  8.64it/s]\n",
      "100%|██████████| 1/1 [00:00<00:00,  9.55it/s]\n",
      "100%|██████████| 1/1 [00:00<00:00,  8.50it/s]\n",
      "100%|██████████| 1/1 [00:00<00:00,  7.54it/s]\n",
      "100%|██████████| 1/1 [00:00<00:00, 10.13it/s]\n",
      "100%|██████████| 1/1 [00:00<00:00,  8.22it/s]\n",
      "100%|██████████| 1/1 [00:00<00:00,  8.09it/s]\n",
      "100%|██████████| 1/1 [00:00<00:00,  8.15it/s]\n",
      "100%|██████████| 1/1 [00:00<00:00,  8.15it/s]\n",
      "100%|██████████| 1/1 [00:00<00:00,  7.83it/s]\n",
      "100%|██████████| 1/1 [00:00<00:00,  7.48it/s]\n",
      "100%|██████████| 1/1 [00:00<00:00, 10.44it/s]\n",
      "100%|██████████| 1/1 [00:00<00:00, 10.78it/s]\n",
      "100%|██████████| 1/1 [00:00<00:00,  8.95it/s]\n",
      "100%|██████████| 1/1 [00:00<00:00,  8.36it/s]\n",
      "100%|██████████| 1/1 [00:00<00:00, 10.13it/s]\n",
      "100%|██████████| 1/1 [00:00<00:00, 10.67it/s]\n",
      "100%|██████████| 1/1 [00:00<00:00, 12.08it/s]\n",
      "100%|██████████| 1/1 [00:00<00:00, 11.01it/s]\n",
      "100%|██████████| 1/1 [00:00<00:00, 12.53it/s]\n",
      "100%|██████████| 1/1 [00:00<00:00, 13.18it/s]\n",
      "100%|██████████| 1/1 [00:00<00:00,  9.03it/s]\n",
      "100%|██████████| 1/1 [00:00<00:00,  9.20it/s]\n",
      "100%|██████████| 1/1 [00:00<00:00,  8.64it/s]\n",
      "100%|██████████| 1/1 [00:00<00:00,  9.83it/s]\n",
      "100%|██████████| 1/1 [00:00<00:00,  9.12it/s]\n",
      "100%|██████████| 1/1 [00:00<00:00, 11.27it/s]\n",
      "100%|██████████| 1/1 [00:00<00:00, 11.79it/s]\n",
      "100%|██████████| 1/1 [00:00<00:00, 11.80it/s]\n",
      "100%|██████████| 1/1 [00:00<00:00,  8.43it/s]\n",
      "100%|██████████| 1/1 [00:00<00:00,  9.73it/s]\n",
      "100%|██████████| 1/1 [00:00<00:00,  7.96it/s]\n",
      "100%|██████████| 1/1 [00:00<00:00,  8.29it/s]\n",
      "100%|██████████| 1/1 [00:00<00:00,  9.73it/s]\n",
      "100%|██████████| 1/1 [00:00<00:00, 11.27it/s]\n",
      "100%|██████████| 1/1 [00:00<00:00, 12.08it/s]\n",
      "100%|██████████| 1/1 [00:00<00:00, 12.08it/s]\n",
      "100%|██████████| 1/1 [00:00<00:00, 13.19it/s]\n",
      "100%|██████████| 1/1 [00:00<00:00, 11.94it/s]\n",
      "100%|██████████| 1/1 [00:00<00:00, 12.37it/s]\n",
      "100%|██████████| 1/1 [00:00<00:00, 12.69it/s]\n",
      "100%|██████████| 1/1 [00:00<00:00, 12.86it/s]\n",
      "100%|██████████| 1/1 [00:00<00:00, 10.55it/s]\n",
      "100%|██████████| 1/1 [00:00<00:00, 12.53it/s]\n",
      "100%|██████████| 1/1 [00:00<00:00, 12.53it/s]\n",
      "100%|██████████| 1/1 [00:00<00:00, 13.92it/s]\n",
      "100%|██████████| 1/1 [00:00<00:00, 12.85it/s]\n",
      "100%|██████████| 1/1 [00:00<00:00, 13.02it/s]\n"
     ]
    }
   ],
   "source": [
    "bnds = [(-3.14, 3.14), (-3.14, 3.14), (-3.14, 3.14), (-3.14, 3.14)]\n",
    "result_wr3_ex = scipy.optimize.minimize(wrapper3, [theta_entry, phi_entry, theta_exit, phi_exit], args=(accels, lin_resp, sensors_pos), method='L-BFGS-B', bounds=bnds, options={'gtol': 1e-12})"
   ]
  },
  {
   "cell_type": "code",
   "execution_count": 54,
   "metadata": {},
   "outputs": [
    {
     "data": {
      "text/plain": [
       "array([0., 0., 0., 0.])"
      ]
     },
     "execution_count": 54,
     "metadata": {},
     "output_type": "execute_result"
    }
   ],
   "source": [
    "result_wr3.x, result_wr3_ex.x"
   ]
  },
  {
   "cell_type": "code",
   "execution_count": 55,
   "metadata": {},
   "outputs": [
    {
     "data": {
      "text/plain": [
       "array([1., 1., 1., 1.])"
      ]
     },
     "execution_count": 55,
     "metadata": {},
     "output_type": "execute_result"
    }
   ],
   "source": [
    "np.sqrt(np.diag(result_wr3.hess_inv.todense())) #err"
   ]
  },
  {
   "cell_type": "code",
   "execution_count": 57,
   "metadata": {},
   "outputs": [
    {
     "data": {
      "text/plain": [
       "array([[ 2.36099533e-03, -1.19760235e-03, -2.77898664e-02,\n",
       "        -1.31735644e-02],\n",
       "       [-1.19760235e-03,  4.42500555e-02, -1.55830144e-02,\n",
       "         3.32409838e-01],\n",
       "       [-2.77898664e-02, -1.55830144e-02,  3.47281415e-01,\n",
       "        -6.64539592e-02],\n",
       "       [-1.31735644e-02,  3.32409838e-01, -6.64539591e-02,\n",
       "         2.50458139e+00]])"
      ]
     },
     "execution_count": 57,
     "metadata": {},
     "output_type": "execute_result"
    }
   ],
   "source": [
    "result_wr3_ex.hess_inv.todense()"
   ]
  },
  {
   "cell_type": "code",
   "execution_count": 58,
   "metadata": {},
   "outputs": [
    {
     "data": {
      "text/plain": [
       "array([0.04859007, 0.21035697, 0.58930588, 1.58258693])"
      ]
     },
     "execution_count": 58,
     "metadata": {},
     "output_type": "execute_result"
    }
   ],
   "source": [
    "np.sqrt(np.diag(result_wr3_ex.hess_inv.todense())) #err"
   ]
  },
  {
   "cell_type": "markdown",
   "metadata": {},
   "source": [
    "------------------------------------------------------------------"
   ]
  },
  {
   "cell_type": "markdown",
   "metadata": {},
   "source": [
    "------------------------------------------------------------------"
   ]
  },
  {
   "cell_type": "code",
   "execution_count": 59,
   "metadata": {},
   "outputs": [
    {
     "data": {
      "text/plain": [
       "(array([3.31]), array([2.54824504]))"
      ]
     },
     "execution_count": 59,
     "metadata": {},
     "output_type": "execute_result"
    }
   ],
   "source": [
    "((t_entry*s_ns)+(n_pad_strt/hnds_un))/scl_fct, ((t_exit-t_entry)*s_ns)/scl_fct"
   ]
  },
  {
   "cell_type": "code",
   "execution_count": 65,
   "metadata": {
    "collapsed": true,
    "jupyter": {
     "outputs_hidden": true
    }
   },
   "outputs": [
    {
     "name": "stderr",
     "output_type": "stream",
     "text": [
      "C:\\Users\\bahaa\\anaconda3\\lib\\site-packages\\scipy\\optimize\\_minimize.py:522: RuntimeWarning: Method Powell cannot handle constraints nor bounds.\n",
      "  RuntimeWarning)\n",
      "C:\\Users\\bahaa\\anaconda3\\lib\\site-packages\\ipykernel_launcher.py:2: OptimizeWarning: Unknown solver options: gtol\n",
      "  \n",
      "100%|██████████| 1/1 [00:00<?, ?it/s]\n",
      "100%|██████████| 1/1 [00:00<?, ?it/s]\n",
      "100%|██████████| 1/1 [00:00<?, ?it/s]\n",
      "100%|██████████| 1/1 [00:00<00:00, 1002.94it/s]\n",
      "100%|██████████| 1/1 [00:00<?, ?it/s]\n",
      "100%|██████████| 1/1 [00:00<?, ?it/s]\n",
      "100%|██████████| 1/1 [00:00<?, ?it/s]\n",
      "100%|██████████| 1/1 [00:00<?, ?it/s]\n",
      "100%|██████████| 1/1 [00:00<00:00, 1007.76it/s]\n",
      "100%|██████████| 1/1 [00:00<?, ?it/s]\n",
      "100%|██████████| 1/1 [00:00<?, ?it/s]\n",
      "100%|██████████| 1/1 [00:00<?, ?it/s]\n",
      "100%|██████████| 1/1 [00:00<00:00, 1002.94it/s]\n",
      "100%|██████████| 1/1 [00:00<?, ?it/s]\n",
      "100%|██████████| 1/1 [00:00<00:00, 1002.94it/s]\n",
      "100%|██████████| 1/1 [00:00<00:00, 1003.66it/s]\n",
      "100%|██████████| 1/1 [00:00<?, ?it/s]\n",
      "100%|██████████| 1/1 [00:00<?, ?it/s]\n",
      "100%|██████████| 1/1 [00:00<?, ?it/s]\n",
      "100%|██████████| 1/1 [00:00<?, ?it/s]\n",
      "100%|██████████| 1/1 [00:00<00:00, 1003.18it/s]\n",
      "100%|██████████| 1/1 [00:00<00:00, 1002.94it/s]\n",
      "100%|██████████| 1/1 [00:00<?, ?it/s]\n",
      "100%|██████████| 1/1 [00:00<?, ?it/s]\n",
      "100%|██████████| 1/1 [00:00<00:00, 31.30it/s]\n",
      "100%|██████████| 1/1 [00:00<00:00, 30.35it/s]\n",
      "100%|██████████| 1/1 [00:00<00:00, 14.75it/s]"
     ]
    },
    {
     "name": "stdout",
     "output_type": "stream",
     "text": [
      "2.6180339999999998 0.0\n",
      "1.6180339748439998 0.0\n",
      "1.9999999844527365 0.0\n",
      "2.2360679652352626 0.0\n",
      "2.38196600367021 0.0\n",
      "2.4721359519563144 0.0\n",
      "2.527864045775369 0.0\n",
      "2.5623059025107344 0.0\n",
      "2.587928961545842 0.0\n",
      "2.587928961545842 0.0\n",
      "2.587928961545842 1.0\n"
     ]
    },
    {
     "name": "stderr",
     "output_type": "stream",
     "text": [
      "\n",
      "100%|██████████| 1/1 [00:00<00:00, 15.66it/s]\n",
      "100%|██████████| 1/1 [00:00<00:00, 17.89it/s]\n",
      "100%|██████████| 1/1 [00:00<00:00, 16.17it/s]\n",
      "  0%|          | 0/1 [00:00<?, ?it/s]"
     ]
    },
    {
     "name": "stdout",
     "output_type": "stream",
     "text": [
      "2.587928961545842 2.6180339999999998\n",
      "2.587928961545842 2.265308835298585\n"
     ]
    },
    {
     "name": "stderr",
     "output_type": "stream",
     "text": [
      "100%|██████████| 1/1 [00:00<00:00, 14.53it/s]\n",
      "100%|██████████| 1/1 [00:00<00:00, 15.19it/s]\n",
      "100%|██████████| 1/1 [00:00<00:00, 15.67it/s]\n",
      "100%|██████████| 1/1 [00:00<00:00, 18.57it/s]\n",
      "100%|██████████| 1/1 [00:00<00:00, 15.92it/s]"
     ]
    },
    {
     "name": "stdout",
     "output_type": "stream",
     "text": [
      "2.587928961545842 2.265308835298585\n",
      "2.587928961545842 1.7820038807149257\n"
     ]
    },
    {
     "name": "stderr",
     "output_type": "stream",
     "text": [
      "\n",
      "100%|██████████| 1/1 [00:00<00:00, 18.90it/s]\n",
      "100%|██████████| 1/1 [00:00<00:00, 19.28it/s]\n",
      "100%|██████████| 1/1 [00:00<00:00, 15.92it/s]\n",
      "100%|██████████| 1/1 [00:00<00:00, 19.28it/s]\n",
      "  0%|          | 0/1 [00:00<?, ?it/s]"
     ]
    },
    {
     "name": "stdout",
     "output_type": "stream",
     "text": [
      "2.587928961545842 2.080702775016083\n",
      "2.587928961545842 2.1015098027762438\n"
     ]
    },
    {
     "name": "stderr",
     "output_type": "stream",
     "text": [
      "100%|██████████| 1/1 [00:00<00:00, 15.92it/s]\n",
      "100%|██████████| 1/1 [00:00<00:00, 11.27it/s]\n",
      "100%|██████████| 1/1 [00:00<00:00, 12.86it/s]\n",
      "  0%|          | 0/1 [00:00<?, ?it/s]"
     ]
    },
    {
     "name": "stdout",
     "output_type": "stream",
     "text": [
      "2.587928961545842 2.1225249008140064\n",
      "5.175857923091684 4.2030196055524875\n"
     ]
    },
    {
     "name": "stderr",
     "output_type": "stream",
     "text": [
      "100%|██████████| 1/1 [00:00<00:00, 18.57it/s]\n",
      "100%|██████████| 1/1 [00:00<00:00, 18.57it/s]\n",
      "100%|██████████| 1/1 [00:00<00:00, 18.92it/s]\n",
      "100%|██████████| 1/1 [00:00<00:00, 19.30it/s]\n",
      "100%|██████████| 1/1 [00:00<00:00, 17.59it/s]\n",
      "  0%|          | 0/1 [00:00<?, ?it/s]"
     ]
    },
    {
     "name": "stdout",
     "output_type": "stream",
     "text": [
      "2.587928961545842 2.1015098027762438\n",
      "3.587928961545842 2.1015098027762438\n"
     ]
    },
    {
     "name": "stderr",
     "output_type": "stream",
     "text": [
      "100%|██████████| 1/1 [00:00<00:00, 18.23it/s]\n",
      "100%|██████████| 1/1 [00:00<00:00, 18.23it/s]\n",
      "100%|██████████| 1/1 [00:00<00:00, 17.91it/s]\n",
      "100%|██████████| 1/1 [00:00<00:00, 16.18it/s]\n",
      "  0%|          | 0/1 [00:00<?, ?it/s]"
     ]
    },
    {
     "name": "stdout",
     "output_type": "stream",
     "text": [
      "0.9698949615458419 2.1015098027762438\n",
      "2.587928961545842 2.1015098027762438\n"
     ]
    },
    {
     "name": "stderr",
     "output_type": "stream",
     "text": [
      "100%|██████████| 1/1 [00:00<00:00, 17.59it/s]\n",
      "100%|██████████| 1/1 [00:00<00:00, 19.28it/s]\n",
      "100%|██████████| 1/1 [00:00<00:00, 18.25it/s]\n",
      "100%|██████████| 1/1 [00:00<00:00, 16.16it/s]\n",
      "  0%|          | 0/1 [00:00<?, ?it/s]"
     ]
    },
    {
     "name": "stdout",
     "output_type": "stream",
     "text": [
      "1.9698949867018418 2.1015098027762438\n",
      "2.969894961545842 2.1015098027762438\n"
     ]
    },
    {
     "name": "stderr",
     "output_type": "stream",
     "text": [
      "100%|██████████| 1/1 [00:00<00:00, 16.71it/s]\n",
      "100%|██████████| 1/1 [00:00<00:00, 17.59it/s]\n",
      "100%|██████████| 1/1 [00:00<00:00, 17.29it/s]\n",
      "100%|██████████| 1/1 [00:00<00:00, 19.30it/s]\n",
      "  0%|          | 0/1 [00:00<?, ?it/s]"
     ]
    },
    {
     "name": "stdout",
     "output_type": "stream",
     "text": [
      "2.471650447964121 2.1015098027762438\n",
      "2.635470423877789 2.1015098027762438\n"
     ]
    },
    {
     "name": "stderr",
     "output_type": "stream",
     "text": [
      "100%|██████████| 1/1 [00:00<00:00, 20.44it/s]\n",
      "100%|██████████| 1/1 [00:00<00:00, 17.59it/s]\n",
      "100%|██████████| 1/1 [00:00<00:00, 15.67it/s]\n",
      "100%|██████████| 1/1 [00:00<00:00, 16.44it/s]"
     ]
    },
    {
     "name": "stdout",
     "output_type": "stream",
     "text": [
      "2.7632092268327044 2.1015098027762438\n",
      "2.6820092252800842 2.1015098027762438\n"
     ]
    },
    {
     "name": "stderr",
     "output_type": "stream",
     "text": [
      "\n",
      "100%|██████████| 1/1 [00:00<00:00, 13.74it/s]\n",
      "100%|██████████| 1/1 [00:00<00:00, 13.37it/s]\n",
      "100%|██████████| 1/1 [00:00<00:00, 12.53it/s]\n",
      "  0%|          | 0/1 [00:00<?, ?it/s]"
     ]
    },
    {
     "name": "stdout",
     "output_type": "stream",
     "text": [
      "2.6173112016767046 2.1015098027762438\n",
      "2.653246663694218 2.1015098027762438\n"
     ]
    },
    {
     "name": "stderr",
     "output_type": "stream",
     "text": [
      "100%|██████████| 1/1 [00:00<00:00, 16.44it/s]\n",
      "100%|██████████| 1/1 [00:00<00:00, 18.90it/s]\n",
      "100%|██████████| 1/1 [00:00<00:00, 15.92it/s]\n",
      "100%|██████████| 1/1 [00:00<00:00, 14.32it/s]\n",
      "  0%|          | 0/1 [00:00<?, ?it/s]"
     ]
    },
    {
     "name": "stdout",
     "output_type": "stream",
     "text": [
      "2.6285342184105294 2.1015098027762438\n",
      "2.642260343095511 2.1015098027762438\n"
     ]
    },
    {
     "name": "stderr",
     "output_type": "stream",
     "text": [
      "100%|██████████| 1/1 [00:00<00:00, 16.99it/s]\n",
      "100%|██████████| 1/1 [00:00<00:00, 15.21it/s]\n",
      "100%|██████████| 1/1 [00:00<00:00, 18.93it/s]\n",
      "100%|██████████| 1/1 [00:00<00:00, 12.08it/s]\n",
      "  0%|          | 0/1 [00:00<?, ?it/s]"
     ]
    },
    {
     "name": "stdout",
     "output_type": "stream",
     "text": [
      "2.6328210292202816 2.1015098027762438\n",
      "2.6380639421617054 2.1015098027762438\n"
     ]
    },
    {
     "name": "stderr",
     "output_type": "stream",
     "text": [
      "100%|██████████| 1/1 [00:00<00:00, 12.53it/s]\n",
      "100%|██████████| 1/1 [00:00<00:00, 17.59it/s]\n",
      "100%|██████████| 1/1 [00:00<00:00, 18.57it/s]\n",
      "100%|██████████| 1/1 [00:00<00:00, 17.90it/s]\n",
      "  0%|          | 0/1 [00:00<?, ?it/s]"
     ]
    },
    {
     "name": "stdout",
     "output_type": "stream",
     "text": [
      "2.6344584451980393 2.1015098027762438\n",
      "2.6364610596826235 2.1015098027762438\n"
     ]
    },
    {
     "name": "stderr",
     "output_type": "stream",
     "text": [
      "100%|██████████| 1/1 [00:00<00:00, 12.38it/s]\n",
      "100%|██████████| 1/1 [00:00<00:00, 11.52it/s]\n",
      "100%|██████████| 1/1 [00:00<00:00, 13.02it/s]\n",
      "100%|██████████| 1/1 [00:00<00:00,  8.43it/s]"
     ]
    },
    {
     "name": "stdout",
     "output_type": "stream",
     "text": [
      "2.6349950092444696 2.1015098027762438\n"
     ]
    },
    {
     "name": "stderr",
     "output_type": "stream",
     "text": [
      "100%|██████████| 1/1 [00:00<00:00,  8.36it/s]\n",
      "100%|██████████| 1/1 [00:00<00:00, 10.55it/s]\n",
      "100%|██████████| 1/1 [00:00<00:00, 13.74it/s]\n",
      "100%|██████████| 1/1 [00:00<00:00, 35.81it/s]"
     ]
    },
    {
     "name": "stdout",
     "output_type": "stream",
     "text": [
      "2.6349950092444696 2.1015098027762438\n",
      "2.6349950092444696 3.1015098027762438\n"
     ]
    },
    {
     "name": "stderr",
     "output_type": "stream",
     "text": [
      "\n",
      "100%|██████████| 1/1 [00:00<00:00, 37.07it/s]\n",
      "100%|██████████| 1/1 [00:00<00:00, 14.32it/s]\n",
      "100%|██████████| 1/1 [00:00<00:00, 12.08it/s]\n",
      "  0%|          | 0/1 [00:00<?, ?it/s]"
     ]
    },
    {
     "name": "stdout",
     "output_type": "stream",
     "text": [
      "2.6349950092444696 0.4834758027762438\n",
      "2.6349950092444696 2.1015098027762438\n"
     ]
    },
    {
     "name": "stderr",
     "output_type": "stream",
     "text": [
      "100%|██████████| 1/1 [00:00<00:00, 17.29it/s]\n",
      "100%|██████████| 1/1 [00:00<00:00, 11.94it/s]\n",
      "100%|██████████| 1/1 [00:00<00:00,  9.55it/s]\n",
      "  0%|          | 0/1 [00:00<?, ?it/s]"
     ]
    },
    {
     "name": "stdout",
     "output_type": "stream",
     "text": [
      "2.6349950092444696 1.4834758279322438\n"
     ]
    },
    {
     "name": "stderr",
     "output_type": "stream",
     "text": [
      "100%|██████████| 1/1 [00:00<00:00, 13.19it/s]\n",
      "100%|██████████| 1/1 [00:00<00:00, 10.90it/s]\n",
      "  0%|          | 0/1 [00:00<?, ?it/s]"
     ]
    },
    {
     "name": "stdout",
     "output_type": "stream",
     "text": [
      "2.6349950092444696 2.483475802776244\n"
     ]
    },
    {
     "name": "stderr",
     "output_type": "stream",
     "text": [
      "100%|██████████| 1/1 [00:00<00:00, 10.23it/s]\n",
      "100%|██████████| 1/1 [00:00<00:00, 14.53it/s]\n",
      "100%|██████████| 1/1 [00:00<00:00, 17.90it/s]\n",
      "  0%|          | 0/1 [00:00<?, ?it/s]"
     ]
    },
    {
     "name": "stdout",
     "output_type": "stream",
     "text": [
      "2.6349950092444696 1.9443940062813319\n",
      "2.6349950092444696 1.941517362221379\n"
     ]
    },
    {
     "name": "stderr",
     "output_type": "stream",
     "text": [
      "100%|██████████| 1/1 [00:00<00:00, 13.19it/s]\n",
      "100%|██████████| 1/1 [00:00<00:00,  9.55it/s]\n",
      "100%|██████████| 1/1 [00:00<00:00, 15.67it/s]\n",
      "100%|██████████| 1/1 [00:00<00:00, 12.69it/s]\n",
      "  0%|          | 0/1 [00:00<?, ?it/s]"
     ]
    },
    {
     "name": "stdout",
     "output_type": "stream",
     "text": [
      "2.6349950092444696 2.014039089736748\n",
      "2.6349950092444696 1.9709960602284633\n"
     ]
    },
    {
     "name": "stderr",
     "output_type": "stream",
     "text": [
      "100%|██████████| 1/1 [00:00<00:00, 14.75it/s]\n",
      "100%|██████████| 1/1 [00:00<00:00,  8.80it/s]\n",
      "100%|██████████| 1/1 [00:00<00:00,  9.93it/s]\n",
      "100%|██████████| 1/1 [00:00<00:00, 18.23it/s]\n",
      "  0%|          | 0/1 [00:00<?, ?it/s]"
     ]
    },
    {
     "name": "stdout",
     "output_type": "stream",
     "text": [
      "2.6349950092444696 1.9545550864193018\n",
      "2.6349950092444696 1.9496151745345647\n"
     ]
    },
    {
     "name": "stderr",
     "output_type": "stream",
     "text": [
      "100%|██████████| 1/1 [00:00<00:00, 18.91it/s]\n",
      "100%|██████████| 1/1 [00:00<00:00, 13.02it/s]\n",
      "100%|██████████| 1/1 [00:00<00:00, 13.83it/s]\n",
      "100%|██████████| 1/1 [00:00<00:00, 14.74it/s]\n",
      "  0%|          | 0/1 [00:00<?, ?it/s]"
     ]
    },
    {
     "name": "stdout",
     "output_type": "stream",
     "text": [
      "2.6349950092444696 1.948096228242148\n",
      "2.6349950092444696 1.9511341208269815\n"
     ]
    },
    {
     "name": "stderr",
     "output_type": "stream",
     "text": [
      "100%|██████████| 1/1 [00:00<00:00, 14.53it/s]\n",
      "100%|██████████| 1/1 [00:00<00:00, 14.75it/s]\n",
      "100%|██████████| 1/1 [00:00<00:00, 13.19it/s]\n",
      "100%|██████████| 1/1 [00:00<00:00, 13.19it/s]\n",
      "  0%|          | 0/1 [00:00<?, ?it/s]"
     ]
    },
    {
     "name": "stdout",
     "output_type": "stream",
     "text": [
      "2.6820610569430974 1.7977205462928856\n",
      "2.6349950092444696 1.9496151745345647\n"
     ]
    },
    {
     "name": "stderr",
     "output_type": "stream",
     "text": [
      "100%|██████████| 1/1 [00:00<00:00, 11.80it/s]\n",
      "100%|██████████| 1/1 [00:00<00:00, 10.03it/s]\n",
      "100%|██████████| 1/1 [00:00<00:00, 10.44it/s]\n",
      "100%|██████████| 1/1 [00:00<00:00, 13.19it/s]"
     ]
    },
    {
     "name": "stdout",
     "output_type": "stream",
     "text": [
      "3.6349950092444696 1.9496151745345647\n"
     ]
    },
    {
     "name": "stderr",
     "output_type": "stream",
     "text": [
      "\n",
      "100%|██████████| 1/1 [00:00<00:00, 19.27it/s]\n",
      "100%|██████████| 1/1 [00:00<00:00, 18.57it/s]\n",
      "100%|██████████| 1/1 [00:00<00:00, 21.31it/s]\n",
      "  0%|          | 0/1 [00:00<?, ?it/s]"
     ]
    },
    {
     "name": "stdout",
     "output_type": "stream",
     "text": [
      "1.0169610092444696 1.9496151745345647\n",
      "2.6349950092444696 1.9496151745345647\n"
     ]
    },
    {
     "name": "stderr",
     "output_type": "stream",
     "text": [
      "100%|██████████| 1/1 [00:00<00:00, 18.90it/s]\n",
      "100%|██████████| 1/1 [00:00<00:00, 20.87it/s]\n",
      "100%|██████████| 1/1 [00:00<00:00, 20.89it/s]\n",
      "  0%|          | 0/1 [00:00<?, ?it/s]"
     ]
    },
    {
     "name": "stdout",
     "output_type": "stream",
     "text": [
      "2.0169610344004694 1.9496151745345647\n",
      "3.0169610092444694 1.9496151745345647\n"
     ]
    },
    {
     "name": "stderr",
     "output_type": "stream",
     "text": [
      "100%|██████████| 1/1 [00:00<00:00, 12.85it/s]\n",
      "100%|██████████| 1/1 [00:00<00:00, 12.85it/s]\n",
      "100%|██████████| 1/1 [00:00<00:00, 16.17it/s]\n",
      "100%|██████████| 1/1 [00:00<00:00, 14.32it/s]\n",
      "100%|██████████| 1/1 [00:00<00:00, 16.44it/s]"
     ]
    },
    {
     "name": "stdout",
     "output_type": "stream",
     "text": [
      "2.549775982983572 1.9496151745345647\n",
      "2.78089303440047 1.9496151745345647\n"
     ]
    },
    {
     "name": "stderr",
     "output_type": "stream",
     "text": [
      "\n",
      "100%|██████████| 1/1 [00:00<00:00, 18.23it/s]\n",
      "100%|██████████| 1/1 [00:00<00:00, 14.32it/s]\n",
      "100%|██████████| 1/1 [00:00<00:00, 15.43it/s]\n",
      "  0%|          | 0/1 [00:00<?, ?it/s]"
     ]
    },
    {
     "name": "stdout",
     "output_type": "stream",
     "text": [
      "2.690723094321206 1.9496151745345647\n",
      "2.6024442386596998 1.9496151745345647\n"
     ]
    },
    {
     "name": "stderr",
     "output_type": "stream",
     "text": [
      "100%|██████████| 1/1 [00:00<00:00, 17.29it/s]\n",
      "100%|██████████| 1/1 [00:00<00:00, 16.44it/s]\n",
      "100%|██████████| 1/1 [00:00<00:00, 12.53it/s]\n",
      "100%|██████████| 1/1 [00:00<00:00, 16.71it/s]\n",
      "  0%|          | 0/1 [00:00<?, ?it/s]"
     ]
    },
    {
     "name": "stdout",
     "output_type": "stream",
     "text": [
      "2.6562812429888902 1.9496151745345647\n",
      "2.6339268709597228 1.9496151745345647\n"
     ]
    },
    {
     "name": "stderr",
     "output_type": "stream",
     "text": [
      "100%|██████████| 1/1 [00:00<00:00, 19.29it/s]\n",
      "100%|██████████| 1/1 [00:00<00:00, 19.27it/s]\n",
      "100%|██████████| 1/1 [00:00<00:00, 19.27it/s]\n",
      "100%|██████████| 1/1 [00:00<00:00, 20.04it/s]\n",
      "100%|██████████| 1/1 [00:00<00:00, 20.05it/s]\n",
      "  0%|          | 0/1 [00:00<?, ?it/s]"
     ]
    },
    {
     "name": "stdout",
     "output_type": "stream",
     "text": [
      "2.6450018270762192 1.9496151745345647\n",
      "2.6388172734243915 1.9496151745345647\n"
     ]
    },
    {
     "name": "stderr",
     "output_type": "stream",
     "text": [
      "100%|██████████| 1/1 [00:00<00:00, 18.57it/s]\n",
      "100%|██████████| 1/1 [00:00<00:00, 18.57it/s]\n",
      "100%|██████████| 1/1 [00:00<00:00, 15.92it/s]\n",
      "100%|██████████| 1/1 [00:00<00:00, 17.29it/s]"
     ]
    },
    {
     "name": "stdout",
     "output_type": "stream",
     "text": [
      "2.6364549842042178 1.9496151745345647\n",
      "2.635552670039945 1.9496151745345647\n"
     ]
    },
    {
     "name": "stderr",
     "output_type": "stream",
     "text": [
      "\n",
      "100%|██████████| 1/1 [00:00<00:00, 16.44it/s]\n",
      "100%|██████████| 1/1 [00:00<00:00, 15.92it/s]\n",
      "100%|██████████| 1/1 [00:00<00:00, 15.42it/s]\n",
      "100%|██████████| 1/1 [00:00<00:00, 18.90it/s]"
     ]
    },
    {
     "name": "stdout",
     "output_type": "stream",
     "text": [
      "2.634587016736398 1.9496151745345647\n",
      "2.635208016707874 1.9496151745345647\n"
     ]
    },
    {
     "name": "stderr",
     "output_type": "stream",
     "text": [
      "\n",
      "100%|██████████| 1/1 [00:00<00:00, 18.57it/s]\n",
      "100%|██████████| 1/1 [00:00<00:00, 19.66it/s]\n",
      "100%|██████████| 1/1 [00:00<00:00, 20.04it/s]\n",
      "100%|██████████| 1/1 [00:00<00:00, 20.32it/s]\n",
      "  0%|          | 0/1 [00:00<?, ?it/s]"
     ]
    },
    {
     "name": "stdout",
     "output_type": "stream",
     "text": [
      "2.6348391699781315 1.9496151745345647\n",
      "2.6350763708532363 1.9496151745345647\n"
     ]
    },
    {
     "name": "stderr",
     "output_type": "stream",
     "text": [
      "100%|██████████| 1/1 [00:00<00:00, 20.87it/s]\n",
      "100%|██████████| 1/1 [00:00<00:00, 19.29it/s]\n",
      "100%|██████████| 1/1 [00:00<00:00, 18.92it/s]\n",
      "100%|██████████| 1/1 [00:00<00:00, 20.89it/s]\n",
      "100%|██████████| 1/1 [00:00<00:00, 20.06it/s]"
     ]
    },
    {
     "name": "stdout",
     "output_type": "stream",
     "text": [
      "2.6349354839432637 1.9496151745345647\n",
      "2.635026086612724 1.9496151745345647\n"
     ]
    },
    {
     "name": "stderr",
     "output_type": "stream",
     "text": [
      "\n",
      "100%|██████████| 1/1 [00:00<00:00, 20.44it/s]\n",
      "100%|██████████| 1/1 [00:00<00:00, 19.23it/s]\n",
      "100%|██████████| 1/1 [00:00<00:00, 18.91it/s]\n",
      "  0%|          | 0/1 [00:00<?, ?it/s]"
     ]
    },
    {
     "name": "stdout",
     "output_type": "stream",
     "text": [
      "2.634972272603269 1.9496151745345647\n",
      "2.6350068797425124 1.9496151745345647\n"
     ]
    },
    {
     "name": "stderr",
     "output_type": "stream",
     "text": [
      "100%|██████████| 1/1 [00:00<00:00, 19.28it/s]\n",
      "100%|██████████| 1/1 [00:00<00:00, 20.87it/s]\n",
      "100%|██████████| 1/1 [00:00<00:00, 20.44it/s]\n",
      "100%|██████████| 1/1 [00:00<00:00, 21.77it/s]\n",
      "100%|██████████| 1/1 [00:00<00:00, 20.87it/s]"
     ]
    },
    {
     "name": "stdout",
     "output_type": "stream",
     "text": [
      "2.6349863246205767 1.9496151745345647\n",
      "2.634999543371125 1.9496151745345647\n"
     ]
    },
    {
     "name": "stderr",
     "output_type": "stream",
     "text": [
      "\n",
      "100%|██████████| 1/1 [00:00<00:00, 20.05it/s]\n",
      "100%|██████████| 1/1 [00:00<00:00, 17.91it/s]\n",
      "100%|██████████| 1/1 [00:00<00:00, 20.02it/s]\n",
      "  0%|          | 0/1 [00:00<?, ?it/s]"
     ]
    },
    {
     "name": "stdout",
     "output_type": "stream",
     "text": [
      "2.6350023456155585 1.9496151745345647\n",
      "2.6349994674542527 1.9496151745345647\n"
     ]
    },
    {
     "name": "stderr",
     "output_type": "stream",
     "text": [
      "100%|██████████| 1/1 [00:00<00:00, 18.90it/s]\n",
      "100%|██████████| 1/1 [00:00<00:00, 19.27it/s]\n",
      "100%|██████████| 1/1 [00:00<00:00, 20.86it/s]\n",
      "100%|██████████| 1/1 [00:00<00:00, 20.04it/s]\n",
      "  0%|          | 0/1 [00:00<?, ?it/s]"
     ]
    },
    {
     "name": "stdout",
     "output_type": "stream",
     "text": [
      "2.635000365030186 1.9496151745345647\n",
      "2.635001121546458 1.9496151745345647\n"
     ]
    },
    {
     "name": "stderr",
     "output_type": "stream",
     "text": [
      "100%|██████████| 1/1 [00:00<00:00, 20.44it/s]\n",
      "100%|██████████| 1/1 [00:00<00:00, 21.77it/s]\n",
      "100%|██████████| 1/1 [00:00<00:00, 20.04it/s]\n",
      "100%|██████████| 1/1 [00:00<00:00, 21.33it/s]\n",
      "100%|██████████| 1/1 [00:00<00:00, 20.44it/s]"
     ]
    },
    {
     "name": "stdout",
     "output_type": "stream",
     "text": [
      "2.635000010515779 1.9496151745345647\n",
      "2.634999960493066 1.9496151745345647\n"
     ]
    },
    {
     "name": "stderr",
     "output_type": "stream",
     "text": [
      "\n",
      "100%|██████████| 1/1 [00:00<00:00, 19.66it/s]\n",
      "100%|██████████| 1/1 [00:00<00:00, 19.65it/s]\n",
      "100%|██████████| 1/1 [00:00<00:00, 14.32it/s]\n",
      "  0%|          | 0/1 [00:00<?, ?it/s]"
     ]
    },
    {
     "name": "stdout",
     "output_type": "stream",
     "text": [
      "2.6350000605384922 1.9496151745345647\n",
      "2.635000010515779 1.9496151745345647\n"
     ]
    },
    {
     "name": "stderr",
     "output_type": "stream",
     "text": [
      "100%|██████████| 1/1 [00:00<00:00, 15.90it/s]\n",
      "100%|██████████| 1/1 [00:00<00:00, 43.50it/s]\n",
      "100%|██████████| 1/1 [00:00<00:00, 45.58it/s]\n",
      "100%|██████████| 1/1 [00:00<00:00, 20.46it/s]\n",
      "100%|██████████| 1/1 [00:00<00:00, 18.90it/s]\n",
      "100%|██████████| 1/1 [00:00<00:00, 23.87it/s]"
     ]
    },
    {
     "name": "stdout",
     "output_type": "stream",
     "text": [
      "2.635000010515779 2.9496151745345647\n",
      "2.635000010515779 0.3315811745345647\n",
      "2.635000010515779 1.9496151745345647\n"
     ]
    },
    {
     "name": "stderr",
     "output_type": "stream",
     "text": [
      "\n",
      "100%|██████████| 1/1 [00:00<00:00, 22.28it/s]\n",
      "100%|██████████| 1/1 [00:00<00:00, 16.44it/s]\n",
      "100%|██████████| 1/1 [00:00<00:00, 15.19it/s]\n",
      "100%|██████████| 1/1 [00:00<00:00, 18.23it/s]"
     ]
    },
    {
     "name": "stdout",
     "output_type": "stream",
     "text": [
      "2.635000010515779 1.3315811996905647\n",
      "2.635000010515779 2.3315811745345645\n"
     ]
    },
    {
     "name": "stderr",
     "output_type": "stream",
     "text": [
      "\n",
      "100%|██████████| 1/1 [00:00<00:00, 18.92it/s]\n",
      "100%|██████████| 1/1 [00:00<00:00, 18.90it/s]\n",
      "100%|██████████| 1/1 [00:00<00:00, 17.59it/s]\n",
      "100%|██████████| 1/1 [00:00<00:00, 18.90it/s]\n",
      "  0%|          | 0/1 [00:00<?, ?it/s]"
     ]
    },
    {
     "name": "stdout",
     "output_type": "stream",
     "text": [
      "2.635000010515779 1.9369353622852257\n",
      "2.635000010515779 2.025215152673436\n"
     ]
    },
    {
     "name": "stderr",
     "output_type": "stream",
     "text": [
      "100%|██████████| 1/1 [00:00<00:00, 17.29it/s]\n",
      "100%|██████████| 1/1 [00:00<00:00, 17.89it/s]\n",
      "100%|██████████| 1/1 [00:00<00:00, 18.57it/s]\n",
      "100%|██████████| 1/1 [00:00<00:00, 17.29it/s]\n",
      "  0%|          | 0/1 [00:00<?, ?it/s]"
     ]
    },
    {
     "name": "stdout",
     "output_type": "stream",
     "text": [
      "2.635000010515779 1.9784917957843566\n",
      "2.635000010515779 1.9597862845641545\n"
     ]
    },
    {
     "name": "stderr",
     "output_type": "stream",
     "text": [
      "100%|██████████| 1/1 [00:00<00:00, 18.92it/s]\n",
      "100%|██████████| 1/1 [00:00<00:00, 18.55it/s]\n",
      "100%|██████████| 1/1 [00:00<00:00, 18.55it/s]\n",
      "100%|██████████| 1/1 [00:00<00:00, 18.22it/s]\n",
      "  0%|          | 0/1 [00:00<?, ?it/s]"
     ]
    },
    {
     "name": "stdout",
     "output_type": "stream",
     "text": [
      "2.635000010515779 1.9562514768374866\n",
      "2.635000010515779 1.9669311538628902\n"
     ]
    },
    {
     "name": "stderr",
     "output_type": "stream",
     "text": [
      "100%|██████████| 1/1 [00:00<00:00, 18.22it/s]\n",
      "100%|██████████| 1/1 [00:00<00:00, 17.93it/s]\n",
      "100%|██████████| 1/1 [00:00<00:00, 17.59it/s]\n",
      "100%|██████████| 1/1 [00:00<00:00, 17.89it/s]"
     ]
    },
    {
     "name": "stdout",
     "output_type": "stream",
     "text": [
      "2.635000010515779 1.9625153817107153\n",
      "2.635000010515779 1.95843610819603\n"
     ]
    },
    {
     "name": "stderr",
     "output_type": "stream",
     "text": [
      "\n",
      "100%|██████████| 1/1 [00:00<00:00, 13.72it/s]\n",
      "100%|██████████| 1/1 [00:00<00:00, 18.55it/s]\n",
      "100%|██████████| 1/1 [00:00<00:00, 18.92it/s]\n",
      "100%|██████████| 1/1 [00:00<00:00, 16.98it/s]\n",
      "  0%|          | 0/1 [00:00<?, ?it/s]"
     ]
    },
    {
     "name": "stdout",
     "output_type": "stream",
     "text": [
      "2.635000010515779 1.9608287068848378\n",
      "2.635000010515779 1.9592705630975273\n"
     ]
    },
    {
     "name": "stderr",
     "output_type": "stream",
     "text": [
      "100%|██████████| 1/1 [00:00<00:00, 16.43it/s]\n",
      "100%|██████████| 1/1 [00:00<00:00, 18.90it/s]\n",
      "100%|██████████| 1/1 [00:00<00:00, 18.22it/s]\n",
      "100%|██████████| 1/1 [00:00<00:00, 18.55it/s]\n",
      "  0%|          | 0/1 [00:00<?, ?it/s]"
     ]
    },
    {
     "name": "stdout",
     "output_type": "stream",
     "text": [
      "2.635000010515779 1.9601844544482965\n",
      "2.635000010515779 1.9595892964984327\n"
     ]
    },
    {
     "name": "stderr",
     "output_type": "stream",
     "text": [
      "100%|██████████| 1/1 [00:00<00:00, 16.98it/s]\n",
      "100%|██████████| 1/1 [00:00<00:00, 18.57it/s]\n",
      "100%|██████████| 1/1 [00:00<00:00, 18.54it/s]\n",
      "100%|██████████| 1/1 [00:00<00:00, 18.90it/s]\n",
      "  0%|          | 0/1 [00:00<?, ?it/s]"
     ]
    },
    {
     "name": "stdout",
     "output_type": "stream",
     "text": [
      "2.635000010515779 1.9599383719221206\n",
      "2.635000010515779 1.9600416039059962\n"
     ]
    },
    {
     "name": "stderr",
     "output_type": "stream",
     "text": [
      "100%|██████████| 1/1 [00:00<00:00, 17.28it/s]\n",
      "100%|██████████| 1/1 [00:00<00:00, 19.64it/s]\n",
      "100%|██████████| 1/1 [00:00<00:00, 18.22it/s]\n",
      "100%|██████████| 1/1 [00:00<00:00, 19.28it/s]\n",
      "  0%|          | 0/1 [00:00<?, ?it/s]"
     ]
    },
    {
     "name": "stdout",
     "output_type": "stream",
     "text": [
      "2.6350050117870887 1.9702615693096766\n",
      "2.635000010515779 1.9599383719221206\n"
     ]
    },
    {
     "name": "stderr",
     "output_type": "stream",
     "text": [
      "100%|██████████| 1/1 [00:00<00:00, 18.91it/s]\n",
      "100%|██████████| 1/1 [00:00<00:00, 19.30it/s]\n",
      "100%|██████████| 1/1 [00:00<00:00, 19.64it/s]\n",
      "100%|██████████| 1/1 [00:00<00:00, 19.64it/s]\n",
      "  0%|          | 0/1 [00:00<?, ?it/s]"
     ]
    },
    {
     "name": "stdout",
     "output_type": "stream",
     "text": [
      "3.635000010515779 1.9599383719221206\n",
      "1.0169660105157792 1.9599383719221206\n"
     ]
    },
    {
     "name": "stderr",
     "output_type": "stream",
     "text": [
      "100%|██████████| 1/1 [00:00<00:00, 19.27it/s]\n",
      "100%|██████████| 1/1 [00:00<00:00, 19.28it/s]\n",
      "100%|██████████| 1/1 [00:00<00:00, 19.65it/s]\n",
      "100%|██████████| 1/1 [00:00<00:00, 20.04it/s]\n",
      "100%|██████████| 1/1 [00:00<00:00, 19.28it/s]"
     ]
    },
    {
     "name": "stdout",
     "output_type": "stream",
     "text": [
      "2.635000010515779 1.9599383719221206\n",
      "2.0169660356717793 1.9599383719221206\n"
     ]
    },
    {
     "name": "stderr",
     "output_type": "stream",
     "text": [
      "\n",
      "100%|██████████| 1/1 [00:00<00:00, 18.57it/s]\n",
      "100%|██████████| 1/1 [00:00<00:00, 16.42it/s]\n",
      "100%|██████████| 1/1 [00:00<00:00, 18.90it/s]\n",
      "  0%|          | 0/1 [00:00<?, ?it/s]"
     ]
    },
    {
     "name": "stdout",
     "output_type": "stream",
     "text": [
      "3.0169660105157794 1.9599383719221206\n",
      "2.5481658660100117 1.9599383719221206\n"
     ]
    },
    {
     "name": "stderr",
     "output_type": "stream",
     "text": [
      "100%|██████████| 1/1 [00:00<00:00, 18.90it/s]\n",
      "100%|██████████| 1/1 [00:00<00:00, 19.27it/s]\n",
      "100%|██████████| 1/1 [00:00<00:00, 18.90it/s]\n",
      "100%|██████████| 1/1 [00:00<00:00, 19.65it/s]\n",
      "  0%|          | 0/1 [00:00<?, ?it/s]"
     ]
    },
    {
     "name": "stdout",
     "output_type": "stream",
     "text": [
      "2.783266487778598 1.9599383719221206\n",
      "2.6916327637699493 1.9599383719221206\n"
     ]
    },
    {
     "name": "stderr",
     "output_type": "stream",
     "text": [
      "100%|██████████| 1/1 [00:00<00:00, 18.90it/s]\n",
      "100%|██████████| 1/1 [00:00<00:00, 19.64it/s]\n",
      "100%|██████████| 1/1 [00:00<00:00, 18.55it/s]\n",
      "100%|██████████| 1/1 [00:00<00:00, 16.70it/s]\n",
      "  0%|          | 0/1 [00:00<?, ?it/s]"
     ]
    },
    {
     "name": "stdout",
     "output_type": "stream",
     "text": [
      "2.601832319675489 1.9599383719221206\n",
      "2.6566317967452613 1.9599383719221206\n"
     ]
    },
    {
     "name": "stderr",
     "output_type": "stream",
     "text": [
      "100%|██████████| 1/1 [00:00<00:00, 18.21it/s]\n",
      "100%|██████████| 1/1 [00:00<00:00, 18.91it/s]\n",
      "100%|██████████| 1/1 [00:00<00:00, 19.27it/s]\n",
      "100%|██████████| 1/1 [00:00<00:00, 18.22it/s]\n",
      "  0%|          | 0/1 [00:00<?, ?it/s]"
     ]
    },
    {
     "name": "stdout",
     "output_type": "stream",
     "text": [
      "2.622331080316277 1.9599383719221206\n",
      "2.6432626173747096 1.9599383719221206\n"
     ]
    },
    {
     "name": "stderr",
     "output_type": "stream",
     "text": [
      "100%|██████████| 1/1 [00:00<00:00, 19.28it/s]\n",
      "100%|██████████| 1/1 [00:00<00:00, 19.64it/s]\n",
      "100%|██████████| 1/1 [00:00<00:00, 19.27it/s]\n",
      "100%|██████████| 1/1 [00:00<00:00, 18.92it/s]\n",
      "  0%|          | 0/1 [00:00<?, ?it/s]"
     ]
    },
    {
     "name": "stdout",
     "output_type": "stream",
     "text": [
      "2.630160909923196 1.9599383719221206\n",
      "2.6381560454072575 1.9599383719221206\n"
     ]
    },
    {
     "name": "stderr",
     "output_type": "stream",
     "text": [
      "100%|██████████| 1/1 [00:00<00:00, 17.27it/s]\n",
      "100%|██████████| 1/1 [00:00<00:00, 19.27it/s]\n",
      "100%|██████████| 1/1 [00:00<00:00, 19.26it/s]\n",
      "100%|██████████| 1/1 [00:00<00:00, 19.69it/s]\n",
      "100%|██████████| 1/1 [00:00<00:00, 19.64it/s]"
     ]
    },
    {
     "name": "stdout",
     "output_type": "stream",
     "text": [
      "2.6331516386188327 1.9599383719221206\n",
      "2.6362055085391374 1.9599383719221206\n"
     ]
    },
    {
     "name": "stderr",
     "output_type": "stream",
     "text": [
      "\n",
      "100%|██████████| 1/1 [00:00<00:00, 19.22it/s]\n",
      "100%|██████████| 1/1 [00:00<00:00, 18.23it/s]\n",
      "100%|██████████| 1/1 [00:00<00:00, 18.23it/s]\n",
      "  0%|          | 0/1 [00:00<?, ?it/s]"
     ]
    },
    {
     "name": "stdout",
     "output_type": "stream",
     "text": [
      "2.6342939952957902 1.9599383719221206\n",
      "2.635124874102117 1.9599383719221206\n"
     ]
    },
    {
     "name": "stderr",
     "output_type": "stream",
     "text": [
      "100%|██████████| 1/1 [00:00<00:00, 15.60it/s]\n",
      "100%|██████████| 1/1 [00:00<00:00, 19.64it/s]\n",
      "100%|██████████| 1/1 [00:00<00:00, 19.28it/s]\n",
      "100%|██████████| 1/1 [00:00<00:00, 19.64it/s]\n",
      "  0%|          | 0/1 [00:00<?, ?it/s]"
     ]
    },
    {
     "name": "stdout",
     "output_type": "stream",
     "text": [
      "2.6348547195149 1.9599383719221206\n",
      "2.6349948987758456 1.9599383719221206\n"
     ]
    },
    {
     "name": "stderr",
     "output_type": "stream",
     "text": [
      "100%|██████████| 1/1 [00:00<00:00, 18.90it/s]\n",
      "100%|██████████| 1/1 [00:00<00:00, 19.64it/s]\n",
      "100%|██████████| 1/1 [00:00<00:00, 19.64it/s]\n",
      "100%|██████████| 1/1 [00:00<00:00, 20.45it/s]\n",
      "100%|██████████| 1/1 [00:00<00:00, 17.90it/s]"
     ]
    },
    {
     "name": "stdout",
     "output_type": "stream",
     "text": [
      "2.6350298815257736 1.9599383719221206\n",
      "2.635011420225983 1.9599383719221206\n"
     ]
    },
    {
     "name": "stderr",
     "output_type": "stream",
     "text": [
      "\n",
      "100%|██████████| 1/1 [00:00<00:00, 19.48it/s]\n",
      "100%|██████████| 1/1 [00:00<00:00, 18.22it/s]\n",
      "100%|██████████| 1/1 [00:00<00:00, 18.92it/s]\n",
      "  0%|          | 0/1 [00:00<?, ?it/s]"
     ]
    },
    {
     "name": "stdout",
     "output_type": "stream",
     "text": [
      "2.6350015764979804 1.9599383719221206\n",
      "2.634999120636584 1.9599383719221206\n"
     ]
    },
    {
     "name": "stderr",
     "output_type": "stream",
     "text": [
      "100%|██████████| 1/1 [00:00<00:00, 19.26it/s]\n",
      "100%|██████████| 1/1 [00:00<00:00, 19.27it/s]\n",
      "100%|██████████| 1/1 [00:00<00:00, 18.59it/s]\n",
      "100%|██████████| 1/1 [00:00<00:00, 19.64it/s]\n",
      "  0%|          | 0/1 [00:00<?, ?it/s]"
     ]
    },
    {
     "name": "stdout",
     "output_type": "stream",
     "text": [
      "2.63500017220302 1.9599383719221206\n",
      "2.634999825325541 1.9599383719221206\n"
     ]
    },
    {
     "name": "stderr",
     "output_type": "stream",
     "text": [
      "100%|██████████| 1/1 [00:00<00:00, 19.28it/s]\n",
      "100%|██████████| 1/1 [00:00<00:00, 18.92it/s]\n",
      "100%|██████████| 1/1 [00:00<00:00, 19.66it/s]\n",
      "100%|██████████| 1/1 [00:00<00:00, 17.59it/s]\n",
      "  0%|          | 0/1 [00:00<?, ?it/s]"
     ]
    },
    {
     "name": "stdout",
     "output_type": "stream",
     "text": [
      "2.6349999994219684 1.9599383719221206\n",
      "2.6349999329230522 1.9599383719221206\n"
     ]
    },
    {
     "name": "stderr",
     "output_type": "stream",
     "text": [
      "100%|██████████| 1/1 [00:00<00:00, 17.29it/s]\n",
      "100%|██████████| 1/1 [00:00<00:00, 18.90it/s]\n",
      "100%|██████████| 1/1 [00:00<00:00, 18.90it/s]\n",
      "100%|██████████| 1/1 [00:00<00:00, 19.66it/s]\n",
      "  0%|          | 0/1 [00:00<?, ?it/s]"
     ]
    },
    {
     "name": "stdout",
     "output_type": "stream",
     "text": [
      "2.6349999866467066 1.9599383719221206\n",
      "2.6349999993010305 1.9599383719221206\n"
     ]
    },
    {
     "name": "stderr",
     "output_type": "stream",
     "text": [
      "100%|██████████| 1/1 [00:00<00:00, 18.23it/s]\n",
      "100%|██████████| 1/1 [00:00<00:00, 19.27it/s]\n",
      "100%|██████████| 1/1 [00:00<00:00, 19.29it/s]\n",
      "100%|██████████| 1/1 [00:00<00:00, 19.28it/s]\n",
      "100%|██████████| 1/1 [00:00<00:00, 17.29it/s]"
     ]
    },
    {
     "name": "stdout",
     "output_type": "stream",
     "text": [
      "2.635000002320706 1.9599383719221206\n",
      "2.6350000005291876 1.9599383719221206\n"
     ]
    },
    {
     "name": "stderr",
     "output_type": "stream",
     "text": [
      "\n",
      "100%|██████████| 1/1 [00:00<00:00, 17.59it/s]\n",
      "100%|██████████| 1/1 [00:00<00:00, 16.70it/s]\n",
      "100%|██████████| 1/1 [00:00<00:00, 16.17it/s]"
     ]
    },
    {
     "name": "stdout",
     "output_type": "stream",
     "text": [
      "2.6350000000100455 1.9599383719221206\n",
      "2.6349999998949882 1.9599383719221206\n"
     ]
    },
    {
     "name": "stderr",
     "output_type": "stream",
     "text": [
      "\n",
      "100%|██████████| 1/1 [00:00<00:00, 19.27it/s]\n",
      "100%|██████████| 1/1 [00:00<00:00, 18.57it/s]\n",
      "100%|██████████| 1/1 [00:00<00:00, 18.92it/s]\n",
      "100%|██████████| 1/1 [00:00<00:00, 14.52it/s]"
     ]
    },
    {
     "name": "stdout",
     "output_type": "stream",
     "text": [
      "2.635000000125103 1.9599383719221206\n",
      "2.6350000000100455 1.9599383719221206\n"
     ]
    },
    {
     "name": "stderr",
     "output_type": "stream",
     "text": [
      "\n",
      "100%|██████████| 1/1 [00:00<00:00, 14.33it/s]\n",
      "100%|██████████| 1/1 [00:00<00:00, 38.50it/s]\n",
      "100%|██████████| 1/1 [00:00<00:00, 41.71it/s]\n",
      "100%|██████████| 1/1 [00:00<00:00, 18.92it/s]\n",
      "100%|██████████| 1/1 [00:00<00:00, 18.82it/s]\n",
      "  0%|          | 0/1 [00:00<?, ?it/s]"
     ]
    },
    {
     "name": "stdout",
     "output_type": "stream",
     "text": [
      "2.6350000000100455 2.959938371922121\n",
      "2.6350000000100455 0.34190437192212064\n",
      "2.6350000000100455 1.9599383719221206\n"
     ]
    },
    {
     "name": "stderr",
     "output_type": "stream",
     "text": [
      "100%|██████████| 1/1 [00:00<00:00, 23.30it/s]\n",
      "100%|██████████| 1/1 [00:00<00:00, 24.45it/s]\n",
      "100%|██████████| 1/1 [00:00<00:00, 17.29it/s]\n",
      "100%|██████████| 1/1 [00:00<00:00, 17.29it/s]\n",
      "100%|██████████| 1/1 [00:00<00:00, 18.21it/s]\n",
      "  0%|          | 0/1 [00:00<?, ?it/s]"
     ]
    },
    {
     "name": "stdout",
     "output_type": "stream",
     "text": [
      "2.6350000000100455 1.3419043970781206\n",
      "2.6350000000100455 2.3419043719221206\n"
     ]
    },
    {
     "name": "stderr",
     "output_type": "stream",
     "text": [
      "100%|██████████| 1/1 [00:00<00:00, 18.93it/s]\n",
      "100%|██████████| 1/1 [00:00<00:00, 16.98it/s]\n",
      "100%|██████████| 1/1 [00:00<00:00, 17.81it/s]\n",
      "100%|██████████| 1/1 [00:00<00:00, 19.27it/s]\n"
     ]
    },
    {
     "name": "stdout",
     "output_type": "stream",
     "text": [
      "2.6350000000100455 1.937330131528631\n",
      "2.6350000000100455 2.002206070101144\n"
     ]
    },
    {
     "name": "stderr",
     "output_type": "stream",
     "text": [
      "100%|██████████| 1/1 [00:00<00:00, 19.64it/s]\n",
      "100%|██████████| 1/1 [00:00<00:00, 19.64it/s]\n",
      "100%|██████████| 1/1 [00:00<00:00, 19.28it/s]\n",
      "100%|██████████| 1/1 [00:00<00:00, 16.92it/s]\n",
      "  0%|          | 0/1 [00:00<?, ?it/s]"
     ]
    },
    {
     "name": "stdout",
     "output_type": "stream",
     "text": [
      "2.6350000000100455 1.9599485951957092\n",
      "2.6350000000100455 1.9760895138554386\n"
     ]
    },
    {
     "name": "stderr",
     "output_type": "stream",
     "text": [
      "100%|██████████| 1/1 [00:00<00:00, 17.27it/s]\n",
      "100%|██████████| 1/1 [00:00<00:00, 16.71it/s]\n",
      "100%|██████████| 1/1 [00:00<00:00, 16.99it/s]\n",
      "  0%|          | 0/1 [00:00<?, ?it/s]"
     ]
    },
    {
     "name": "stdout",
     "output_type": "stream",
     "text": [
      "2.6350000000100455 1.9661138773324913\n",
      "2.6350000000100455 1.9623035233523674\n"
     ]
    },
    {
     "name": "stderr",
     "output_type": "stream",
     "text": [
      "100%|██████████| 1/1 [00:00<00:00, 15.67it/s]\n",
      "100%|██████████| 1/1 [00:00<00:00, 16.03it/s]\n",
      "100%|██████████| 1/1 [00:00<00:00, 16.70it/s]\n",
      "100%|██████████| 1/1 [00:00<00:00, 16.44it/s]\n",
      "  0%|          | 0/1 [00:00<?, ?it/s]"
     ]
    },
    {
     "name": "stdout",
     "output_type": "stream",
     "text": [
      "2.6350000000100455 1.9608480976839953\n",
      "2.6350000000100455 1.9602921745631499\n"
     ]
    },
    {
     "name": "stderr",
     "output_type": "stream",
     "text": [
      "100%|██████████| 1/1 [00:00<00:00, 17.29it/s]\n",
      "100%|██████████| 1/1 [00:00<00:00, 16.36it/s]\n",
      "100%|██████████| 1/1 [00:00<00:00, 16.44it/s]\n",
      "100%|██████████| 1/1 [00:00<00:00, 17.28it/s]\n",
      "100%|██████████| 1/1 [00:00<00:00, 17.58it/s]\n"
     ]
    },
    {
     "name": "stdout",
     "output_type": "stream",
     "text": [
      "2.6350000000100455 1.960079830832373\n",
      "2.6350000000100455 1.9599987227469031\n"
     ]
    },
    {
     "name": "stderr",
     "output_type": "stream",
     "text": [
      "100%|██████████| 1/1 [00:00<00:00, 14.97it/s]\n",
      "100%|██████████| 1/1 [00:00<00:00, 17.28it/s]\n",
      "100%|██████████| 1/1 [00:00<00:00, 16.70it/s]\n",
      "100%|██████████| 1/1 [00:00<00:00, 14.11it/s]"
     ]
    },
    {
     "name": "stdout",
     "output_type": "stream",
     "text": [
      "2.6350000000100455 1.9600297032778777\n",
      "2.6350000000100455 1.9599795757266838\n"
     ]
    },
    {
     "name": "stderr",
     "output_type": "stream",
     "text": [
      "\n",
      "100%|██████████| 1/1 [00:00<00:00, 16.56it/s]\n",
      "100%|██████████| 1/1 [00:00<00:00, 16.17it/s]\n",
      "100%|██████████| 1/1 [00:00<00:00, 17.91it/s]\n",
      "100%|██████████| 1/1 [00:00<00:00, 18.23it/s]\n",
      "  0%|          | 0/1 [00:00<?, ?it/s]"
     ]
    },
    {
     "name": "stdout",
     "output_type": "stream",
     "text": [
      "2.6350000000100455 1.9600105562563974\n",
      "2.6350000000100455 1.959991409236178\n"
     ]
    },
    {
     "name": "stderr",
     "output_type": "stream",
     "text": [
      "100%|██████████| 1/1 [00:00<00:00, 18.22it/s]\n",
      "100%|██████████| 1/1 [00:00<00:00, 18.55it/s]\n",
      "100%|██████████| 1/1 [00:00<00:00, 18.92it/s]\n",
      "100%|██████████| 1/1 [00:00<00:00, 19.27it/s]\n",
      "  0%|          | 0/1 [00:00<?, ?it/s]"
     ]
    },
    {
     "name": "stdout",
     "output_type": "stream",
     "text": [
      "2.6350000000100455 1.9600032427451906\n",
      "2.6350000000100455 1.9599959292344655\n"
     ]
    },
    {
     "name": "stderr",
     "output_type": "stream",
     "text": [
      "100%|██████████| 1/1 [00:00<00:00, 18.22it/s]\n",
      "100%|██████████| 1/1 [00:00<00:00, 18.90it/s]\n",
      "100%|██████████| 1/1 [00:00<00:00, 18.90it/s]\n",
      "100%|██████████| 1/1 [00:00<00:00, 16.99it/s]\n",
      "  0%|          | 0/1 [00:00<?, ?it/s]"
     ]
    },
    {
     "name": "stdout",
     "output_type": "stream",
     "text": [
      "2.6350000000100455 1.960000449232569\n",
      "2.6350000000100455 1.9599976557201315\n"
     ]
    },
    {
     "name": "stderr",
     "output_type": "stream",
     "text": [
      "100%|██████████| 1/1 [00:00<00:00, 17.59it/s]"
     ]
    },
    {
     "name": "stdout",
     "output_type": "stream",
     "text": [
      "2.6350000000100455 1.9599993822057271\n"
     ]
    },
    {
     "name": "stderr",
     "output_type": "stream",
     "text": [
      "\n"
     ]
    }
   ],
   "source": [
    "bnds = [(0,3), (0, 10)]\n",
    "result_2P = scipy.optimize.minimize(wrapper_2P, [0, 0], args=(theta_entry, phi_entry, theta_exit, phi_exit, accels, lin_resp, sensors_pos), method='Powell', bounds=bnds, options={'gtol': 1e-20})"
   ]
  },
  {
   "cell_type": "code",
   "execution_count": 58,
   "metadata": {
    "collapsed": true,
    "jupyter": {
     "outputs_hidden": true
    }
   },
   "outputs": [
    {
     "name": "stderr",
     "output_type": "stream",
     "text": [
      "100%|██████████| 1/1 [00:00<00:00, 16.16it/s]\n",
      "100%|██████████| 1/1 [00:00<00:00, 13.55it/s]\n",
      "  0%|          | 0/1 [00:00<?, ?it/s]"
     ]
    },
    {
     "name": "stdout",
     "output_type": "stream",
     "text": [
      "2.6350000000100455 1.9599993822057271\n"
     ]
    },
    {
     "name": "stderr",
     "output_type": "stream",
     "text": [
      "100%|██████████| 1/1 [00:00<00:00, 15.67it/s]\n",
      "100%|██████████| 1/1 [00:00<00:00, 12.38it/s]\n",
      "  0%|          | 0/1 [00:00<?, ?it/s]"
     ]
    },
    {
     "name": "stdout",
     "output_type": "stream",
     "text": [
      "2.6350000100100455 1.9599993822057271\n"
     ]
    },
    {
     "name": "stderr",
     "output_type": "stream",
     "text": [
      "100%|██████████| 1/1 [00:00<00:00, 13.19it/s]\n",
      "100%|██████████| 1/1 [00:00<00:00, 12.86it/s]\n",
      "  0%|          | 0/1 [00:00<?, ?it/s]"
     ]
    },
    {
     "name": "stdout",
     "output_type": "stream",
     "text": [
      "2.6350000000100455 1.959999392205727\n"
     ]
    },
    {
     "name": "stderr",
     "output_type": "stream",
     "text": [
      "100%|██████████| 1/1 [00:00<00:00,  4.25it/s]\n",
      "100%|██████████| 1/1 [00:00<00:00,  4.84it/s]\n",
      "100%|██████████| 1/1 [00:00<00:00,  4.71it/s]\n",
      "100%|██████████| 1/1 [00:00<00:00,  4.96it/s]"
     ]
    },
    {
     "name": "stdout",
     "output_type": "stream",
     "text": [
      "1e-08 10.0\n"
     ]
    },
    {
     "name": "stderr",
     "output_type": "stream",
     "text": [
      "100%|██████████| 1/1 [00:00<00:00,  4.92it/s]\n",
      "100%|██████████| 1/1 [00:00<00:00,  7.60it/s]\n",
      "100%|██████████| 1/1 [00:00<00:00,  7.11it/s]\n",
      "100%|██████████| 1/1 [00:00<00:00,  6.96it/s]\n",
      "  0%|          | 0/1 [00:00<?, ?it/s]"
     ]
    },
    {
     "name": "stdout",
     "output_type": "stream",
     "text": [
      "1.4714729452164217 5.510192262405129\n"
     ]
    },
    {
     "name": "stderr",
     "output_type": "stream",
     "text": [
      "100%|██████████| 1/1 [00:00<00:00,  7.06it/s]\n",
      "100%|██████████| 1/1 [00:00<00:00,  6.39it/s]\n",
      "  0%|          | 0/1 [00:00<?, ?it/s]"
     ]
    },
    {
     "name": "stdout",
     "output_type": "stream",
     "text": [
      "1.4714729552164216 5.510192262405129\n"
     ]
    },
    {
     "name": "stderr",
     "output_type": "stream",
     "text": [
      "100%|██████████| 1/1 [00:00<00:00,  6.11it/s]\n",
      "100%|██████████| 1/1 [00:00<00:00,  8.15it/s]\n",
      "  0%|          | 0/1 [00:00<?, ?it/s]"
     ]
    },
    {
     "name": "stdout",
     "output_type": "stream",
     "text": [
      "1.4714729452164217 5.510192272405129\n"
     ]
    },
    {
     "name": "stderr",
     "output_type": "stream",
     "text": [
      "100%|██████████| 1/1 [00:00<00:00,  8.29it/s]\n",
      "100%|██████████| 1/1 [00:00<00:00,  8.36it/s]\n",
      "  0%|          | 0/1 [00:00<?, ?it/s]"
     ]
    },
    {
     "name": "stdout",
     "output_type": "stream",
     "text": [
      "2.0830461750989686 3.6441394555499595\n"
     ]
    },
    {
     "name": "stderr",
     "output_type": "stream",
     "text": [
      "100%|██████████| 1/1 [00:00<00:00,  9.55it/s]\n",
      "100%|██████████| 1/1 [00:00<00:00,  9.37it/s]\n",
      "  0%|          | 0/1 [00:00<?, ?it/s]"
     ]
    },
    {
     "name": "stdout",
     "output_type": "stream",
     "text": [
      "2.0830461850989686 3.6441394555499595\n"
     ]
    },
    {
     "name": "stderr",
     "output_type": "stream",
     "text": [
      "100%|██████████| 1/1 [00:00<00:00,  8.64it/s]\n",
      "100%|██████████| 1/1 [00:00<00:00,  9.46it/s]\n",
      "100%|██████████| 1/1 [00:00<00:00, 11.26it/s]"
     ]
    },
    {
     "name": "stdout",
     "output_type": "stream",
     "text": [
      "2.0830461750989686 3.6441394655499595\n"
     ]
    },
    {
     "name": "stderr",
     "output_type": "stream",
     "text": [
      "\n",
      "100%|██████████| 1/1 [00:00<00:00, 12.08it/s]\n",
      "100%|██████████| 1/1 [00:00<00:00, 12.69it/s]\n",
      "  0%|          | 0/1 [00:00<?, ?it/s]"
     ]
    },
    {
     "name": "stdout",
     "output_type": "stream",
     "text": [
      "2.363288205608933 2.789055547229867\n",
      "2.3632882156089328 2.789055547229867\n"
     ]
    },
    {
     "name": "stderr",
     "output_type": "stream",
     "text": [
      "100%|██████████| 1/1 [00:00<00:00, 10.34it/s]\n",
      "100%|██████████| 1/1 [00:00<00:00, 13.02it/s]\n",
      "100%|██████████| 1/1 [00:00<00:00, 14.32it/s]\n",
      "100%|██████████| 1/1 [00:00<00:00, 12.69it/s]\n",
      "  0%|          | 0/1 [00:00<?, ?it/s]"
     ]
    },
    {
     "name": "stdout",
     "output_type": "stream",
     "text": [
      "2.363288205608933 2.789055557229867\n",
      "2.50073541855221 2.3696719886060205\n"
     ]
    },
    {
     "name": "stderr",
     "output_type": "stream",
     "text": [
      "100%|██████████| 1/1 [00:00<00:00, 14.53it/s]\n",
      "100%|██████████| 1/1 [00:00<00:00, 13.19it/s]\n",
      "100%|██████████| 1/1 [00:00<00:00, 13.92it/s]\n",
      "100%|██████████| 1/1 [00:00<00:00, 12.37it/s]\n",
      "  0%|          | 0/1 [00:00<?, ?it/s]"
     ]
    },
    {
     "name": "stdout",
     "output_type": "stream",
     "text": [
      "2.50073542855221 2.3696719886060205\n",
      "2.50073541855221 2.3696719986060204\n"
     ]
    },
    {
     "name": "stderr",
     "output_type": "stream",
     "text": [
      "100%|██████████| 1/1 [00:00<00:00, 14.52it/s]\n",
      "100%|██████████| 1/1 [00:00<00:00, 14.32it/s]\n",
      "100%|██████████| 1/1 [00:00<00:00, 13.02it/s]\n",
      "100%|██████████| 1/1 [00:00<00:00, 14.97it/s]\n",
      "100%|██████████| 1/1 [00:00<00:00, 14.96it/s]"
     ]
    },
    {
     "name": "stdout",
     "output_type": "stream",
     "text": [
      "2.571115955518112 2.154924527245721\n",
      "2.571115965518112 2.154924527245721\n"
     ]
    },
    {
     "name": "stderr",
     "output_type": "stream",
     "text": [
      "\n",
      "100%|██████████| 1/1 [00:00<00:00, 15.65it/s]\n",
      "100%|██████████| 1/1 [00:00<00:00, 15.19it/s]\n",
      "100%|██████████| 1/1 [00:00<00:00, 15.92it/s]\n",
      "100%|██████████| 1/1 [00:00<00:00, 15.42it/s]"
     ]
    },
    {
     "name": "stdout",
     "output_type": "stream",
     "text": [
      "2.571115955518112 2.154924537245721\n",
      "2.6060029402146117 2.048476186254538\n"
     ]
    },
    {
     "name": "stderr",
     "output_type": "stream",
     "text": [
      "\n",
      "100%|██████████| 1/1 [00:00<00:00, 13.93it/s]\n",
      "100%|██████████| 1/1 [00:00<00:00, 13.92it/s]\n",
      "100%|██████████| 1/1 [00:00<00:00, 11.94it/s]\n",
      "  0%|          | 0/1 [00:00<?, ?it/s]"
     ]
    },
    {
     "name": "stdout",
     "output_type": "stream",
     "text": [
      "2.6060029502146116 2.048476186254538\n",
      "2.6060029402146117 2.048476196254538\n"
     ]
    },
    {
     "name": "stderr",
     "output_type": "stream",
     "text": [
      "100%|██████████| 1/1 [00:00<00:00, 15.43it/s]\n",
      "100%|██████████| 1/1 [00:00<00:00, 12.53it/s]\n",
      "100%|██████████| 1/1 [00:00<00:00, 15.18it/s]\n",
      "100%|██████████| 1/1 [00:00<00:00, 14.75it/s]\n",
      "  0%|          | 0/1 [00:00<?, ?it/s]"
     ]
    },
    {
     "name": "stdout",
     "output_type": "stream",
     "text": [
      "2.6291426827911932 1.9778714254915\n",
      "2.629142692791193 1.9778714254915\n"
     ]
    },
    {
     "name": "stderr",
     "output_type": "stream",
     "text": [
      "100%|██████████| 1/1 [00:00<00:00, 12.37it/s]\n",
      "100%|██████████| 1/1 [00:00<00:00, 14.32it/s]\n",
      "100%|██████████| 1/1 [00:00<00:00, 14.32it/s]\n",
      "100%|██████████| 1/1 [00:00<00:00, 15.43it/s]\n",
      "100%|██████████| 1/1 [00:00<00:00, 15.67it/s]"
     ]
    },
    {
     "name": "stdout",
     "output_type": "stream",
     "text": [
      "2.6291426827911932 1.9778714354915\n",
      "2.634354651806239 1.9619684903489063\n"
     ]
    },
    {
     "name": "stderr",
     "output_type": "stream",
     "text": [
      "\n",
      "100%|██████████| 1/1 [00:00<00:00, 15.91it/s]\n",
      "100%|██████████| 1/1 [00:00<00:00, 14.54it/s]\n",
      "100%|██████████| 1/1 [00:00<00:00, 15.67it/s]\n",
      "100%|██████████| 1/1 [00:00<00:00, 15.42it/s]"
     ]
    },
    {
     "name": "stdout",
     "output_type": "stream",
     "text": [
      "2.634354661806239 1.9619684903489063\n",
      "2.634354651806239 1.9619685003489062\n"
     ]
    },
    {
     "name": "stderr",
     "output_type": "stream",
     "text": [
      "\n",
      "100%|██████████| 1/1 [00:00<00:00, 14.74it/s]\n",
      "100%|██████████| 1/1 [00:00<00:00, 12.85it/s]\n",
      "100%|██████████| 1/1 [00:00<00:00, 14.13it/s]\n",
      "  0%|          | 0/1 [00:00<?, ?it/s]"
     ]
    },
    {
     "name": "stdout",
     "output_type": "stream",
     "text": [
      "2.6349116890684243 1.96026883952079\n",
      "2.6349116990684243 1.96026883952079\n"
     ]
    },
    {
     "name": "stderr",
     "output_type": "stream",
     "text": [
      "100%|██████████| 1/1 [00:00<00:00, 15.42it/s]\n",
      "100%|██████████| 1/1 [00:00<00:00, 15.67it/s]\n",
      "100%|██████████| 1/1 [00:00<00:00, 15.43it/s]\n",
      "100%|██████████| 1/1 [00:00<00:00, 15.66it/s]\n",
      "100%|██████████| 1/1 [00:00<00:00, 15.68it/s]"
     ]
    },
    {
     "name": "stdout",
     "output_type": "stream",
     "text": [
      "2.6349116890684243 1.9602688495207898\n",
      "2.634989876689198 1.9600302708227537\n"
     ]
    },
    {
     "name": "stderr",
     "output_type": "stream",
     "text": [
      "\n",
      "100%|██████████| 1/1 [00:00<00:00, 14.75it/s]\n",
      "100%|██████████| 1/1 [00:00<00:00, 14.13it/s]\n",
      "100%|██████████| 1/1 [00:00<00:00, 14.53it/s]\n",
      "  0%|          | 0/1 [00:00<?, ?it/s]"
     ]
    },
    {
     "name": "stdout",
     "output_type": "stream",
     "text": [
      "2.634989886689198 1.9600302708227537\n",
      "2.634989876689198 1.9600302808227537\n"
     ]
    },
    {
     "name": "stderr",
     "output_type": "stream",
     "text": [
      "100%|██████████| 1/1 [00:00<00:00, 15.42it/s]\n",
      "100%|██████████| 1/1 [00:00<00:00, 14.74it/s]\n",
      "100%|██████████| 1/1 [00:00<00:00, 16.71it/s]\n",
      "100%|██████████| 1/1 [00:00<00:00, 14.96it/s]\n",
      "  0%|          | 0/1 [00:00<?, ?it/s]"
     ]
    },
    {
     "name": "stdout",
     "output_type": "stream",
     "text": [
      "2.6349995310147927 1.9600008132198148\n",
      "2.6349995410147926 1.9600008132198148\n"
     ]
    },
    {
     "name": "stderr",
     "output_type": "stream",
     "text": [
      "100%|██████████| 1/1 [00:00<00:00, 14.73it/s]\n",
      "100%|██████████| 1/1 [00:00<00:00, 15.18it/s]\n",
      "100%|██████████| 1/1 [00:00<00:00, 12.85it/s]\n",
      "100%|██████████| 1/1 [00:00<00:00, 13.92it/s]\n",
      "  0%|          | 0/1 [00:00<?, ?it/s]"
     ]
    },
    {
     "name": "stdout",
     "output_type": "stream",
     "text": [
      "2.6349995310147927 1.9600008232198147\n",
      "2.6349999985554704 1.9599993866439758\n"
     ]
    },
    {
     "name": "stderr",
     "output_type": "stream",
     "text": [
      "100%|██████████| 1/1 [00:00<00:00, 13.93it/s]\n",
      "100%|██████████| 1/1 [00:00<00:00, 10.78it/s]\n",
      "100%|██████████| 1/1 [00:00<00:00, 14.32it/s]\n",
      "100%|██████████| 1/1 [00:00<00:00, 13.92it/s]\n",
      "  0%|          | 0/1 [00:00<?, ?it/s]"
     ]
    },
    {
     "name": "stdout",
     "output_type": "stream",
     "text": [
      "2.6350000085554703 1.9599993866439758\n",
      "2.6349999985554704 1.9599993966439757\n"
     ]
    },
    {
     "name": "stderr",
     "output_type": "stream",
     "text": [
      "100%|██████████| 1/1 [00:00<00:00, 15.43it/s]\n",
      "100%|██████████| 1/1 [00:00<00:00, 14.75it/s]\n",
      "100%|██████████| 1/1 [00:00<00:00, 15.18it/s]\n",
      "100%|██████████| 1/1 [00:00<00:00, 15.43it/s]\n",
      "100%|██████████| 1/1 [00:00<00:00, 15.91it/s]"
     ]
    },
    {
     "name": "stdout",
     "output_type": "stream",
     "text": [
      "2.6349999998676696 1.9599993826401494\n",
      "2.6350000098676696 1.9599993826401494\n"
     ]
    },
    {
     "name": "stderr",
     "output_type": "stream",
     "text": [
      "\n",
      "100%|██████████| 1/1 [00:00<00:00, 15.18it/s]\n",
      "100%|██████████| 1/1 [00:00<00:00, 14.96it/s]\n",
      "100%|██████████| 1/1 [00:00<00:00, 14.75it/s]\n",
      "  0%|          | 0/1 [00:00<?, ?it/s]"
     ]
    },
    {
     "name": "stdout",
     "output_type": "stream",
     "text": [
      "2.6349999998676696 1.9599993926401493\n",
      "2.6349999999962623 1.9599993822477828\n"
     ]
    },
    {
     "name": "stderr",
     "output_type": "stream",
     "text": [
      "100%|██████████| 1/1 [00:00<00:00, 14.31it/s]\n",
      "100%|██████████| 1/1 [00:00<00:00, 14.97it/s]\n",
      "100%|██████████| 1/1 [00:00<00:00, 12.69it/s]\n",
      "100%|██████████| 1/1 [00:00<00:00, 15.91it/s]\n",
      "  0%|          | 0/1 [00:00<?, ?it/s]"
     ]
    },
    {
     "name": "stdout",
     "output_type": "stream",
     "text": [
      "2.6350000099962623 1.9599993822477828\n",
      "2.6349999999962623 1.9599993922477827\n"
     ]
    },
    {
     "name": "stderr",
     "output_type": "stream",
     "text": [
      "100%|██████████| 1/1 [00:00<00:00, 16.16it/s]\n",
      "100%|██████████| 1/1 [00:00<00:00, 15.43it/s]\n",
      "100%|██████████| 1/1 [00:00<00:00, 14.53it/s]\n",
      "100%|██████████| 1/1 [00:00<00:00, 13.55it/s]\n",
      "  0%|          | 0/1 [00:00<?, ?it/s]"
     ]
    },
    {
     "name": "stdout",
     "output_type": "stream",
     "text": [
      "2.635000000007879 1.9599993822123387\n",
      "2.6350000100078788 1.9599993822123387\n"
     ]
    },
    {
     "name": "stderr",
     "output_type": "stream",
     "text": [
      "100%|██████████| 1/1 [00:00<00:00, 13.93it/s]\n",
      "100%|██████████| 1/1 [00:00<00:00, 12.23it/s]\n",
      "100%|██████████| 1/1 [00:00<00:00, 14.32it/s]\n",
      "100%|██████████| 1/1 [00:00<00:00, 12.53it/s]\n",
      "  0%|          | 0/1 [00:00<?, ?it/s]"
     ]
    },
    {
     "name": "stdout",
     "output_type": "stream",
     "text": [
      "2.635000000007879 1.9599993922123387\n",
      "2.635000000006391 1.9599993822168778\n"
     ]
    },
    {
     "name": "stderr",
     "output_type": "stream",
     "text": [
      "100%|██████████| 1/1 [00:00<00:00, 13.37it/s]\n",
      "100%|██████████| 1/1 [00:00<00:00, 10.45it/s]\n",
      "100%|██████████| 1/1 [00:00<00:00, 12.85it/s]\n",
      "100%|██████████| 1/1 [00:00<00:00, 12.53it/s]\n",
      "  0%|          | 0/1 [00:00<?, ?it/s]"
     ]
    },
    {
     "name": "stdout",
     "output_type": "stream",
     "text": [
      "2.635000010006391 1.9599993822168778\n",
      "2.635000000006391 1.9599993922168777\n"
     ]
    },
    {
     "name": "stderr",
     "output_type": "stream",
     "text": [
      "100%|██████████| 1/1 [00:00<00:00, 13.55it/s]\n",
      "100%|██████████| 1/1 [00:00<00:00, 11.52it/s]\n",
      "100%|██████████| 1/1 [00:00<00:00, 13.37it/s]\n",
      "100%|██████████| 1/1 [00:00<00:00, 13.74it/s]\n",
      "  0%|          | 0/1 [00:00<?, ?it/s]"
     ]
    },
    {
     "name": "stdout",
     "output_type": "stream",
     "text": [
      "2.6350000000013267 1.9599993822323303\n",
      "2.6350000100013267 1.9599993822323303\n"
     ]
    },
    {
     "name": "stderr",
     "output_type": "stream",
     "text": [
      "100%|██████████| 1/1 [00:00<00:00, 13.62it/s]\n",
      "100%|██████████| 1/1 [00:00<00:00, 14.96it/s]\n",
      "100%|██████████| 1/1 [00:00<00:00, 14.02it/s]\n",
      "100%|██████████| 1/1 [00:00<00:00, 14.42it/s]\n",
      "100%|██████████| 1/1 [00:00<00:00, 14.97it/s]"
     ]
    },
    {
     "name": "stdout",
     "output_type": "stream",
     "text": [
      "2.6350000000013267 1.9599993922323302\n",
      "2.635000000001067 1.959999382233123\n"
     ]
    },
    {
     "name": "stderr",
     "output_type": "stream",
     "text": [
      "\n",
      "100%|██████████| 1/1 [00:00<00:00, 12.23it/s]\n",
      "100%|██████████| 1/1 [00:00<00:00, 12.69it/s]\n",
      "100%|██████████| 1/1 [00:00<00:00, 14.96it/s]\n",
      "  0%|          | 0/1 [00:00<?, ?it/s]"
     ]
    },
    {
     "name": "stdout",
     "output_type": "stream",
     "text": [
      "2.635000010001067 1.959999382233123\n",
      "2.635000000001067 1.959999392233123\n"
     ]
    },
    {
     "name": "stderr",
     "output_type": "stream",
     "text": [
      "100%|██████████| 1/1 [00:00<00:00,  9.93it/s]\n",
      "100%|██████████| 1/1 [00:00<00:00, 13.19it/s]\n",
      "100%|██████████| 1/1 [00:00<00:00, 12.85it/s]\n",
      "100%|██████████| 1/1 [00:00<00:00, 11.66it/s]\n",
      "  0%|          | 0/1 [00:00<?, ?it/s]"
     ]
    },
    {
     "name": "stdout",
     "output_type": "stream",
     "text": [
      "2.635000000000834 1.9599993822338344\n",
      "2.6350000100008337 1.9599993822338344\n"
     ]
    },
    {
     "name": "stderr",
     "output_type": "stream",
     "text": [
      "100%|██████████| 1/1 [00:00<00:00, 12.38it/s]\n",
      "100%|██████████| 1/1 [00:00<00:00, 14.31it/s]"
     ]
    },
    {
     "name": "stdout",
     "output_type": "stream",
     "text": [
      "2.635000000000834 1.9599993922338343\n"
     ]
    },
    {
     "name": "stderr",
     "output_type": "stream",
     "text": [
      "\n"
     ]
    }
   ],
   "source": [
    "bnds = [(0,3), (0, 10)]\n",
    "result_2P_f = scipy.optimize.minimize(wrapper_2P, list(result_2P.x), args=(theta_entry, phi_entry, theta_exit, phi_exit, accels, lin_resp, sensors_pos), method='L-BFGS-B', bounds=bnds, options={'gtol': 1e-20})"
   ]
  },
  {
   "cell_type": "code",
   "execution_count": 62,
   "metadata": {
    "collapsed": true,
    "jupyter": {
     "outputs_hidden": true
    }
   },
   "outputs": [
    {
     "name": "stderr",
     "output_type": "stream",
     "text": [
      "100%|██████████| 1/1 [00:00<00:00, 11.53it/s]\n",
      "100%|██████████| 1/1 [00:00<00:00, 11.14it/s]\n",
      "  0%|          | 0/1 [00:00<?, ?it/s]"
     ]
    },
    {
     "name": "stdout",
     "output_type": "stream",
     "text": [
      "[301]\n"
     ]
    },
    {
     "name": "stderr",
     "output_type": "stream",
     "text": [
      "100%|██████████| 1/1 [00:00<00:00, 10.13it/s]\n",
      "100%|██████████| 1/1 [00:00<00:00, 10.23it/s]\n",
      "100%|██████████| 1/1 [00:00<00:00, 11.52it/s]\n",
      "100%|██████████| 1/1 [00:00<00:00, 10.67it/s]\n",
      "100%|██████████| 1/1 [00:00<00:00, 11.79it/s]\n",
      "  0%|          | 0/1 [00:00<?, ?it/s]"
     ]
    },
    {
     "name": "stdout",
     "output_type": "stream",
     "text": [
      "[301]\n"
     ]
    },
    {
     "name": "stderr",
     "output_type": "stream",
     "text": [
      "100%|██████████| 1/1 [00:00<00:00, 10.90it/s]\n",
      "100%|██████████| 1/1 [00:00<00:00,  8.29it/s]\n",
      "100%|██████████| 1/1 [00:00<00:00,  8.64it/s]\n",
      "  0%|          | 0/1 [00:00<?, ?it/s]"
     ]
    },
    {
     "name": "stdout",
     "output_type": "stream",
     "text": [
      "[301]\n"
     ]
    },
    {
     "name": "stderr",
     "output_type": "stream",
     "text": [
      "100%|██████████| 1/1 [00:00<00:00,  9.37it/s]\n",
      "100%|██████████| 1/1 [00:00<00:00,  7.60it/s]\n",
      "100%|██████████| 1/1 [00:00<00:00, 10.55it/s]\n",
      "100%|██████████| 1/1 [00:00<00:00, 10.23it/s]\n",
      "  0%|          | 0/1 [00:00<?, ?it/s]"
     ]
    },
    {
     "name": "stdout",
     "output_type": "stream",
     "text": [
      "[301]\n"
     ]
    },
    {
     "name": "stderr",
     "output_type": "stream",
     "text": [
      "100%|██████████| 1/1 [00:00<00:00, 10.23it/s]\n",
      "100%|██████████| 1/1 [00:00<00:00, 11.14it/s]\n",
      "100%|██████████| 1/1 [00:00<00:00, 10.67it/s]\n",
      "100%|██████████| 1/1 [00:00<00:00,  9.73it/s]\n",
      "  0%|          | 0/1 [00:00<?, ?it/s]"
     ]
    },
    {
     "name": "stdout",
     "output_type": "stream",
     "text": [
      "[301]\n"
     ]
    },
    {
     "name": "stderr",
     "output_type": "stream",
     "text": [
      "100%|██████████| 1/1 [00:00<00:00, 10.23it/s]\n",
      "100%|██████████| 1/1 [00:00<00:00,  9.55it/s]\n",
      "100%|██████████| 1/1 [00:00<00:00, 10.78it/s]\n",
      "100%|██████████| 1/1 [00:00<00:00,  7.37it/s]\n",
      "  0%|          | 0/1 [00:00<?, ?it/s]"
     ]
    },
    {
     "name": "stdout",
     "output_type": "stream",
     "text": [
      "[301]\n"
     ]
    },
    {
     "name": "stderr",
     "output_type": "stream",
     "text": [
      "100%|██████████| 1/1 [00:00<00:00,  8.57it/s]\n",
      "100%|██████████| 1/1 [00:00<00:00,  8.22it/s]\n",
      "100%|██████████| 1/1 [00:00<00:00,  8.22it/s]\n",
      "100%|██████████| 1/1 [00:00<00:00, 10.34it/s]\n",
      "  0%|          | 0/1 [00:00<?, ?it/s]"
     ]
    },
    {
     "name": "stdout",
     "output_type": "stream",
     "text": [
      "[301]\n"
     ]
    },
    {
     "name": "stderr",
     "output_type": "stream",
     "text": [
      "100%|██████████| 1/1 [00:00<00:00,  9.55it/s]\n",
      "100%|██████████| 1/1 [00:00<00:00, 11.02it/s]\n",
      "100%|██████████| 1/1 [00:00<00:00,  5.83it/s]\n",
      "100%|██████████| 1/1 [00:00<00:00,  5.90it/s]\n"
     ]
    },
    {
     "name": "stdout",
     "output_type": "stream",
     "text": [
      "[301]\n"
     ]
    },
    {
     "name": "stderr",
     "output_type": "stream",
     "text": [
      "100%|██████████| 1/1 [00:00<00:00,  6.11it/s]\n",
      "100%|██████████| 1/1 [00:00<00:00,  5.54it/s]\n",
      "100%|██████████| 1/1 [00:00<00:00,  8.02it/s]\n",
      "100%|██████████| 1/1 [00:00<00:00,  7.27it/s]\n",
      "  0%|          | 0/1 [00:00<?, ?it/s]"
     ]
    },
    {
     "name": "stdout",
     "output_type": "stream",
     "text": [
      "[301]\n"
     ]
    },
    {
     "name": "stderr",
     "output_type": "stream",
     "text": [
      "100%|██████████| 1/1 [00:00<00:00,  7.77it/s]\n",
      "100%|██████████| 1/1 [00:00<00:00,  7.90it/s]\n",
      "100%|██████████| 1/1 [00:00<00:00, 10.23it/s]\n",
      "100%|██████████| 1/1 [00:00<00:00,  9.46it/s]\n",
      "  0%|          | 0/1 [00:00<?, ?it/s]"
     ]
    },
    {
     "name": "stdout",
     "output_type": "stream",
     "text": [
      "[301]\n"
     ]
    },
    {
     "name": "stderr",
     "output_type": "stream",
     "text": [
      "100%|██████████| 1/1 [00:00<00:00,  7.83it/s]\n",
      "100%|██████████| 1/1 [00:00<00:00,  9.12it/s]\n",
      "100%|██████████| 1/1 [00:00<00:00, 10.44it/s]\n",
      "100%|██████████| 1/1 [00:00<00:00,  8.36it/s]\n",
      "  0%|          | 0/1 [00:00<?, ?it/s]"
     ]
    },
    {
     "name": "stdout",
     "output_type": "stream",
     "text": [
      "[301]\n"
     ]
    },
    {
     "name": "stderr",
     "output_type": "stream",
     "text": [
      "100%|██████████| 1/1 [00:00<00:00,  9.64it/s]\n",
      "100%|██████████| 1/1 [00:00<00:00,  9.83it/s]\n",
      "100%|██████████| 1/1 [00:00<00:00,  5.48it/s]\n",
      "100%|██████████| 1/1 [00:00<00:00,  5.97it/s]\n",
      "  0%|          | 0/1 [00:00<?, ?it/s]"
     ]
    },
    {
     "name": "stdout",
     "output_type": "stream",
     "text": [
      "[301]\n"
     ]
    },
    {
     "name": "stderr",
     "output_type": "stream",
     "text": [
      "100%|██████████| 1/1 [00:00<00:00,  6.31it/s]\n",
      "100%|██████████| 1/1 [00:00<00:00,  5.97it/s]\n",
      "100%|██████████| 1/1 [00:00<00:00,  6.47it/s]\n",
      "100%|██████████| 1/1 [00:00<00:00,  7.11it/s]\n",
      "  0%|          | 0/1 [00:00<?, ?it/s]"
     ]
    },
    {
     "name": "stdout",
     "output_type": "stream",
     "text": [
      "[301]\n"
     ]
    },
    {
     "name": "stderr",
     "output_type": "stream",
     "text": [
      "100%|██████████| 1/1 [00:00<00:00,  7.01it/s]\n",
      "100%|██████████| 1/1 [00:00<00:00,  8.22it/s]\n",
      "100%|██████████| 1/1 [00:00<00:00,  9.28it/s]\n",
      "100%|██████████| 1/1 [00:00<00:00,  8.15it/s]\n",
      "  0%|          | 0/1 [00:00<?, ?it/s]"
     ]
    },
    {
     "name": "stdout",
     "output_type": "stream",
     "text": [
      "[301]\n"
     ]
    },
    {
     "name": "stderr",
     "output_type": "stream",
     "text": [
      "100%|██████████| 1/1 [00:00<00:00,  8.64it/s]\n",
      "100%|██████████| 1/1 [00:00<00:00,  8.80it/s]\n",
      "100%|██████████| 1/1 [00:00<00:00,  7.37it/s]\n",
      "100%|██████████| 1/1 [00:00<00:00,  7.01it/s]\n",
      "  0%|          | 0/1 [00:00<?, ?it/s]"
     ]
    },
    {
     "name": "stdout",
     "output_type": "stream",
     "text": [
      "[301]\n"
     ]
    },
    {
     "name": "stderr",
     "output_type": "stream",
     "text": [
      "100%|██████████| 1/1 [00:00<00:00,  7.71it/s]\n",
      "100%|██████████| 1/1 [00:00<00:00,  8.36it/s]\n",
      "100%|██████████| 1/1 [00:00<00:00,  9.20it/s]\n",
      "100%|██████████| 1/1 [00:00<00:00,  7.71it/s]\n",
      "  0%|          | 0/1 [00:00<?, ?it/s]"
     ]
    },
    {
     "name": "stdout",
     "output_type": "stream",
     "text": [
      "[301]\n"
     ]
    },
    {
     "name": "stderr",
     "output_type": "stream",
     "text": [
      "100%|██████████| 1/1 [00:00<00:00,  8.72it/s]\n",
      "100%|██████████| 1/1 [00:00<00:00,  8.72it/s]\n",
      "100%|██████████| 1/1 [00:00<00:00,  7.54it/s]\n",
      "100%|██████████| 1/1 [00:00<00:00,  8.43it/s]\n",
      "  0%|          | 0/1 [00:00<?, ?it/s]"
     ]
    },
    {
     "name": "stdout",
     "output_type": "stream",
     "text": [
      "[301]\n"
     ]
    },
    {
     "name": "stderr",
     "output_type": "stream",
     "text": [
      "100%|██████████| 1/1 [00:00<00:00,  8.15it/s]\n",
      "100%|██████████| 1/1 [00:00<00:00,  9.64it/s]\n",
      "100%|██████████| 1/1 [00:00<00:00,  6.60it/s]\n",
      "100%|██████████| 1/1 [00:00<00:00,  6.39it/s]\n",
      "  0%|          | 0/1 [00:00<?, ?it/s]"
     ]
    },
    {
     "name": "stdout",
     "output_type": "stream",
     "text": [
      "[301]\n"
     ]
    },
    {
     "name": "stderr",
     "output_type": "stream",
     "text": [
      "100%|██████████| 1/1 [00:00<00:00,  6.64it/s]\n",
      "100%|██████████| 1/1 [00:00<00:00,  5.83it/s]\n",
      "100%|██████████| 1/1 [00:00<00:00,  6.87it/s]\n",
      "100%|██████████| 1/1 [00:00<00:00,  6.51it/s]\n",
      "  0%|          | 0/1 [00:00<?, ?it/s]"
     ]
    },
    {
     "name": "stdout",
     "output_type": "stream",
     "text": [
      "[301]\n"
     ]
    },
    {
     "name": "stderr",
     "output_type": "stream",
     "text": [
      "100%|██████████| 1/1 [00:00<00:00,  6.39it/s]\n",
      "100%|██████████| 1/1 [00:00<00:00,  6.39it/s]\n",
      "100%|██████████| 1/1 [00:00<00:00,  7.43it/s]\n",
      "100%|██████████| 1/1 [00:00<00:00,  6.68it/s]\n",
      "  0%|          | 0/1 [00:00<?, ?it/s]"
     ]
    },
    {
     "name": "stdout",
     "output_type": "stream",
     "text": [
      "[301]\n"
     ]
    },
    {
     "name": "stderr",
     "output_type": "stream",
     "text": [
      "100%|██████████| 1/1 [00:00<00:00,  6.17it/s]\n",
      "100%|██████████| 1/1 [00:00<00:00,  6.27it/s]\n",
      "100%|██████████| 1/1 [00:00<00:00,  6.27it/s]\n",
      "100%|██████████| 1/1 [00:00<00:00,  5.20it/s]"
     ]
    },
    {
     "name": "stdout",
     "output_type": "stream",
     "text": [
      "[301]\n"
     ]
    },
    {
     "name": "stderr",
     "output_type": "stream",
     "text": [
      "100%|██████████| 1/1 [00:00<00:00,  5.09it/s]\n",
      "100%|██████████| 1/1 [00:00<00:00,  6.43it/s]\n",
      "100%|██████████| 1/1 [00:00<00:00,  6.73it/s]\n",
      "100%|██████████| 1/1 [00:00<00:00,  8.50it/s]\n",
      "100%|██████████| 1/1 [00:00<00:00, 10.67it/s]\n",
      "  0%|          | 0/1 [00:00<?, ?it/s]"
     ]
    },
    {
     "name": "stdout",
     "output_type": "stream",
     "text": [
      "[301]\n"
     ]
    },
    {
     "name": "stderr",
     "output_type": "stream",
     "text": [
      "100%|██████████| 1/1 [00:00<00:00,  9.37it/s]\n",
      "100%|██████████| 1/1 [00:00<00:00,  9.28it/s]\n",
      "100%|██████████| 1/1 [00:00<00:00,  8.87it/s]\n",
      "100%|██████████| 1/1 [00:00<00:00,  8.50it/s]\n",
      "  0%|          | 0/1 [00:00<?, ?it/s]"
     ]
    },
    {
     "name": "stdout",
     "output_type": "stream",
     "text": [
      "[301]\n"
     ]
    },
    {
     "name": "stderr",
     "output_type": "stream",
     "text": [
      "100%|██████████| 1/1 [00:00<00:00,  8.36it/s]\n",
      "100%|██████████| 1/1 [00:00<00:00,  9.55it/s]\n",
      "100%|██████████| 1/1 [00:00<00:00,  8.36it/s]\n",
      "100%|██████████| 1/1 [00:00<00:00,  9.28it/s]\n",
      "  0%|          | 0/1 [00:00<?, ?it/s]"
     ]
    },
    {
     "name": "stdout",
     "output_type": "stream",
     "text": [
      "[301]\n"
     ]
    },
    {
     "name": "stderr",
     "output_type": "stream",
     "text": [
      "100%|██████████| 1/1 [00:00<00:00,  9.37it/s]\n",
      "100%|██████████| 1/1 [00:00<00:00,  9.64it/s]\n",
      "100%|██████████| 1/1 [00:00<00:00,  9.83it/s]\n",
      "100%|██████████| 1/1 [00:00<00:00,  9.37it/s]\n",
      "  0%|          | 0/1 [00:00<?, ?it/s]"
     ]
    },
    {
     "name": "stdout",
     "output_type": "stream",
     "text": [
      "[301]\n"
     ]
    },
    {
     "name": "stderr",
     "output_type": "stream",
     "text": [
      "100%|██████████| 1/1 [00:00<00:00,  8.64it/s]\n",
      "100%|██████████| 1/1 [00:00<00:00, 10.23it/s]\n",
      "100%|██████████| 1/1 [00:00<00:00, 10.03it/s]\n",
      "100%|██████████| 1/1 [00:00<00:00,  8.87it/s]\n",
      "  0%|          | 0/1 [00:00<?, ?it/s]"
     ]
    },
    {
     "name": "stdout",
     "output_type": "stream",
     "text": [
      "[301]\n"
     ]
    },
    {
     "name": "stderr",
     "output_type": "stream",
     "text": [
      "100%|██████████| 1/1 [00:00<00:00,  7.01it/s]\n",
      "100%|██████████| 1/1 [00:00<00:00,  9.28it/s]\n",
      "100%|██████████| 1/1 [00:00<00:00, 10.78it/s]\n",
      "100%|██████████| 1/1 [00:00<00:00, 11.66it/s]\n",
      "100%|██████████| 1/1 [00:00<00:00, 11.80it/s]\n",
      "  0%|          | 0/1 [00:00<?, ?it/s]"
     ]
    },
    {
     "name": "stdout",
     "output_type": "stream",
     "text": [
      "[301]\n"
     ]
    },
    {
     "name": "stderr",
     "output_type": "stream",
     "text": [
      "100%|██████████| 1/1 [00:00<00:00, 10.55it/s]\n",
      "100%|██████████| 1/1 [00:00<00:00, 12.22it/s]\n",
      "100%|██████████| 1/1 [00:00<00:00, 12.38it/s]\n",
      "100%|██████████| 1/1 [00:00<00:00,  9.83it/s]"
     ]
    },
    {
     "name": "stdout",
     "output_type": "stream",
     "text": [
      "[301]\n"
     ]
    },
    {
     "name": "stderr",
     "output_type": "stream",
     "text": [
      "100%|██████████| 1/1 [00:00<00:00,  9.73it/s]\n",
      "100%|██████████| 1/1 [00:00<00:00,  9.03it/s]\n",
      "100%|██████████| 1/1 [00:00<00:00,  9.20it/s]\n",
      "100%|██████████| 1/1 [00:00<00:00,  8.43it/s]\n",
      "  0%|          | 0/1 [00:00<?, ?it/s]"
     ]
    },
    {
     "name": "stdout",
     "output_type": "stream",
     "text": [
      "[301]\n"
     ]
    },
    {
     "name": "stderr",
     "output_type": "stream",
     "text": [
      "100%|██████████| 1/1 [00:00<00:00,  8.29it/s]\n",
      "100%|██████████| 1/1 [00:00<00:00,  9.20it/s]\n",
      "100%|██████████| 1/1 [00:00<00:00,  8.36it/s]\n",
      "100%|██████████| 1/1 [00:00<00:00, 10.13it/s]\n",
      "  0%|          | 0/1 [00:00<?, ?it/s]"
     ]
    },
    {
     "name": "stdout",
     "output_type": "stream",
     "text": [
      "[301]\n"
     ]
    },
    {
     "name": "stderr",
     "output_type": "stream",
     "text": [
      "100%|██████████| 1/1 [00:00<00:00, 11.39it/s]\n",
      "100%|██████████| 1/1 [00:00<00:00, 10.56it/s]\n",
      "100%|██████████| 1/1 [00:00<00:00, 10.44it/s]\n",
      "100%|██████████| 1/1 [00:00<00:00, 11.14it/s]\n",
      "100%|██████████| 1/1 [00:00<00:00,  9.46it/s]"
     ]
    },
    {
     "name": "stdout",
     "output_type": "stream",
     "text": [
      "[301]\n"
     ]
    },
    {
     "name": "stderr",
     "output_type": "stream",
     "text": [
      "100%|██████████| 1/1 [00:00<00:00,  9.37it/s]\n",
      "100%|██████████| 1/1 [00:00<00:00, 10.66it/s]\n",
      "100%|██████████| 1/1 [00:00<00:00, 11.80it/s]\n",
      "100%|██████████| 1/1 [00:00<00:00, 11.65it/s]\n",
      "100%|██████████| 1/1 [00:00<00:00,  9.55it/s]"
     ]
    },
    {
     "name": "stdout",
     "output_type": "stream",
     "text": [
      "[301]\n"
     ]
    },
    {
     "name": "stderr",
     "output_type": "stream",
     "text": [
      "100%|██████████| 1/1 [00:00<00:00,  9.46it/s]\n",
      "100%|██████████| 1/1 [00:00<00:00,  9.28it/s]\n",
      "100%|██████████| 1/1 [00:00<00:00, 10.44it/s]\n",
      "100%|██████████| 1/1 [00:00<00:00, 11.39it/s]\n",
      "100%|██████████| 1/1 [00:00<00:00, 11.02it/s]"
     ]
    },
    {
     "name": "stdout",
     "output_type": "stream",
     "text": [
      "[301]\n"
     ]
    },
    {
     "name": "stderr",
     "output_type": "stream",
     "text": [
      "\n",
      "100%|██████████| 1/1 [00:00<00:00,  8.64it/s]\n",
      "100%|██████████| 1/1 [00:00<00:00,  7.96it/s]\n",
      "100%|██████████| 1/1 [00:00<00:00,  8.36it/s]\n",
      "  0%|          | 0/1 [00:00<?, ?it/s]"
     ]
    },
    {
     "name": "stdout",
     "output_type": "stream",
     "text": [
      "[301]\n"
     ]
    },
    {
     "name": "stderr",
     "output_type": "stream",
     "text": [
      "100%|██████████| 1/1 [00:00<00:00,  9.12it/s]\n",
      "100%|██████████| 1/1 [00:00<00:00,  7.60it/s]\n",
      "100%|██████████| 1/1 [00:00<00:00,  9.37it/s]\n",
      "100%|██████████| 1/1 [00:00<00:00,  8.15it/s]\n",
      "  0%|          | 0/1 [00:00<?, ?it/s]"
     ]
    },
    {
     "name": "stdout",
     "output_type": "stream",
     "text": [
      "[301]\n"
     ]
    },
    {
     "name": "stderr",
     "output_type": "stream",
     "text": [
      "100%|██████████| 1/1 [00:00<00:00,  9.20it/s]\n",
      "100%|██████████| 1/1 [00:00<00:00,  8.80it/s]\n",
      "100%|██████████| 1/1 [00:00<00:00,  7.11it/s]\n",
      "100%|██████████| 1/1 [00:00<00:00,  7.83it/s]\n",
      "  0%|          | 0/1 [00:00<?, ?it/s]"
     ]
    },
    {
     "name": "stdout",
     "output_type": "stream",
     "text": [
      "[301]\n"
     ]
    },
    {
     "name": "stderr",
     "output_type": "stream",
     "text": [
      "100%|██████████| 1/1 [00:00<00:00,  7.83it/s]\n",
      "100%|██████████| 1/1 [00:00<00:00,  8.43it/s]\n",
      "100%|██████████| 1/1 [00:00<00:00,  8.64it/s]\n",
      "100%|██████████| 1/1 [00:00<00:00,  7.89it/s]\n",
      "  0%|          | 0/1 [00:00<?, ?it/s]"
     ]
    },
    {
     "name": "stdout",
     "output_type": "stream",
     "text": [
      "[301]\n"
     ]
    },
    {
     "name": "stderr",
     "output_type": "stream",
     "text": [
      "100%|██████████| 1/1 [00:00<00:00,  7.77it/s]\n",
      "100%|██████████| 1/1 [00:00<00:00,  8.22it/s]\n",
      "100%|██████████| 1/1 [00:00<00:00,  7.83it/s]\n",
      "100%|██████████| 1/1 [00:00<00:00,  8.02it/s]\n",
      "  0%|          | 0/1 [00:00<?, ?it/s]"
     ]
    },
    {
     "name": "stdout",
     "output_type": "stream",
     "text": [
      "[301]\n"
     ]
    },
    {
     "name": "stderr",
     "output_type": "stream",
     "text": [
      "100%|██████████| 1/1 [00:00<00:00,  8.57it/s]\n",
      "100%|██████████| 1/1 [00:00<00:00,  9.64it/s]\n",
      "100%|██████████| 1/1 [00:00<00:00,  9.64it/s]\n",
      "100%|██████████| 1/1 [00:00<00:00, 10.13it/s]\n",
      "  0%|          | 0/1 [00:00<?, ?it/s]"
     ]
    },
    {
     "name": "stdout",
     "output_type": "stream",
     "text": [
      "[301]\n"
     ]
    },
    {
     "name": "stderr",
     "output_type": "stream",
     "text": [
      "100%|██████████| 1/1 [00:00<00:00, 11.52it/s]\n",
      "100%|██████████| 1/1 [00:00<00:00, 10.03it/s]\n",
      "100%|██████████| 1/1 [00:00<00:00, 11.27it/s]\n",
      "100%|██████████| 1/1 [00:00<00:00, 10.78it/s]\n",
      "100%|██████████| 1/1 [00:00<00:00, 12.08it/s]\n",
      "  0%|          | 0/1 [00:00<?, ?it/s]"
     ]
    },
    {
     "name": "stdout",
     "output_type": "stream",
     "text": [
      "[301]\n"
     ]
    },
    {
     "name": "stderr",
     "output_type": "stream",
     "text": [
      "100%|██████████| 1/1 [00:00<00:00,  9.37it/s]\n",
      "100%|██████████| 1/1 [00:00<00:00,  7.37it/s]\n",
      "100%|██████████| 1/1 [00:00<00:00,  8.29it/s]\n",
      "  0%|          | 0/1 [00:00<?, ?it/s]"
     ]
    },
    {
     "name": "stdout",
     "output_type": "stream",
     "text": [
      "[301]\n"
     ]
    },
    {
     "name": "stderr",
     "output_type": "stream",
     "text": [
      "100%|██████████| 1/1 [00:00<00:00,  7.54it/s]\n",
      "100%|██████████| 1/1 [00:00<00:00,  7.60it/s]\n",
      "100%|██████████| 1/1 [00:00<00:00,  7.37it/s]\n",
      "100%|██████████| 1/1 [00:00<00:00,  7.83it/s]\n",
      "  0%|          | 0/1 [00:00<?, ?it/s]"
     ]
    },
    {
     "name": "stdout",
     "output_type": "stream",
     "text": [
      "[301]\n"
     ]
    },
    {
     "name": "stderr",
     "output_type": "stream",
     "text": [
      "100%|██████████| 1/1 [00:00<00:00,  7.27it/s]\n",
      "100%|██████████| 1/1 [00:00<00:00,  7.71it/s]\n",
      "100%|██████████| 1/1 [00:00<00:00,  7.89it/s]\n",
      "100%|██████████| 1/1 [00:00<00:00,  8.43it/s]\n",
      "  0%|          | 0/1 [00:00<?, ?it/s]"
     ]
    },
    {
     "name": "stdout",
     "output_type": "stream",
     "text": [
      "[301]\n"
     ]
    },
    {
     "name": "stderr",
     "output_type": "stream",
     "text": [
      "100%|██████████| 1/1 [00:00<00:00,  8.57it/s]\n",
      "100%|██████████| 1/1 [00:00<00:00,  7.43it/s]\n",
      "100%|██████████| 1/1 [00:00<00:00,  9.37it/s]\n",
      "100%|██████████| 1/1 [00:00<00:00,  8.95it/s]\n",
      "  0%|          | 0/1 [00:00<?, ?it/s]"
     ]
    },
    {
     "name": "stdout",
     "output_type": "stream",
     "text": [
      "[301]\n"
     ]
    },
    {
     "name": "stderr",
     "output_type": "stream",
     "text": [
      "100%|██████████| 1/1 [00:00<00:00,  7.01it/s]\n",
      "100%|██████████| 1/1 [00:00<00:00,  7.60it/s]\n",
      "100%|██████████| 1/1 [00:00<00:00,  8.64it/s]\n",
      "100%|██████████| 1/1 [00:00<00:00,  9.12it/s]\n",
      "100%|██████████| 1/1 [00:00<00:00, 10.03it/s]"
     ]
    },
    {
     "name": "stdout",
     "output_type": "stream",
     "text": [
      "[301]\n"
     ]
    },
    {
     "name": "stderr",
     "output_type": "stream",
     "text": [
      "\n",
      "100%|██████████| 1/1 [00:00<00:00, 12.07it/s]\n",
      "100%|██████████| 1/1 [00:00<00:00, 10.44it/s]\n",
      "100%|██████████| 1/1 [00:00<00:00, 11.27it/s]\n",
      "100%|██████████| 1/1 [00:00<00:00, 12.22it/s]\n",
      "  0%|          | 0/1 [00:00<?, ?it/s]"
     ]
    },
    {
     "name": "stdout",
     "output_type": "stream",
     "text": [
      "[301]\n"
     ]
    },
    {
     "name": "stderr",
     "output_type": "stream",
     "text": [
      "100%|██████████| 1/1 [00:00<00:00, 12.23it/s]\n",
      "100%|██████████| 1/1 [00:00<00:00, 11.93it/s]\n",
      "100%|██████████| 1/1 [00:00<00:00, 12.69it/s]\n",
      "100%|██████████| 1/1 [00:00<00:00, 11.27it/s]\n",
      "  0%|          | 0/1 [00:00<?, ?it/s]"
     ]
    },
    {
     "name": "stdout",
     "output_type": "stream",
     "text": [
      "[301]\n"
     ]
    },
    {
     "name": "stderr",
     "output_type": "stream",
     "text": [
      "100%|██████████| 1/1 [00:00<00:00,  8.50it/s]\n",
      "100%|██████████| 1/1 [00:00<00:00,  8.29it/s]\n",
      "100%|██████████| 1/1 [00:00<00:00,  8.43it/s]\n",
      "  0%|          | 0/1 [00:00<?, ?it/s]"
     ]
    },
    {
     "name": "stdout",
     "output_type": "stream",
     "text": [
      "[301]\n"
     ]
    },
    {
     "name": "stderr",
     "output_type": "stream",
     "text": [
      "100%|██████████| 1/1 [00:00<00:00,  8.09it/s]\n",
      "100%|██████████| 1/1 [00:00<00:00, 10.66it/s]\n",
      "100%|██████████| 1/1 [00:00<00:00, 10.23it/s]\n",
      "100%|██████████| 1/1 [00:00<00:00, 10.44it/s]\n",
      "  0%|          | 0/1 [00:00<?, ?it/s]"
     ]
    },
    {
     "name": "stdout",
     "output_type": "stream",
     "text": [
      "[301]\n"
     ]
    },
    {
     "name": "stderr",
     "output_type": "stream",
     "text": [
      "100%|██████████| 1/1 [00:00<00:00, 10.13it/s]\n",
      "100%|██████████| 1/1 [00:00<00:00,  6.60it/s]\n",
      "100%|██████████| 1/1 [00:00<00:00,  8.15it/s]\n",
      "100%|██████████| 1/1 [00:00<00:00,  8.57it/s]\n",
      "  0%|          | 0/1 [00:00<?, ?it/s]"
     ]
    },
    {
     "name": "stdout",
     "output_type": "stream",
     "text": [
      "[301]\n"
     ]
    },
    {
     "name": "stderr",
     "output_type": "stream",
     "text": [
      "100%|██████████| 1/1 [00:00<00:00,  7.96it/s]\n",
      "100%|██████████| 1/1 [00:00<00:00,  7.54it/s]\n",
      "100%|██████████| 1/1 [00:00<00:00,  9.03it/s]\n",
      "100%|██████████| 1/1 [00:00<00:00,  9.64it/s]\n",
      "100%|██████████| 1/1 [00:00<00:00, 10.23it/s]"
     ]
    },
    {
     "name": "stdout",
     "output_type": "stream",
     "text": [
      "[301]\n"
     ]
    },
    {
     "name": "stderr",
     "output_type": "stream",
     "text": [
      "\n",
      "100%|██████████| 1/1 [00:00<00:00,  9.03it/s]\n",
      "100%|██████████| 1/1 [00:00<00:00, 10.03it/s]\n",
      "100%|██████████| 1/1 [00:00<00:00,  7.32it/s]\n",
      "  0%|          | 0/1 [00:00<?, ?it/s]"
     ]
    },
    {
     "name": "stdout",
     "output_type": "stream",
     "text": [
      "[301]\n"
     ]
    },
    {
     "name": "stderr",
     "output_type": "stream",
     "text": [
      "100%|██████████| 1/1 [00:00<00:00,  6.64it/s]\n",
      "100%|██████████| 1/1 [00:00<00:00,  6.04it/s]\n",
      "100%|██████████| 1/1 [00:00<00:00,  6.19it/s]\n",
      "100%|██████████| 1/1 [00:00<00:00,  5.51it/s]"
     ]
    },
    {
     "name": "stdout",
     "output_type": "stream",
     "text": [
      "[301]\n"
     ]
    },
    {
     "name": "stderr",
     "output_type": "stream",
     "text": [
      "100%|██████████| 1/1 [00:00<00:00,  5.45it/s]\n",
      "100%|██████████| 1/1 [00:00<00:00,  5.57it/s]\n",
      "100%|██████████| 1/1 [00:00<00:00,  7.06it/s]\n",
      "100%|██████████| 1/1 [00:00<00:00,  8.57it/s]\n",
      "100%|██████████| 1/1 [00:00<00:00,  6.17it/s]\n",
      "  0%|          | 0/1 [00:00<?, ?it/s]"
     ]
    },
    {
     "name": "stdout",
     "output_type": "stream",
     "text": [
      "[301]\n"
     ]
    },
    {
     "name": "stderr",
     "output_type": "stream",
     "text": [
      "100%|██████████| 1/1 [00:00<00:00,  6.38it/s]\n",
      "100%|██████████| 1/1 [00:00<00:00,  6.08it/s]\n",
      "100%|██████████| 1/1 [00:00<00:00,  5.76it/s]\n",
      "100%|██████████| 1/1 [00:00<00:00,  7.60it/s]\n",
      "  0%|          | 0/1 [00:00<?, ?it/s]"
     ]
    },
    {
     "name": "stdout",
     "output_type": "stream",
     "text": [
      "[301]\n"
     ]
    },
    {
     "name": "stderr",
     "output_type": "stream",
     "text": [
      "100%|██████████| 1/1 [00:00<00:00,  8.29it/s]\n",
      "100%|██████████| 1/1 [00:00<00:00,  8.95it/s]\n",
      "100%|██████████| 1/1 [00:00<00:00,  9.20it/s]\n",
      "100%|██████████| 1/1 [00:00<00:00,  9.28it/s]\n",
      "  0%|          | 0/1 [00:00<?, ?it/s]"
     ]
    },
    {
     "name": "stdout",
     "output_type": "stream",
     "text": [
      "[301]\n"
     ]
    },
    {
     "name": "stderr",
     "output_type": "stream",
     "text": [
      "100%|██████████| 1/1 [00:00<00:00, 10.03it/s]\n",
      "100%|██████████| 1/1 [00:00<00:00,  9.55it/s]\n",
      "100%|██████████| 1/1 [00:00<00:00, 10.23it/s]\n",
      "100%|██████████| 1/1 [00:00<00:00,  9.55it/s]\n",
      "100%|██████████| 1/1 [00:00<00:00, 10.23it/s]"
     ]
    },
    {
     "name": "stdout",
     "output_type": "stream",
     "text": [
      "[301]\n"
     ]
    },
    {
     "name": "stderr",
     "output_type": "stream",
     "text": [
      "\n",
      "100%|██████████| 1/1 [00:00<00:00,  9.83it/s]\n",
      "100%|██████████| 1/1 [00:00<00:00, 11.66it/s]\n",
      "100%|██████████| 1/1 [00:00<00:00, 10.44it/s]\n",
      "100%|██████████| 1/1 [00:00<00:00, 12.08it/s]"
     ]
    },
    {
     "name": "stdout",
     "output_type": "stream",
     "text": [
      "[301]\n"
     ]
    },
    {
     "name": "stderr",
     "output_type": "stream",
     "text": [
      "\n",
      "100%|██████████| 1/1 [00:00<00:00, 10.90it/s]\n",
      "100%|██████████| 1/1 [00:00<00:00, 11.27it/s]\n",
      "100%|██████████| 1/1 [00:00<00:00, 10.55it/s]\n",
      "100%|██████████| 1/1 [00:00<00:00, 11.66it/s]"
     ]
    },
    {
     "name": "stdout",
     "output_type": "stream",
     "text": [
      "[301]\n"
     ]
    },
    {
     "name": "stderr",
     "output_type": "stream",
     "text": [
      "\n",
      "100%|██████████| 1/1 [00:00<00:00, 10.90it/s]\n",
      "100%|██████████| 1/1 [00:00<00:00, 11.39it/s]\n",
      "100%|██████████| 1/1 [00:00<00:00, 11.52it/s]\n",
      "100%|██████████| 1/1 [00:00<00:00, 10.90it/s]"
     ]
    },
    {
     "name": "stdout",
     "output_type": "stream",
     "text": [
      "[301]\n"
     ]
    },
    {
     "name": "stderr",
     "output_type": "stream",
     "text": [
      "\n",
      "100%|██████████| 1/1 [00:00<00:00, 11.14it/s]\n",
      "100%|██████████| 1/1 [00:00<00:00,  9.28it/s]\n",
      "100%|██████████| 1/1 [00:00<00:00, 11.02it/s]\n",
      "100%|██████████| 1/1 [00:00<00:00, 10.89it/s]"
     ]
    },
    {
     "name": "stdout",
     "output_type": "stream",
     "text": [
      "[301]\n"
     ]
    },
    {
     "name": "stderr",
     "output_type": "stream",
     "text": [
      "\n",
      "100%|██████████| 1/1 [00:00<00:00, 11.94it/s]\n",
      "100%|██████████| 1/1 [00:00<00:00, 10.34it/s]\n",
      "100%|██████████| 1/1 [00:00<00:00, 11.39it/s]\n",
      "100%|██████████| 1/1 [00:00<00:00, 11.27it/s]\n",
      "  0%|          | 0/1 [00:00<?, ?it/s]"
     ]
    },
    {
     "name": "stdout",
     "output_type": "stream",
     "text": [
      "[301]\n"
     ]
    },
    {
     "name": "stderr",
     "output_type": "stream",
     "text": [
      "100%|██████████| 1/1 [00:00<00:00, 10.44it/s]\n",
      "100%|██████████| 1/1 [00:00<00:00, 12.08it/s]\n",
      "100%|██████████| 1/1 [00:00<00:00, 10.34it/s]\n",
      "  0%|          | 0/1 [00:00<?, ?it/s]"
     ]
    },
    {
     "name": "stdout",
     "output_type": "stream",
     "text": [
      "[301]\n"
     ]
    },
    {
     "name": "stderr",
     "output_type": "stream",
     "text": [
      "100%|██████████| 1/1 [00:00<00:00, 10.44it/s]\n",
      "100%|██████████| 1/1 [00:00<00:00, 10.90it/s]\n",
      "100%|██████████| 1/1 [00:00<00:00, 11.66it/s]\n",
      "100%|██████████| 1/1 [00:00<00:00, 11.65it/s]\n",
      "  0%|          | 0/1 [00:00<?, ?it/s]"
     ]
    },
    {
     "name": "stdout",
     "output_type": "stream",
     "text": [
      "[301]\n"
     ]
    },
    {
     "name": "stderr",
     "output_type": "stream",
     "text": [
      "100%|██████████| 1/1 [00:00<00:00, 11.80it/s]\n",
      "100%|██████████| 1/1 [00:00<00:00, 11.02it/s]\n",
      "100%|██████████| 1/1 [00:00<00:00, 11.14it/s]\n",
      "100%|██████████| 1/1 [00:00<00:00, 11.94it/s]\n",
      "100%|██████████| 1/1 [00:00<00:00, 11.80it/s]\n",
      "  0%|          | 0/1 [00:00<?, ?it/s]"
     ]
    },
    {
     "name": "stdout",
     "output_type": "stream",
     "text": [
      "[301]\n"
     ]
    },
    {
     "name": "stderr",
     "output_type": "stream",
     "text": [
      "100%|██████████| 1/1 [00:00<00:00, 10.55it/s]\n",
      "100%|██████████| 1/1 [00:00<00:00, 10.90it/s]\n",
      "100%|██████████| 1/1 [00:00<00:00, 12.07it/s]\n",
      "100%|██████████| 1/1 [00:00<00:00, 10.78it/s]\n",
      "  0%|          | 0/1 [00:00<?, ?it/s]"
     ]
    },
    {
     "name": "stdout",
     "output_type": "stream",
     "text": [
      "[301]\n"
     ]
    },
    {
     "name": "stderr",
     "output_type": "stream",
     "text": [
      "100%|██████████| 1/1 [00:00<00:00, 11.80it/s]\n",
      "100%|██████████| 1/1 [00:00<00:00, 11.93it/s]\n",
      "100%|██████████| 1/1 [00:00<00:00, 11.27it/s]\n",
      "100%|██████████| 1/1 [00:00<00:00, 12.08it/s]"
     ]
    },
    {
     "name": "stdout",
     "output_type": "stream",
     "text": [
      "[301]\n"
     ]
    },
    {
     "name": "stderr",
     "output_type": "stream",
     "text": [
      "\n",
      "100%|██████████| 1/1 [00:00<00:00, 12.53it/s]\n",
      "100%|██████████| 1/1 [00:00<00:00, 11.25it/s]\n",
      "100%|██████████| 1/1 [00:00<00:00, 12.38it/s]\n",
      "100%|██████████| 1/1 [00:00<00:00, 12.69it/s]\n",
      "  0%|          | 0/1 [00:00<?, ?it/s]"
     ]
    },
    {
     "name": "stdout",
     "output_type": "stream",
     "text": [
      "[301]\n"
     ]
    },
    {
     "name": "stderr",
     "output_type": "stream",
     "text": [
      "100%|██████████| 1/1 [00:00<00:00, 12.53it/s]\n",
      "100%|██████████| 1/1 [00:00<00:00, 11.66it/s]\n",
      "100%|██████████| 1/1 [00:00<00:00, 10.67it/s]\n",
      "  0%|          | 0/1 [00:00<?, ?it/s]"
     ]
    },
    {
     "name": "stdout",
     "output_type": "stream",
     "text": [
      "[301]\n"
     ]
    },
    {
     "name": "stderr",
     "output_type": "stream",
     "text": [
      "100%|██████████| 1/1 [00:00<00:00, 11.80it/s]\n",
      "100%|██████████| 1/1 [00:00<00:00, 12.23it/s]\n",
      "100%|██████████| 1/1 [00:00<00:00, 11.94it/s]\n",
      "100%|██████████| 1/1 [00:00<00:00, 12.08it/s]\n",
      "100%|██████████| 1/1 [00:00<00:00, 12.38it/s]\n",
      "  0%|          | 0/1 [00:00<?, ?it/s]"
     ]
    },
    {
     "name": "stdout",
     "output_type": "stream",
     "text": [
      "[301]\n"
     ]
    },
    {
     "name": "stderr",
     "output_type": "stream",
     "text": [
      "100%|██████████| 1/1 [00:00<00:00, 11.94it/s]\n",
      "100%|██████████| 1/1 [00:00<00:00, 12.69it/s]\n",
      "100%|██████████| 1/1 [00:00<00:00, 10.78it/s]\n",
      "  0%|          | 0/1 [00:00<?, ?it/s]"
     ]
    },
    {
     "name": "stdout",
     "output_type": "stream",
     "text": [
      "[301]\n"
     ]
    },
    {
     "name": "stderr",
     "output_type": "stream",
     "text": [
      "100%|██████████| 1/1 [00:00<00:00,  8.43it/s]\n",
      "100%|██████████| 1/1 [00:00<00:00, 10.55it/s]\n",
      "100%|██████████| 1/1 [00:00<00:00, 10.67it/s]\n",
      "100%|██████████| 1/1 [00:00<00:00, 11.14it/s]\n",
      "  0%|          | 0/1 [00:00<?, ?it/s]"
     ]
    },
    {
     "name": "stdout",
     "output_type": "stream",
     "text": [
      "[301]\n"
     ]
    },
    {
     "name": "stderr",
     "output_type": "stream",
     "text": [
      "100%|██████████| 1/1 [00:00<00:00, 11.80it/s]\n",
      "100%|██████████| 1/1 [00:00<00:00, 11.39it/s]\n",
      "100%|██████████| 1/1 [00:00<00:00, 11.80it/s]\n",
      "100%|██████████| 1/1 [00:00<00:00, 11.94it/s]\n",
      "100%|██████████| 1/1 [00:00<00:00, 12.08it/s]\n",
      "  0%|          | 0/1 [00:00<?, ?it/s]"
     ]
    },
    {
     "name": "stdout",
     "output_type": "stream",
     "text": [
      "[301]\n"
     ]
    },
    {
     "name": "stderr",
     "output_type": "stream",
     "text": [
      "100%|██████████| 1/1 [00:00<00:00, 11.94it/s]\n",
      "100%|██████████| 1/1 [00:00<00:00, 12.22it/s]\n",
      "100%|██████████| 1/1 [00:00<00:00, 10.78it/s]\n",
      "100%|██████████| 1/1 [00:00<00:00,  9.83it/s]"
     ]
    },
    {
     "name": "stdout",
     "output_type": "stream",
     "text": [
      "[301]\n"
     ]
    },
    {
     "name": "stderr",
     "output_type": "stream",
     "text": [
      "100%|██████████| 1/1 [00:00<00:00,  9.73it/s]\n",
      "100%|██████████| 1/1 [00:00<00:00,  9.64it/s]\n",
      "100%|██████████| 1/1 [00:00<00:00, 11.39it/s]\n",
      "100%|██████████| 1/1 [00:00<00:00, 11.79it/s]\n",
      "100%|██████████| 1/1 [00:00<00:00, 11.39it/s]"
     ]
    },
    {
     "name": "stdout",
     "output_type": "stream",
     "text": [
      "[301]\n"
     ]
    },
    {
     "name": "stderr",
     "output_type": "stream",
     "text": [
      "\n",
      "100%|██████████| 1/1 [00:00<00:00, 12.23it/s]\n"
     ]
    }
   ],
   "source": [
    "bnds = [(0,3), (0, 10)]\n",
    "result_2P_ex = scipy.optimize.minimize(wrapper_2P, [((t_entry*s_ns)+(n_pad_strt/hnds_un))/scl_fct, ((t_exit-t_entry)*s_ns)/scl_fct], args=(theta_entry, phi_entry, theta_exit, phi_exit, accels, lin_resp, sensors_pos), method='L-BFGS-B', bounds=bnds, options={'gtol': 1e-20})"
   ]
  },
  {
   "cell_type": "code",
   "execution_count": 59,
   "metadata": {},
   "outputs": [
    {
     "data": {
      "text/plain": [
       "array([2.635     , 1.95999938])"
      ]
     },
     "execution_count": 59,
     "metadata": {},
     "output_type": "execute_result"
    }
   ],
   "source": [
    "result_2P_f.x, result_2P_ex.x"
   ]
  },
  {
   "cell_type": "code",
   "execution_count": 60,
   "metadata": {},
   "outputs": [
    {
     "data": {
      "text/plain": [
       "array([1., 1.])"
      ]
     },
     "execution_count": 60,
     "metadata": {},
     "output_type": "execute_result"
    }
   ],
   "source": [
    "np.sqrt(np.diag(result_2P_f.hess_inv.todense())) #err"
   ]
  },
  {
   "cell_type": "code",
   "execution_count": 66,
   "metadata": {},
   "outputs": [
    {
     "data": {
      "text/plain": [
       "array([1., 1.])"
      ]
     },
     "execution_count": 66,
     "metadata": {},
     "output_type": "execute_result"
    }
   ],
   "source": [
    "np.sqrt(np.diag(result_2P_ex.hess_inv.todense())) #err"
   ]
  },
  {
   "cell_type": "markdown",
   "metadata": {},
   "source": [
    "------------------------------------------------------------------"
   ]
  },
  {
   "cell_type": "markdown",
   "metadata": {},
   "source": [
    "------------------------------------------------------------------"
   ]
  },
  {
   "cell_type": "code",
   "execution_count": 67,
   "metadata": {},
   "outputs": [
    {
     "data": {
      "text/plain": [
       "(array([3.31]),\n",
       " array([2.54824504]),\n",
       " 0.9073887605731223,\n",
       " -2.7303964599031776,\n",
       " 1.7721112213198442,\n",
       " 0.328134705686381)"
      ]
     },
     "execution_count": 67,
     "metadata": {},
     "output_type": "execute_result"
    }
   ],
   "source": [
    "((t_entry*s_ns)+(n_pad_strt/hnds_un))/scl_fct, ((t_exit-t_entry)*s_ns)/scl_fct, theta_entry, phi_entry, theta_exit, phi_exit"
   ]
  },
  {
   "cell_type": "code",
   "execution_count": 68,
   "metadata": {
    "collapsed": true,
    "jupyter": {
     "outputs_hidden": true
    }
   },
   "outputs": [
    {
     "name": "stderr",
     "output_type": "stream",
     "text": [
      "C:\\Users\\bahaa\\anaconda3\\lib\\site-packages\\ipykernel_launcher.py:2: OptimizeWarning: Unknown solver options: gtol\n",
      "  \n",
      "100%|██████████| 1/1 [00:00<00:00, 12.23it/s]\n",
      "100%|██████████| 1/1 [00:00<00:00, 12.53it/s]\n",
      "100%|██████████| 1/1 [00:00<00:00, 12.23it/s]\n",
      "100%|██████████| 1/1 [00:00<00:00, 12.07it/s]\n",
      "  0%|          | 0/1 [00:00<?, ?it/s]"
     ]
    },
    {
     "name": "stdout",
     "output_type": "stream",
     "text": [
      "[301]\n"
     ]
    },
    {
     "name": "stderr",
     "output_type": "stream",
     "text": [
      "100%|██████████| 1/1 [00:00<00:00, 12.08it/s]\n",
      "100%|██████████| 1/1 [00:00<00:00, 10.55it/s]\n",
      "100%|██████████| 1/1 [00:00<00:00,  9.46it/s]\n",
      "100%|██████████| 1/1 [00:00<00:00, 10.79it/s]\n",
      "100%|██████████| 1/1 [00:00<00:00, 10.78it/s]\n"
     ]
    }
   ],
   "source": [
    "bnds = [(0,10), (0, 10), (0, 3.14), (-3.14, 3.14), (0, 3.14), (-3.14, 3.14)]\n",
    "result_6P_ex_P = scipy.optimize.minimize(wrapper_6P, [((t_entry*s_ns)+(n_pad_strt/hnds_un))/scl_fct, ((t_exit-t_entry)*s_ns)/scl_fct, theta_entry, phi_entry, theta_exit, phi_exit], args=(accels, lin_resp, sensors_pos), method='SLSQP', bounds=bnds, options={'gtol': 1e-10})"
   ]
  },
  {
   "cell_type": "code",
   "execution_count": 69,
   "metadata": {
    "collapsed": true,
    "jupyter": {
     "outputs_hidden": true
    }
   },
   "outputs": [
    {
     "name": "stderr",
     "output_type": "stream",
     "text": [
      "100%|██████████| 1/1 [00:00<00:00, 11.80it/s]\n",
      "100%|██████████| 1/1 [00:00<00:00, 12.38it/s]\n",
      "100%|██████████| 1/1 [00:00<00:00, 12.38it/s]\n",
      "  0%|          | 0/1 [00:00<?, ?it/s]"
     ]
    },
    {
     "name": "stdout",
     "output_type": "stream",
     "text": [
      "[301]\n"
     ]
    },
    {
     "name": "stderr",
     "output_type": "stream",
     "text": [
      "100%|██████████| 1/1 [00:00<00:00, 11.52it/s]\n",
      "100%|██████████| 1/1 [00:00<00:00, 10.78it/s]\n",
      "100%|██████████| 1/1 [00:00<00:00, 11.66it/s]\n",
      "100%|██████████| 1/1 [00:00<00:00, 10.78it/s]\n",
      "100%|██████████| 1/1 [00:00<00:00, 10.23it/s]\n",
      "100%|██████████| 1/1 [00:00<00:00, 11.66it/s]\n",
      "100%|██████████| 1/1 [00:00<00:00, 10.23it/s]\n",
      "  0%|          | 0/1 [00:00<?, ?it/s]"
     ]
    },
    {
     "name": "stdout",
     "output_type": "stream",
     "text": [
      "[301]\n"
     ]
    },
    {
     "name": "stderr",
     "output_type": "stream",
     "text": [
      "100%|██████████| 1/1 [00:00<00:00, 10.55it/s]\n",
      "100%|██████████| 1/1 [00:00<00:00, 12.38it/s]\n",
      "100%|██████████| 1/1 [00:00<00:00, 10.13it/s]\n",
      "100%|██████████| 1/1 [00:00<00:00, 11.02it/s]\n",
      "100%|██████████| 1/1 [00:00<00:00, 12.85it/s]\n",
      "100%|██████████| 1/1 [00:00<00:00, 13.02it/s]\n",
      "100%|██████████| 1/1 [00:00<00:00, 11.39it/s]\n",
      "100%|██████████| 1/1 [00:00<00:00, 11.80it/s]\n",
      "100%|██████████| 1/1 [00:00<00:00, 11.65it/s]\n",
      "  0%|          | 0/1 [00:00<?, ?it/s]"
     ]
    },
    {
     "name": "stdout",
     "output_type": "stream",
     "text": [
      "[301]\n"
     ]
    },
    {
     "name": "stderr",
     "output_type": "stream",
     "text": [
      "100%|██████████| 1/1 [00:00<00:00, 11.39it/s]\n",
      "100%|██████████| 1/1 [00:00<00:00, 11.26it/s]\n",
      "100%|██████████| 1/1 [00:00<00:00, 12.38it/s]\n",
      "100%|██████████| 1/1 [00:00<00:00, 12.23it/s]\n",
      "100%|██████████| 1/1 [00:00<00:00, 11.27it/s]\n",
      "100%|██████████| 1/1 [00:00<00:00, 12.38it/s]\n",
      "100%|██████████| 1/1 [00:00<00:00, 12.08it/s]\n",
      "100%|██████████| 1/1 [00:00<00:00, 11.30it/s]\n",
      "  0%|          | 0/1 [00:00<?, ?it/s]"
     ]
    },
    {
     "name": "stdout",
     "output_type": "stream",
     "text": [
      "[301]\n"
     ]
    },
    {
     "name": "stderr",
     "output_type": "stream",
     "text": [
      "100%|██████████| 1/1 [00:00<00:00, 11.52it/s]\n",
      "100%|██████████| 1/1 [00:00<00:00, 12.23it/s]\n",
      "100%|██████████| 1/1 [00:00<00:00, 10.13it/s]\n",
      "100%|██████████| 1/1 [00:00<00:00, 12.08it/s]\n",
      "100%|██████████| 1/1 [00:00<00:00, 11.66it/s]\n",
      "100%|██████████| 1/1 [00:00<00:00,  7.27it/s]\n",
      "100%|██████████| 1/1 [00:00<00:00,  9.46it/s]\n",
      "  0%|          | 0/1 [00:00<?, ?it/s]"
     ]
    },
    {
     "name": "stdout",
     "output_type": "stream",
     "text": [
      "[301]\n"
     ]
    },
    {
     "name": "stderr",
     "output_type": "stream",
     "text": [
      "100%|██████████| 1/1 [00:00<00:00,  6.08it/s]\n",
      "100%|██████████| 1/1 [00:00<00:00,  8.64it/s]\n",
      "100%|██████████| 1/1 [00:00<00:00, 10.13it/s]\n",
      "100%|██████████| 1/1 [00:00<00:00,  7.54it/s]\n",
      "100%|██████████| 1/1 [00:00<00:00,  7.43it/s]\n",
      "100%|██████████| 1/1 [00:00<00:00, 11.02it/s]\n",
      "100%|██████████| 1/1 [00:00<00:00,  8.36it/s]\n",
      "100%|██████████| 1/1 [00:00<00:00,  8.02it/s]\n",
      "  0%|          | 0/1 [00:00<?, ?it/s]"
     ]
    },
    {
     "name": "stdout",
     "output_type": "stream",
     "text": [
      "[301]\n"
     ]
    },
    {
     "name": "stderr",
     "output_type": "stream",
     "text": [
      "100%|██████████| 1/1 [00:00<00:00,  6.39it/s]\n",
      "100%|██████████| 1/1 [00:00<00:00,  9.03it/s]\n",
      "100%|██████████| 1/1 [00:00<00:00,  8.64it/s]\n",
      "100%|██████████| 1/1 [00:00<00:00,  9.20it/s]\n",
      "100%|██████████| 1/1 [00:00<00:00,  9.20it/s]\n",
      "100%|██████████| 1/1 [00:00<00:00,  8.43it/s]\n",
      "100%|██████████| 1/1 [00:00<00:00,  8.29it/s]\n",
      "100%|██████████| 1/1 [00:00<00:00,  7.96it/s]\n",
      "  0%|          | 0/1 [00:00<?, ?it/s]"
     ]
    },
    {
     "name": "stdout",
     "output_type": "stream",
     "text": [
      "[301]\n"
     ]
    },
    {
     "name": "stderr",
     "output_type": "stream",
     "text": [
      "100%|██████████| 1/1 [00:00<00:00,  7.96it/s]\n",
      "100%|██████████| 1/1 [00:00<00:00,  9.28it/s]\n",
      "100%|██████████| 1/1 [00:00<00:00,  9.03it/s]\n",
      "100%|██████████| 1/1 [00:00<00:00,  7.32it/s]\n",
      "100%|██████████| 1/1 [00:00<00:00,  9.37it/s]\n",
      "100%|██████████| 1/1 [00:00<00:00,  9.83it/s]\n",
      "100%|██████████| 1/1 [00:00<00:00,  8.87it/s]\n",
      "100%|██████████| 1/1 [00:00<00:00,  6.35it/s]\n",
      "  0%|          | 0/1 [00:00<?, ?it/s]"
     ]
    },
    {
     "name": "stdout",
     "output_type": "stream",
     "text": [
      "[301]\n"
     ]
    },
    {
     "name": "stderr",
     "output_type": "stream",
     "text": [
      "100%|██████████| 1/1 [00:00<00:00,  6.68it/s]\n",
      "100%|██████████| 1/1 [00:00<00:00,  6.64it/s]\n",
      "100%|██████████| 1/1 [00:00<00:00,  7.96it/s]\n",
      "100%|██████████| 1/1 [00:00<00:00,  9.73it/s]\n",
      "100%|██████████| 1/1 [00:00<00:00,  6.23it/s]\n",
      "100%|██████████| 1/1 [00:00<00:00,  6.68it/s]\n",
      "100%|██████████| 1/1 [00:00<00:00,  5.45it/s]\n",
      "  0%|          | 0/1 [00:00<?, ?it/s]"
     ]
    },
    {
     "name": "stdout",
     "output_type": "stream",
     "text": [
      "[301]\n"
     ]
    },
    {
     "name": "stderr",
     "output_type": "stream",
     "text": [
      "100%|██████████| 1/1 [00:00<00:00,  4.73it/s]\n",
      "100%|██████████| 1/1 [00:00<00:00,  7.48it/s]\n",
      "100%|██████████| 1/1 [00:00<00:00,  7.01it/s]\n",
      "100%|██████████| 1/1 [00:00<00:00,  6.15it/s]\n",
      "100%|██████████| 1/1 [00:00<00:00,  8.43it/s]\n",
      "100%|██████████| 1/1 [00:00<00:00, 10.34it/s]\n",
      "100%|██████████| 1/1 [00:00<00:00, 10.55it/s]\n",
      "100%|██████████| 1/1 [00:00<00:00, 11.14it/s]\n",
      "100%|██████████| 1/1 [00:00<00:00, 11.80it/s]\n",
      "100%|██████████| 1/1 [00:00<00:00, 10.44it/s]"
     ]
    },
    {
     "name": "stdout",
     "output_type": "stream",
     "text": [
      "[301]\n"
     ]
    },
    {
     "name": "stderr",
     "output_type": "stream",
     "text": [
      "\n",
      "100%|██████████| 1/1 [00:00<00:00, 12.38it/s]\n",
      "100%|██████████| 1/1 [00:00<00:00, 11.52it/s]\n",
      "100%|██████████| 1/1 [00:00<00:00, 11.53it/s]\n",
      "100%|██████████| 1/1 [00:00<00:00, 11.80it/s]\n",
      "100%|██████████| 1/1 [00:00<00:00, 11.53it/s]\n",
      "100%|██████████| 1/1 [00:00<00:00, 11.53it/s]\n",
      "100%|██████████| 1/1 [00:00<00:00, 10.13it/s]\n",
      "  0%|          | 0/1 [00:00<?, ?it/s]"
     ]
    },
    {
     "name": "stdout",
     "output_type": "stream",
     "text": [
      "[301]\n"
     ]
    },
    {
     "name": "stderr",
     "output_type": "stream",
     "text": [
      "100%|██████████| 1/1 [00:00<00:00, 10.44it/s]\n",
      "100%|██████████| 1/1 [00:00<00:00, 10.67it/s]\n",
      "100%|██████████| 1/1 [00:00<00:00, 10.55it/s]\n",
      "100%|██████████| 1/1 [00:00<00:00, 10.03it/s]\n",
      "100%|██████████| 1/1 [00:00<00:00,  9.03it/s]\n",
      "100%|██████████| 1/1 [00:00<00:00,  9.12it/s]\n",
      "100%|██████████| 1/1 [00:00<00:00,  8.02it/s]\n",
      "100%|██████████| 1/1 [00:00<00:00,  7.71it/s]\n",
      "  0%|          | 0/1 [00:00<?, ?it/s]"
     ]
    },
    {
     "name": "stdout",
     "output_type": "stream",
     "text": [
      "[301]\n"
     ]
    },
    {
     "name": "stderr",
     "output_type": "stream",
     "text": [
      "100%|██████████| 1/1 [00:00<00:00,  9.73it/s]\n",
      "100%|██████████| 1/1 [00:00<00:00,  9.29it/s]\n",
      "100%|██████████| 1/1 [00:00<00:00, 10.67it/s]\n",
      "100%|██████████| 1/1 [00:00<00:00,  8.64it/s]\n",
      "100%|██████████| 1/1 [00:00<00:00, 10.90it/s]\n",
      "100%|██████████| 1/1 [00:00<00:00, 11.14it/s]\n",
      "100%|██████████| 1/1 [00:00<00:00, 10.90it/s]\n",
      "100%|██████████| 1/1 [00:00<00:00, 11.65it/s]\n",
      "100%|██████████| 1/1 [00:00<00:00, 12.38it/s]\n",
      "  0%|          | 0/1 [00:00<?, ?it/s]"
     ]
    },
    {
     "name": "stdout",
     "output_type": "stream",
     "text": [
      "[301]\n"
     ]
    },
    {
     "name": "stderr",
     "output_type": "stream",
     "text": [
      "100%|██████████| 1/1 [00:00<00:00, 11.52it/s]\n",
      "100%|██████████| 1/1 [00:00<00:00, 11.02it/s]\n",
      "100%|██████████| 1/1 [00:00<00:00, 10.55it/s]\n",
      "100%|██████████| 1/1 [00:00<00:00,  9.83it/s]\n",
      "100%|██████████| 1/1 [00:00<00:00,  8.22it/s]\n",
      "100%|██████████| 1/1 [00:00<00:00,  8.15it/s]\n",
      "100%|██████████| 1/1 [00:00<00:00,  6.35it/s]\n",
      "  0%|          | 0/1 [00:00<?, ?it/s]"
     ]
    },
    {
     "name": "stdout",
     "output_type": "stream",
     "text": [
      "[301]\n"
     ]
    },
    {
     "name": "stderr",
     "output_type": "stream",
     "text": [
      "100%|██████████| 1/1 [00:00<00:00,  6.11it/s]\n",
      "100%|██████████| 1/1 [00:00<00:00,  7.27it/s]\n",
      "100%|██████████| 1/1 [00:00<00:00,  9.28it/s]\n",
      "100%|██████████| 1/1 [00:00<00:00,  9.28it/s]\n",
      "100%|██████████| 1/1 [00:00<00:00,  6.73it/s]\n",
      "100%|██████████| 1/1 [00:00<00:00,  6.00it/s]\n",
      "100%|██████████| 1/1 [00:00<00:00,  7.48it/s]\n",
      "100%|██████████| 1/1 [00:00<00:00,  6.55it/s]\n",
      "  0%|          | 0/1 [00:00<?, ?it/s]"
     ]
    },
    {
     "name": "stdout",
     "output_type": "stream",
     "text": [
      "[301]\n"
     ]
    },
    {
     "name": "stderr",
     "output_type": "stream",
     "text": [
      "100%|██████████| 1/1 [00:00<00:00,  5.70it/s]\n",
      "100%|██████████| 1/1 [00:00<00:00,  5.86it/s]\n",
      "100%|██████████| 1/1 [00:00<00:00,  6.87it/s]\n",
      "100%|██████████| 1/1 [00:00<00:00,  8.80it/s]\n",
      "100%|██████████| 1/1 [00:00<00:00, 10.55it/s]\n",
      "100%|██████████| 1/1 [00:00<00:00,  9.55it/s]\n",
      "100%|██████████| 1/1 [00:00<00:00, 10.44it/s]\n",
      "100%|██████████| 1/1 [00:00<00:00, 12.23it/s]\n",
      "100%|██████████| 1/1 [00:00<00:00, 12.38it/s]\n",
      "  0%|          | 0/1 [00:00<?, ?it/s]"
     ]
    },
    {
     "name": "stdout",
     "output_type": "stream",
     "text": [
      "[301]\n"
     ]
    },
    {
     "name": "stderr",
     "output_type": "stream",
     "text": [
      "100%|██████████| 1/1 [00:00<00:00, 10.90it/s]\n",
      "100%|██████████| 1/1 [00:00<00:00, 10.03it/s]\n",
      "100%|██████████| 1/1 [00:00<00:00, 11.80it/s]\n",
      "100%|██████████| 1/1 [00:00<00:00, 11.13it/s]\n",
      "100%|██████████| 1/1 [00:00<00:00, 11.80it/s]\n",
      "100%|██████████| 1/1 [00:00<00:00, 11.01it/s]\n",
      "100%|██████████| 1/1 [00:00<00:00, 11.53it/s]\n",
      "100%|██████████| 1/1 [00:00<00:00, 12.86it/s]\n",
      "  0%|          | 0/1 [00:00<?, ?it/s]"
     ]
    },
    {
     "name": "stdout",
     "output_type": "stream",
     "text": [
      "[301]\n"
     ]
    },
    {
     "name": "stderr",
     "output_type": "stream",
     "text": [
      "100%|██████████| 1/1 [00:00<00:00, 10.23it/s]\n",
      "100%|██████████| 1/1 [00:00<00:00, 10.67it/s]\n",
      "100%|██████████| 1/1 [00:00<00:00, 11.66it/s]\n",
      "100%|██████████| 1/1 [00:00<00:00, 10.66it/s]\n",
      "100%|██████████| 1/1 [00:00<00:00, 12.69it/s]\n",
      "100%|██████████| 1/1 [00:00<00:00, 11.53it/s]\n",
      "100%|██████████| 1/1 [00:00<00:00, 11.53it/s]\n",
      "100%|██████████| 1/1 [00:00<00:00, 11.94it/s]"
     ]
    },
    {
     "name": "stdout",
     "output_type": "stream",
     "text": [
      "[301]\n"
     ]
    },
    {
     "name": "stderr",
     "output_type": "stream",
     "text": [
      "\n",
      "100%|██████████| 1/1 [00:00<00:00, 12.23it/s]\n",
      "100%|██████████| 1/1 [00:00<00:00, 11.27it/s]\n",
      "100%|██████████| 1/1 [00:00<00:00, 12.08it/s]\n",
      "100%|██████████| 1/1 [00:00<00:00,  8.87it/s]\n",
      "100%|██████████| 1/1 [00:00<00:00,  9.37it/s]\n",
      "100%|██████████| 1/1 [00:00<00:00, 11.26it/s]\n",
      "100%|██████████| 1/1 [00:00<00:00, 11.27it/s]\n",
      "  0%|          | 0/1 [00:00<?, ?it/s]"
     ]
    },
    {
     "name": "stdout",
     "output_type": "stream",
     "text": [
      "[301]\n"
     ]
    },
    {
     "name": "stderr",
     "output_type": "stream",
     "text": [
      "100%|██████████| 1/1 [00:00<00:00, 10.90it/s]\n",
      "100%|██████████| 1/1 [00:00<00:00, 11.94it/s]\n",
      "100%|██████████| 1/1 [00:00<00:00, 10.44it/s]\n",
      "100%|██████████| 1/1 [00:00<00:00, 11.94it/s]\n",
      "100%|██████████| 1/1 [00:00<00:00, 11.20it/s]\n",
      "100%|██████████| 1/1 [00:00<00:00, 11.39it/s]\n",
      "100%|██████████| 1/1 [00:00<00:00,  9.73it/s]\n",
      "100%|██████████| 1/1 [00:00<00:00, 10.90it/s]\n",
      "  0%|          | 0/1 [00:00<?, ?it/s]"
     ]
    },
    {
     "name": "stdout",
     "output_type": "stream",
     "text": [
      "[301]\n"
     ]
    },
    {
     "name": "stderr",
     "output_type": "stream",
     "text": [
      "100%|██████████| 1/1 [00:00<00:00, 11.94it/s]\n",
      "100%|██████████| 1/1 [00:00<00:00, 11.14it/s]\n",
      "100%|██████████| 1/1 [00:00<00:00, 10.90it/s]\n",
      "100%|██████████| 1/1 [00:00<00:00, 11.02it/s]\n",
      "100%|██████████| 1/1 [00:00<00:00, 12.23it/s]\n",
      "100%|██████████| 1/1 [00:00<00:00, 12.69it/s]\n",
      "100%|██████████| 1/1 [00:00<00:00, 12.53it/s]\n",
      "100%|██████████| 1/1 [00:00<00:00, 12.22it/s]\n",
      "100%|██████████| 1/1 [00:00<00:00, 11.14it/s]\n",
      "  0%|          | 0/1 [00:00<?, ?it/s]"
     ]
    },
    {
     "name": "stdout",
     "output_type": "stream",
     "text": [
      "[301]\n"
     ]
    },
    {
     "name": "stderr",
     "output_type": "stream",
     "text": [
      "100%|██████████| 1/1 [00:00<00:00, 11.27it/s]\n",
      "100%|██████████| 1/1 [00:00<00:00, 11.53it/s]\n",
      "100%|██████████| 1/1 [00:00<00:00, 11.94it/s]\n",
      "100%|██████████| 1/1 [00:00<00:00, 11.39it/s]\n",
      "100%|██████████| 1/1 [00:00<00:00, 10.44it/s]\n",
      "100%|██████████| 1/1 [00:00<00:00, 11.94it/s]\n",
      "100%|██████████| 1/1 [00:00<00:00, 12.53it/s]\n",
      "100%|██████████| 1/1 [00:00<00:00, 12.63it/s]\n",
      "  0%|          | 0/1 [00:00<?, ?it/s]"
     ]
    },
    {
     "name": "stdout",
     "output_type": "stream",
     "text": [
      "[301]\n"
     ]
    },
    {
     "name": "stderr",
     "output_type": "stream",
     "text": [
      "100%|██████████| 1/1 [00:00<00:00, 12.69it/s]\n",
      "100%|██████████| 1/1 [00:00<00:00, 11.80it/s]\n",
      "100%|██████████| 1/1 [00:00<00:00, 12.23it/s]\n",
      "100%|██████████| 1/1 [00:00<00:00, 11.80it/s]\n",
      "100%|██████████| 1/1 [00:00<00:00, 10.67it/s]\n",
      "100%|██████████| 1/1 [00:00<00:00, 12.53it/s]\n",
      "100%|██████████| 1/1 [00:00<00:00, 12.72it/s]\n",
      "  0%|          | 0/1 [00:00<?, ?it/s]"
     ]
    },
    {
     "name": "stdout",
     "output_type": "stream",
     "text": [
      "[301]\n"
     ]
    },
    {
     "name": "stderr",
     "output_type": "stream",
     "text": [
      "100%|██████████| 1/1 [00:00<00:00, 10.13it/s]\n",
      "100%|██████████| 1/1 [00:00<00:00, 11.66it/s]\n",
      "100%|██████████| 1/1 [00:00<00:00, 12.23it/s]\n",
      "100%|██████████| 1/1 [00:00<00:00, 12.37it/s]\n",
      "100%|██████████| 1/1 [00:00<00:00, 10.02it/s]\n",
      "100%|██████████| 1/1 [00:00<00:00, 12.37it/s]\n",
      "100%|██████████| 1/1 [00:00<00:00, 12.08it/s]\n",
      "100%|██████████| 1/1 [00:00<00:00, 12.53it/s]\n",
      "100%|██████████| 1/1 [00:00<00:00, 11.80it/s]\n",
      "  0%|          | 0/1 [00:00<?, ?it/s]"
     ]
    },
    {
     "name": "stdout",
     "output_type": "stream",
     "text": [
      "[301]\n"
     ]
    },
    {
     "name": "stderr",
     "output_type": "stream",
     "text": [
      "100%|██████████| 1/1 [00:00<00:00, 10.13it/s]\n",
      "100%|██████████| 1/1 [00:00<00:00,  9.46it/s]\n",
      "100%|██████████| 1/1 [00:00<00:00,  8.57it/s]\n",
      "100%|██████████| 1/1 [00:00<00:00, 10.23it/s]\n",
      "100%|██████████| 1/1 [00:00<00:00, 11.39it/s]\n",
      "100%|██████████| 1/1 [00:00<00:00, 10.89it/s]\n",
      "100%|██████████| 1/1 [00:00<00:00, 12.38it/s]\n",
      "100%|██████████| 1/1 [00:00<00:00, 12.08it/s]\n",
      "  0%|          | 0/1 [00:00<?, ?it/s]"
     ]
    },
    {
     "name": "stdout",
     "output_type": "stream",
     "text": [
      "[301]\n"
     ]
    },
    {
     "name": "stderr",
     "output_type": "stream",
     "text": [
      "100%|██████████| 1/1 [00:00<00:00, 11.66it/s]\n",
      "100%|██████████| 1/1 [00:00<00:00, 10.78it/s]\n",
      "100%|██████████| 1/1 [00:00<00:00, 11.27it/s]\n",
      "100%|██████████| 1/1 [00:00<00:00,  9.73it/s]\n",
      "100%|██████████| 1/1 [00:00<00:00, 10.23it/s]\n",
      "100%|██████████| 1/1 [00:00<00:00, 11.80it/s]\n",
      "100%|██████████| 1/1 [00:00<00:00, 11.80it/s]\n",
      "100%|██████████| 1/1 [00:00<00:00, 11.52it/s]\n",
      "  0%|          | 0/1 [00:00<?, ?it/s]"
     ]
    },
    {
     "name": "stdout",
     "output_type": "stream",
     "text": [
      "[301]\n"
     ]
    },
    {
     "name": "stderr",
     "output_type": "stream",
     "text": [
      "100%|██████████| 1/1 [00:00<00:00,  8.95it/s]\n",
      "100%|██████████| 1/1 [00:00<00:00, 11.14it/s]\n",
      "100%|██████████| 1/1 [00:00<00:00,  9.12it/s]\n",
      "100%|██████████| 1/1 [00:00<00:00, 11.27it/s]\n",
      "100%|██████████| 1/1 [00:00<00:00,  7.90it/s]\n",
      "100%|██████████| 1/1 [00:00<00:00,  7.16it/s]\n",
      "100%|██████████| 1/1 [00:00<00:00,  6.04it/s]\n",
      "  0%|          | 0/1 [00:00<?, ?it/s]"
     ]
    },
    {
     "name": "stdout",
     "output_type": "stream",
     "text": [
      "[301]\n"
     ]
    },
    {
     "name": "stderr",
     "output_type": "stream",
     "text": [
      "100%|██████████| 1/1 [00:00<00:00,  6.00it/s]\n",
      "100%|██████████| 1/1 [00:00<00:00,  7.71it/s]\n",
      "100%|██████████| 1/1 [00:00<00:00,  8.95it/s]\n",
      "100%|██████████| 1/1 [00:00<00:00,  9.16it/s]\n",
      "100%|██████████| 1/1 [00:00<00:00,  6.06it/s]\n",
      "100%|██████████| 1/1 [00:00<00:00,  8.15it/s]\n",
      "100%|██████████| 1/1 [00:00<00:00,  7.65it/s]\n",
      "100%|██████████| 1/1 [00:00<00:00,  6.77it/s]\n",
      "  0%|          | 0/1 [00:00<?, ?it/s]"
     ]
    },
    {
     "name": "stdout",
     "output_type": "stream",
     "text": [
      "[301]\n"
     ]
    },
    {
     "name": "stderr",
     "output_type": "stream",
     "text": [
      "100%|██████████| 1/1 [00:00<00:00,  6.68it/s]\n",
      "100%|██████████| 1/1 [00:00<00:00,  6.47it/s]\n",
      "100%|██████████| 1/1 [00:00<00:00,  8.50it/s]\n",
      "100%|██████████| 1/1 [00:00<00:00,  8.95it/s]\n",
      "100%|██████████| 1/1 [00:00<00:00,  9.73it/s]\n",
      "100%|██████████| 1/1 [00:00<00:00,  9.64it/s]\n",
      "100%|██████████| 1/1 [00:00<00:00,  9.03it/s]\n",
      "100%|██████████| 1/1 [00:00<00:00,  9.93it/s]\n",
      "  0%|          | 0/1 [00:00<?, ?it/s]"
     ]
    },
    {
     "name": "stdout",
     "output_type": "stream",
     "text": [
      "[301]\n"
     ]
    },
    {
     "name": "stderr",
     "output_type": "stream",
     "text": [
      "100%|██████████| 1/1 [00:00<00:00,  8.50it/s]\n",
      "100%|██████████| 1/1 [00:00<00:00,  9.64it/s]\n",
      "100%|██████████| 1/1 [00:00<00:00, 11.80it/s]\n",
      "100%|██████████| 1/1 [00:00<00:00, 11.93it/s]\n",
      "100%|██████████| 1/1 [00:00<00:00, 11.80it/s]\n",
      "100%|██████████| 1/1 [00:00<00:00, 11.53it/s]\n",
      "100%|██████████| 1/1 [00:00<00:00, 11.94it/s]\n",
      "100%|██████████| 1/1 [00:00<00:00, 11.39it/s]\n",
      "100%|██████████| 1/1 [00:00<00:00, 10.67it/s]\n",
      "  0%|          | 0/1 [00:00<?, ?it/s]"
     ]
    },
    {
     "name": "stdout",
     "output_type": "stream",
     "text": [
      "[301]\n"
     ]
    },
    {
     "name": "stderr",
     "output_type": "stream",
     "text": [
      "100%|██████████| 1/1 [00:00<00:00, 11.14it/s]\n",
      "100%|██████████| 1/1 [00:00<00:00, 11.02it/s]\n",
      "100%|██████████| 1/1 [00:00<00:00, 11.39it/s]\n",
      "100%|██████████| 1/1 [00:00<00:00, 11.39it/s]\n",
      "100%|██████████| 1/1 [00:00<00:00, 10.90it/s]\n",
      "100%|██████████| 1/1 [00:00<00:00, 12.08it/s]\n",
      "100%|██████████| 1/1 [00:00<00:00, 10.67it/s]\n",
      "  0%|          | 0/1 [00:00<?, ?it/s]"
     ]
    },
    {
     "name": "stdout",
     "output_type": "stream",
     "text": [
      "[301]\n"
     ]
    },
    {
     "name": "stderr",
     "output_type": "stream",
     "text": [
      "100%|██████████| 1/1 [00:00<00:00, 10.55it/s]\n",
      "100%|██████████| 1/1 [00:00<00:00, 10.34it/s]\n",
      "100%|██████████| 1/1 [00:00<00:00, 11.79it/s]\n",
      "100%|██████████| 1/1 [00:00<00:00, 11.66it/s]\n",
      "100%|██████████| 1/1 [00:00<00:00, 10.90it/s]\n",
      "100%|██████████| 1/1 [00:00<00:00, 11.66it/s]\n",
      "100%|██████████| 1/1 [00:00<00:00,  9.64it/s]\n",
      "100%|██████████| 1/1 [00:00<00:00, 10.78it/s]\n",
      "  0%|          | 0/1 [00:00<?, ?it/s]"
     ]
    },
    {
     "name": "stdout",
     "output_type": "stream",
     "text": [
      "[301]\n"
     ]
    },
    {
     "name": "stderr",
     "output_type": "stream",
     "text": [
      "100%|██████████| 1/1 [00:00<00:00, 10.23it/s]\n",
      "100%|██████████| 1/1 [00:00<00:00, 11.02it/s]\n",
      "100%|██████████| 1/1 [00:00<00:00, 10.55it/s]\n",
      "100%|██████████| 1/1 [00:00<00:00,  9.28it/s]\n",
      "100%|██████████| 1/1 [00:00<00:00, 11.94it/s]\n",
      "100%|██████████| 1/1 [00:00<00:00, 11.66it/s]\n",
      "100%|██████████| 1/1 [00:00<00:00, 10.78it/s]\n",
      "100%|██████████| 1/1 [00:00<00:00, 12.85it/s]\n",
      "100%|██████████| 1/1 [00:00<00:00, 13.37it/s]\n",
      "  0%|          | 0/1 [00:00<?, ?it/s]"
     ]
    },
    {
     "name": "stdout",
     "output_type": "stream",
     "text": [
      "[301]\n"
     ]
    },
    {
     "name": "stderr",
     "output_type": "stream",
     "text": [
      "100%|██████████| 1/1 [00:00<00:00, 12.22it/s]\n",
      "100%|██████████| 1/1 [00:00<00:00, 11.79it/s]\n",
      "100%|██████████| 1/1 [00:00<00:00, 13.55it/s]\n",
      "100%|██████████| 1/1 [00:00<00:00, 13.55it/s]\n",
      "100%|██████████| 1/1 [00:00<00:00, 13.55it/s]\n",
      "100%|██████████| 1/1 [00:00<00:00, 12.37it/s]\n",
      "100%|██████████| 1/1 [00:00<00:00, 13.73it/s]\n",
      "100%|██████████| 1/1 [00:00<00:00, 13.93it/s]\n",
      "  0%|          | 0/1 [00:00<?, ?it/s]"
     ]
    },
    {
     "name": "stdout",
     "output_type": "stream",
     "text": [
      "[301]\n"
     ]
    },
    {
     "name": "stderr",
     "output_type": "stream",
     "text": [
      "100%|██████████| 1/1 [00:00<00:00, 13.19it/s]\n",
      "100%|██████████| 1/1 [00:00<00:00, 11.53it/s]\n",
      "100%|██████████| 1/1 [00:00<00:00, 10.67it/s]\n",
      "100%|██████████| 1/1 [00:00<00:00, 10.55it/s]\n",
      "100%|██████████| 1/1 [00:00<00:00,  9.20it/s]\n",
      "100%|██████████| 1/1 [00:00<00:00,  8.15it/s]\n",
      "100%|██████████| 1/1 [00:00<00:00,  8.22it/s]\n",
      "  0%|          | 0/1 [00:00<?, ?it/s]"
     ]
    },
    {
     "name": "stdout",
     "output_type": "stream",
     "text": [
      "[301]\n"
     ]
    },
    {
     "name": "stderr",
     "output_type": "stream",
     "text": [
      "100%|██████████| 1/1 [00:00<00:00,  8.64it/s]\n",
      "100%|██████████| 1/1 [00:00<00:00,  9.37it/s]\n",
      "100%|██████████| 1/1 [00:00<00:00, 12.07it/s]\n",
      "100%|██████████| 1/1 [00:00<00:00, 12.38it/s]\n",
      "100%|██████████| 1/1 [00:00<00:00, 10.55it/s]\n",
      "100%|██████████| 1/1 [00:00<00:00, 11.80it/s]\n",
      "100%|██████████| 1/1 [00:00<00:00, 11.39it/s]\n",
      "100%|██████████| 1/1 [00:00<00:00, 12.85it/s]\n",
      "100%|██████████| 1/1 [00:00<00:00, 13.02it/s]\n",
      "  0%|          | 0/1 [00:00<?, ?it/s]"
     ]
    },
    {
     "name": "stdout",
     "output_type": "stream",
     "text": [
      "[301]\n"
     ]
    },
    {
     "name": "stderr",
     "output_type": "stream",
     "text": [
      "100%|██████████| 1/1 [00:00<00:00, 12.22it/s]\n",
      "100%|██████████| 1/1 [00:00<00:00, 13.93it/s]\n",
      "100%|██████████| 1/1 [00:00<00:00, 13.19it/s]\n",
      "100%|██████████| 1/1 [00:00<00:00, 13.73it/s]\n",
      "100%|██████████| 1/1 [00:00<00:00, 13.93it/s]\n",
      "100%|██████████| 1/1 [00:00<00:00, 14.12it/s]\n",
      "100%|██████████| 1/1 [00:00<00:00, 12.53it/s]\n",
      "100%|██████████| 1/1 [00:00<00:00, 12.38it/s]\n",
      "  0%|          | 0/1 [00:00<?, ?it/s]"
     ]
    },
    {
     "name": "stdout",
     "output_type": "stream",
     "text": [
      "[301]\n"
     ]
    },
    {
     "name": "stderr",
     "output_type": "stream",
     "text": [
      "100%|██████████| 1/1 [00:00<00:00, 13.74it/s]\n",
      "100%|██████████| 1/1 [00:00<00:00, 14.12it/s]\n",
      "100%|██████████| 1/1 [00:00<00:00, 13.74it/s]\n",
      "100%|██████████| 1/1 [00:00<00:00, 13.02it/s]\n",
      "100%|██████████| 1/1 [00:00<00:00, 13.74it/s]\n",
      "100%|██████████| 1/1 [00:00<00:00,  8.36it/s]\n",
      "100%|██████████| 1/1 [00:00<00:00, 11.02it/s]\n",
      "  0%|          | 0/1 [00:00<?, ?it/s]"
     ]
    },
    {
     "name": "stdout",
     "output_type": "stream",
     "text": [
      "[301]\n"
     ]
    },
    {
     "name": "stderr",
     "output_type": "stream",
     "text": [
      "100%|██████████| 1/1 [00:00<00:00, 10.23it/s]\n",
      "100%|██████████| 1/1 [00:00<00:00, 10.90it/s]\n",
      "100%|██████████| 1/1 [00:00<00:00, 12.23it/s]\n",
      "100%|██████████| 1/1 [00:00<00:00,  9.28it/s]\n",
      "100%|██████████| 1/1 [00:00<00:00, 10.03it/s]\n",
      "100%|██████████| 1/1 [00:00<00:00,  9.64it/s]\n",
      "100%|██████████| 1/1 [00:00<00:00,  9.64it/s]\n",
      "100%|██████████| 1/1 [00:00<00:00, 10.90it/s]\n",
      "  0%|          | 0/1 [00:00<?, ?it/s]"
     ]
    },
    {
     "name": "stdout",
     "output_type": "stream",
     "text": [
      "[301]\n"
     ]
    },
    {
     "name": "stderr",
     "output_type": "stream",
     "text": [
      "100%|██████████| 1/1 [00:00<00:00, 11.80it/s]\n",
      "100%|██████████| 1/1 [00:00<00:00, 11.52it/s]\n",
      "100%|██████████| 1/1 [00:00<00:00, 11.94it/s]\n",
      "100%|██████████| 1/1 [00:00<00:00, 12.23it/s]\n",
      "100%|██████████| 1/1 [00:00<00:00, 13.37it/s]\n",
      "100%|██████████| 1/1 [00:00<00:00, 11.53it/s]\n",
      "100%|██████████| 1/1 [00:00<00:00,  8.57it/s]\n",
      "100%|██████████| 1/1 [00:00<00:00,  9.64it/s]\n",
      "  0%|          | 0/1 [00:00<?, ?it/s]"
     ]
    },
    {
     "name": "stdout",
     "output_type": "stream",
     "text": [
      "[301]\n"
     ]
    },
    {
     "name": "stderr",
     "output_type": "stream",
     "text": [
      "100%|██████████| 1/1 [00:00<00:00, 11.80it/s]\n",
      "100%|██████████| 1/1 [00:00<00:00, 11.53it/s]\n",
      "100%|██████████| 1/1 [00:00<00:00, 10.13it/s]\n",
      "100%|██████████| 1/1 [00:00<00:00,  6.92it/s]\n",
      "100%|██████████| 1/1 [00:00<00:00, 10.13it/s]\n",
      "100%|██████████| 1/1 [00:00<00:00, 11.53it/s]\n",
      "100%|██████████| 1/1 [00:00<00:00, 12.08it/s]\n",
      "100%|██████████| 1/1 [00:00<00:00, 13.37it/s]\n",
      "100%|██████████| 1/1 [00:00<00:00, 11.66it/s]\n",
      "  0%|          | 0/1 [00:00<?, ?it/s]"
     ]
    },
    {
     "name": "stdout",
     "output_type": "stream",
     "text": [
      "[301]\n"
     ]
    },
    {
     "name": "stderr",
     "output_type": "stream",
     "text": [
      "100%|██████████| 1/1 [00:00<00:00, 12.53it/s]\n",
      "100%|██████████| 1/1 [00:00<00:00, 11.66it/s]\n",
      "100%|██████████| 1/1 [00:00<00:00, 13.93it/s]\n",
      "100%|██████████| 1/1 [00:00<00:00, 12.85it/s]\n",
      "100%|██████████| 1/1 [00:00<00:00, 12.85it/s]\n",
      "100%|██████████| 1/1 [00:00<00:00, 10.44it/s]\n",
      "100%|██████████| 1/1 [00:00<00:00, 10.03it/s]\n",
      "  0%|          | 0/1 [00:00<?, ?it/s]"
     ]
    },
    {
     "name": "stdout",
     "output_type": "stream",
     "text": [
      "[301]\n"
     ]
    },
    {
     "name": "stderr",
     "output_type": "stream",
     "text": [
      "100%|██████████| 1/1 [00:00<00:00, 10.78it/s]\n",
      "100%|██████████| 1/1 [00:00<00:00, 11.39it/s]\n",
      "100%|██████████| 1/1 [00:00<00:00, 12.86it/s]\n",
      "100%|██████████| 1/1 [00:00<00:00, 11.94it/s]\n",
      "100%|██████████| 1/1 [00:00<00:00, 13.37it/s]\n",
      "100%|██████████| 1/1 [00:00<00:00, 13.37it/s]\n",
      "100%|██████████| 1/1 [00:00<00:00, 13.92it/s]\n",
      "100%|██████████| 1/1 [00:00<00:00, 14.11it/s]\n",
      "100%|██████████| 1/1 [00:00<00:00, 14.53it/s]\n",
      "  0%|          | 0/1 [00:00<?, ?it/s]"
     ]
    },
    {
     "name": "stdout",
     "output_type": "stream",
     "text": [
      "[301]\n"
     ]
    },
    {
     "name": "stderr",
     "output_type": "stream",
     "text": [
      "100%|██████████| 1/1 [00:00<00:00, 14.32it/s]\n",
      "100%|██████████| 1/1 [00:00<00:00, 13.55it/s]\n",
      "100%|██████████| 1/1 [00:00<00:00, 13.19it/s]\n",
      "100%|██████████| 1/1 [00:00<00:00, 11.01it/s]\n",
      "100%|██████████| 1/1 [00:00<00:00, 12.86it/s]\n",
      "100%|██████████| 1/1 [00:00<00:00, 13.55it/s]\n",
      "100%|██████████| 1/1 [00:00<00:00, 13.73it/s]\n",
      "100%|██████████| 1/1 [00:00<00:00, 13.74it/s]\n",
      "  0%|          | 0/1 [00:00<?, ?it/s]"
     ]
    },
    {
     "name": "stdout",
     "output_type": "stream",
     "text": [
      "[301]\n"
     ]
    },
    {
     "name": "stderr",
     "output_type": "stream",
     "text": [
      "100%|██████████| 1/1 [00:00<00:00, 13.92it/s]\n",
      "100%|██████████| 1/1 [00:00<00:00, 13.70it/s]\n",
      "100%|██████████| 1/1 [00:00<00:00, 14.13it/s]\n",
      "100%|██████████| 1/1 [00:00<00:00, 14.75it/s]\n",
      "100%|██████████| 1/1 [00:00<00:00, 14.53it/s]\n",
      "100%|██████████| 1/1 [00:00<00:00, 14.52it/s]\n",
      "100%|██████████| 1/1 [00:00<00:00, 14.75it/s]\n",
      "100%|██████████| 1/1 [00:00<00:00, 13.93it/s]\n",
      "  0%|          | 0/1 [00:00<?, ?it/s]"
     ]
    },
    {
     "name": "stdout",
     "output_type": "stream",
     "text": [
      "[301]\n"
     ]
    },
    {
     "name": "stderr",
     "output_type": "stream",
     "text": [
      "100%|██████████| 1/1 [00:00<00:00, 14.12it/s]\n",
      "100%|██████████| 1/1 [00:00<00:00, 13.93it/s]\n",
      "100%|██████████| 1/1 [00:00<00:00, 14.53it/s]\n",
      "100%|██████████| 1/1 [00:00<00:00, 14.12it/s]\n",
      "100%|██████████| 1/1 [00:00<00:00, 14.97it/s]\n",
      "100%|██████████| 1/1 [00:00<00:00, 14.32it/s]\n",
      "100%|██████████| 1/1 [00:00<00:00, 14.12it/s]\n",
      "100%|██████████| 1/1 [00:00<00:00, 14.32it/s]\n",
      "  0%|          | 0/1 [00:00<?, ?it/s]"
     ]
    },
    {
     "name": "stdout",
     "output_type": "stream",
     "text": [
      "[301]\n"
     ]
    },
    {
     "name": "stderr",
     "output_type": "stream",
     "text": [
      "100%|██████████| 1/1 [00:00<00:00, 13.36it/s]\n",
      "100%|██████████| 1/1 [00:00<00:00, 14.53it/s]\n",
      "100%|██████████| 1/1 [00:00<00:00, 14.12it/s]\n",
      "100%|██████████| 1/1 [00:00<00:00, 14.97it/s]\n",
      "100%|██████████| 1/1 [00:00<00:00, 13.93it/s]\n",
      "100%|██████████| 1/1 [00:00<00:00, 13.37it/s]\n",
      "100%|██████████| 1/1 [00:00<00:00, 13.74it/s]\n",
      "100%|██████████| 1/1 [00:00<00:00, 14.12it/s]\n",
      "  0%|          | 0/1 [00:00<?, ?it/s]"
     ]
    },
    {
     "name": "stdout",
     "output_type": "stream",
     "text": [
      "[301]\n"
     ]
    },
    {
     "name": "stderr",
     "output_type": "stream",
     "text": [
      "100%|██████████| 1/1 [00:00<00:00, 12.85it/s]\n",
      "100%|██████████| 1/1 [00:00<00:00, 13.73it/s]\n",
      "100%|██████████| 1/1 [00:00<00:00, 11.94it/s]\n",
      "100%|██████████| 1/1 [00:00<00:00, 11.94it/s]\n",
      "100%|██████████| 1/1 [00:00<00:00,  8.87it/s]\n",
      "100%|██████████| 1/1 [00:00<00:00,  7.83it/s]\n",
      "100%|██████████| 1/1 [00:00<00:00, 10.23it/s]\n",
      "  0%|          | 0/1 [00:00<?, ?it/s]"
     ]
    },
    {
     "name": "stdout",
     "output_type": "stream",
     "text": [
      "[301]\n"
     ]
    },
    {
     "name": "stderr",
     "output_type": "stream",
     "text": [
      "100%|██████████| 1/1 [00:00<00:00,  7.71it/s]\n",
      "100%|██████████| 1/1 [00:00<00:00,  8.09it/s]\n",
      "100%|██████████| 1/1 [00:00<00:00,  7.54it/s]\n",
      "100%|██████████| 1/1 [00:00<00:00,  8.72it/s]\n",
      "100%|██████████| 1/1 [00:00<00:00, 10.13it/s]\n",
      "100%|██████████| 1/1 [00:00<00:00,  9.12it/s]\n",
      "100%|██████████| 1/1 [00:00<00:00, 10.34it/s]\n",
      "100%|██████████| 1/1 [00:00<00:00, 10.97it/s]\n",
      "  0%|          | 0/1 [00:00<?, ?it/s]"
     ]
    },
    {
     "name": "stdout",
     "output_type": "stream",
     "text": [
      "[301]\n"
     ]
    },
    {
     "name": "stderr",
     "output_type": "stream",
     "text": [
      "100%|██████████| 1/1 [00:00<00:00, 11.39it/s]\n",
      "100%|██████████| 1/1 [00:00<00:00, 11.31it/s]\n",
      "100%|██████████| 1/1 [00:00<00:00, 11.27it/s]\n",
      "100%|██████████| 1/1 [00:00<00:00, 10.90it/s]\n",
      "100%|██████████| 1/1 [00:00<00:00, 11.27it/s]\n",
      "100%|██████████| 1/1 [00:00<00:00, 12.38it/s]\n",
      "100%|██████████| 1/1 [00:00<00:00,  9.12it/s]\n",
      "100%|██████████| 1/1 [00:00<00:00, 11.66it/s]\n",
      "  0%|          | 0/1 [00:00<?, ?it/s]"
     ]
    },
    {
     "name": "stdout",
     "output_type": "stream",
     "text": [
      "[301]\n"
     ]
    },
    {
     "name": "stderr",
     "output_type": "stream",
     "text": [
      "100%|██████████| 1/1 [00:00<00:00, 10.44it/s]\n",
      "100%|██████████| 1/1 [00:00<00:00, 12.23it/s]\n",
      "100%|██████████| 1/1 [00:00<00:00, 12.31it/s]\n",
      "100%|██████████| 1/1 [00:00<00:00, 12.08it/s]\n",
      "100%|██████████| 1/1 [00:00<00:00, 13.01it/s]\n",
      "100%|██████████| 1/1 [00:00<00:00, 12.68it/s]\n",
      "100%|██████████| 1/1 [00:00<00:00, 13.01it/s]\n",
      "100%|██████████| 1/1 [00:00<00:00, 13.02it/s]\n",
      "100%|██████████| 1/1 [00:00<00:00, 13.01it/s]\n",
      "  0%|          | 0/1 [00:00<?, ?it/s]"
     ]
    },
    {
     "name": "stdout",
     "output_type": "stream",
     "text": [
      "[301]\n"
     ]
    },
    {
     "name": "stderr",
     "output_type": "stream",
     "text": [
      "100%|██████████| 1/1 [00:00<00:00, 13.36it/s]\n",
      "100%|██████████| 1/1 [00:00<00:00, 13.19it/s]\n",
      "100%|██████████| 1/1 [00:00<00:00, 13.37it/s]\n",
      "100%|██████████| 1/1 [00:00<00:00, 13.36it/s]\n",
      "100%|██████████| 1/1 [00:00<00:00, 13.36it/s]\n",
      "100%|██████████| 1/1 [00:00<00:00, 14.12it/s]\n",
      "100%|██████████| 1/1 [00:00<00:00, 14.11it/s]\n",
      "100%|██████████| 1/1 [00:00<00:00, 14.11it/s]\n",
      "  0%|          | 0/1 [00:00<?, ?it/s]"
     ]
    },
    {
     "name": "stdout",
     "output_type": "stream",
     "text": [
      "[301]\n"
     ]
    },
    {
     "name": "stderr",
     "output_type": "stream",
     "text": [
      "100%|██████████| 1/1 [00:00<00:00, 13.73it/s]\n",
      "100%|██████████| 1/1 [00:00<00:00, 13.73it/s]\n",
      "100%|██████████| 1/1 [00:00<00:00, 12.23it/s]\n",
      "100%|██████████| 1/1 [00:00<00:00, 11.52it/s]\n",
      "100%|██████████| 1/1 [00:00<00:00, 13.19it/s]\n",
      "100%|██████████| 1/1 [00:00<00:00, 13.36it/s]\n",
      "100%|██████████| 1/1 [00:00<00:00, 12.53it/s]\n",
      "100%|██████████| 1/1 [00:00<00:00, 13.19it/s]\n",
      "  0%|          | 0/1 [00:00<?, ?it/s]"
     ]
    },
    {
     "name": "stdout",
     "output_type": "stream",
     "text": [
      "[301]\n"
     ]
    },
    {
     "name": "stderr",
     "output_type": "stream",
     "text": [
      "100%|██████████| 1/1 [00:00<00:00, 13.54it/s]\n",
      "100%|██████████| 1/1 [00:00<00:00, 13.74it/s]\n",
      "100%|██████████| 1/1 [00:00<00:00, 13.37it/s]\n",
      "100%|██████████| 1/1 [00:00<00:00, 13.19it/s]\n",
      "100%|██████████| 1/1 [00:00<00:00, 12.85it/s]\n",
      "100%|██████████| 1/1 [00:00<00:00, 13.19it/s]\n",
      "100%|██████████| 1/1 [00:00<00:00, 13.37it/s]\n",
      "100%|██████████| 1/1 [00:00<00:00, 11.79it/s]\n",
      "  0%|          | 0/1 [00:00<?, ?it/s]"
     ]
    },
    {
     "name": "stdout",
     "output_type": "stream",
     "text": [
      "[301]\n"
     ]
    },
    {
     "name": "stderr",
     "output_type": "stream",
     "text": [
      "100%|██████████| 1/1 [00:00<00:00, 12.69it/s]\n",
      "100%|██████████| 1/1 [00:00<00:00, 13.73it/s]\n",
      "100%|██████████| 1/1 [00:00<00:00, 13.74it/s]\n",
      "100%|██████████| 1/1 [00:00<00:00, 13.93it/s]\n",
      "100%|██████████| 1/1 [00:00<00:00, 12.85it/s]\n",
      "100%|██████████| 1/1 [00:00<00:00, 13.19it/s]\n",
      "100%|██████████| 1/1 [00:00<00:00, 12.69it/s]\n",
      "100%|██████████| 1/1 [00:00<00:00, 12.53it/s]\n",
      "  0%|          | 0/1 [00:00<?, ?it/s]"
     ]
    },
    {
     "name": "stdout",
     "output_type": "stream",
     "text": [
      "[301]\n"
     ]
    },
    {
     "name": "stderr",
     "output_type": "stream",
     "text": [
      "100%|██████████| 1/1 [00:00<00:00, 13.74it/s]\n",
      "100%|██████████| 1/1 [00:00<00:00, 14.11it/s]\n",
      "100%|██████████| 1/1 [00:00<00:00, 13.92it/s]\n",
      "100%|██████████| 1/1 [00:00<00:00,  9.46it/s]\n",
      "100%|██████████| 1/1 [00:00<00:00,  8.09it/s]\n",
      "100%|██████████| 1/1 [00:00<00:00,  8.29it/s]\n",
      "100%|██████████| 1/1 [00:00<00:00,  7.16it/s]\n",
      "  0%|          | 0/1 [00:00<?, ?it/s]"
     ]
    },
    {
     "name": "stdout",
     "output_type": "stream",
     "text": [
      "[301]\n"
     ]
    },
    {
     "name": "stderr",
     "output_type": "stream",
     "text": [
      "100%|██████████| 1/1 [00:00<00:00, 10.23it/s]\n",
      "100%|██████████| 1/1 [00:00<00:00, 12.08it/s]\n",
      "100%|██████████| 1/1 [00:00<00:00, 12.53it/s]\n",
      "100%|██████████| 1/1 [00:00<00:00, 13.19it/s]\n",
      "100%|██████████| 1/1 [00:00<00:00, 13.54it/s]\n",
      "100%|██████████| 1/1 [00:00<00:00, 13.19it/s]\n",
      "100%|██████████| 1/1 [00:00<00:00, 13.72it/s]\n",
      "100%|██████████| 1/1 [00:00<00:00, 13.55it/s]\n",
      "100%|██████████| 1/1 [00:00<00:00, 13.19it/s]\n",
      "  0%|          | 0/1 [00:00<?, ?it/s]"
     ]
    },
    {
     "name": "stdout",
     "output_type": "stream",
     "text": [
      "[301]\n"
     ]
    },
    {
     "name": "stderr",
     "output_type": "stream",
     "text": [
      "100%|██████████| 1/1 [00:00<00:00, 13.73it/s]\n",
      "100%|██████████| 1/1 [00:00<00:00, 13.73it/s]\n",
      "100%|██████████| 1/1 [00:00<00:00, 13.55it/s]\n",
      "100%|██████████| 1/1 [00:00<00:00, 12.53it/s]\n",
      "100%|██████████| 1/1 [00:00<00:00, 10.55it/s]\n"
     ]
    }
   ],
   "source": [
    "bnds = [(0,10), (0, 10), (0, 3.14), (-3.14, 3.14), (0, 3.14), (-3.14, 3.14)]\n",
    "result_6P_ex_BF_fromP = scipy.optimize.minimize(wrapper_6P, list(result_6P_ex_P.x), args=(accels, lin_resp, sensors_pos), method='L-BFGS-B', bounds=bnds, options={'gtol': 1e-20})"
   ]
  },
  {
   "cell_type": "code",
   "execution_count": 70,
   "metadata": {},
   "outputs": [
    {
     "data": {
      "text/plain": [
       "array([ 3.        ,  2.55596709,  0.86695406, -2.81036684,  1.76859947,\n",
       "        0.34495404])"
      ]
     },
     "execution_count": 70,
     "metadata": {},
     "output_type": "execute_result"
    }
   ],
   "source": [
    "result_6P_ex_BF_fromP.x"
   ]
  },
  {
   "cell_type": "code",
   "execution_count": 71,
   "metadata": {},
   "outputs": [
    {
     "data": {
      "text/plain": [
       "array([1.00000000e+00, 3.42308022e+05, 2.25174199e+06, 1.14808711e+06,\n",
       "       4.80054729e+05, 3.32224986e+06])"
      ]
     },
     "execution_count": 71,
     "metadata": {},
     "output_type": "execute_result"
    }
   ],
   "source": [
    "np.sqrt(np.diag(result_6P_ex_BF_fromP.hess_inv.todense())) #err"
   ]
  },
  {
   "cell_type": "code",
   "execution_count": 72,
   "metadata": {
    "collapsed": true,
    "jupyter": {
     "outputs_hidden": true
    }
   },
   "outputs": [
    {
     "name": "stderr",
     "output_type": "stream",
     "text": [
      "100%|██████████| 1/1 [00:00<00:00, 17.29it/s]\n",
      "100%|██████████| 1/1 [00:00<00:00, 14.12it/s]\n",
      "100%|██████████| 1/1 [00:00<00:00, 14.75it/s]\n",
      "  0%|          | 0/1 [00:00<?, ?it/s]"
     ]
    },
    {
     "name": "stdout",
     "output_type": "stream",
     "text": [
      "[3.e-05] [3.01e-05]\n",
      "3.00000001 2.0524429968291673 0.4768822862810498 -0.8167292960052399 1.5463971802245688 -3.135141681595092\n"
     ]
    },
    {
     "name": "stderr",
     "output_type": "stream",
     "text": [
      "100%|██████████| 1/1 [00:00<00:00, 13.19it/s]\n",
      "100%|██████████| 1/1 [00:00<00:00, 10.90it/s]\n",
      "100%|██████████| 1/1 [00:00<00:00, 12.23it/s]\n",
      "100%|██████████| 1/1 [00:00<00:00, 12.69it/s]\n",
      "100%|██████████| 1/1 [00:00<00:00, 11.66it/s]\n",
      "100%|██████████| 1/1 [00:00<00:00, 12.69it/s]\n",
      "100%|██████████| 1/1 [00:00<00:00, 13.92it/s]\n",
      "100%|██████████| 1/1 [00:00<00:00, 11.14it/s]\n",
      "  0%|          | 0/1 [00:00<?, ?it/s]"
     ]
    },
    {
     "name": "stdout",
     "output_type": "stream",
     "text": [
      "[3.e-05] [3.01e-05]\n",
      "3.00000001 2.0888672645977873 -0.49616737054060633 -0.696469054656649 1.0850057926284138 -3.14\n"
     ]
    },
    {
     "name": "stderr",
     "output_type": "stream",
     "text": [
      "100%|██████████| 1/1 [00:00<00:00,  9.55it/s]\n",
      "100%|██████████| 1/1 [00:00<00:00,  9.55it/s]\n",
      "100%|██████████| 1/1 [00:00<00:00, 10.44it/s]\n",
      "100%|██████████| 1/1 [00:00<00:00,  9.28it/s]\n",
      "100%|██████████| 1/1 [00:00<00:00,  8.22it/s]\n",
      "100%|██████████| 1/1 [00:00<00:00,  9.12it/s]\n",
      "100%|██████████| 1/1 [00:00<00:00, 10.23it/s]\n",
      "  0%|          | 0/1 [00:00<?, ?it/s]"
     ]
    },
    {
     "name": "stdout",
     "output_type": "stream",
     "text": [
      "[3.e-05] [3.01e-05]\n"
     ]
    },
    {
     "name": "stderr",
     "output_type": "stream",
     "text": [
      "100%|██████████| 1/1 [00:00<00:00, 12.08it/s]\n",
      "100%|██████████| 1/1 [00:00<00:00, 12.53it/s]\n",
      "100%|██████████| 1/1 [00:00<00:00, 11.27it/s]\n",
      "  0%|          | 0/1 [00:00<?, ?it/s]"
     ]
    },
    {
     "name": "stdout",
     "output_type": "stream",
     "text": [
      "3.00000001 2.063717412975484 0.17569389090336074 -0.7795051020850375 1.4035825451266177 -3.136645478564085\n"
     ]
    },
    {
     "name": "stderr",
     "output_type": "stream",
     "text": [
      "100%|██████████| 1/1 [00:00<00:00, 11.14it/s]\n",
      "100%|██████████| 1/1 [00:00<00:00, 10.78it/s]\n",
      "100%|██████████| 1/1 [00:00<00:00, 10.55it/s]\n",
      "100%|██████████| 1/1 [00:00<00:00,  9.93it/s]\n",
      "100%|██████████| 1/1 [00:00<00:00, 10.23it/s]\n",
      "  0%|          | 0/1 [00:00<?, ?it/s]"
     ]
    },
    {
     "name": "stdout",
     "output_type": "stream",
     "text": [
      "[3.e-05] [3.01e-05]\n"
     ]
    },
    {
     "name": "stderr",
     "output_type": "stream",
     "text": [
      "100%|██████████| 1/1 [00:00<00:00, 12.08it/s]\n",
      "100%|██████████| 1/1 [00:00<00:00, 10.90it/s]\n",
      "  0%|          | 0/1 [00:00<?, ?it/s]"
     ]
    },
    {
     "name": "stdout",
     "output_type": "stream",
     "text": [
      "3.00000001 2.0553840406181916 0.3983142923329841 -0.8070189941226703 1.509142559667225 -3.13553396201815\n"
     ]
    },
    {
     "name": "stderr",
     "output_type": "stream",
     "text": [
      "100%|██████████| 1/1 [00:00<00:00, 10.34it/s]\n",
      "100%|██████████| 1/1 [00:00<00:00,  9.46it/s]\n",
      "100%|██████████| 1/1 [00:00<00:00,  9.74it/s]\n",
      "100%|██████████| 1/1 [00:00<00:00, 12.69it/s]\n",
      "100%|██████████| 1/1 [00:00<00:00, 13.37it/s]\n",
      "100%|██████████| 1/1 [00:00<00:00, 13.19it/s]\n",
      "100%|██████████| 1/1 [00:00<00:00, 11.94it/s]\n",
      "  0%|          | 0/1 [00:00<?, ?it/s]"
     ]
    },
    {
     "name": "stdout",
     "output_type": "stream",
     "text": [
      "[3.e-05] [3.01e-05]\n",
      "3.00000001 2.05277106967212 0.46811804236335813 -0.8156461137838698 1.5422414347967113 -3.1351854403973607\n"
     ]
    },
    {
     "name": "stderr",
     "output_type": "stream",
     "text": [
      "100%|██████████| 1/1 [00:00<00:00,  9.55it/s]\n",
      "100%|██████████| 1/1 [00:00<00:00, 10.44it/s]\n",
      "100%|██████████| 1/1 [00:00<00:00, 11.80it/s]\n",
      "100%|██████████| 1/1 [00:00<00:00, 13.37it/s]\n",
      "100%|██████████| 1/1 [00:00<00:00, 12.23it/s]\n",
      "100%|██████████| 1/1 [00:00<00:00, 12.38it/s]\n",
      "100%|██████████| 1/1 [00:00<00:00, 11.14it/s]\n",
      "  0%|          | 0/1 [00:00<?, ?it/s]"
     ]
    },
    {
     "name": "stdout",
     "output_type": "stream",
     "text": [
      "[3.e-05] [3.01e-05]\n"
     ]
    },
    {
     "name": "stderr",
     "output_type": "stream",
     "text": [
      "100%|██████████| 1/1 [00:00<00:00, 10.23it/s]\n",
      "100%|██████████| 1/1 [00:00<00:00, 10.55it/s]\n",
      "100%|██████████| 1/1 [00:00<00:00,  9.93it/s]"
     ]
    },
    {
     "name": "stdout",
     "output_type": "stream",
     "text": [
      "3.00000001 2.0531216182872827 0.45875337340555233 -0.8144887243935955 1.5378009855611257 -3.135232197048714\n"
     ]
    },
    {
     "name": "stderr",
     "output_type": "stream",
     "text": [
      "100%|██████████| 1/1 [00:00<00:00,  9.73it/s]\n",
      "100%|██████████| 1/1 [00:00<00:00, 11.80it/s]\n",
      "100%|██████████| 1/1 [00:00<00:00, 10.55it/s]\n",
      "100%|██████████| 1/1 [00:00<00:00, 13.19it/s]\n",
      "100%|██████████| 1/1 [00:00<00:00, 13.73it/s]\n",
      "100%|██████████| 1/1 [00:00<00:00, 13.74it/s]\n",
      "100%|██████████| 1/1 [00:00<00:00, 13.74it/s]\n",
      "  0%|          | 0/1 [00:00<?, ?it/s]"
     ]
    },
    {
     "name": "stdout",
     "output_type": "stream",
     "text": [
      "[3.e-05] [3.01e-05]\n",
      "3.00000001 2.054252829452737 0.4285338328692682 -0.8107538592581329 1.5234717726141753 -3.135383079533432\n"
     ]
    },
    {
     "name": "stderr",
     "output_type": "stream",
     "text": [
      "100%|██████████| 1/1 [00:00<00:00, 13.74it/s]\n",
      "100%|██████████| 1/1 [00:00<00:00, 10.90it/s]\n",
      "100%|██████████| 1/1 [00:00<00:00, 10.55it/s]\n",
      "100%|██████████| 1/1 [00:00<00:00, 10.03it/s]\n",
      "100%|██████████| 1/1 [00:00<00:00, 12.53it/s]\n",
      "100%|██████████| 1/1 [00:00<00:00, 14.12it/s]\n",
      "100%|██████████| 1/1 [00:00<00:00, 13.55it/s]\n",
      "100%|██████████| 1/1 [00:00<00:00,  9.83it/s]\n",
      "  0%|          | 0/1 [00:00<?, ?it/s]"
     ]
    },
    {
     "name": "stdout",
     "output_type": "stream",
     "text": [
      "[3.e-05] [3.01e-05]\n",
      "3.00000001 2.0532082708663832 0.45643850841246936 -0.8142026277686125 1.5367033450000622 -3.1352437548876404\n"
     ]
    },
    {
     "name": "stderr",
     "output_type": "stream",
     "text": [
      "100%|██████████| 1/1 [00:00<00:00, 12.86it/s]\n",
      "100%|██████████| 1/1 [00:00<00:00, 11.94it/s]\n",
      "100%|██████████| 1/1 [00:00<00:00, 12.38it/s]\n",
      "100%|██████████| 1/1 [00:00<00:00, 13.93it/s]\n",
      "100%|██████████| 1/1 [00:00<00:00, 11.94it/s]\n",
      "100%|██████████| 1/1 [00:00<00:00, 11.66it/s]\n",
      "100%|██████████| 1/1 [00:00<00:00, 10.23it/s]\n",
      "100%|██████████| 1/1 [00:00<00:00, 10.78it/s]"
     ]
    },
    {
     "name": "stdout",
     "output_type": "stream",
     "text": [
      "[3.e-05] [3.01e-05]\n"
     ]
    },
    {
     "name": "stderr",
     "output_type": "stream",
     "text": [
      "\n",
      "100%|██████████| 1/1 [00:00<00:00,  9.20it/s]\n",
      "100%|██████████| 1/1 [00:00<00:00, 11.27it/s]"
     ]
    },
    {
     "name": "stdout",
     "output_type": "stream",
     "text": [
      "3.00000001 2.053293953270539 0.45414956098628395 -0.8139197343232704 1.5356179937831962 -3.135255183323312\n"
     ]
    },
    {
     "name": "stderr",
     "output_type": "stream",
     "text": [
      "\n",
      "100%|██████████| 1/1 [00:00<00:00, 11.27it/s]\n",
      "100%|██████████| 1/1 [00:00<00:00, 10.90it/s]\n",
      "100%|██████████| 1/1 [00:00<00:00, 10.90it/s]\n",
      "100%|██████████| 1/1 [00:00<00:00,  9.64it/s]\n",
      "100%|██████████| 1/1 [00:00<00:00, 10.03it/s]\n",
      "  0%|          | 0/1 [00:00<?, ?it/s]"
     ]
    },
    {
     "name": "stdout",
     "output_type": "stream",
     "text": [
      "[3.e-05] [3.01e-05]\n"
     ]
    },
    {
     "name": "stderr",
     "output_type": "stream",
     "text": [
      "100%|██████████| 1/1 [00:00<00:00,  8.87it/s]\n",
      "100%|██████████| 1/1 [00:00<00:00, 11.52it/s]\n",
      "100%|██████████| 1/1 [00:00<00:00, 12.23it/s]\n",
      "  0%|          | 0/1 [00:00<?, ?it/s]"
     ]
    },
    {
     "name": "stdout",
     "output_type": "stream",
     "text": [
      "3.00000001 2.0537733913616383 0.4413416969277761 -0.8123367967907017 1.5295448831986858 -3.135319131428372\n"
     ]
    },
    {
     "name": "stderr",
     "output_type": "stream",
     "text": [
      "100%|██████████| 1/1 [00:00<00:00, 12.53it/s]\n",
      "100%|██████████| 1/1 [00:00<00:00, 12.69it/s]\n",
      "100%|██████████| 1/1 [00:00<00:00, 11.39it/s]\n",
      "100%|██████████| 1/1 [00:00<00:00, 10.13it/s]\n",
      "100%|██████████| 1/1 [00:00<00:00, 13.37it/s]\n",
      "100%|██████████| 1/1 [00:00<00:00, 12.69it/s]\n",
      "  0%|          | 0/1 [00:00<?, ?it/s]"
     ]
    },
    {
     "name": "stdout",
     "output_type": "stream",
     "text": [
      "[3.e-05] [3.01e-05]\n",
      "3.00000001 2.053480844903019 0.44915687753681177 -0.8133026832689882 1.5332506108563015 -3.1352801111835937\n"
     ]
    },
    {
     "name": "stderr",
     "output_type": "stream",
     "text": [
      "100%|██████████| 1/1 [00:00<00:00, 10.78it/s]\n",
      "100%|██████████| 1/1 [00:00<00:00,  8.09it/s]\n",
      "100%|██████████| 1/1 [00:00<00:00,  8.50it/s]\n",
      "100%|██████████| 1/1 [00:00<00:00,  8.95it/s]\n",
      "100%|██████████| 1/1 [00:00<00:00, 10.13it/s]\n",
      "100%|██████████| 1/1 [00:00<00:00,  8.57it/s]\n",
      "100%|██████████| 1/1 [00:00<00:00,  9.03it/s]\n",
      "  0%|          | 0/1 [00:00<?, ?it/s]"
     ]
    },
    {
     "name": "stdout",
     "output_type": "stream",
     "text": [
      "[3.e-05] [3.01e-05]\n"
     ]
    },
    {
     "name": "stderr",
     "output_type": "stream",
     "text": [
      "100%|██████████| 1/1 [00:00<00:00, 10.03it/s]\n",
      "100%|██████████| 1/1 [00:00<00:00, 12.08it/s]\n",
      "100%|██████████| 1/1 [00:00<00:00, 10.55it/s]\n",
      "  0%|          | 0/1 [00:00<?, ?it/s]"
     ]
    },
    {
     "name": "stdout",
     "output_type": "stream",
     "text": [
      "3.00000001 2.053542608369152 0.44750690834850115 -0.8130987618232399 1.5324682442340551 -3.1352883492787607\n"
     ]
    },
    {
     "name": "stderr",
     "output_type": "stream",
     "text": [
      "100%|██████████| 1/1 [00:00<00:00,  9.93it/s]\n",
      "100%|██████████| 1/1 [00:00<00:00, 13.55it/s]\n",
      "100%|██████████| 1/1 [00:00<00:00, 12.69it/s]\n",
      "100%|██████████| 1/1 [00:00<00:00, 10.03it/s]\n",
      "100%|██████████| 1/1 [00:00<00:00,  7.32it/s]\n",
      "  0%|          | 0/1 [00:00<?, ?it/s]"
     ]
    },
    {
     "name": "stdout",
     "output_type": "stream",
     "text": [
      "[3.e-05] [3.01e-05]\n"
     ]
    },
    {
     "name": "stderr",
     "output_type": "stream",
     "text": [
      "100%|██████████| 1/1 [00:00<00:00,  7.65it/s]\n",
      "100%|██████████| 1/1 [00:00<00:00,  7.32it/s]\n",
      "  0%|          | 0/1 [00:00<?, ?it/s]"
     ]
    },
    {
     "name": "stdout",
     "output_type": "stream",
     "text": [
      "3.00000001 2.0535697286202366 0.4467824091992558 -0.8130092202033089 1.5321247081509386 -3.1352919666147585\n"
     ]
    },
    {
     "name": "stderr",
     "output_type": "stream",
     "text": [
      "100%|██████████| 1/1 [00:00<00:00,  7.65it/s]\n",
      "100%|██████████| 1/1 [00:00<00:00,  9.93it/s]\n",
      "100%|██████████| 1/1 [00:00<00:00,  9.93it/s]\n",
      "100%|██████████| 1/1 [00:00<00:00, 11.52it/s]\n",
      "100%|██████████| 1/1 [00:00<00:00, 12.38it/s]\n",
      "100%|██████████| 1/1 [00:00<00:00, 12.08it/s]\n",
      "100%|██████████| 1/1 [00:00<00:00, 10.34it/s]"
     ]
    },
    {
     "name": "stdout",
     "output_type": "stream",
     "text": [
      "[3.e-05] [3.01e-05]\n"
     ]
    },
    {
     "name": "stderr",
     "output_type": "stream",
     "text": [
      "\n",
      "100%|██████████| 1/1 [00:00<00:00,  8.36it/s]\n",
      "  0%|          | 0/1 [00:00<?, ?it/s]"
     ]
    },
    {
     "name": "stdout",
     "output_type": "stream",
     "text": [
      "3.00000001 2.053229200671085 0.4558793828478381 -0.8141335248457807 1.5364382241829517 -3.135246546533475\n"
     ]
    },
    {
     "name": "stderr",
     "output_type": "stream",
     "text": [
      "100%|██████████| 1/1 [00:00<00:00,  8.15it/s]\n",
      "100%|██████████| 1/1 [00:00<00:00,  9.93it/s]\n",
      "100%|██████████| 1/1 [00:00<00:00,  9.46it/s]\n",
      "100%|██████████| 1/1 [00:00<00:00, 11.94it/s]\n",
      "100%|██████████| 1/1 [00:00<00:00, 11.39it/s]\n",
      "100%|██████████| 1/1 [00:00<00:00, 13.37it/s]\n",
      "100%|██████████| 1/1 [00:00<00:00, 11.27it/s]\n",
      "  0%|          | 0/1 [00:00<?, ?it/s]"
     ]
    },
    {
     "name": "stdout",
     "output_type": "stream",
     "text": [
      "[3.e-05] [3.01e-05]\n",
      "3.00000001 2.0535669038217517 0.4468578717785971 -0.8130185467036994 1.5321604902756738 -3.135291589839292\n"
     ]
    },
    {
     "name": "stderr",
     "output_type": "stream",
     "text": [
      "100%|██████████| 1/1 [00:00<00:00, 13.93it/s]\n",
      "100%|██████████| 1/1 [00:00<00:00, 11.14it/s]\n",
      "100%|██████████| 1/1 [00:00<00:00,  9.83it/s]\n",
      "100%|██████████| 1/1 [00:00<00:00,  9.64it/s]\n",
      "100%|██████████| 1/1 [00:00<00:00,  8.87it/s]\n",
      "100%|██████████| 1/1 [00:00<00:00, 10.44it/s]\n",
      "100%|██████████| 1/1 [00:00<00:00, 12.53it/s]\n",
      "100%|██████████| 1/1 [00:00<00:00,  9.73it/s]"
     ]
    },
    {
     "name": "stdout",
     "output_type": "stream",
     "text": [
      "[3.e-05] [3.01e-05]\n"
     ]
    },
    {
     "name": "stderr",
     "output_type": "stream",
     "text": [
      "100%|██████████| 1/1 [00:00<00:00,  9.55it/s]\n",
      "100%|██████████| 1/1 [00:00<00:00,  6.82it/s]\n",
      "  0%|          | 0/1 [00:00<?, ?it/s]"
     ]
    },
    {
     "name": "stdout",
     "output_type": "stream",
     "text": [
      "3.00000001 2.053567745750643 0.4468353802182191 -0.8130157669478385 1.5321498254425117 -3.135291702136922\n"
     ]
    },
    {
     "name": "stderr",
     "output_type": "stream",
     "text": [
      "100%|██████████| 1/1 [00:00<00:00,  8.64it/s]\n",
      "100%|██████████| 1/1 [00:00<00:00,  8.64it/s]\n",
      "100%|██████████| 1/1 [00:00<00:00,  9.11it/s]\n",
      "100%|██████████| 1/1 [00:00<00:00,  7.90it/s]\n",
      "100%|██████████| 1/1 [00:00<00:00,  5.86it/s]\n",
      "100%|██████████| 1/1 [00:00<00:00,  6.77it/s]\n",
      "  0%|          | 0/1 [00:00<?, ?it/s]"
     ]
    },
    {
     "name": "stdout",
     "output_type": "stream",
     "text": [
      "[3.e-05] [3.01e-05]\n"
     ]
    },
    {
     "name": "stderr",
     "output_type": "stream",
     "text": [
      "100%|██████████| 1/1 [00:00<00:00,  7.37it/s]\n",
      "100%|██████████| 1/1 [00:00<00:00,  7.11it/s]\n",
      "  0%|          | 0/1 [00:00<?, ?it/s]"
     ]
    },
    {
     "name": "stdout",
     "output_type": "stream",
     "text": [
      "3.00000001 3.2124211312251387 -0.11787083212883313 3.14 3.14 -3.14\n"
     ]
    },
    {
     "name": "stderr",
     "output_type": "stream",
     "text": [
      "100%|██████████| 1/1 [00:00<00:00,  7.16it/s]\n",
      "100%|██████████| 1/1 [00:00<00:00,  9.07it/s]\n",
      "100%|██████████| 1/1 [00:00<00:00,  8.32it/s]\n",
      "100%|██████████| 1/1 [00:00<00:00,  9.04it/s]\n",
      "100%|██████████| 1/1 [00:00<00:00, 11.53it/s]\n",
      "100%|██████████| 1/1 [00:00<00:00, 10.67it/s]\n",
      "  0%|          | 0/1 [00:00<?, ?it/s]"
     ]
    },
    {
     "name": "stdout",
     "output_type": "stream",
     "text": [
      "[3.e-05] [3.01e-05]\n"
     ]
    },
    {
     "name": "stderr",
     "output_type": "stream",
     "text": [
      "100%|██████████| 1/1 [00:00<00:00,  8.80it/s]\n",
      "100%|██████████| 1/1 [00:00<00:00,  7.37it/s]\n",
      "  0%|          | 0/1 [00:00<?, ?it/s]"
     ]
    },
    {
     "name": "stdout",
     "output_type": "stream",
     "text": [
      "3.00000001 2.4364662374313184 0.260249950464429 0.49310612364361506 2.0634020221425247 -3.136847377921929\n"
     ]
    },
    {
     "name": "stderr",
     "output_type": "stream",
     "text": [
      "100%|██████████| 1/1 [00:00<00:00,  9.55it/s]\n",
      "100%|██████████| 1/1 [00:00<00:00,  8.95it/s]\n",
      "100%|██████████| 1/1 [00:00<00:00,  9.55it/s]\n",
      "100%|██████████| 1/1 [00:00<00:00,  9.28it/s]\n",
      "100%|██████████| 1/1 [00:00<00:00, 11.02it/s]\n",
      "100%|██████████| 1/1 [00:00<00:00, 11.94it/s]\n",
      "  0%|          | 0/1 [00:00<?, ?it/s]"
     ]
    },
    {
     "name": "stdout",
     "output_type": "stream",
     "text": [
      "[3.e-05] [3.01e-05]\n"
     ]
    },
    {
     "name": "stderr",
     "output_type": "stream",
     "text": [
      "100%|██████████| 1/1 [00:00<00:00, 10.90it/s]\n",
      "100%|██████████| 1/1 [00:00<00:00, 12.38it/s]\n",
      "100%|██████████| 1/1 [00:00<00:00,  9.83it/s]"
     ]
    },
    {
     "name": "stdout",
     "output_type": "stream",
     "text": [
      "3.00000001 2.1778351930283586 0.3862801794052168 -0.38912161039236337 1.7045645927475908 -3.135796587538131\n"
     ]
    },
    {
     "name": "stderr",
     "output_type": "stream",
     "text": [
      "100%|██████████| 1/1 [00:00<00:00,  9.64it/s]\n",
      "100%|██████████| 1/1 [00:00<00:00, 11.66it/s]\n",
      "100%|██████████| 1/1 [00:00<00:00, 13.19it/s]\n",
      "100%|██████████| 1/1 [00:00<00:00, 11.94it/s]\n",
      "100%|██████████| 1/1 [00:00<00:00, 13.55it/s]\n",
      "100%|██████████| 1/1 [00:00<00:00, 13.37it/s]\n",
      "100%|██████████| 1/1 [00:00<00:00, 12.69it/s]\n",
      "  0%|          | 0/1 [00:00<?, ?it/s]"
     ]
    },
    {
     "name": "stdout",
     "output_type": "stream",
     "text": [
      "[3.e-05] [3.01e-05]\n",
      "3.00000001 2.091814827664951 0.4281976776133181 -0.6825494631495373 1.585215707721533 -3.1354470959566263\n"
     ]
    },
    {
     "name": "stderr",
     "output_type": "stream",
     "text": [
      "100%|██████████| 1/1 [00:00<00:00, 12.38it/s]\n",
      "100%|██████████| 1/1 [00:00<00:00, 12.53it/s]\n",
      "100%|██████████| 1/1 [00:00<00:00, 13.37it/s]\n",
      "100%|██████████| 1/1 [00:00<00:00, 13.55it/s]\n",
      "100%|██████████| 1/1 [00:00<00:00, 12.53it/s]\n",
      "100%|██████████| 1/1 [00:00<00:00, 11.14it/s]\n",
      "100%|██████████| 1/1 [00:00<00:00, 12.38it/s]\n",
      "100%|██████████| 1/1 [00:00<00:00, 13.36it/s]\n",
      "  0%|          | 0/1 [00:00<?, ?it/s]"
     ]
    },
    {
     "name": "stdout",
     "output_type": "stream",
     "text": [
      "[3.e-05] [3.01e-05]\n",
      "3.00000001 2.06360457216831 0.4419444610550632 -0.7787787067843485 1.5460754119834188 -3.135332480693525\n"
     ]
    },
    {
     "name": "stderr",
     "output_type": "stream",
     "text": [
      "100%|██████████| 1/1 [00:00<00:00, 12.85it/s]\n",
      "100%|██████████| 1/1 [00:00<00:00, 11.66it/s]\n",
      "100%|██████████| 1/1 [00:00<00:00, 13.55it/s]\n",
      "100%|██████████| 1/1 [00:00<00:00, 10.44it/s]\n",
      "100%|██████████| 1/1 [00:00<00:00, 13.74it/s]\n",
      "100%|██████████| 1/1 [00:00<00:00, 10.34it/s]\n",
      "  0%|          | 0/1 [00:00<?, ?it/s]"
     ]
    },
    {
     "name": "stdout",
     "output_type": "stream",
     "text": [
      "[3.e-05] [3.01e-05]\n"
     ]
    },
    {
     "name": "stderr",
     "output_type": "stream",
     "text": [
      "\n"
     ]
    },
    {
     "ename": "KeyboardInterrupt",
     "evalue": "",
     "output_type": "error",
     "traceback": [
      "\u001b[1;31m---------------------------------------------------------------------------\u001b[0m",
      "\u001b[1;31mKeyboardInterrupt\u001b[0m                         Traceback (most recent call last)",
      "\u001b[1;32m<ipython-input-72-92ce6649eab7>\u001b[0m in \u001b[0;36m<module>\u001b[1;34m\u001b[0m\n\u001b[0;32m      1\u001b[0m \u001b[0mbnds\u001b[0m \u001b[1;33m=\u001b[0m \u001b[1;33m[\u001b[0m\u001b[1;33m(\u001b[0m\u001b[1;36m0\u001b[0m\u001b[1;33m,\u001b[0m\u001b[1;36m3\u001b[0m\u001b[1;33m)\u001b[0m\u001b[1;33m,\u001b[0m \u001b[1;33m(\u001b[0m\u001b[1;36m0\u001b[0m\u001b[1;33m,\u001b[0m \u001b[1;36m10\u001b[0m\u001b[1;33m)\u001b[0m\u001b[1;33m,\u001b[0m \u001b[1;33m(\u001b[0m\u001b[1;33m-\u001b[0m\u001b[1;36m3.14\u001b[0m\u001b[1;33m,\u001b[0m \u001b[1;36m3.14\u001b[0m\u001b[1;33m)\u001b[0m\u001b[1;33m,\u001b[0m \u001b[1;33m(\u001b[0m\u001b[1;33m-\u001b[0m\u001b[1;36m3.14\u001b[0m\u001b[1;33m,\u001b[0m \u001b[1;36m3.14\u001b[0m\u001b[1;33m)\u001b[0m\u001b[1;33m,\u001b[0m \u001b[1;33m(\u001b[0m\u001b[1;33m-\u001b[0m\u001b[1;36m3.14\u001b[0m\u001b[1;33m,\u001b[0m \u001b[1;36m3.14\u001b[0m\u001b[1;33m)\u001b[0m\u001b[1;33m,\u001b[0m \u001b[1;33m(\u001b[0m\u001b[1;33m-\u001b[0m\u001b[1;36m3.14\u001b[0m\u001b[1;33m,\u001b[0m \u001b[1;36m3.14\u001b[0m\u001b[1;33m)\u001b[0m\u001b[1;33m]\u001b[0m\u001b[1;33m\u001b[0m\u001b[1;33m\u001b[0m\u001b[0m\n\u001b[1;32m----> 2\u001b[1;33m \u001b[0mresult_6P_ex_BF\u001b[0m \u001b[1;33m=\u001b[0m \u001b[0mscipy\u001b[0m\u001b[1;33m.\u001b[0m\u001b[0moptimize\u001b[0m\u001b[1;33m.\u001b[0m\u001b[0mminimize\u001b[0m\u001b[1;33m(\u001b[0m\u001b[0mwrapper_6P\u001b[0m\u001b[1;33m,\u001b[0m \u001b[1;33m[\u001b[0m\u001b[1;33m(\u001b[0m\u001b[1;33m(\u001b[0m\u001b[0mt_entry\u001b[0m\u001b[1;33m*\u001b[0m\u001b[0ms_ns\u001b[0m\u001b[1;33m)\u001b[0m\u001b[1;33m+\u001b[0m\u001b[1;33m(\u001b[0m\u001b[0mn_pad_strt\u001b[0m\u001b[1;33m/\u001b[0m\u001b[0mhnds_un\u001b[0m\u001b[1;33m)\u001b[0m\u001b[1;33m)\u001b[0m\u001b[1;33m/\u001b[0m\u001b[0mscl_fct\u001b[0m\u001b[1;33m,\u001b[0m \u001b[1;33m(\u001b[0m\u001b[1;33m(\u001b[0m\u001b[0mt_exit\u001b[0m\u001b[1;33m-\u001b[0m\u001b[0mt_entry\u001b[0m\u001b[1;33m)\u001b[0m\u001b[1;33m*\u001b[0m\u001b[0ms_ns\u001b[0m\u001b[1;33m)\u001b[0m\u001b[1;33m/\u001b[0m\u001b[0mscl_fct\u001b[0m\u001b[1;33m,\u001b[0m \u001b[0mtheta_entry\u001b[0m\u001b[1;33m,\u001b[0m \u001b[0mphi_entry\u001b[0m\u001b[1;33m,\u001b[0m \u001b[0mtheta_exit\u001b[0m\u001b[1;33m,\u001b[0m \u001b[0mphi_exit\u001b[0m\u001b[1;33m]\u001b[0m\u001b[1;33m,\u001b[0m \u001b[0margs\u001b[0m\u001b[1;33m=\u001b[0m\u001b[1;33m(\u001b[0m\u001b[0maccels\u001b[0m\u001b[1;33m,\u001b[0m \u001b[0mlin_resp\u001b[0m\u001b[1;33m,\u001b[0m \u001b[0msensors_pos\u001b[0m\u001b[1;33m)\u001b[0m\u001b[1;33m,\u001b[0m \u001b[0mmethod\u001b[0m\u001b[1;33m=\u001b[0m\u001b[1;34m'L-BFGS-B'\u001b[0m\u001b[1;33m,\u001b[0m \u001b[0mbounds\u001b[0m\u001b[1;33m=\u001b[0m\u001b[0mbnds\u001b[0m\u001b[1;33m,\u001b[0m \u001b[0moptions\u001b[0m\u001b[1;33m=\u001b[0m\u001b[1;33m{\u001b[0m\u001b[1;34m'gtol'\u001b[0m\u001b[1;33m:\u001b[0m \u001b[1;36m1e-20\u001b[0m\u001b[1;33m}\u001b[0m\u001b[1;33m)\u001b[0m\u001b[1;33m\u001b[0m\u001b[1;33m\u001b[0m\u001b[0m\n\u001b[0m",
      "\u001b[1;32m~\\anaconda3\\lib\\site-packages\\scipy\\optimize\\_minimize.py\u001b[0m in \u001b[0;36mminimize\u001b[1;34m(fun, x0, args, method, jac, hess, hessp, bounds, constraints, tol, callback, options)\u001b[0m\n\u001b[0;32m    608\u001b[0m     \u001b[1;32melif\u001b[0m \u001b[0mmeth\u001b[0m \u001b[1;33m==\u001b[0m \u001b[1;34m'l-bfgs-b'\u001b[0m\u001b[1;33m:\u001b[0m\u001b[1;33m\u001b[0m\u001b[1;33m\u001b[0m\u001b[0m\n\u001b[0;32m    609\u001b[0m         return _minimize_lbfgsb(fun, x0, args, jac, bounds,\n\u001b[1;32m--> 610\u001b[1;33m                                 callback=callback, **options)\n\u001b[0m\u001b[0;32m    611\u001b[0m     \u001b[1;32melif\u001b[0m \u001b[0mmeth\u001b[0m \u001b[1;33m==\u001b[0m \u001b[1;34m'tnc'\u001b[0m\u001b[1;33m:\u001b[0m\u001b[1;33m\u001b[0m\u001b[1;33m\u001b[0m\u001b[0m\n\u001b[0;32m    612\u001b[0m         return _minimize_tnc(fun, x0, args, jac, bounds, callback=callback,\n",
      "\u001b[1;32m~\\anaconda3\\lib\\site-packages\\scipy\\optimize\\lbfgsb.py\u001b[0m in \u001b[0;36m_minimize_lbfgsb\u001b[1;34m(fun, x0, args, jac, bounds, disp, maxcor, ftol, gtol, eps, maxfun, maxiter, iprint, callback, maxls, **unknown_options)\u001b[0m\n\u001b[0;32m    343\u001b[0m             \u001b[1;31m# until the completion of the current minimization iteration.\u001b[0m\u001b[1;33m\u001b[0m\u001b[1;33m\u001b[0m\u001b[1;33m\u001b[0m\u001b[0m\n\u001b[0;32m    344\u001b[0m             \u001b[1;31m# Overwrite f and g:\u001b[0m\u001b[1;33m\u001b[0m\u001b[1;33m\u001b[0m\u001b[1;33m\u001b[0m\u001b[0m\n\u001b[1;32m--> 345\u001b[1;33m             \u001b[0mf\u001b[0m\u001b[1;33m,\u001b[0m \u001b[0mg\u001b[0m \u001b[1;33m=\u001b[0m \u001b[0mfunc_and_grad\u001b[0m\u001b[1;33m(\u001b[0m\u001b[0mx\u001b[0m\u001b[1;33m)\u001b[0m\u001b[1;33m\u001b[0m\u001b[1;33m\u001b[0m\u001b[0m\n\u001b[0m\u001b[0;32m    346\u001b[0m         \u001b[1;32melif\u001b[0m \u001b[0mtask_str\u001b[0m\u001b[1;33m.\u001b[0m\u001b[0mstartswith\u001b[0m\u001b[1;33m(\u001b[0m\u001b[1;34mb'NEW_X'\u001b[0m\u001b[1;33m)\u001b[0m\u001b[1;33m:\u001b[0m\u001b[1;33m\u001b[0m\u001b[1;33m\u001b[0m\u001b[0m\n\u001b[0;32m    347\u001b[0m             \u001b[1;31m# new iteration\u001b[0m\u001b[1;33m\u001b[0m\u001b[1;33m\u001b[0m\u001b[1;33m\u001b[0m\u001b[0m\n",
      "\u001b[1;32m~\\anaconda3\\lib\\site-packages\\scipy\\optimize\\lbfgsb.py\u001b[0m in \u001b[0;36mfunc_and_grad\u001b[1;34m(x)\u001b[0m\n\u001b[0;32m    289\u001b[0m         \u001b[1;32mdef\u001b[0m \u001b[0mfunc_and_grad\u001b[0m\u001b[1;33m(\u001b[0m\u001b[0mx\u001b[0m\u001b[1;33m)\u001b[0m\u001b[1;33m:\u001b[0m\u001b[1;33m\u001b[0m\u001b[1;33m\u001b[0m\u001b[0m\n\u001b[0;32m    290\u001b[0m             \u001b[0mf\u001b[0m \u001b[1;33m=\u001b[0m \u001b[0mfun\u001b[0m\u001b[1;33m(\u001b[0m\u001b[0mx\u001b[0m\u001b[1;33m,\u001b[0m \u001b[1;33m*\u001b[0m\u001b[0margs\u001b[0m\u001b[1;33m)\u001b[0m\u001b[1;33m\u001b[0m\u001b[1;33m\u001b[0m\u001b[0m\n\u001b[1;32m--> 291\u001b[1;33m             \u001b[0mg\u001b[0m \u001b[1;33m=\u001b[0m \u001b[0m_approx_fprime_helper\u001b[0m\u001b[1;33m(\u001b[0m\u001b[0mx\u001b[0m\u001b[1;33m,\u001b[0m \u001b[0mfun\u001b[0m\u001b[1;33m,\u001b[0m \u001b[0mepsilon\u001b[0m\u001b[1;33m,\u001b[0m \u001b[0margs\u001b[0m\u001b[1;33m=\u001b[0m\u001b[0margs\u001b[0m\u001b[1;33m,\u001b[0m \u001b[0mf0\u001b[0m\u001b[1;33m=\u001b[0m\u001b[0mf\u001b[0m\u001b[1;33m)\u001b[0m\u001b[1;33m\u001b[0m\u001b[1;33m\u001b[0m\u001b[0m\n\u001b[0m\u001b[0;32m    292\u001b[0m             \u001b[1;32mreturn\u001b[0m \u001b[0mf\u001b[0m\u001b[1;33m,\u001b[0m \u001b[0mg\u001b[0m\u001b[1;33m\u001b[0m\u001b[1;33m\u001b[0m\u001b[0m\n\u001b[0;32m    293\u001b[0m     \u001b[1;32melse\u001b[0m\u001b[1;33m:\u001b[0m\u001b[1;33m\u001b[0m\u001b[1;33m\u001b[0m\u001b[0m\n",
      "\u001b[1;32m~\\anaconda3\\lib\\site-packages\\scipy\\optimize\\optimize.py\u001b[0m in \u001b[0;36m_approx_fprime_helper\u001b[1;34m(xk, f, epsilon, args, f0)\u001b[0m\n\u001b[0;32m    695\u001b[0m         \u001b[0mei\u001b[0m\u001b[1;33m[\u001b[0m\u001b[0mk\u001b[0m\u001b[1;33m]\u001b[0m \u001b[1;33m=\u001b[0m \u001b[1;36m1.0\u001b[0m\u001b[1;33m\u001b[0m\u001b[1;33m\u001b[0m\u001b[0m\n\u001b[0;32m    696\u001b[0m         \u001b[0md\u001b[0m \u001b[1;33m=\u001b[0m \u001b[0mepsilon\u001b[0m \u001b[1;33m*\u001b[0m \u001b[0mei\u001b[0m\u001b[1;33m\u001b[0m\u001b[1;33m\u001b[0m\u001b[0m\n\u001b[1;32m--> 697\u001b[1;33m         \u001b[0mdf\u001b[0m \u001b[1;33m=\u001b[0m \u001b[1;33m(\u001b[0m\u001b[0mf\u001b[0m\u001b[1;33m(\u001b[0m\u001b[1;33m*\u001b[0m\u001b[1;33m(\u001b[0m\u001b[1;33m(\u001b[0m\u001b[0mxk\u001b[0m \u001b[1;33m+\u001b[0m \u001b[0md\u001b[0m\u001b[1;33m,\u001b[0m\u001b[1;33m)\u001b[0m \u001b[1;33m+\u001b[0m \u001b[0margs\u001b[0m\u001b[1;33m)\u001b[0m\u001b[1;33m)\u001b[0m \u001b[1;33m-\u001b[0m \u001b[0mf0\u001b[0m\u001b[1;33m)\u001b[0m \u001b[1;33m/\u001b[0m \u001b[0md\u001b[0m\u001b[1;33m[\u001b[0m\u001b[0mk\u001b[0m\u001b[1;33m]\u001b[0m\u001b[1;33m\u001b[0m\u001b[1;33m\u001b[0m\u001b[0m\n\u001b[0m\u001b[0;32m    698\u001b[0m         \u001b[1;32mif\u001b[0m \u001b[1;32mnot\u001b[0m \u001b[0mnp\u001b[0m\u001b[1;33m.\u001b[0m\u001b[0misscalar\u001b[0m\u001b[1;33m(\u001b[0m\u001b[0mdf\u001b[0m\u001b[1;33m)\u001b[0m\u001b[1;33m:\u001b[0m\u001b[1;33m\u001b[0m\u001b[1;33m\u001b[0m\u001b[0m\n\u001b[0;32m    699\u001b[0m             \u001b[1;32mtry\u001b[0m\u001b[1;33m:\u001b[0m\u001b[1;33m\u001b[0m\u001b[1;33m\u001b[0m\u001b[0m\n",
      "\u001b[1;32m~\\anaconda3\\lib\\site-packages\\scipy\\optimize\\optimize.py\u001b[0m in \u001b[0;36mfunction_wrapper\u001b[1;34m(*wrapper_args)\u001b[0m\n\u001b[0;32m    325\u001b[0m     \u001b[1;32mdef\u001b[0m \u001b[0mfunction_wrapper\u001b[0m\u001b[1;33m(\u001b[0m\u001b[1;33m*\u001b[0m\u001b[0mwrapper_args\u001b[0m\u001b[1;33m)\u001b[0m\u001b[1;33m:\u001b[0m\u001b[1;33m\u001b[0m\u001b[1;33m\u001b[0m\u001b[0m\n\u001b[0;32m    326\u001b[0m         \u001b[0mncalls\u001b[0m\u001b[1;33m[\u001b[0m\u001b[1;36m0\u001b[0m\u001b[1;33m]\u001b[0m \u001b[1;33m+=\u001b[0m \u001b[1;36m1\u001b[0m\u001b[1;33m\u001b[0m\u001b[1;33m\u001b[0m\u001b[0m\n\u001b[1;32m--> 327\u001b[1;33m         \u001b[1;32mreturn\u001b[0m \u001b[0mfunction\u001b[0m\u001b[1;33m(\u001b[0m\u001b[1;33m*\u001b[0m\u001b[1;33m(\u001b[0m\u001b[0mwrapper_args\u001b[0m \u001b[1;33m+\u001b[0m \u001b[0margs\u001b[0m\u001b[1;33m)\u001b[0m\u001b[1;33m)\u001b[0m\u001b[1;33m\u001b[0m\u001b[1;33m\u001b[0m\u001b[0m\n\u001b[0m\u001b[0;32m    328\u001b[0m \u001b[1;33m\u001b[0m\u001b[0m\n\u001b[0;32m    329\u001b[0m     \u001b[1;32mreturn\u001b[0m \u001b[0mncalls\u001b[0m\u001b[1;33m,\u001b[0m \u001b[0mfunction_wrapper\u001b[0m\u001b[1;33m\u001b[0m\u001b[1;33m\u001b[0m\u001b[0m\n",
      "\u001b[1;32m<ipython-input-71-7e1567f23e62>\u001b[0m in \u001b[0;36mwrapper_6P\u001b[1;34m(alpha_def, accels, lin_resp, sensors_pos)\u001b[0m\n\u001b[0;32m     94\u001b[0m         \u001b[0mprint\u001b[0m\u001b[1;33m(\u001b[0m\u001b[0mt_0_op1\u001b[0m\u001b[1;33m,\u001b[0m \u001b[0mt_0_op2\u001b[0m\u001b[1;33m)\u001b[0m\u001b[1;33m\u001b[0m\u001b[1;33m\u001b[0m\u001b[0m\n\u001b[0;32m     95\u001b[0m         \u001b[0mtimesteps1\u001b[0m\u001b[1;33m=\u001b[0m\u001b[0mt_0_op1\u001b[0m\u001b[1;33m\u001b[0m\u001b[1;33m\u001b[0m\u001b[0m\n\u001b[1;32m---> 96\u001b[1;33m         \u001b[0mtransformed_data1\u001b[0m \u001b[1;33m=\u001b[0m \u001b[0mpint\u001b[0m\u001b[1;33m.\u001b[0m\u001b[0mtransform\u001b[0m\u001b[1;33m(\u001b[0m\u001b[0mtime\u001b[0m\u001b[1;33m/\u001b[0m\u001b[0ms_ns\u001b[0m\u001b[1;33m,\u001b[0m \u001b[0maccels_noise\u001b[0m\u001b[1;33m,\u001b[0m \u001b[0mtimesteps1\u001b[0m\u001b[1;33m,\u001b[0m \u001b[0mtimestep_indices1\u001b[0m\u001b[1;33m,\u001b[0m \u001b[0malpha_pair\u001b[0m\u001b[1;33m,\u001b[0m \u001b[0msensors_pos\u001b[0m\u001b[1;33m,\u001b[0m \u001b[0mlin_resp\u001b[0m\u001b[1;33m)\u001b[0m\u001b[1;33m\u001b[0m\u001b[1;33m\u001b[0m\u001b[0m\n\u001b[0m\u001b[0;32m     97\u001b[0m \u001b[1;33m\u001b[0m\u001b[0m\n\u001b[0;32m     98\u001b[0m         \u001b[0mtimesteps2\u001b[0m\u001b[1;33m=\u001b[0m\u001b[0mt_0_op2\u001b[0m\u001b[1;33m\u001b[0m\u001b[1;33m\u001b[0m\u001b[0m\n",
      "\u001b[1;32m~\\anaconda3\\lib\\site-packages\\planckanalysis\\integral_transform.py\u001b[0m in \u001b[0;36mtransform\u001b[1;34m(times, accels, timesteps, timestep_indices, alphas, sensors_pos, lin_resp)\u001b[0m\n\u001b[0;32m    221\u001b[0m                         \u001b[1;31m##vector_delta[j, 3] = (track_times[j] - #step_value) # Something like this can be used for analysis of response time\u001b[0m\u001b[1;33m\u001b[0m\u001b[1;33m\u001b[0m\u001b[1;33m\u001b[0m\u001b[0m\n\u001b[0;32m    222\u001b[0m \u001b[1;33m\u001b[0m\u001b[0m\n\u001b[1;32m--> 223\u001b[1;33m                     \u001b[0mexpected_signal_from_sensor\u001b[0m \u001b[1;33m=\u001b[0m \u001b[0msignal_function\u001b[0m\u001b[1;33m(\u001b[0m\u001b[0mvector_delta\u001b[0m\u001b[1;33m,\u001b[0m \u001b[0mlin_resp\u001b[0m\u001b[1;33m,\u001b[0m \u001b[0madc_timestep_size\u001b[0m\u001b[1;33m)\u001b[0m\u001b[1;33m\u001b[0m\u001b[1;33m\u001b[0m\u001b[0m\n\u001b[0m\u001b[0;32m    224\u001b[0m                     signal_from_sensor = accels[sens_num][\n\u001b[0;32m    225\u001b[0m                                          start_index:start_index + expected_signal_from_sensor.shape[0]]\n",
      "\u001b[1;32m~\\anaconda3\\lib\\site-packages\\planckanalysis\\integral_transform.py\u001b[0m in \u001b[0;36msignal_function\u001b[1;34m(vector_delta, lin_resp, sensor_radius)\u001b[0m\n\u001b[0;32m     19\u001b[0m     \u001b[0mout\u001b[0m\u001b[1;33m[\u001b[0m\u001b[1;33m:\u001b[0m\u001b[1;33m,\u001b[0m \u001b[1;36m2\u001b[0m\u001b[1;33m]\u001b[0m \u001b[1;33m=\u001b[0m \u001b[1;33m(\u001b[0m\u001b[0mvector_delta\u001b[0m\u001b[1;33m[\u001b[0m\u001b[1;33m:\u001b[0m\u001b[1;33m,\u001b[0m \u001b[1;36m2\u001b[0m\u001b[1;33m]\u001b[0m \u001b[1;33m/\u001b[0m \u001b[0mdenoms\u001b[0m\u001b[1;33m)\u001b[0m\u001b[1;33m\u001b[0m\u001b[1;33m\u001b[0m\u001b[0m\n\u001b[0;32m     20\u001b[0m \u001b[1;33m\u001b[0m\u001b[0m\n\u001b[1;32m---> 21\u001b[1;33m     \u001b[0mconvolved_list\u001b[0m\u001b[1;33m.\u001b[0m\u001b[0mappend\u001b[0m\u001b[1;33m(\u001b[0m\u001b[0msignal\u001b[0m\u001b[1;33m.\u001b[0m\u001b[0mconvolve\u001b[0m\u001b[1;33m(\u001b[0m\u001b[0mout\u001b[0m\u001b[1;33m[\u001b[0m\u001b[1;33m:\u001b[0m\u001b[1;33m,\u001b[0m \u001b[1;36m0\u001b[0m\u001b[1;33m]\u001b[0m\u001b[1;33m,\u001b[0m \u001b[0mlin_resp\u001b[0m\u001b[1;33m,\u001b[0m \u001b[0mmode\u001b[0m\u001b[1;33m=\u001b[0m\u001b[1;34m'full'\u001b[0m\u001b[1;33m)\u001b[0m\u001b[1;33m)\u001b[0m\u001b[1;33m\u001b[0m\u001b[1;33m\u001b[0m\u001b[0m\n\u001b[0m\u001b[0;32m     22\u001b[0m     \u001b[0mconvolved_list\u001b[0m\u001b[1;33m.\u001b[0m\u001b[0mappend\u001b[0m\u001b[1;33m(\u001b[0m\u001b[0msignal\u001b[0m\u001b[1;33m.\u001b[0m\u001b[0mconvolve\u001b[0m\u001b[1;33m(\u001b[0m\u001b[0mout\u001b[0m\u001b[1;33m[\u001b[0m\u001b[1;33m:\u001b[0m\u001b[1;33m,\u001b[0m \u001b[1;36m1\u001b[0m\u001b[1;33m]\u001b[0m\u001b[1;33m,\u001b[0m \u001b[0mlin_resp\u001b[0m\u001b[1;33m,\u001b[0m \u001b[0mmode\u001b[0m\u001b[1;33m=\u001b[0m\u001b[1;34m'full'\u001b[0m\u001b[1;33m)\u001b[0m\u001b[1;33m)\u001b[0m\u001b[1;33m\u001b[0m\u001b[1;33m\u001b[0m\u001b[0m\n\u001b[0;32m     23\u001b[0m     \u001b[0mconvolved_list\u001b[0m\u001b[1;33m.\u001b[0m\u001b[0mappend\u001b[0m\u001b[1;33m(\u001b[0m\u001b[0msignal\u001b[0m\u001b[1;33m.\u001b[0m\u001b[0mconvolve\u001b[0m\u001b[1;33m(\u001b[0m\u001b[0mout\u001b[0m\u001b[1;33m[\u001b[0m\u001b[1;33m:\u001b[0m\u001b[1;33m,\u001b[0m \u001b[1;36m2\u001b[0m\u001b[1;33m]\u001b[0m\u001b[1;33m,\u001b[0m \u001b[0mlin_resp\u001b[0m\u001b[1;33m,\u001b[0m \u001b[0mmode\u001b[0m\u001b[1;33m=\u001b[0m\u001b[1;34m'full'\u001b[0m\u001b[1;33m)\u001b[0m\u001b[1;33m)\u001b[0m\u001b[1;33m\u001b[0m\u001b[1;33m\u001b[0m\u001b[0m\n",
      "\u001b[1;32m~\\anaconda3\\lib\\site-packages\\scipy\\signal\\signaltools.py\u001b[0m in \u001b[0;36mconvolve\u001b[1;34m(in1, in2, mode, method)\u001b[0m\n\u001b[0;32m   1290\u001b[0m         \u001b[1;31m# fastpath to faster numpy.convolve for 1d inputs when possible\u001b[0m\u001b[1;33m\u001b[0m\u001b[1;33m\u001b[0m\u001b[1;33m\u001b[0m\u001b[0m\n\u001b[0;32m   1291\u001b[0m         \u001b[1;32mif\u001b[0m \u001b[0m_np_conv_ok\u001b[0m\u001b[1;33m(\u001b[0m\u001b[0mvolume\u001b[0m\u001b[1;33m,\u001b[0m \u001b[0mkernel\u001b[0m\u001b[1;33m,\u001b[0m \u001b[0mmode\u001b[0m\u001b[1;33m)\u001b[0m\u001b[1;33m:\u001b[0m\u001b[1;33m\u001b[0m\u001b[1;33m\u001b[0m\u001b[0m\n\u001b[1;32m-> 1292\u001b[1;33m             \u001b[1;32mreturn\u001b[0m \u001b[0mnp\u001b[0m\u001b[1;33m.\u001b[0m\u001b[0mconvolve\u001b[0m\u001b[1;33m(\u001b[0m\u001b[0mvolume\u001b[0m\u001b[1;33m,\u001b[0m \u001b[0mkernel\u001b[0m\u001b[1;33m,\u001b[0m \u001b[0mmode\u001b[0m\u001b[1;33m)\u001b[0m\u001b[1;33m\u001b[0m\u001b[1;33m\u001b[0m\u001b[0m\n\u001b[0m\u001b[0;32m   1293\u001b[0m \u001b[1;33m\u001b[0m\u001b[0m\n\u001b[0;32m   1294\u001b[0m         \u001b[1;32mreturn\u001b[0m \u001b[0mcorrelate\u001b[0m\u001b[1;33m(\u001b[0m\u001b[0mvolume\u001b[0m\u001b[1;33m,\u001b[0m \u001b[0m_reverse_and_conj\u001b[0m\u001b[1;33m(\u001b[0m\u001b[0mkernel\u001b[0m\u001b[1;33m)\u001b[0m\u001b[1;33m,\u001b[0m \u001b[0mmode\u001b[0m\u001b[1;33m,\u001b[0m \u001b[1;34m'direct'\u001b[0m\u001b[1;33m)\u001b[0m\u001b[1;33m\u001b[0m\u001b[1;33m\u001b[0m\u001b[0m\n",
      "\u001b[1;32m<__array_function__ internals>\u001b[0m in \u001b[0;36mconvolve\u001b[1;34m(*args, **kwargs)\u001b[0m\n",
      "\u001b[1;32m~\\anaconda3\\lib\\site-packages\\numpy\\core\\numeric.py\u001b[0m in \u001b[0;36mconvolve\u001b[1;34m(a, v, mode)\u001b[0m\n\u001b[0;32m    815\u001b[0m         \u001b[1;32mraise\u001b[0m \u001b[0mValueError\u001b[0m\u001b[1;33m(\u001b[0m\u001b[1;34m'v cannot be empty'\u001b[0m\u001b[1;33m)\u001b[0m\u001b[1;33m\u001b[0m\u001b[1;33m\u001b[0m\u001b[0m\n\u001b[0;32m    816\u001b[0m     \u001b[0mmode\u001b[0m \u001b[1;33m=\u001b[0m \u001b[0m_mode_from_name\u001b[0m\u001b[1;33m(\u001b[0m\u001b[0mmode\u001b[0m\u001b[1;33m)\u001b[0m\u001b[1;33m\u001b[0m\u001b[1;33m\u001b[0m\u001b[0m\n\u001b[1;32m--> 817\u001b[1;33m     \u001b[1;32mreturn\u001b[0m \u001b[0mmultiarray\u001b[0m\u001b[1;33m.\u001b[0m\u001b[0mcorrelate\u001b[0m\u001b[1;33m(\u001b[0m\u001b[0ma\u001b[0m\u001b[1;33m,\u001b[0m \u001b[0mv\u001b[0m\u001b[1;33m[\u001b[0m\u001b[1;33m:\u001b[0m\u001b[1;33m:\u001b[0m\u001b[1;33m-\u001b[0m\u001b[1;36m1\u001b[0m\u001b[1;33m]\u001b[0m\u001b[1;33m,\u001b[0m \u001b[0mmode\u001b[0m\u001b[1;33m)\u001b[0m\u001b[1;33m\u001b[0m\u001b[1;33m\u001b[0m\u001b[0m\n\u001b[0m\u001b[0;32m    818\u001b[0m \u001b[1;33m\u001b[0m\u001b[0m\n\u001b[0;32m    819\u001b[0m \u001b[1;33m\u001b[0m\u001b[0m\n",
      "\u001b[1;31mKeyboardInterrupt\u001b[0m: "
     ]
    },
    {
     "name": "stdout",
     "output_type": "stream",
     "text": [
      "> \u001b[1;32mc:\\users\\bahaa\\anaconda3\\lib\\site-packages\\numpy\\core\\numeric.py\u001b[0m(817)\u001b[0;36mconvolve\u001b[1;34m()\u001b[0m\n",
      "\u001b[1;32m    815 \u001b[1;33m        \u001b[1;32mraise\u001b[0m \u001b[0mValueError\u001b[0m\u001b[1;33m(\u001b[0m\u001b[1;34m'v cannot be empty'\u001b[0m\u001b[1;33m)\u001b[0m\u001b[1;33m\u001b[0m\u001b[1;33m\u001b[0m\u001b[0m\n",
      "\u001b[0m\u001b[1;32m    816 \u001b[1;33m    \u001b[0mmode\u001b[0m \u001b[1;33m=\u001b[0m \u001b[0m_mode_from_name\u001b[0m\u001b[1;33m(\u001b[0m\u001b[0mmode\u001b[0m\u001b[1;33m)\u001b[0m\u001b[1;33m\u001b[0m\u001b[1;33m\u001b[0m\u001b[0m\n",
      "\u001b[0m\u001b[1;32m--> 817 \u001b[1;33m    \u001b[1;32mreturn\u001b[0m \u001b[0mmultiarray\u001b[0m\u001b[1;33m.\u001b[0m\u001b[0mcorrelate\u001b[0m\u001b[1;33m(\u001b[0m\u001b[0ma\u001b[0m\u001b[1;33m,\u001b[0m \u001b[0mv\u001b[0m\u001b[1;33m[\u001b[0m\u001b[1;33m:\u001b[0m\u001b[1;33m:\u001b[0m\u001b[1;33m-\u001b[0m\u001b[1;36m1\u001b[0m\u001b[1;33m]\u001b[0m\u001b[1;33m,\u001b[0m \u001b[0mmode\u001b[0m\u001b[1;33m)\u001b[0m\u001b[1;33m\u001b[0m\u001b[1;33m\u001b[0m\u001b[0m\n",
      "\u001b[0m\u001b[1;32m    818 \u001b[1;33m\u001b[1;33m\u001b[0m\u001b[0m\n",
      "\u001b[0m\u001b[1;32m    819 \u001b[1;33m\u001b[1;33m\u001b[0m\u001b[0m\n",
      "\u001b[0m\n"
     ]
    },
    {
     "name": "stdin",
     "output_type": "stream",
     "text": [
      "ipdb>  exit\n"
     ]
    }
   ],
   "source": [
    "bnds = [(0,10), (0, 10), (0, 3.14), (-3.14, 3.14), (0, 3.14), (-3.14, 3.14)]\n",
    "result_6P_ex_BF = scipy.optimize.minimize(wrapper_6P, [((t_entry*s_ns)+(n_pad_strt/hnds_un))/scl_fct, ((t_exit-t_entry)*s_ns)/scl_fct, theta_entry, phi_entry, theta_exit, phi_exit], args=(accels, lin_resp, sensors_pos), method='L-BFGS-B', bounds=bnds, options={'gtol': 1e-20})"
   ]
  },
  {
   "cell_type": "code",
   "execution_count": 73,
   "metadata": {},
   "outputs": [
    {
     "data": {
      "text/plain": [
       "array([ 3.        ,  2.55596709,  0.86695406, -2.81036684,  1.76859947,\n",
       "        0.34495404])"
      ]
     },
     "execution_count": 73,
     "metadata": {},
     "output_type": "execute_result"
    }
   ],
   "source": [
    "result_6P_ex_BF.x"
   ]
  },
  {
   "cell_type": "code",
   "execution_count": 74,
   "metadata": {},
   "outputs": [
    {
     "data": {
      "text/plain": [
       "array([1.00000000e+00, 3.42308022e+05, 2.25174199e+06, 1.14808711e+06,\n",
       "       4.80054729e+05, 3.32224986e+06])"
      ]
     },
     "execution_count": 74,
     "metadata": {},
     "output_type": "execute_result"
    }
   ],
   "source": [
    "np.sqrt(np.diag(result_6P_ex_BF.hess_inv.todense())) #err"
   ]
  },
  {
   "cell_type": "code",
   "execution_count": 75,
   "metadata": {
    "collapsed": true,
    "jupyter": {
     "outputs_hidden": true
    }
   },
   "outputs": [
    {
     "name": "stderr",
     "output_type": "stream",
     "text": [
      "  0%|          | 0/1 [00:00<?, ?it/s]C:\\Users\\bahaa\\anaconda3\\lib\\site-packages\\planckanalysis\\integral_transform.py:205: RuntimeWarning: invalid value encountered in true_divide\n",
      "  dir_vector_step = dir_vector / (alpha_pair[7] - alpha_pair[3]) * adc_timestep_size\n",
      "100%|██████████| 1/1 [00:00<?, ?it/s]\n",
      "100%|██████████| 1/1 [00:00<?, ?it/s]\n",
      "100%|██████████| 1/1 [00:00<?, ?it/s]\n",
      "100%|██████████| 1/1 [00:00<00:00, 50.14it/s]\n",
      "100%|██████████| 1/1 [00:00<00:00, 1003.18it/s]\n",
      "100%|██████████| 1/1 [00:00<00:00, 1001.74it/s]\n",
      "100%|██████████| 1/1 [00:00<?, ?it/s]\n",
      "100%|██████████| 1/1 [00:00<00:00, 1004.14it/s]"
     ]
    },
    {
     "name": "stdout",
     "output_type": "stream",
     "text": [
      "[1]\n"
     ]
    },
    {
     "name": "stderr",
     "output_type": "stream",
     "text": [
      "\n"
     ]
    }
   ],
   "source": [
    "bnds = [(0,10), (0, 10), (0, 3.14), (-3.14, 3.14), (0, 3.14), (-3.14, 3.14)]\n",
    "result_6P_BF = scipy.optimize.minimize(wrapper_6P, [0, 0, 0, 0, 0, 0], args=(accels, lin_resp, sensors_pos), method='L-BFGS-B', bounds=bnds, options={'gtol': 1e-20})"
   ]
  },
  {
   "cell_type": "code",
   "execution_count": 76,
   "metadata": {
    "collapsed": true,
    "jupyter": {
     "outputs_hidden": true
    }
   },
   "outputs": [
    {
     "name": "stderr",
     "output_type": "stream",
     "text": [
      "C:\\Users\\bahaa\\anaconda3\\lib\\site-packages\\ipykernel_launcher.py:2: OptimizeWarning: Unknown solver options: gtol\n",
      "  \n",
      "100%|██████████| 1/1 [00:00<?, ?it/s]\n",
      "100%|██████████| 1/1 [00:00<00:00, 1000.55it/s]\n",
      "100%|██████████| 1/1 [00:00<00:00, 1002.46it/s]\n",
      "100%|██████████| 1/1 [00:00<?, ?it/s]\n",
      "100%|██████████| 1/1 [00:00<00:00, 62.81it/s]\n",
      "100%|██████████| 1/1 [00:00<00:00, 1002.70it/s]\n",
      "100%|██████████| 1/1 [00:00<00:00, 987.82it/s]\n",
      "100%|██████████| 1/1 [00:00<00:00, 1001.51it/s]\n",
      "100%|██████████| 1/1 [00:00<00:00, 1002.46it/s]"
     ]
    },
    {
     "name": "stdout",
     "output_type": "stream",
     "text": [
      "[1]\n"
     ]
    },
    {
     "name": "stderr",
     "output_type": "stream",
     "text": [
      "\n"
     ]
    }
   ],
   "source": [
    "bnds = [(0,10), (0, 10), (0, 3.14), (-3.14, 3.14), (0, 3.14), (-3.14, 3.14)]\n",
    "result_6P_P = scipy.optimize.minimize(wrapper_6P, [0, 0, 0, 0, 0, 0], args=(accels, lin_resp, sensors_pos), method='SLSQP', bounds=bnds, options={'gtol': 1e-10})"
   ]
  },
  {
   "cell_type": "code",
   "execution_count": 77,
   "metadata": {},
   "outputs": [
    {
     "data": {
      "text/plain": [
       "array([1., 1., 1., 1., 1., 1.])"
      ]
     },
     "execution_count": 77,
     "metadata": {},
     "output_type": "execute_result"
    }
   ],
   "source": [
    "np.sqrt(np.diag(result_6P_BF.hess_inv.todense())) #err"
   ]
  },
  {
   "cell_type": "markdown",
   "metadata": {},
   "source": [
    "------------------------------------------------------------------"
   ]
  },
  {
   "cell_type": "markdown",
   "metadata": {},
   "source": [
    "------------------------------------------------------------------"
   ]
  },
  {
   "cell_type": "markdown",
   "metadata": {},
   "source": [
    "------------------------------------------------------------------"
   ]
  },
  {
   "cell_type": "markdown",
   "metadata": {},
   "source": [
    "Powell does not work with the spacial analysis; TNC is better, but still bad.\n",
    "\n",
    "SLSQP and L-BFGS-B are good with spatial analysis (all four) but are bad with the other variables"
   ]
  },
  {
   "cell_type": "markdown",
   "metadata": {},
   "source": [
    "------------------------------------------------------------------"
   ]
  },
  {
   "cell_type": "markdown",
   "metadata": {},
   "source": [
    "------------------------------------------------------------------"
   ]
  },
  {
   "cell_type": "markdown",
   "metadata": {},
   "source": [
    "Here is a guide to the particular scipy.optimize packages that have been tested:\n",
    "\n",
    "< basinhopping(func, x0[, niter, T, stepsize, …])\n",
    "\n",
    "-> Find the global minimum of a function using the basin-hopping algorithm\n",
    "\n",
    "-> Method: L-BFGS-B -> Takes a long time to run, sometimes does not finish\n",
    "\n",
    "-> Method: Powell -> Runs quite well at the start, but bc. it doesn't take bounds it is not accurate for some variables. Also, it doesn't give out an inverse hessian\n",
    "\n",
    "-> Method: TNC -> Runs well, still testing\n",
    "\n",
    "\n",
    "\n",
    "< brute(func, ranges[, args, Ns, full_output, …])\n",
    "\n",
    "-> Minimize a function over a given range by brute force.\n",
    "\n",
    "-> Produces incorrect results\n",
    "\n",
    "\n",
    "< differential_evolution(func, bounds[, args, …])\n",
    "\n",
    "-> Finds the global minimum of a multivariate function.\n",
    "\n",
    "-> Continues to run endlessly\n",
    "\n",
    "\n",
    "< shgo(func, bounds[, args, constraints, n, …])\n",
    "\n",
    "-> Finds the global minimum of a function using SHG optimization.\n",
    "\n",
    "-> Fails completely (runs very short and fails)\n",
    "\n",
    "\n",
    "< dual_annealing(func, bounds[, args, …])\n",
    "\n",
    "-> Find the global minimum of a function using Dual Annealing.\n",
    "\n",
    "-> Fails completely\n",
    "\n",
    "< fmin_bfgs(func, x0)\n",
    "\n",
    "-> Does not take in bounds\n",
    "\n",
    "-> Maybe interesting, though not likely to be promising"
   ]
  },
  {
   "cell_type": "code",
   "execution_count": null,
   "metadata": {},
   "outputs": [],
   "source": [
    "# This basinhopping with bounds *should* work, but it is not very reliable\n",
    "\n",
    "bnds = [(0,10), (0, 10), (0, 3.14), (-3.14, 3.14), (0, 3.14), (-3.14, 3.14)]\n",
    "\n",
    "minimizer_kwargs = {\"method\": \"L-BFGS-B\", \"bounds\": bnds, \"args\": (accels, lin_resp, sensors_pos)}\n",
    "result_6P_BH_full_bnd = scipy.optimize.basinhopping(wrapper_6P, [0, 0, 0, 0, 0, 0], minimizer_kwargs=minimizer_kwargs, niter=200)"
   ]
  },
  {
   "cell_type": "code",
   "execution_count": 80,
   "metadata": {},
   "outputs": [
    {
     "data": {
      "text/plain": [
       "(array([0.322]),\n",
       " array([0.2052443]),\n",
       " 0.4768822862810498,\n",
       " -0.8167292960052399,\n",
       " 1.5463971802245688,\n",
       " -3.135141681595092)"
      ]
     },
     "execution_count": 80,
     "metadata": {},
     "output_type": "execute_result"
    }
   ],
   "source": [
    "# These are the truth values for the parameters above\n",
    "((t_entry*s_ns)+(n_pad_strt/hnds_un))/scl_fct, ((t_exit-t_entry)*s_ns)/scl_fct, theta_entry, phi_entry, theta_exit, phi_exit"
   ]
  },
  {
   "cell_type": "code",
   "execution_count": null,
   "metadata": {},
   "outputs": [],
   "source": [
    "# These are the full results\n",
    "result_6P_BH_full"
   ]
  },
  {
   "cell_type": "code",
   "execution_count": 40,
   "metadata": {},
   "outputs": [
    {
     "data": {
      "text/plain": [
       "(array([32200.]),\n",
       " array([20524.42996829]),\n",
       " 0.4768822862810498,\n",
       " -0.8167292960052399,\n",
       " 1.5463971802245688,\n",
       " -3.135141681595092)"
      ]
     },
     "execution_count": 40,
     "metadata": {},
     "output_type": "execute_result"
    }
   ],
   "source": [
    "# These are the parameters in the same units as the errors\n",
    "((t_entry*s_ns)+(n_pad_strt/hnds_un)), ((t_exit-t_entry)*s_ns), theta_entry, phi_entry, theta_exit, phi_exit "
   ]
  },
  {
   "cell_type": "code",
   "execution_count": null,
   "metadata": {},
   "outputs": [],
   "source": [
    "hess_mtrx_inv = result_6P_BH_full['lowest_optimization_result']['hess_inv']"
   ]
  },
  {
   "cell_type": "code",
   "execution_count": null,
   "metadata": {},
   "outputs": [],
   "source": [
    "# HERE are the Errors for the Parameters\n",
    "np.sqrt(np.diag(hess_mtrx_inv) * [scl_fct**2, scl_fct**2, 1, 1, 1, 1])"
   ]
  },
  {
   "cell_type": "code",
   "execution_count": null,
   "metadata": {},
   "outputs": [],
   "source": [
    "# This code should produce a preliminary covariance matrix plot of the parameter errors\n",
    "\n",
    "sn.heatmap(hess_mtrx_inv, annot=True, fmt='g')"
   ]
  },
  {
   "cell_type": "markdown",
   "metadata": {},
   "source": [
    "------------------------------------------------------------------"
   ]
  },
  {
   "cell_type": "markdown",
   "metadata": {},
   "source": [
    "------------------------------------------------------------------"
   ]
  },
  {
   "cell_type": "markdown",
   "metadata": {},
   "source": [
    "------------------------------------------------------------------"
   ]
  },
  {
   "cell_type": "code",
   "execution_count": null,
   "metadata": {},
   "outputs": [],
   "source": []
  }
 ],
 "metadata": {
  "kernelspec": {
   "display_name": "Python 3",
   "language": "python",
   "name": "python3"
  },
  "language_info": {
   "codemirror_mode": {
    "name": "ipython",
    "version": 3
   },
   "file_extension": ".py",
   "mimetype": "text/x-python",
   "name": "python",
   "nbconvert_exporter": "python",
   "pygments_lexer": "ipython3",
   "version": "3.7.6"
  },
  "widgets": {
   "application/vnd.jupyter.widget-state+json": {
    "state": {},
    "version_major": 2,
    "version_minor": 0
   }
  }
 },
 "nbformat": 4,
 "nbformat_minor": 4
}
