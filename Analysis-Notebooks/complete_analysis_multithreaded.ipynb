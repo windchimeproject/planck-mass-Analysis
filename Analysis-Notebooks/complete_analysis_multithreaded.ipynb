{
 "cells": [
  {
   "cell_type": "code",
   "execution_count": 1,
   "metadata": {},
   "outputs": [
    {
     "name": "stderr",
     "output_type": "stream",
     "text": [
      "C:\\Users\\Bob\\anaconda3\\lib\\site-packages\\wimprates\\halo.py:144: RuntimeWarning: divide by zero encountered in true_divide\n",
      "  / (2 * v_earth_t * v))\n"
     ]
    }
   ],
   "source": [
    "from planckmc.track_generation import halo_model\n",
    "from planckmc.track_generation import make_tracks\n",
    "from planckmc.detector_characteristics import DETECTOR_CHARACTERISTICS\n",
    "from planckmc.response import sensor_response, RESPONSE_DICT\n",
    "from planckmc.config import CONFIG\n",
    "import planckanalysis.separated_integral_transform as pint\n",
    "\n",
    "import numpy as np\n",
    "from numba import njit, jit\n",
    "from tqdm import tqdm\n",
    "import numericalunits as nu\n",
    "from scipy.signal import peak_widths\n",
    "from scipy.signal import peak_prominences\n",
    "from random import randrange, uniform\n",
    "import json\n",
    "\n",
    "%matplotlib inline\n",
    "import matplotlib # plotting libraries\n",
    "\n",
    "import matplotlib.pyplot as plt\n",
    "import matplotlib.colors as clr\n",
    "from matplotlib.colors import LogNorm\n",
    "from mpl_toolkits.mplot3d import Axes3D\n",
    "\n",
    "import seaborn as sn\n",
    "#%pdb"
   ]
  },
  {
   "cell_type": "code",
   "execution_count": 2,
   "metadata": {},
   "outputs": [],
   "source": [
    "scl_fct = 1e4 # Scale Factor for Optimized Time variables (entry time and time difference)\n",
    "hnds_un = 1e-2 # Units to Hundreds -> Because Some values are already multiplied by one hundred (i.e. every unit is one hundred of the value)\n",
    "tnsMS_ms = 1e-1 # Tens of microseconds to microseconds\n",
    "s_ns = 1e9 # Seconds to nanoseconds\n",
    "s_ms = 1e6 # Seconds to microseconds"
   ]
  },
  {
   "cell_type": "markdown",
   "metadata": {},
   "source": [
    "-----------"
   ]
  },
  {
   "cell_type": "markdown",
   "metadata": {},
   "source": [
    "### SIMULATION ACCELS & DEFINITION OF TRUTH VALUES\n",
    "\n",
    "The cell below creates a track with its truth values and generates the resultant sensor accelerations (without noise) in the detector"
   ]
  },
  {
   "cell_type": "code",
   "execution_count": 3,
   "metadata": {},
   "outputs": [
    {
     "data": {
      "text/plain": [
       "(array([[34068, 31683, 32614],\n",
       "        [31715, 33144, 31724],\n",
       "        [32615, 32143, 32121],\n",
       "        ...,\n",
       "        [32616, 32326, 32092],\n",
       "        [32840, 32267, 32827],\n",
       "        [31938, 33907, 33054]], dtype=int64),\n",
       " 0.9801980651064043,\n",
       " 2790,\n",
       " 2203,\n",
       " 5027,\n",
       " array([279000.]))"
      ]
     },
     "execution_count": 3,
     "metadata": {},
     "output_type": "execute_result"
    }
   ],
   "source": [
    "#Custom Track: 7.5 m in length\n",
    "#vel, entry_vecs, exit_vecs, t_entry, t_exit = np.array([257500.]), np.array([[2.10893786], [3.19662096], [3.51766905]]), np.array([[-3.94093443], [ 3.26567685], [-0.91890723]]), np.array([0.]), np.array([2.91362915e-05])\n",
    "\n",
    "#Randomized Track:\n",
    "vel = halo_model.generate_vel_array(n_vels=1) # The number infront of n_vels is how many tracks are produced, Keep at one for analysis\n",
    "entry_vecs, exit_vecs, t_entry, t_exit = make_tracks.generate_tracks(vel, np.zeros(vel.shape))\n",
    "\n",
    "#t_entry, t_exit are in seconds, the space variables are in meters\n",
    "\n",
    "track=0 # Identifies that we are looking at the first track, number of tracks is equal to n_vels\n",
    "radius = float(CONFIG['Track Generation']['BoundingSphereRadius'])\n",
    "track_len = np.linalg.norm(exit_vecs - entry_vecs)\n",
    "adc_timestep_size = int(CONFIG['Track Generation']['Timestep'])/s_ns\n",
    "\n",
    "sensors = tuple(DETECTOR_CHARACTERISTICS.keys()) # Loads the sensor information\n",
    "\n",
    "# Make sure the linear response in RESPONSE_DICT (simulation) is the same as the one used in the analysis (Run Response_update)\n",
    "# Eventually, the linear response and the FIR filter used for the template generation, which is currenly this same one, will be the same\n",
    "# as that of the sensors used in the physical experiment. By matching the two linear responses and FIR filters together, the matching can work\n",
    "\n",
    "lin_resp = RESPONSE_DICT[sensors[0]]['linear_response']\n",
    "lin_resp_len = len(lin_resp)\n",
    "\n",
    "# The floor value is important because of two reasons: 1) it provides a way to analyze for entry time, 2) it makes the length of the data longer than\n",
    "# the response length (which is CRUCIAL)\n",
    "floor_val = ((lin_resp_len - (((t_exit - t_entry) * hnds_un * s_ns) + 2)) // 2) + 1\n",
    "\n",
    "# Padding is in 10s of microseconds (nanoseconds/100)\n",
    "if floor_val > 1:\n",
    "    n_pad_strt = randrange(floor_val, floor_val + 5000)\n",
    "    n_pad_end = randrange(floor_val, floor_val + 5000)\n",
    "else:\n",
    "    floor_val = 1\n",
    "    n_pad_strt = randrange(floor_val, floor_val + 5000)\n",
    "    n_pad_end = randrange(floor_val, floor_val + 5000)\n",
    "\n",
    "# Acceleration without noise:\n",
    "out = make_tracks.generate_acceleration_dict(entry_vecs, exit_vecs, t_entry, t_exit, {'M':1e8, 'G':6.67e-11}, strt_padding=n_pad_strt, end_padding=n_pad_end)\n",
    "\n",
    "accels = []\n",
    "sensors_pos = []\n",
    "cnt = 0\n",
    "\n",
    "# Below we initialize for the acceleration array and the sensor positions array\n",
    "for key in out[track]:\n",
    "    if key not in ['time', 'particle_location']:\n",
    "        accels.append(out[track][sensors[cnt]])\n",
    "        sensors_pos.append(DETECTOR_CHARACTERISTICS[key]['position'])\n",
    "        cnt += 1\n",
    "\n",
    "## To make a 'zero track', uncomment the line below:\n",
    "#accels = np.zeros(np.array(accels).shape)\n",
    "\n",
    "# Below we generate the corresponding truth angle spatial information of the track from the cartesian truth data:\n",
    "alpha_theta = np.array([0, 0, 1]) # Z-axis\n",
    "cos_theta_entry = pint.py_ang(entry_vecs.T[0], alpha_theta.T)\n",
    "if cos_theta_entry < -1:\n",
    "    cos_theta_entry = -1\n",
    "\n",
    "if cos_theta_entry > 1:\n",
    "    cos_theta_entry = 1\n",
    "theta_entry_truth = np.arccos(cos_theta_entry) # Theta entry truth\n",
    "\n",
    "cos_theta_exit = pint.py_ang(exit_vecs.T[0], alpha_theta.T)\n",
    "if cos_theta_exit < -1:\n",
    "    cos_theta_exit = -1\n",
    "\n",
    "if cos_theta_exit > 1:\n",
    "    cos_theta_exit = 1\n",
    "theta_exit_truth = np.arccos(cos_theta_exit) # Theta exit truth\n",
    "\n",
    "alpha_phi = np.array([1, 0, 0]) # X-axis\n",
    "phi_entry_truth = np.arctan2(entry_vecs[1], entry_vecs[0])[0] # Phi entry truth\n",
    "phi_exit_truth = np.arctan2(exit_vecs[1], exit_vecs[0])[0] # Phi exit truth\n",
    "\n",
    "# Note: Theta goes from 0 to 180 deg, and phi goes from -180 to 180 deg\n",
    "\n",
    "t_0 = t_entry + ((n_pad_strt - 1) / (hnds_un * s_ns)) # Truth start time of track; This variable is in Seconds\n",
    "d_t = t_exit - t_entry # Period of track; This variable is in Seconds\n",
    "\n",
    "\n",
    "# The conversion below of t_entry and n_pad_strt is what matches the padding and the time to be in nanoseconds -> (t_entry*s_ns)+(n_pad_strt/hnds_un)\n",
    "sensor_response(sensors[0], out[0][sensors[0]]), track_len, n_pad_strt, n_pad_end, len(out[track]['time']), (t_entry*s_ns)+(n_pad_strt/hnds_un)"
   ]
  },
  {
   "cell_type": "markdown",
   "metadata": {},
   "source": [
    "---------------------"
   ]
  },
  {
   "cell_type": "markdown",
   "metadata": {},
   "source": [
    "### NOISY SIMULATION ACCELERATIONS\n",
    "\n",
    "This cell generates the associated adc values (with added noise) of the accelerations and returns from this digitized data the equivalent accelerations with noise"
   ]
  },
  {
   "cell_type": "code",
   "execution_count": 4,
   "metadata": {},
   "outputs": [],
   "source": [
    "accels_noise = []\n",
    "x = sensor_response(sensors[0], accels[0])\n",
    "full_data_1 = np.array([[0] * 3 for i in range(x.shape[0])])\n",
    "full_data = np.array([full_data_1 for j in range(len(sensors))])\n",
    "tm_vals = []\n",
    "\n",
    "for sensrs in range(0,len(sensors)):\n",
    "    x = sensor_response(sensors[sensrs], accels[sensrs], response_dict=RESPONSE_DICT)\n",
    "    for tms in range(0,x.shape[0]):\n",
    "        for dim in range(0,len(x[tms])):\n",
    "            # adc with noise\n",
    "            full_data[sensrs][tms][dim] = x[tms][dim]\n",
    "\n",
    "m = np.array(RESPONSE_DICT[sensors[0]]['signal_transfer_response'])\n",
    "\n",
    "# Acceleration with noise\n",
    "accels_w_noise = pint.adc_readout_to_accel(full_data, np.concatenate([[-1], m[:-1]+np.diff(m)/2, [1]]))\n",
    "#accels_w_noise = pint.adc_readout_to_accel(full_data, pint.generate_adc_lookup_table(m))\n",
    "\n",
    "for sensrs2 in range(0,len(sensors)):\n",
    "    accels_noise.append(accels_w_noise[sensrs2])"
   ]
  },
  {
   "cell_type": "markdown",
   "metadata": {},
   "source": [
    "---------------------"
   ]
  },
  {
   "cell_type": "markdown",
   "metadata": {},
   "source": [
    "### ANALYSIS ALPHAS GENERATION\n",
    "\n",
    "This cell takes in the type of analysis requested (for example, a spatial analysis or a velocity and time analysis) and defines the analysis alphas (four vector couples) that are used to generate the templates. The cell also displays how many start times will run in the analysis proper"
   ]
  },
  {
   "cell_type": "code",
   "execution_count": 5,
   "metadata": {},
   "outputs": [
    {
     "name": "stderr",
     "output_type": "stream",
     "text": [
      "100%|██████████| 49/49 [00:00<00:00, 2127.74it/s]"
     ]
    },
    {
     "name": "stdout",
     "output_type": "stream",
     "text": [
      "Number of start times: 1005\n"
     ]
    },
    {
     "name": "stderr",
     "output_type": "stream",
     "text": [
      "\n"
     ]
    }
   ],
   "source": [
    "time_track = out[track]['time']-out[track]['time'][0]\n",
    "\n",
    "# Input the particular names of the analyses requested into the analysis_parameter below:\n",
    "    # Analysis Types: 'Time', 'Velocity', 'Spatial', 'Spatial_entry', 'Spatial_exit'\n",
    "\n",
    "analysis_parameter = ['Velocity', 'Time']\n",
    "\n",
    "\n",
    "## Note: vel, entry_vecs, exit_vecs, n_pad_strt, n_pad_end, radius, and time_track are all truth values from the simulation\n",
    "\n",
    "### 'Time' Only Variables: vel, entry_vecs, exit_vecs, time_track\n",
    "\n",
    "### 'Velocity' Only Variables: num_bins, entry_vecs, exit_vecs, n_pad_strt, n_pad_end, time_track\n",
    "\n",
    "### 'Time' & 'Velocity' Variables: num_bins, entry_vecs, exit_vecs, time_track\n",
    "\n",
    "### 'Spatial' Only Variables: vel, n_pad_strt, n_pad_end, radius, N_thetas, N_phis_at_eq, epsilon\n",
    "### 'Spatial_entry' Only Variables: vel, n_pad_strt, n_pad_end, radius, N_thetas, N_phis_at_eq, epsilon, entry_Anl=True, exit_vals=[theta_exit_truth, phi_exit_truth]\n",
    "### 'Spatial_exit' Only Variables: vel, n_pad_strt, n_pad_end, radius, N_thetas, N_phis_at_eq, epsilon, exit_Anl=True, entry_vals=[theta_entry_truth, phi_entry_truth]\n",
    "\n",
    "### 'Spatial' & 'Velocity' Variables: num_bins, n_pad_strt, n_pad_end, radius, N_thetas, N_phis_at_eq, epsilon\n",
    "### 'Spatial_entry' & 'Velocity' Variables: num_bins, n_pad_strt, n_pad_end, radius, N_thetas, N_phis_at_eq, epsilon, entry_Anl=True, exit_vals=[theta_exit_truth, phi_exit_truth]\n",
    "### 'Spatial_exit' & 'Velocity' Variables:  num_bins, n_pad_strt, n_pad_end, radius, N_thetas, N_phis_at_eq, epsilon, exit_Anl=True, entry_vals=[theta_entry_truth, phi_entry_truth]\n",
    "\n",
    "### 'Spatial' & 'Time' Variables: vel, radius, N_thetas, N_phis_at_eq, epsilon\n",
    "### 'Spatial_entry' & 'Time' Variables: vel, radius, N_thetas, N_phis_at_eq, epsilon, exit_vals=[theta_exit_truth, phi_exit_truth]\n",
    "### 'Spatial_exit' & 'Time' Variables:  vel, radius, N_thetas, N_phis_at_eq, epsilon, entry_vals=[theta_entry_truth, phi_entry_truth]\n",
    "\n",
    "### 'Spatial' & 'Velocity' & 'Time' Variables: num_bins, radius, N_thetas, N_phis_at_eq, epsilon\n",
    "### 'Spatial_entry' & 'Velocity' & 'Time' Variables: num_bins, radius, N_thetas, N_phis_at_eq, epsilon, exit_vals=[theta_exit_truth, phi_exit_truth]\n",
    "### 'Spatial_exit' & 'Velocity' & 'Time' Variables:  num_bins, radius, N_thetas, N_phis_at_eq, epsilon, entry_vals=[theta_entry_truth, phi_entry_truth]\n",
    "\n",
    "num_thetas = 15\n",
    "num_phis_at_eq  = 2*num_thetas\n",
    "\n",
    "if 'Velocity' in analysis_parameter:\n",
    "    num_bin = 50\n",
    "    velocity_bins = np.linspace(1e5, 8e5, num_bin)\n",
    "    vel_array = velocity_bins[:-1] + np.diff(velocity_bins) / 2\n",
    "else:\n",
    "    vel_array = [vel]\n",
    "\n",
    "if 'Time' in analysis_parameter:\n",
    "    # Acceleration Settings: Analyzing the whole time parameter space\n",
    "    tm_steps = 5\n",
    "    tmstep_strt = 0\n",
    "    tmstep_end = len(time_track) - 1\n",
    "else:\n",
    "    # Acceleration Settings: Removing the padding and only considering the true entry time\n",
    "    tm_steps = len(time_track) - n_pad_strt - n_pad_end\n",
    "    tmstep_strt = n_pad_strt - 1\n",
    "    tmstep_end = len(time_track) - n_pad_end - 1\n",
    "\n",
    "length_of_run = int((tmstep_end-tmstep_strt) / tm_steps)\n",
    "print(\"Number of start times:\", length_of_run)\n",
    "\n",
    "if 'Spatial' in analysis_parameter:\n",
    "    alphas, angles = pint.Spatial_Analysis_alphas(vel=vel_array, radius=radius, N_thetas=num_thetas, N_phis_at_eq=num_phis_at_eq)\n",
    "elif 'Spatial_entry' in analysis_parameter:\n",
    "    alphas, angles = pint.Spatial_Analysis_alphas(vel=vel_array, radius=radius, entry_Anl=True,\n",
    "                                           exit_vals=[theta_exit_truth, phi_exit_truth], N_thetas=num_thetas, N_phis_at_eq=num_phis_at_eq)\n",
    "elif 'Spatial_exit' in analysis_parameter:\n",
    "    alphas, angles = pint.Spatial_Analysis_alphas(vel=vel_array, radius=radius, exit_Anl=True,\n",
    "                                           entry_vals=[theta_entry_truth, phi_entry_truth], N_thetas=num_thetas, N_phis_at_eq=num_phis_at_eq)\n",
    "else:\n",
    "    alphas = pint.Non_Spatial_Analysis_alphas(vel_array, entry_vecs, exit_vecs)"
   ]
  },
  {
   "cell_type": "markdown",
   "metadata": {},
   "source": [
    "---------------------"
   ]
  },
  {
   "cell_type": "markdown",
   "metadata": {},
   "source": [
    "### TEMPLATE GENERATION\n",
    "\n",
    "This block runs a multi-core threaded version of transform_temp given an input list containing the alphas, sensor positions, linear response, and timestep size. The gives back the Library Templates composed of each sensor's accelerations in the 3 dimensions for each timestep in the generated track. This threaded code with 50 cores runs approx. 50 times faster (e.g. a spatial and 10 velocity bin template generation would take upwards of 8 hours on the non-threaded code, but would take around 10 minutes here)."
   ]
  },
  {
   "cell_type": "code",
   "execution_count": 6,
   "metadata": {},
   "outputs": [],
   "source": [
    "def transform_temp(input_list):\n",
    "    alpha_index, alpha_pair, sensors_pos, lin_resp, adc_timestep_size = input_list\n",
    "    response_length = len(lin_resp)\n",
    "    \n",
    "    signal_array = []\n",
    "\n",
    "    dir_vector = np.array([\n",
    "        alpha_pair[4] - alpha_pair[0],\n",
    "        alpha_pair[5] - alpha_pair[1],\n",
    "        alpha_pair[6] - alpha_pair[2],\n",
    "    ])\n",
    "    initial_pos = np.array([alpha_pair[0], alpha_pair[1], alpha_pair[2]])\n",
    "\n",
    "    dir_vector_step = dir_vector / (alpha_pair[7] - alpha_pair[3]) * adc_timestep_size\n",
    "    n_steps = int(np.ceil((alpha_pair[7] - alpha_pair[3]) / adc_timestep_size))\n",
    "\n",
    "    particle_pos_arr = np.array([initial_pos + j * dir_vector_step for j in range(n_steps)])\n",
    "\n",
    "    for sens_num, sensor_pos in enumerate(sensors_pos):\n",
    "        vector_delta = np.zeros((n_steps, 4))\n",
    "        for j in range(n_steps):\n",
    "            vector_delta[j, 0] = (particle_pos_arr[j][0] - sensor_pos[0])\n",
    "            vector_delta[j, 1] = (particle_pos_arr[j][1] - sensor_pos[1])\n",
    "            vector_delta[j, 2] = (particle_pos_arr[j][2] - sensor_pos[2])\n",
    "\n",
    "        signal_array.append(np.array(signal_function(vector_delta, lin_resp, adc_timestep_size)))\n",
    "        \n",
    "    return alpha_index, signal_array\n",
    "\n",
    "input_list = []\n",
    "for indx in range(len(alphas)):\n",
    "    input_list.append((indx, alphas[indx, :], sensors_pos, lin_resp, adc_timestep_size))\n",
    "\n",
    "Library = {\"Alpha_num\": [], \"Signal\": []}\n",
    "    \n",
    "with Pool(50) as p:\n",
    "    starttime = time.time()\n",
    "    #for thing in p.imap(f, input_list):#, chunksize=1):\n",
    "    for i, result in enumerate(p.imap(transform_temp, input_list, chunksize=1)):\n",
    "        Library['Alpha_num'].append(result[0])\n",
    "        Library['Signal'].append(result[1])\n",
    "                \n",
    "        print('Time taken = {} seconds'.format(time.time() - starttime))"
   ]
  },
  {
   "cell_type": "code",
   "execution_count": 7,
   "metadata": {},
   "outputs": [
    {
     "name": "stderr",
     "output_type": "stream",
     "text": [
      "100%|██████████| 49/49 [00:00<00:00, 100.12it/s]\n"
     ]
    },
    {
     "data": {
      "text/plain": [
       "((49, 64), (64, 92, 3))"
      ]
     },
     "execution_count": 7,
     "metadata": {},
     "output_type": "execute_result"
    }
   ],
   "source": [
    "np.array(Library['Signal']).shape, np.array(Library['Signal'][0]).shape"
   ]
  },
  {
   "cell_type": "markdown",
   "metadata": {},
   "source": [
    "---------------------"
   ]
  },
  {
   "cell_type": "markdown",
   "metadata": {},
   "source": [
    "### PERFORMING THE ANALYSIS\n",
    "\n",
    "This cell block runs the integral transform given the times, start time analysis information, accelerations, alphas, sensor positions, and the Template Library. An analysis of the noise data is done when the noisy accelerations are the ones passed through. Transform gives back an SNR value and two associated four-vectors (x,y,z,t) for each of the templates considered in the analysis.\n",
    "\n",
    "There is no difference between this code and the non-threaded note, simply because threading has not been applied to this more complex process. However, this section runs within a few minutes for even a 5P analysis (for the same analysis considered above, it takes ~2 minutes), so threading does not seem very necessary at the moment. The length of time this process takes highly depends on the last parameter (entry time) and so the full 6P analysis will see the largest changes in computational time."
   ]
  },
  {
   "cell_type": "markdown",
   "metadata": {},
   "source": [
    "NOTE: The output of the conjoined integral transform function is the S value, not the SNR.\n",
    "    And this value cannot be transformed into the SNR trivially. This is because of how the\n",
    "    function is set up and how the expected signal from the sensor is generated. In this function, for\n",
    "    every sensor, an expected signal is generated, analyzed with the data, then discarded.\n",
    "    The result of each run is added continously and the final value is the S, but each\n",
    "    expected signal has been lost and cannot be used for the SNR calculation (see the\n",
    "    separated integral transform for comparison). So, it is not recomended to use the conjoined transform, and if it becomes necessary to use \n",
    "    (such as in optimization), keep this piece of information in mind."
   ]
  },
  {
   "cell_type": "code",
   "execution_count": 8,
   "metadata": {},
   "outputs": [],
   "source": [
    "def transform_function(time_track, tm_steps, tmstep_strt, tmstep_end, accels, alphas, sensors_pos, Library):\n",
    "    start_time_indices = np.array(range(tmstep_strt, tmstep_end, tm_steps))\n",
    "    start_times = time_track[start_time_indices]\n",
    "\n",
    "    transformed_data = pint.transform_calc(accels, np.array(alphas), sensors_pos, time_track/1e9, start_times/1e9, start_time_indices, Library)    \n",
    "    return transformed_data"
   ]
  },
  {
   "cell_type": "code",
   "execution_count": 9,
   "metadata": {},
   "outputs": [
    {
     "name": "stderr",
     "output_type": "stream",
     "text": [
      "100%|██████████| 1006/1006 [00:32<00:00, 30.71it/s]\n"
     ]
    }
   ],
   "source": [
    "if tm_steps == len(time_track) and (tmstep_strt != n_pad_strt - 1 or tmstep_end != len(time_track) - n_pad_end):\n",
    "    raise ValueError(\"You are only analyzing 1 time step, but you also are considering the padding. Please input correct values\")\n",
    "else:\n",
    "    transformed_data = transform_function(time_track, tm_steps, tmstep_strt, tmstep_end, accels, alphas, sensors_pos, Library)"
   ]
  },
  {
   "cell_type": "code",
   "execution_count": 10,
   "metadata": {},
   "outputs": [],
   "source": [
    "def transform_function_noise(time_track, tm_steps, tmstep_strt, tmstep_end, accels_noise, alphas, sensors_pos, Library):\n",
    "    start_time_indices = np.array(range(tmstep_strt, tmstep_end, tm_steps))\n",
    "    start_times = time_track[start_time_indices]\n",
    "    \n",
    "    transformed_data = pint.transform_calc(accels_noise, np.array(alphas), sensors_pos, time_track/1e9, start_times/1e9, start_time_indices, Library)\n",
    "    return transformed_data"
   ]
  },
  {
   "cell_type": "code",
   "execution_count": 11,
   "metadata": {},
   "outputs": [
    {
     "name": "stderr",
     "output_type": "stream",
     "text": [
      "100%|██████████| 1006/1006 [00:33<00:00, 30.32it/s]\n"
     ]
    }
   ],
   "source": [
    "# Necessary: Analysis W/ Noise\n",
    "# Runs integral transform given the times, accelerations with noise, alphas, and sensor positions\n",
    "# Transform has the same format as the cell above\n",
    "\n",
    "if tm_steps == len(time_track) and (tmstep_strt != n_pad_strt - 1 or tmstep_end != len(time_track) - n_pad_end):\n",
    "    raise ValueError(\"You are only analyzing 1 time step, but you also are considering the padding. Please input correct values\")\n",
    "else:\n",
    "    transformed_data_noise = transform_function_noise(time_track, tm_steps, tmstep_strt, tmstep_end, accels_noise, alphas, sensors_pos, Library)"
   ]
  },
  {
   "cell_type": "markdown",
   "metadata": {},
   "source": [
    "---------------------"
   ]
  },
  {
   "cell_type": "markdown",
   "metadata": {},
   "source": [
    "### PRESENTING THE RESULTS"
   ]
  },
  {
   "cell_type": "code",
   "execution_count": 12,
   "metadata": {},
   "outputs": [
    {
     "data": {
      "text/plain": [
       "array([(-1.23645173e-06, 0.27873538, -0.40593774, -0.08672451, 0.       , -0.19105216, 0.45434188, -0.08409833, 9.14851527e-06, 92),\n",
       "       (-2.67924473e-06, 0.27873538, -0.40593774, -0.08672451, 0.       , -0.19105216, 0.45434188, -0.08409833, 8.07221936e-06, 81),\n",
       "       (-3.08559921e-06, 0.27873538, -0.40593774, -0.08672451, 0.       , -0.19105216, 0.45434188, -0.08409833, 7.22251206e-06, 73),\n",
       "       ...,\n",
       "       (-2.29487493e-04, 0.27873538, -0.40593774, -0.08672451, 0.0005025, -0.19105216, 0.45434188, -0.08409833, 5.03782502e-04,  1),\n",
       "       (-2.29487493e-04, 0.27873538, -0.40593774, -0.08672451, 0.0005025, -0.19105216, 0.45434188, -0.08409833, 5.03758970e-04,  1),\n",
       "       (-2.29487493e-04, 0.27873538, -0.40593774, -0.08672451, 0.0005025, -0.19105216, 0.45434188, -0.08409833, 5.03736286e-04,  1)],\n",
       "      dtype=[('SNR', '<f8'), ('alpha0_x', '<f8'), ('alpha0_y', '<f8'), ('alpha0_z', '<f8'), ('alpha0_t', '<f8'), ('alpha1_x', '<f8'), ('alpha1_y', '<f8'), ('alpha1_z', '<f8'), ('alpha1_t', '<f8'), ('steps', '<i4')])"
      ]
     },
     "execution_count": 12,
     "metadata": {},
     "output_type": "execute_result"
    }
   ],
   "source": [
    "transformed_data"
   ]
  },
  {
   "cell_type": "code",
   "execution_count": 13,
   "metadata": {},
   "outputs": [
    {
     "data": {
      "text/plain": [
       "(2057.85638812, 0.27873538, -0.40593774, -0.08672451, 0.0002805, -0.19105216, 0.45434188, -0.08409833, 0.00028189, 14)"
      ]
     },
     "execution_count": 13,
     "metadata": {},
     "output_type": "execute_result"
    }
   ],
   "source": [
    "Result_vals = transformed_data[np.argmax(transformed_data['SNR'])]\n",
    "Result_vals"
   ]
  },
  {
   "cell_type": "code",
   "execution_count": 14,
   "metadata": {},
   "outputs": [
    {
     "data": {
      "text/plain": [
       "(0.0002805,\n",
       " 0.00028188613867792826,\n",
       " 1.7451270297074222,\n",
       " 1.7397963149976872,\n",
       " -0.969089356210035,\n",
       " 1.9688518825548889)"
      ]
     },
     "execution_count": 14,
     "metadata": {},
     "output_type": "execute_result"
    }
   ],
   "source": [
    "theta_entry_calc = np.arccos(Result_vals[3] / np.sqrt(Result_vals[1] ** 2 + Result_vals[2] ** 2 + Result_vals[3] ** 2))\n",
    "theta_exit_calc = np.arccos(Result_vals[7] / np.sqrt(Result_vals[5] ** 2 + Result_vals[6] ** 2 + Result_vals[7] ** 2))\n",
    "phi_entry_calc = np.arctan2(Result_vals[2], Result_vals[1])\n",
    "phi_exit_calc = np.arctan2(Result_vals[6], Result_vals[5])\n",
    "Result_vals[4], Result_vals[8], theta_entry_calc, theta_exit_calc, phi_entry_calc, phi_exit_calc"
   ]
  },
  {
   "cell_type": "code",
   "execution_count": 15,
   "metadata": {},
   "outputs": [
    {
     "data": {
      "text/plain": [
       "(array([0.0002789]),\n",
       " array([0.00028216]),\n",
       " 1.7451270297074222,\n",
       " 1.7397963149976872,\n",
       " -0.969089356210035,\n",
       " 1.9688518825548889)"
      ]
     },
     "execution_count": 15,
     "metadata": {},
     "output_type": "execute_result"
    }
   ],
   "source": [
    "t_0, t_0+d_t, theta_entry_truth, theta_exit_truth, phi_entry_truth, phi_exit_truth"
   ]
  },
  {
   "cell_type": "code",
   "execution_count": 16,
   "metadata": {},
   "outputs": [],
   "source": [
    "# Format: variable = np.array(transformed_data['variable_name'])\n",
    "\n",
    "SNR_data_plt = np.array(transformed_data['SNR'])\n",
    "\n",
    "# Calculate variable from the standard varaibles of transform if necessary (e.g. theta from the cartesian coordinates)\n",
    "\n",
    "tm_strt_plt = np.array(transformed_data['alpha0_t'])\n",
    "tm_end_plt = np.array(transformed_data['alpha1_t'])\n",
    "vel_plt = np.array(np.sqrt((transformed_data['alpha1_x'] - transformed_data['alpha0_x'])**2 +\n",
    "                   (transformed_data['alpha1_y'] - transformed_data['alpha0_y'])**2 +\n",
    "                   (transformed_data['alpha1_z'] - transformed_data['alpha0_z'])**2) / (transformed_data['alpha1_t'] - transformed_data['alpha0_t']))\n",
    "\n",
    "theta_entry_plt = np.arccos(transformed_data['alpha0_z'] / np.sqrt(transformed_data['alpha0_x'] ** 2 + transformed_data['alpha0_y'] ** 2 + transformed_data['alpha0_z'] ** 2))\n",
    "theta_exit_plt = np.arccos(transformed_data['alpha1_z'] / np.sqrt(transformed_data['alpha1_x'] ** 2 + transformed_data['alpha1_y'] ** 2 + transformed_data['alpha1_z'] ** 2))\n",
    "phi_entry_plt = np.arctan2(transformed_data['alpha0_y'], transformed_data['alpha0_x'])\n",
    "phi_exit_plt = np.arctan2(transformed_data['alpha1_y'], transformed_data['alpha1_x'])"
   ]
  },
  {
   "cell_type": "code",
   "execution_count": 17,
   "metadata": {},
   "outputs": [],
   "source": [
    "# Format: variable_noise = np.array(transformed_data_noise['variable_name'])\n",
    "\n",
    "SNR_data_plt_noise = np.array(transformed_data_noise['SNR'])\n",
    "\n",
    "# Calculate variable from the standard varaibles of transform if necessary (e.g. theta from the cartesian coordinates)\n",
    "\n",
    "tm_strt_plt_noise = np.array(transformed_data_noise['alpha0_t'])\n",
    "tm_end_plt_noise = np.array(transformed_data_noise['alpha1_t'])\n",
    "vel_plt_noise = np.array(np.sqrt((transformed_data_noise['alpha1_x'] - transformed_data_noise['alpha0_x'])**2 +\n",
    "                                 (transformed_data_noise['alpha1_y'] - transformed_data_noise['alpha0_y'])**2 +\n",
    "                                 (transformed_data_noise['alpha1_z'] - transformed_data_noise['alpha0_z'])**2) / (transformed_data_noise['alpha1_t'] - transformed_data_noise['alpha0_t']))\n",
    "\n",
    "theta_entry_plt_noise = np.arccos(transformed_data_noise['alpha0_z'] / np.sqrt(transformed_data_noise['alpha0_x'] ** 2 + transformed_data_noise['alpha0_y'] ** 2 + transformed_data_noise['alpha0_z'] ** 2))\n",
    "theta_exit_plt_noise = np.arccos(transformed_data_noise['alpha1_z'] / np.sqrt(transformed_data_noise['alpha1_x'] ** 2 + transformed_data_noise['alpha1_y'] ** 2 + transformed_data_noise['alpha1_z'] ** 2))\n",
    "phi_entry_plt_noise = np.arctan2(transformed_data_noise['alpha0_y'], transformed_data_noise['alpha0_x'])\n",
    "phi_exit_plt_noise = np.arctan2(transformed_data_noise['alpha1_y'], transformed_data_noise['alpha1_x'])"
   ]
  },
  {
   "cell_type": "code",
   "execution_count": 18,
   "metadata": {},
   "outputs": [],
   "source": [
    "# Full width Half Maximum Calculations\n",
    "\n",
    "hf_max_SNR = np.max(transformed_data['SNR']) / 2\n",
    "\n",
    "# Prominence (Maximum) Determination: Direct Assignment is possible; peak_prominences allows for calculations of correct left and right bases\n",
    "prominence_info = peak_prominences(x=transformed_data['SNR'], peaks=[np.argmax(transformed_data['SNR'])])\n",
    "prominence = [np.array([np.max(transformed_data['SNR'])]), prominence_info[1], prominence_info[2]]\n",
    "\n",
    "# Fwhm Calculation:\n",
    "fwhm_data = peak_widths(x=transformed_data['SNR'], peaks=[np.argmax(transformed_data['SNR'])], rel_height=0.5, prominence_data=prominence)\n",
    "\n",
    "# Output of function: widths of each each peak in samples (# of indices), width heights (height of where widths are determined),\n",
    "#                     left interpolated position (left-most index of full-width), right interpolated position (Right-most index of full-width)"
   ]
  },
  {
   "cell_type": "markdown",
   "metadata": {},
   "source": [
    "#### Entry Time vs. SNR:"
   ]
  },
  {
   "cell_type": "code",
   "execution_count": 19,
   "metadata": {},
   "outputs": [
    {
     "name": "stdout",
     "output_type": "stream",
     "text": [
      "\n",
      " # of indices =  2 , fwhm =  0.0\n",
      "-----------------------------------------------------------\n"
     ]
    },
    {
     "data": {
      "image/png": "[encoded data removed]",
      "text/plain": [
       "<Figure size 720x720 with 1 Axes>"
      ]
     },
     "metadata": {
      "needs_background": "light"
     },
     "output_type": "display_data"
    }
   ],
   "source": [
    "X_Val1 = [(n_pad_strt - 1) / 10, (n_pad_strt - 1) / 10] # Actual Variable Value of Track\n",
    "Y_Val1 = [min(SNR_data_plt), max(SNR_data_plt)] # If plotting S -> min & max of S_data_plt, If plotting S -> min & max of S_data_plt\n",
    "\n",
    "\n",
    "fig1 = plt.figure(figsize=[10,10])\n",
    "plt.plot(tm_strt_plt * 10**6, SNR_data_plt, 'bo', alpha=1) # Input variable as the X axis & S for the y axis\n",
    "plt.plot(X_Val1, Y_Val1, 'r', alpha=0.6, linewidth = 3)\n",
    "\n",
    "plt.plot([tm_strt_plt[int(fwhm_data[2])] * 10**6, tm_strt_plt[int(fwhm_data[3])] * 10**6], [hf_max_SNR, hf_max_SNR], 'g', alpha=1, linewidth = 3)\n",
    "print('\\n # of indices = ', int(fwhm_data[0]), ', fwhm = ', abs(tm_strt_plt[int(fwhm_data[2])] - tm_strt_plt[int(fwhm_data[3])]) * 10**6)\n",
    "print('-----------------------------------------------------------')\n",
    "\n",
    "plt.xlim(t_entry * 10**6, t_entry * 10**6 + n_pad_strt / 10 + t_exit  * 10**6 + n_pad_end / 10) # Put ranges if necessary, careful of padding\n",
    "plt.ylabel('SNR')\n",
    "plt.xlabel('Entry Times (us)')\n",
    "plt.show()"
   ]
  },
  {
   "cell_type": "markdown",
   "metadata": {},
   "source": [
    "#### Entry Time vs. SNR w/ Noise:"
   ]
  },
  {
   "cell_type": "code",
   "execution_count": 20,
   "metadata": {},
   "outputs": [
    {
     "data": {
      "image/png": "[encoded data removed]",
      "text/plain": [
       "<Figure size 720x720 with 1 Axes>"
      ]
     },
     "metadata": {
      "needs_background": "light"
     },
     "output_type": "display_data"
    }
   ],
   "source": [
    "# Same format as above\n",
    "\n",
    "X_Val1 = [(n_pad_strt - 1) / 10, (n_pad_strt - 1) / 10] # Actual Variable Value of Track\n",
    "Y_Val1 = [min(SNR_data_plt_noise), max(SNR_data_plt_noise)]\n",
    "\n",
    "fig2 = plt.figure(figsize=[10,10])\n",
    "plt.plot(tm_strt_plt_noise * 10**6, SNR_data_plt_noise, 'bo', alpha=1)\n",
    "plt.plot(X_Val1, Y_Val1, 'r', alpha=0.6, linewidth = 3)\n",
    "\n",
    "#plt.xlim(t_entry * 10**6, t_entry * 10**6 + n_pad_strt / 10 + t_exit  * 10**6 + n_pad_end / 10) # Put ranges if necessary, careful of padding\n",
    "plt.ylabel('SNR')\n",
    "plt.xlabel('Entry Times (us)')\n",
    "plt.show()"
   ]
  },
  {
   "cell_type": "markdown",
   "metadata": {},
   "source": [
    "#### Exit Time vs. SNR:"
   ]
  },
  {
   "cell_type": "code",
   "execution_count": 21,
   "metadata": {},
   "outputs": [
    {
     "name": "stdout",
     "output_type": "stream",
     "text": [
      "\n",
      " # of indices =  2 , fwhm =  0.08581202445959211\n",
      "-----------------------------------------------------------\n"
     ]
    },
    {
     "data": {
      "image/png": "[encoded data removed]",
      "text/plain": [
       "<Figure size 720x720 with 1 Axes>"
      ]
     },
     "metadata": {
      "needs_background": "light"
     },
     "output_type": "display_data"
    }
   ],
   "source": [
    "X_Val1 = [(out[track]['time'][-1] + (n_pad_strt - (n_pad_end-1)) * 100) / 1000, (out[track]['time'][-1] + (n_pad_strt - (n_pad_end-1)) * 100) / 1000]\n",
    "Y_Val1 = [min(SNR_data_plt), max(SNR_data_plt)]\n",
    "\n",
    "fig3 = plt.figure(figsize=[10,10])\n",
    "plt.plot(tm_end_plt * 10**6, SNR_data_plt, 'bo', alpha=1)\n",
    "\n",
    "plt.plot([tm_end_plt[int(fwhm_data[2])] * 10**6, tm_end_plt[int(fwhm_data[3])] * 10**6], [hf_max_SNR, hf_max_SNR], 'g', alpha=1, linewidth = 3)\n",
    "print('\\n # of indices = ', int(fwhm_data[0]), ', fwhm = ', abs(tm_end_plt[int(fwhm_data[2])] - tm_end_plt[int(fwhm_data[3])]) * 10**6)\n",
    "print('-----------------------------------------------------------')\n",
    "\n",
    "plt.plot(X_Val1, Y_Val1, 'r', alpha=0.6, linewidth = 3)\n",
    "plt.ylabel('SNR')\n",
    "plt.xlabel('Exit Times (us)')\n",
    "plt.show()"
   ]
  },
  {
   "cell_type": "markdown",
   "metadata": {},
   "source": [
    "#### Exit Time vs. SNR w/ Noise:"
   ]
  },
  {
   "cell_type": "code",
   "execution_count": 22,
   "metadata": {},
   "outputs": [
    {
     "data": {
      "image/png": "[encoded data removed]",
      "text/plain": [
       "<Figure size 720x720 with 1 Axes>"
      ]
     },
     "metadata": {
      "needs_background": "light"
     },
     "output_type": "display_data"
    }
   ],
   "source": [
    "# Exit Time vs. SNR w/ Noise\n",
    "\n",
    "X_Val1 = [(len(time_track) - n_pad_end)/10, (len(accels_noise[0]) - n_pad_end - lin_resp_len + 1)/10]\n",
    "Y_Val1 = [min(SNR_data_plt_noise), max(SNR_data_plt_noise)]\n",
    "\n",
    "fig3 = plt.figure(figsize=[10,10])\n",
    "plt.plot(tm_end_plt_noise * 10**6, SNR_data_plt_noise, 'bo', alpha=1)\n",
    "plt.plot(X_Val1, Y_Val1, 'r', alpha=0.6, linewidth = 3)\n",
    "\n",
    "plt.ylabel('SNR')\n",
    "plt.xlabel('Exit Times (us)')\n",
    "plt.show()"
   ]
  },
  {
   "cell_type": "markdown",
   "metadata": {},
   "source": [
    "#### Velocity vs. SNR:"
   ]
  },
  {
   "cell_type": "code",
   "execution_count": 23,
   "metadata": {},
   "outputs": [
    {
     "data": {
      "image/png": "[encoded data removed]",
      "text/plain": [
       "<Figure size 720x720 with 1 Axes>"
      ]
     },
     "metadata": {
      "needs_background": "light"
     },
     "output_type": "display_data"
    }
   ],
   "source": [
    "# Velocity vs. SNR\n",
    "\n",
    "X_Val1 = [vel/1000, vel/1000]\n",
    "Y_Val1 = [min(SNR_data_plt), max(SNR_data_plt)]\n",
    "\n",
    "fig4 = plt.figure(figsize=[10,10])\n",
    "plt.plot(vel_plt/1000, SNR_data_plt, 'bo', alpha=1)\n",
    "plt.plot(X_Val1, Y_Val1, 'r', alpha=0.6, linewidth = 3)\n",
    "\n",
    "if 'Velocity' in analysis_parameter:\n",
    "    vel_step = vel_plt[1] - vel_plt[0]\n",
    "else:\n",
    "    vel_step = 0\n",
    "\n",
    "#plt.plot([1e2 + fwhm_data[2] * vel_step / 1000, 1e2 + fwhm_data[3] * vel_step / 1000], [hf_max_SNR, hf_max_SNR], 'g', alpha=1, linewidth = 3)\n",
    "#print('\\n # of indices = ', int(fwhm_data[0]), ', fwhm = ', abs(vel_plt[int(fwhm_data[2])] - vel_plt[int(fwhm_data[3])])/1000)\n",
    "#print('-----------------------------------------------------------')\n",
    "\n",
    "plt.ylabel('SNR')\n",
    "plt.xlabel('Velocity (km/s)')\n",
    "plt.show()"
   ]
  },
  {
   "cell_type": "markdown",
   "metadata": {},
   "source": [
    "#### Velocity vs. SNR w/ Noise:"
   ]
  },
  {
   "cell_type": "code",
   "execution_count": 24,
   "metadata": {},
   "outputs": [
    {
     "data": {
      "image/png": "[encoded data removed]",
      "text/plain": [
       "<Figure size 720x720 with 1 Axes>"
      ]
     },
     "metadata": {
      "needs_background": "light"
     },
     "output_type": "display_data"
    }
   ],
   "source": [
    "# Velocity vs. SNR w/ Noise\n",
    "\n",
    "X_Val1 = [vel/1000, vel/1000]\n",
    "Y_Val1 = [min(SNR_data_plt_noise), max(SNR_data_plt_noise)]\n",
    "\n",
    "fig4 = plt.figure(figsize=[10,10])\n",
    "plt.plot(vel_plt/1000, SNR_data_plt_noise, 'bo', alpha=1)\n",
    "plt.plot(X_Val1, Y_Val1, 'r', alpha=0.6, linewidth = 3)\n",
    "\n",
    "plt.ylabel('SNR')\n",
    "plt.xlabel('Velocity (km/s)')\n",
    "plt.show()"
   ]
  },
  {
   "cell_type": "markdown",
   "metadata": {},
   "source": [
    "#### Theta entry vs. SNR w/ Noise:"
   ]
  },
  {
   "cell_type": "code",
   "execution_count": 25,
   "metadata": {},
   "outputs": [
    {
     "data": {
      "image/png": "[encoded data removed]",
      "text/plain": [
       "<Figure size 720x720 with 1 Axes>"
      ]
     },
     "metadata": {
      "needs_background": "light"
     },
     "output_type": "display_data"
    }
   ],
   "source": [
    "# theta entry vs SNR w/ Noise\n",
    "\n",
    "X_Val1 = [theta_entry_truth, theta_entry_truth]\n",
    "Y_Val1 = [min(SNR_data_plt_noise), max(SNR_data_plt)]\n",
    "\n",
    "fig3 = plt.figure(figsize=[10,10])\n",
    "plt.plot(theta_entry_plt, SNR_data_plt_noise, 'bo', alpha=1)\n",
    "plt.plot(X_Val1, Y_Val1, 'r', alpha=0.6, linewidth = 3)\n",
    "\n",
    "#plt.plot([theta_entry_plt[int(fwhm_data[2])], theta_entry_plt[int(fwhm_data[3])]], [hf_max_SNR, hf_max_SNR], 'g', alpha=1, linewidth = 3)\n",
    "#print('\\n # of indices = ', int(fwhm_data[0]), ', fwhm = ', abs(theta_entry_plt[int(fwhm_data[2])] - theta_entry_plt[int(fwhm_data[3])]))\n",
    "#print('-----------------------------------------------------------')\n",
    "\n",
    "plt.ylabel('SNR')\n",
    "plt.xlabel('Theta entry')\n",
    "plt.show()"
   ]
  },
  {
   "cell_type": "markdown",
   "metadata": {},
   "source": [
    "#### Phi entry vs. SNR w/ Noise:"
   ]
  },
  {
   "cell_type": "code",
   "execution_count": 26,
   "metadata": {},
   "outputs": [
    {
     "data": {
      "image/png": "[encoded data removed]",
      "text/plain": [
       "<Figure size 720x720 with 1 Axes>"
      ]
     },
     "metadata": {
      "needs_background": "light"
     },
     "output_type": "display_data"
    }
   ],
   "source": [
    "# phi entry vs SNR w/ Noise\n",
    "\n",
    "X_Val1 = [phi_entry_truth, phi_entry_truth]\n",
    "Y_Val1 = [min(SNR_data_plt_noise), max(SNR_data_plt_noise)]\n",
    "\n",
    "fig3 = plt.figure(figsize=[10,10])\n",
    "plt.plot(phi_entry_plt, SNR_data_plt_noise, 'bo', alpha=1)\n",
    "plt.plot(X_Val1, Y_Val1, 'r', alpha=0.6, linewidth = 3)\n",
    "\n",
    "#plt.plot([phi_entry_plt[int(fwhm_data[2])], phi_entry_plt[int(fwhm_data[3])]], [hf_max_SNR, hf_max_SNR], 'g', alpha=1, linewidth = 3)\n",
    "#print('\\n # of indices = ', int(fwhm_data[0]), ', fwhm = ', abs(phi_entry_plt[int(fwhm_data[2])] - phi_entry_plt[int(fwhm_data[3])]))\n",
    "#print('-----------------------------------------------------------')\n",
    "\n",
    "plt.ylabel('SNR')\n",
    "plt.xlabel('Phi entry')\n",
    "plt.show()"
   ]
  },
  {
   "cell_type": "markdown",
   "metadata": {},
   "source": [
    "#### Theta exit vs. SNR w/ Noise:"
   ]
  },
  {
   "cell_type": "code",
   "execution_count": 27,
   "metadata": {},
   "outputs": [
    {
     "data": {
      "image/png": "[encoded data removed]",
      "text/plain": [
       "<Figure size 720x720 with 1 Axes>"
      ]
     },
     "metadata": {
      "needs_background": "light"
     },
     "output_type": "display_data"
    }
   ],
   "source": [
    "# theta exit vs SNR w/ Noise\n",
    "\n",
    "X_Val1 = [theta_exit_truth, theta_exit_truth]\n",
    "Y_Val1 = [min(SNR_data_plt_noise), max(SNR_data_plt)]\n",
    "\n",
    "fig3 = plt.figure(figsize=[10,10])\n",
    "plt.plot(theta_exit_plt, SNR_data_plt_noise, 'bo', alpha=1)\n",
    "plt.plot(X_Val1, Y_Val1, 'r', alpha=0.6, linewidth = 3)\n",
    "\n",
    "#plt.plot([theta_exit_plt[int(fwhm_data[2])], theta_exit_plt[int(fwhm_data[3])]], [hf_max_SNR, hf_max_SNR], 'g', alpha=1, linewidth = 3)\n",
    "#print('\\n # of indices = ', int(fwhm_data[0]), ', fwhm = ', abs(theta_exit_plt[int(fwhm_data[2])] - theta_exit_plt[int(fwhm_data[3])]))\n",
    "#print('-----------------------------------------------------------')\n",
    "\n",
    "plt.ylabel('SNR')\n",
    "plt.xlabel('Theta exit')\n",
    "plt.show()"
   ]
  },
  {
   "cell_type": "markdown",
   "metadata": {},
   "source": [
    "#### Phi exit vs. SNR w/ Noise:"
   ]
  },
  {
   "cell_type": "code",
   "execution_count": 28,
   "metadata": {},
   "outputs": [
    {
     "data": {
      "image/png": "[encoded data removed]",
      "text/plain": [
       "<Figure size 720x720 with 1 Axes>"
      ]
     },
     "metadata": {
      "needs_background": "light"
     },
     "output_type": "display_data"
    }
   ],
   "source": [
    "# phi exit vs SNR w/ Noise\n",
    "\n",
    "X_Val1 = [phi_exit_truth, phi_exit_truth]\n",
    "Y_Val1 = [min(SNR_data_plt_noise), max(SNR_data_plt_noise)]\n",
    "\n",
    "fig3 = plt.figure(figsize=[10,10])\n",
    "plt.plot(phi_exit_plt, SNR_data_plt_noise, 'bo', alpha=1)\n",
    "plt.plot(X_Val1, Y_Val1, 'r', alpha=0.6, linewidth = 3)\n",
    "\n",
    "#plt.plot([phi_exit_plt[int(fwhm_data[2])], phi_exit_plt[int(fwhm_data[3])]], [hf_max_SNR, hf_max_SNR], 'g', alpha=1, linewidth = 3)\n",
    "#print('\\n # of indices = ', int(fwhm_data[0]), ', fwhm = ', abs(phi_exit_plt[int(fwhm_data[2])] - phi_exit_plt[int(fwhm_data[3])]))\n",
    "#print('-----------------------------------------------------------')\n",
    "\n",
    "plt.ylabel('SNR')\n",
    "plt.xlabel('Phi exit')\n",
    "plt.show()"
   ]
  },
  {
   "cell_type": "markdown",
   "metadata": {},
   "source": [
    "---------------------"
   ]
  },
  {
   "cell_type": "markdown",
   "metadata": {},
   "source": [
    "#### SNR Histogram:"
   ]
  },
  {
   "cell_type": "code",
   "execution_count": 29,
   "metadata": {},
   "outputs": [
    {
     "name": "stdout",
     "output_type": "stream",
     "text": [
      "Sigma = 2.8412191551443438\n"
     ]
    },
    {
     "data": {
      "image/png": "[encoded data removed]",
      "text/plain": [
       "<Figure size 432x288 with 1 Axes>"
      ]
     },
     "metadata": {
      "needs_background": "light"
     },
     "output_type": "display_data"
    }
   ],
   "source": [
    "f_val = 0\n",
    "for i, x in enumerate(transformed_data_noise['SNR']):\n",
    "    f_val += (x - np.average(transformed_data_noise['SNR']))**2\n",
    "\n",
    "sigma = np.sqrt(f_val/len(transformed_data_noise['SNR']))\n",
    "\n",
    "print(\"Sigma =\", sigma)\n",
    "\n",
    "plt.hist(transformed_data_noise['SNR'], bins=50)\n",
    "#plt.xlim(np.min(transformed_data_noise['SNR']),np.max(transformed_data_noise['SNR']))\n",
    "plt.xlabel('SNR Values')\n",
    "plt.show()"
   ]
  },
  {
   "cell_type": "markdown",
   "metadata": {},
   "source": [
    "---------------------"
   ]
  },
  {
   "cell_type": "markdown",
   "metadata": {},
   "source": [
    "#### 2P (velocity and time) 2D Histogram:"
   ]
  },
  {
   "cell_type": "code",
   "execution_count": 30,
   "metadata": {},
   "outputs": [],
   "source": [
    "timestep_indices = np.array(range(tmstep_strt, tmstep_end, tm_steps))\n",
    "timesteps = time_track[timestep_indices]\n",
    "\n",
    "if 'Velocity' in analysis_parameter:\n",
    "    v_bin_edges = np.linspace(1e5, 7e5, 30)\n",
    "else:\n",
    "    v_bin_edges = vel\n",
    "\n",
    "if len(timesteps) > 1:\n",
    "    timestep_edges = list(timesteps-(timesteps[1]-timesteps[0])/2)\n",
    "    timestep_edges.append(timesteps[-1] + (timesteps[1]-timesteps[0])/2)\n",
    "    timestep_edges = np.array(timestep_edges)*1e-3\n",
    "else:\n",
    "    timestep_edges = np.array([timesteps[0] * 1e-3])\n",
    "\n",
    "X, Y = np.meshgrid(timestep_edges, v_bin_edges)\n",
    "C = np.zeros(X.shape)"
   ]
  },
  {
   "cell_type": "code",
   "execution_count": 31,
   "metadata": {},
   "outputs": [],
   "source": [
    "analysis_min_steps = 10\n",
    "#for i_row,row in enumerate(transformed_data):\n",
    "for i_row,row in enumerate(transformed_data_noise):\n",
    "    j = np.searchsorted(timestep_edges, row['alpha0_t']*1e6) - 1\n",
    "    i = np.searchsorted(v_bin_edges, vel_plt_noise[i_row]) - 1\n",
    "    C[i,j] = row['SNR']"
   ]
  },
  {
   "cell_type": "code",
   "execution_count": 32,
   "metadata": {},
   "outputs": [
    {
     "data": {
      "image/png": "[encoded data removed]",
      "text/plain": [
       "<Figure size 864x720 with 2 Axes>"
      ]
     },
     "metadata": {
      "needs_background": "light"
     },
     "output_type": "display_data"
    }
   ],
   "source": [
    "fig = plt.figure(figsize=(12, 10))\n",
    "ax = fig.add_subplot(111)\n",
    "pcm = ax.pcolormesh(X,Y/1e3,C)\n",
    "ax.scatter(n_pad_strt*0.1, vel[0]/1e3, c='red', marker='x', s=100)\n",
    "ax.set(xlabel='entry time (us)', ylabel='velocity (km/s)', xlim=(n_pad_strt*0.1 - 10, n_pad_strt*0.1 + 10))\n",
    "# ax.scatter((len(time) - n_pad_end)/10, vel[0]/1e3, c='red', marker='x', s=100)\n",
    "# ax.set(xlabel='exit time (us)', ylabel='velocity (km/s)')\n",
    "plt.colorbar(pcm, label='SNR')\n",
    "plt.show()"
   ]
  },
  {
   "cell_type": "markdown",
   "metadata": {},
   "source": [
    "---------------------"
   ]
  },
  {
   "cell_type": "code",
   "execution_count": null,
   "metadata": {},
   "outputs": [],
   "source": []
  }
 ],
 "metadata": {
  "kernelspec": {
   "display_name": "Python 3",
   "language": "python",
   "name": "python3"
  },
  "language_info": {
   "codemirror_mode": {
    "name": "ipython",
    "version": 3
   },
   "file_extension": ".py",
   "mimetype": "text/x-python",
   "name": "python",
   "nbconvert_exporter": "python",
   "pygments_lexer": "ipython3",
   "version": "3.7.6"
  }
 },
 "nbformat": 4,
 "nbformat_minor": 4
}
